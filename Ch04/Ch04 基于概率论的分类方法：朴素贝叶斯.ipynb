{
 "cells": [
  {
   "cell_type": "markdown",
   "metadata": {},
   "source": [
    "# 4.1 基于贝叶斯决策理论的分类方法"
   ]
  },
  {
   "cell_type": "markdown",
   "metadata": {},
   "source": [
    "# 4.2 条件概率"
   ]
  },
  {
   "cell_type": "markdown",
   "metadata": {},
   "source": [
    "# 4.3 使用条件概率来分类"
   ]
  },
  {
   "cell_type": "markdown",
   "metadata": {},
   "source": [
    "# 4.4 使用朴素贝叶斯进行文档分类"
   ]
  },
  {
   "cell_type": "markdown",
   "metadata": {},
   "source": [
    "# 4.5 使用Python进行文本分类"
   ]
  },
  {
   "cell_type": "markdown",
   "metadata": {},
   "source": [
    "## 4.5.1 准备数据：从文本中构建词向量"
   ]
  },
  {
   "cell_type": "markdown",
   "metadata": {},
   "source": [
    "**程序清单4-1** 词表到向量的转换函数"
   ]
  },
  {
   "cell_type": "code",
   "execution_count": 2,
   "metadata": {
    "collapsed": true
   },
   "outputs": [],
   "source": [
    "def load_data_set():\n",
    "    posting_list = [['my', 'dog', 'has', 'flea', 'problems', 'help', 'please'],\n",
    "                   ['maybe', 'not', 'take', 'him', 'to', 'dog', 'park', 'stupid'],\n",
    "                   ['my', 'dalmation', 'is', 'so', 'cute', 'I', 'love', 'him'],\n",
    "                   ['stop', 'posting', 'stupid', 'worthless', 'garbage'],\n",
    "                   ['mr', 'licks', 'ate', 'my', 'steak', 'how', 'to', 'stop', 'him'],\n",
    "                   ['quit', 'buying', 'worthless', 'dog', 'food', 'stupid']]\n",
    "    class_vec = [0,1,0,1,0,1]\n",
    "    return posting_list, class_vec\n",
    "\n",
    "def create_vocab_list(data_set):\n",
    "    vocab_set = set([])\n",
    "    for document in data_set:\n",
    "        vocab_set = vocab_set | set(document)\n",
    "    return list(vocab_set)\n",
    "\n",
    "def set_of_words2vec(vocab_list, input_set):\n",
    "    return_vec = [0] * len(vocab_list)\n",
    "    for word in input_set:\n",
    "        if word in vocab_list:\n",
    "            return_vec[vocab_list.index(word)] = 1\n",
    "        else:\n",
    "            print('The word: {} is not in my vocabulary!'.format(word))\n",
    "    return return_vec"
   ]
  },
  {
   "cell_type": "code",
   "execution_count": 3,
   "metadata": {
    "collapsed": true
   },
   "outputs": [],
   "source": [
    "list_of_posts, list_classes = load_data_set()"
   ]
  },
  {
   "cell_type": "code",
   "execution_count": 4,
   "metadata": {
    "collapsed": true
   },
   "outputs": [],
   "source": [
    "my_vocab_list = create_vocab_list(list_of_posts)"
   ]
  },
  {
   "cell_type": "code",
   "execution_count": 5,
   "metadata": {
    "collapsed": false,
    "scrolled": false
   },
   "outputs": [
    {
     "data": {
      "text/plain": [
       "['flea',\n",
       " 'mr',\n",
       " 'stop',\n",
       " 'dog',\n",
       " 'stupid',\n",
       " 'love',\n",
       " 'not',\n",
       " 'ate',\n",
       " 'to',\n",
       " 'posting',\n",
       " 'take',\n",
       " 'steak',\n",
       " 'worthless',\n",
       " 'how',\n",
       " 'so',\n",
       " 'my',\n",
       " 'problems',\n",
       " 'I',\n",
       " 'has',\n",
       " 'is',\n",
       " 'help',\n",
       " 'buying',\n",
       " 'food',\n",
       " 'garbage',\n",
       " 'park',\n",
       " 'please',\n",
       " 'quit',\n",
       " 'maybe',\n",
       " 'him',\n",
       " 'cute',\n",
       " 'licks',\n",
       " 'dalmation']"
      ]
     },
     "execution_count": 5,
     "metadata": {},
     "output_type": "execute_result"
    }
   ],
   "source": [
    "my_vocab_list"
   ]
  },
  {
   "cell_type": "code",
   "execution_count": 6,
   "metadata": {
    "collapsed": false,
    "scrolled": false
   },
   "outputs": [
    {
     "data": {
      "text/plain": [
       "[1,\n",
       " 0,\n",
       " 0,\n",
       " 1,\n",
       " 0,\n",
       " 0,\n",
       " 0,\n",
       " 0,\n",
       " 0,\n",
       " 0,\n",
       " 0,\n",
       " 0,\n",
       " 0,\n",
       " 0,\n",
       " 0,\n",
       " 1,\n",
       " 1,\n",
       " 0,\n",
       " 1,\n",
       " 0,\n",
       " 1,\n",
       " 0,\n",
       " 0,\n",
       " 0,\n",
       " 0,\n",
       " 1,\n",
       " 0,\n",
       " 0,\n",
       " 0,\n",
       " 0,\n",
       " 0,\n",
       " 0]"
      ]
     },
     "execution_count": 6,
     "metadata": {},
     "output_type": "execute_result"
    }
   ],
   "source": [
    "set_of_words2vec(my_vocab_list, list_of_posts[0])"
   ]
  },
  {
   "cell_type": "code",
   "execution_count": 7,
   "metadata": {
    "collapsed": false
   },
   "outputs": [
    {
     "data": {
      "text/plain": [
       "[0,\n",
       " 0,\n",
       " 1,\n",
       " 0,\n",
       " 1,\n",
       " 0,\n",
       " 0,\n",
       " 0,\n",
       " 0,\n",
       " 1,\n",
       " 0,\n",
       " 0,\n",
       " 1,\n",
       " 0,\n",
       " 0,\n",
       " 0,\n",
       " 0,\n",
       " 0,\n",
       " 0,\n",
       " 0,\n",
       " 0,\n",
       " 0,\n",
       " 0,\n",
       " 1,\n",
       " 0,\n",
       " 0,\n",
       " 0,\n",
       " 0,\n",
       " 0,\n",
       " 0,\n",
       " 0,\n",
       " 0]"
      ]
     },
     "execution_count": 7,
     "metadata": {},
     "output_type": "execute_result"
    }
   ],
   "source": [
    "set_of_words2vec(my_vocab_list, list_of_posts[3])"
   ]
  },
  {
   "cell_type": "markdown",
   "metadata": {},
   "source": [
    "## 4.5.2 训练算法：从词向量计算概率"
   ]
  },
  {
   "cell_type": "markdown",
   "metadata": {},
   "source": [
    "**程序清单4-2** 朴素贝叶斯分类器训练函数"
   ]
  },
  {
   "cell_type": "code",
   "execution_count": 8,
   "metadata": {
    "collapsed": true
   },
   "outputs": [],
   "source": [
    "from numpy import *"
   ]
  },
  {
   "cell_type": "code",
   "execution_count": 9,
   "metadata": {
    "collapsed": true
   },
   "outputs": [],
   "source": [
    "def train_NB0(train_matrix, train_category):\n",
    "    num_train_docs = len(train_matrix)\n",
    "    num_words = len(train_matrix[0])\n",
    "    p_abusive = sum(train_category)/float(num_train_docs)\n",
    "    p0_num = zeros(num_words)\n",
    "    p1_num = zeros(num_words)\n",
    "    p0_denom = 0.0\n",
    "    p1_denom = 0.0\n",
    "    for i in range(num_train_docs):\n",
    "        if train_category[i] == 1:\n",
    "            p1_num += train_matrix[i]\n",
    "            p1_denom += sum(train_matrix[i])\n",
    "        else:\n",
    "            p0_num += train_matrix[i]\n",
    "            p0_denom += sum(train_matrix[i])\n",
    "    p1_vect = p1_num/p1_denom\n",
    "    p0_vect = p0_num/p0_denom\n",
    "    return p0_vect, p1_vect, p_abusive"
   ]
  },
  {
   "cell_type": "code",
   "execution_count": 10,
   "metadata": {
    "collapsed": true
   },
   "outputs": [],
   "source": [
    "list_of_posts, list_classes = load_data_set()"
   ]
  },
  {
   "cell_type": "code",
   "execution_count": 11,
   "metadata": {
    "collapsed": true
   },
   "outputs": [],
   "source": [
    "my_vocab_list = create_vocab_list(list_of_posts)"
   ]
  },
  {
   "cell_type": "code",
   "execution_count": 12,
   "metadata": {
    "collapsed": true
   },
   "outputs": [],
   "source": [
    "train_mat = []"
   ]
  },
  {
   "cell_type": "code",
   "execution_count": 13,
   "metadata": {
    "collapsed": true
   },
   "outputs": [],
   "source": [
    "for post_in_doc in list_of_posts:\n",
    "    train_mat.append(set_of_words2vec(my_vocab_list, post_in_doc))"
   ]
  },
  {
   "cell_type": "code",
   "execution_count": 15,
   "metadata": {
    "collapsed": false
   },
   "outputs": [],
   "source": [
    "p0V, p1V, pAb = train_NB0(train_mat, list_classes)"
   ]
  },
  {
   "cell_type": "code",
   "execution_count": 16,
   "metadata": {
    "collapsed": false
   },
   "outputs": [
    {
     "data": {
      "text/plain": [
       "0.5"
      ]
     },
     "execution_count": 16,
     "metadata": {},
     "output_type": "execute_result"
    }
   ],
   "source": [
    "pAb"
   ]
  },
  {
   "cell_type": "code",
   "execution_count": 17,
   "metadata": {
    "collapsed": false
   },
   "outputs": [
    {
     "data": {
      "text/plain": [
       "array([ 0.04166667,  0.04166667,  0.04166667,  0.04166667,  0.        ,\n",
       "        0.04166667,  0.        ,  0.04166667,  0.04166667,  0.        ,\n",
       "        0.        ,  0.04166667,  0.        ,  0.04166667,  0.04166667,\n",
       "        0.125     ,  0.04166667,  0.04166667,  0.04166667,  0.04166667,\n",
       "        0.04166667,  0.        ,  0.        ,  0.        ,  0.        ,\n",
       "        0.04166667,  0.        ,  0.        ,  0.08333333,  0.04166667,\n",
       "        0.04166667,  0.04166667])"
      ]
     },
     "execution_count": 17,
     "metadata": {},
     "output_type": "execute_result"
    }
   ],
   "source": [
    "p0V"
   ]
  },
  {
   "cell_type": "code",
   "execution_count": 18,
   "metadata": {
    "collapsed": false
   },
   "outputs": [
    {
     "data": {
      "text/plain": [
       "array([ 0.        ,  0.        ,  0.05263158,  0.10526316,  0.15789474,\n",
       "        0.        ,  0.05263158,  0.        ,  0.05263158,  0.05263158,\n",
       "        0.05263158,  0.        ,  0.10526316,  0.        ,  0.        ,\n",
       "        0.        ,  0.        ,  0.        ,  0.        ,  0.        ,\n",
       "        0.        ,  0.05263158,  0.05263158,  0.05263158,  0.05263158,\n",
       "        0.        ,  0.05263158,  0.05263158,  0.05263158,  0.        ,\n",
       "        0.        ,  0.        ])"
      ]
     },
     "execution_count": 18,
     "metadata": {},
     "output_type": "execute_result"
    }
   ],
   "source": [
    "p1V"
   ]
  },
  {
   "cell_type": "markdown",
   "metadata": {},
   "source": [
    "## 4.5.3 测试算法：根据现实情况修改分类器"
   ]
  },
  {
   "cell_type": "code",
   "execution_count": 19,
   "metadata": {
    "collapsed": true
   },
   "outputs": [],
   "source": [
    "def train_NB0(train_matrix, train_category):\n",
    "    num_train_docs = len(train_matrix)\n",
    "    num_words = len(train_matrix[0])\n",
    "    p_abusive = sum(train_category)/float(num_train_docs)\n",
    "    p0_num = ones(num_words)\n",
    "    p1_num = ones(num_words)\n",
    "    p0_denom = 2.0\n",
    "    p1_denom = 2.0\n",
    "    for i in range(num_train_docs):\n",
    "        if train_category[i] == 1:\n",
    "            p1_num += train_matrix[i]\n",
    "            p1_denom += sum(train_matrix[i])\n",
    "        else:\n",
    "            p0_num += train_matrix[i]\n",
    "            p0_denom += sum(train_matrix[i])\n",
    "    p1_vect = log(p1_num/p1_denom)\n",
    "    p0_vect = log(p0_num/p0_denom)\n",
    "    return p0_vect, p1_vect, p_abusive"
   ]
  },
  {
   "cell_type": "markdown",
   "metadata": {},
   "source": [
    "**程序清单4-3** 朴素贝叶斯分类函数"
   ]
  },
  {
   "cell_type": "code",
   "execution_count": 22,
   "metadata": {
    "collapsed": false
   },
   "outputs": [],
   "source": [
    "def classify_NB(vec2classify, p0_vec, p1_vec, p_class1):\n",
    "    p1 = sum(vec2classify * p1_vec) + log(p_class1)\n",
    "    p0 = sum(vec2classify * p0_vec) + log(1.0 - p_class1)\n",
    "    if p1 > p0:\n",
    "        return 1\n",
    "    if p1 < p0:\n",
    "        return 0\n",
    "\n",
    "def testing_NB():\n",
    "    list_of_posts, list_classes = load_data_set()\n",
    "    my_vocab_list = create_vocab_list(list_of_posts)\n",
    "    train_mat = []\n",
    "    for post_in_doc in list_of_posts:\n",
    "        train_mat.append(set_of_words2vec(my_vocab_list, post_in_doc))\n",
    "    p0V, p1V, pAb = train_NB0(array(train_mat), array(list_classes))\n",
    "    test_entry = ['love', 'my', 'dalmation']\n",
    "    this_doc = array(set_of_words2vec(my_vocab_list, test_entry))\n",
    "    print(test_entry, 'classified as:',classify_NB(this_doc, p0V, p1V, pAb))\n",
    "    test_entry = ['stupid', 'garbage']\n",
    "    this_doc = array(set_of_words2vec(my_vocab_list, test_entry))\n",
    "    print(test_entry, 'classified as:',classify_NB(this_doc, p0V, p1V, pAb))"
   ]
  },
  {
   "cell_type": "code",
   "execution_count": 23,
   "metadata": {
    "collapsed": false
   },
   "outputs": [
    {
     "name": "stdout",
     "output_type": "stream",
     "text": [
      "['love', 'my', 'dalmation'] classified as: 0\n",
      "['stupid', 'garbage'] classified as: 1\n"
     ]
    }
   ],
   "source": [
    "testing_NB()"
   ]
  },
  {
   "cell_type": "markdown",
   "metadata": {},
   "source": [
    "## 4.5.4 准备数据：文档词袋模型"
   ]
  },
  {
   "cell_type": "markdown",
   "metadata": {},
   "source": [
    "**程序清单4-4** 朴素贝叶斯模型"
   ]
  },
  {
   "cell_type": "code",
   "execution_count": 24,
   "metadata": {
    "collapsed": true
   },
   "outputs": [],
   "source": [
    "def bag_of_words2vec_MN(vocab_list, input_set):\n",
    "    return_vec = [0] * len(vocab_list)\n",
    "    for word in input_set:\n",
    "        if word in vocab_list:\n",
    "            return_vec[vocab_list.index(word)] += 1\n",
    "    return return_vec"
   ]
  },
  {
   "cell_type": "markdown",
   "metadata": {},
   "source": [
    "# 4.6 示例：使用朴素贝叶斯过滤垃圾邮件"
   ]
  },
  {
   "cell_type": "markdown",
   "metadata": {},
   "source": [
    "## 4.6.1 准备数据：切分文本"
   ]
  },
  {
   "cell_type": "code",
   "execution_count": 25,
   "metadata": {
    "collapsed": true
   },
   "outputs": [],
   "source": [
    "my_sent = 'This book is the best book on Python or M.L. I have ever laid eyes upon.'"
   ]
  },
  {
   "cell_type": "code",
   "execution_count": 26,
   "metadata": {
    "collapsed": false
   },
   "outputs": [
    {
     "data": {
      "text/plain": [
       "['This',\n",
       " 'book',\n",
       " 'is',\n",
       " 'the',\n",
       " 'best',\n",
       " 'book',\n",
       " 'on',\n",
       " 'Python',\n",
       " 'or',\n",
       " 'M.L.',\n",
       " 'I',\n",
       " 'have',\n",
       " 'ever',\n",
       " 'laid',\n",
       " 'eyes',\n",
       " 'upon.']"
      ]
     },
     "execution_count": 26,
     "metadata": {},
     "output_type": "execute_result"
    }
   ],
   "source": [
    "my_sent.split()"
   ]
  },
  {
   "cell_type": "code",
   "execution_count": 27,
   "metadata": {
    "collapsed": false
   },
   "outputs": [
    {
     "name": "stderr",
     "output_type": "stream",
     "text": [
      "C:\\Users\\xieyu\\AppData\\Local\\Continuum\\Anaconda3\\lib\\site-packages\\ipykernel\\__main__.py:3: FutureWarning: split() requires a non-empty pattern match.\n",
      "  app.launch_new_instance()\n"
     ]
    }
   ],
   "source": [
    "import re\n",
    "reg_ex = re.compile('\\\\W*')\n",
    "list_of_tokens = reg_ex.split(my_sent)"
   ]
  },
  {
   "cell_type": "code",
   "execution_count": 28,
   "metadata": {
    "collapsed": false
   },
   "outputs": [
    {
     "data": {
      "text/plain": [
       "['This',\n",
       " 'book',\n",
       " 'is',\n",
       " 'the',\n",
       " 'best',\n",
       " 'book',\n",
       " 'on',\n",
       " 'Python',\n",
       " 'or',\n",
       " 'M',\n",
       " 'L',\n",
       " 'I',\n",
       " 'have',\n",
       " 'ever',\n",
       " 'laid',\n",
       " 'eyes',\n",
       " 'upon',\n",
       " '']"
      ]
     },
     "execution_count": 28,
     "metadata": {},
     "output_type": "execute_result"
    }
   ],
   "source": [
    "list_of_tokens"
   ]
  },
  {
   "cell_type": "code",
   "execution_count": 29,
   "metadata": {
    "collapsed": false
   },
   "outputs": [
    {
     "data": {
      "text/plain": [
       "['This',\n",
       " 'book',\n",
       " 'is',\n",
       " 'the',\n",
       " 'best',\n",
       " 'book',\n",
       " 'on',\n",
       " 'Python',\n",
       " 'or',\n",
       " 'M',\n",
       " 'L',\n",
       " 'I',\n",
       " 'have',\n",
       " 'ever',\n",
       " 'laid',\n",
       " 'eyes',\n",
       " 'upon']"
      ]
     },
     "execution_count": 29,
     "metadata": {},
     "output_type": "execute_result"
    }
   ],
   "source": [
    "[tok for tok in list_of_tokens if len(tok) > 0]"
   ]
  },
  {
   "cell_type": "code",
   "execution_count": 30,
   "metadata": {
    "collapsed": false
   },
   "outputs": [
    {
     "data": {
      "text/plain": [
       "['this',\n",
       " 'book',\n",
       " 'is',\n",
       " 'the',\n",
       " 'best',\n",
       " 'book',\n",
       " 'on',\n",
       " 'python',\n",
       " 'or',\n",
       " 'm',\n",
       " 'l',\n",
       " 'i',\n",
       " 'have',\n",
       " 'ever',\n",
       " 'laid',\n",
       " 'eyes',\n",
       " 'upon']"
      ]
     },
     "execution_count": 30,
     "metadata": {},
     "output_type": "execute_result"
    }
   ],
   "source": [
    "[tok.lower() for tok in list_of_tokens if len(tok) > 0]"
   ]
  },
  {
   "cell_type": "code",
   "execution_count": 31,
   "metadata": {
    "collapsed": true
   },
   "outputs": [],
   "source": [
    "email_text = open('email/ham/6.txt').read()"
   ]
  },
  {
   "cell_type": "code",
   "execution_count": 32,
   "metadata": {
    "collapsed": false
   },
   "outputs": [
    {
     "name": "stderr",
     "output_type": "stream",
     "text": [
      "C:\\Users\\xieyu\\AppData\\Local\\Continuum\\Anaconda3\\lib\\site-packages\\ipykernel\\__main__.py:1: FutureWarning: split() requires a non-empty pattern match.\n",
      "  if __name__ == '__main__':\n"
     ]
    }
   ],
   "source": [
    "list_of_tokens = reg_ex.split(email_text)"
   ]
  },
  {
   "cell_type": "code",
   "execution_count": 33,
   "metadata": {
    "collapsed": false
   },
   "outputs": [
    {
     "data": {
      "text/plain": [
       "['Hello',\n",
       " 'Since',\n",
       " 'you',\n",
       " 'are',\n",
       " 'an',\n",
       " 'owner',\n",
       " 'of',\n",
       " 'at',\n",
       " 'least',\n",
       " 'one',\n",
       " 'Google',\n",
       " 'Groups',\n",
       " 'group',\n",
       " 'that',\n",
       " 'uses',\n",
       " 'the',\n",
       " 'customized',\n",
       " 'welcome',\n",
       " 'message',\n",
       " 'pages',\n",
       " 'or',\n",
       " 'files',\n",
       " 'we',\n",
       " 'are',\n",
       " 'writing',\n",
       " 'to',\n",
       " 'inform',\n",
       " 'you',\n",
       " 'that',\n",
       " 'we',\n",
       " 'will',\n",
       " 'no',\n",
       " 'longer',\n",
       " 'be',\n",
       " 'supporting',\n",
       " 'these',\n",
       " 'features',\n",
       " 'starting',\n",
       " 'February',\n",
       " '2011',\n",
       " 'We',\n",
       " 'made',\n",
       " 'this',\n",
       " 'decision',\n",
       " 'so',\n",
       " 'that',\n",
       " 'we',\n",
       " 'can',\n",
       " 'focus',\n",
       " 'on',\n",
       " 'improving',\n",
       " 'the',\n",
       " 'core',\n",
       " 'functionalities',\n",
       " 'of',\n",
       " 'Google',\n",
       " 'Groups',\n",
       " 'mailing',\n",
       " 'lists',\n",
       " 'and',\n",
       " 'forum',\n",
       " 'discussions',\n",
       " 'Instead',\n",
       " 'of',\n",
       " 'these',\n",
       " 'features',\n",
       " 'we',\n",
       " 'encourage',\n",
       " 'you',\n",
       " 'to',\n",
       " 'use',\n",
       " 'products',\n",
       " 'that',\n",
       " 'are',\n",
       " 'designed',\n",
       " 'specifically',\n",
       " 'for',\n",
       " 'file',\n",
       " 'storage',\n",
       " 'and',\n",
       " 'page',\n",
       " 'creation',\n",
       " 'such',\n",
       " 'as',\n",
       " 'Google',\n",
       " 'Docs',\n",
       " 'and',\n",
       " 'Google',\n",
       " 'Sites',\n",
       " 'For',\n",
       " 'example',\n",
       " 'you',\n",
       " 'can',\n",
       " 'easily',\n",
       " 'create',\n",
       " 'your',\n",
       " 'pages',\n",
       " 'on',\n",
       " 'Google',\n",
       " 'Sites',\n",
       " 'and',\n",
       " 'share',\n",
       " 'the',\n",
       " 'site',\n",
       " 'http',\n",
       " 'www',\n",
       " 'google',\n",
       " 'com',\n",
       " 'support',\n",
       " 'sites',\n",
       " 'bin',\n",
       " 'answer',\n",
       " 'py',\n",
       " 'hl',\n",
       " 'en',\n",
       " 'answer',\n",
       " '174623',\n",
       " 'with',\n",
       " 'the',\n",
       " 'members',\n",
       " 'of',\n",
       " 'your',\n",
       " 'group',\n",
       " 'You',\n",
       " 'can',\n",
       " 'also',\n",
       " 'store',\n",
       " 'your',\n",
       " 'files',\n",
       " 'on',\n",
       " 'the',\n",
       " 'site',\n",
       " 'by',\n",
       " 'attaching',\n",
       " 'files',\n",
       " 'to',\n",
       " 'pages',\n",
       " 'http',\n",
       " 'www',\n",
       " 'google',\n",
       " 'com',\n",
       " 'support',\n",
       " 'sites',\n",
       " 'bin',\n",
       " 'answer',\n",
       " 'py',\n",
       " 'hl',\n",
       " 'en',\n",
       " 'answer',\n",
       " '90563',\n",
       " 'on',\n",
       " 'the',\n",
       " 'site',\n",
       " 'If',\n",
       " 'you抮e',\n",
       " 'just',\n",
       " 'looking',\n",
       " 'for',\n",
       " 'a',\n",
       " 'place',\n",
       " 'to',\n",
       " 'upload',\n",
       " 'your',\n",
       " 'files',\n",
       " 'so',\n",
       " 'that',\n",
       " 'your',\n",
       " 'group',\n",
       " 'members',\n",
       " 'can',\n",
       " 'download',\n",
       " 'them',\n",
       " 'we',\n",
       " 'suggest',\n",
       " 'you',\n",
       " 'try',\n",
       " 'Google',\n",
       " 'Docs',\n",
       " 'You',\n",
       " 'can',\n",
       " 'upload',\n",
       " 'files',\n",
       " 'http',\n",
       " 'docs',\n",
       " 'google',\n",
       " 'com',\n",
       " 'support',\n",
       " 'bin',\n",
       " 'answer',\n",
       " 'py',\n",
       " 'hl',\n",
       " 'en',\n",
       " 'answer',\n",
       " '50092',\n",
       " 'and',\n",
       " 'share',\n",
       " 'access',\n",
       " 'with',\n",
       " 'either',\n",
       " 'a',\n",
       " 'group',\n",
       " 'http',\n",
       " 'docs',\n",
       " 'google',\n",
       " 'com',\n",
       " 'support',\n",
       " 'bin',\n",
       " 'answer',\n",
       " 'py',\n",
       " 'hl',\n",
       " 'en',\n",
       " 'answer',\n",
       " '66343',\n",
       " 'or',\n",
       " 'an',\n",
       " 'individual',\n",
       " 'http',\n",
       " 'docs',\n",
       " 'google',\n",
       " 'com',\n",
       " 'support',\n",
       " 'bin',\n",
       " 'answer',\n",
       " 'py',\n",
       " 'hl',\n",
       " 'en',\n",
       " 'answer',\n",
       " '86152',\n",
       " 'assigning',\n",
       " 'either',\n",
       " 'edit',\n",
       " 'or',\n",
       " 'download',\n",
       " 'only',\n",
       " 'access',\n",
       " 'to',\n",
       " 'the',\n",
       " 'files',\n",
       " 'you',\n",
       " 'have',\n",
       " 'received',\n",
       " 'this',\n",
       " 'mandatory',\n",
       " 'email',\n",
       " 'service',\n",
       " 'announcement',\n",
       " 'to',\n",
       " 'update',\n",
       " 'you',\n",
       " 'about',\n",
       " 'important',\n",
       " 'changes',\n",
       " 'to',\n",
       " 'Google',\n",
       " 'Groups',\n",
       " '']"
      ]
     },
     "execution_count": 33,
     "metadata": {},
     "output_type": "execute_result"
    }
   ],
   "source": [
    "list_of_tokens"
   ]
  },
  {
   "cell_type": "markdown",
   "metadata": {},
   "source": [
    "## 4.6.2 测试算法：使用朴素贝叶斯进行交叉验证"
   ]
  },
  {
   "cell_type": "markdown",
   "metadata": {},
   "source": [
    "**程序清单4-5** 文件解析及完整的垃圾邮件测试函数"
   ]
  },
  {
   "cell_type": "code",
   "execution_count": 53,
   "metadata": {
    "collapsed": true
   },
   "outputs": [],
   "source": [
    "def text_parse(big_string):\n",
    "    import re\n",
    "    list_of_tokens = re.split(r'\\W*', big_string)\n",
    "    return [tok.lower() for tok in list_of_tokens if len(tok) > 2]\n",
    "\n",
    "def spam_test():\n",
    "    doc_list = []\n",
    "    class_list = []\n",
    "    full_text = []\n",
    "    for i in range(1, 26):\n",
    "        word_list = text_parse(open('email/spam/{}.txt'.format(i)).read())\n",
    "        doc_list.append(word_list)\n",
    "        full_text.extend(word_list)\n",
    "        class_list.append(1)\n",
    "        word_list = text_parse(open('email/ham/{}.txt'.format(i)).read())\n",
    "        doc_list.append(word_list)\n",
    "        full_text.extend(word_list)\n",
    "        class_list.append(0)\n",
    "    vocab_list = create_vocab_list(doc_list)\n",
    "    training_set = list(range(50))\n",
    "    test_set = []\n",
    "    for i in range(10):\n",
    "        rand_index = int(random.uniform(0, len(training_set)))\n",
    "        test_set.append(training_set[rand_index])\n",
    "        del(training_set[rand_index])\n",
    "    train_mat = []\n",
    "    train_classes = []\n",
    "    for doc_index in training_set:\n",
    "        train_mat.append(set_of_words2vec(vocab_list, doc_list[doc_index]))\n",
    "        train_classes.append(class_list[doc_index])\n",
    "    p0V, p1V, p_spam = train_NB0(array(train_mat), array(train_classes))\n",
    "    error_count = 0\n",
    "    for doc_index in test_set:\n",
    "        word_vector = set_of_words2vec(vocab_list, doc_list[doc_index])\n",
    "        if classify_NB(array(word_vector), p0V, p1V, p_spam) != class_list[doc_index]:\n",
    "            error_count += 1\n",
    "    print('The error rate is: ', float(error_count)/len(test_set))        "
   ]
  },
  {
   "cell_type": "code",
   "execution_count": 54,
   "metadata": {
    "collapsed": false
   },
   "outputs": [
    {
     "name": "stdout",
     "output_type": "stream",
     "text": [
      "The error rate is:  0.1\n"
     ]
    },
    {
     "name": "stderr",
     "output_type": "stream",
     "text": [
      "C:\\Users\\xieyu\\AppData\\Local\\Continuum\\Anaconda3\\lib\\re.py:212: FutureWarning: split() requires a non-empty pattern match.\n",
      "  return _compile(pattern, flags).split(string, maxsplit)\n"
     ]
    }
   ],
   "source": [
    "spam_test()"
   ]
  },
  {
   "cell_type": "code",
   "execution_count": 55,
   "metadata": {
    "collapsed": false
   },
   "outputs": [
    {
     "name": "stdout",
     "output_type": "stream",
     "text": [
      "The error rate is:  0.0\n"
     ]
    },
    {
     "name": "stderr",
     "output_type": "stream",
     "text": [
      "C:\\Users\\xieyu\\AppData\\Local\\Continuum\\Anaconda3\\lib\\re.py:212: FutureWarning: split() requires a non-empty pattern match.\n",
      "  return _compile(pattern, flags).split(string, maxsplit)\n"
     ]
    }
   ],
   "source": [
    "spam_test()"
   ]
  },
  {
   "cell_type": "markdown",
   "metadata": {},
   "source": [
    "# 4.7 示例：使用朴素贝叶斯分类器从个人广告中获取区域倾向"
   ]
  },
  {
   "cell_type": "markdown",
   "metadata": {},
   "source": [
    "## 4.7.1 收集数据：导入RSS源"
   ]
  },
  {
   "cell_type": "code",
   "execution_count": 56,
   "metadata": {
    "collapsed": true
   },
   "outputs": [],
   "source": [
    "import feedparser"
   ]
  },
  {
   "cell_type": "code",
   "execution_count": 61,
   "metadata": {
    "collapsed": true
   },
   "outputs": [],
   "source": [
    "ny = feedparser.parse('http://newyork.craigslist.org/stp/index.rss')"
   ]
  },
  {
   "cell_type": "code",
   "execution_count": 62,
   "metadata": {
    "collapsed": false
   },
   "outputs": [
    {
     "data": {
      "text/plain": [
       "[{'dc_source': 'http://newyork.craigslist.org/brk/stp/6269059846.html',\n",
       "  'dc_type': 'text',\n",
       "  'enc_enclosure': {'resource': 'https://images.craigslist.org/00o0o_lWpVzu6teeE_300x300.jpg',\n",
       "   'type': 'image/jpeg'},\n",
       "  'id': 'http://newyork.craigslist.org/brk/stp/6269059846.html',\n",
       "  'language': 'en-us',\n",
       "  'link': 'http://newyork.craigslist.org/brk/stp/6269059846.html',\n",
       "  'links': [{'href': 'http://newyork.craigslist.org/brk/stp/6269059846.html',\n",
       "    'rel': 'alternate',\n",
       "    'type': 'text/html'}],\n",
       "  'published': '2017-08-19T23:31:42-04:00',\n",
       "  'published_parsed': time.struct_time(tm_year=2017, tm_mon=8, tm_mday=20, tm_hour=3, tm_min=31, tm_sec=42, tm_wday=6, tm_yday=232, tm_isdst=0),\n",
       "  'rights': 'copyright 2017 craiglist',\n",
       "  'rights_detail': {'base': 'https://newyork.craigslist.org/search/stp?format=rss',\n",
       "   'language': None,\n",
       "   'type': 'text/plain',\n",
       "   'value': 'copyright 2017 craiglist'},\n",
       "  'summary': 'Looking for a girl for friendship... please add pictures 9two9 threefive5 four6two9',\n",
       "  'summary_detail': {'base': 'https://newyork.craigslist.org/search/stp?format=rss',\n",
       "   'language': None,\n",
       "   'type': 'text/html',\n",
       "   'value': 'Looking for a girl for friendship... please add pictures 9two9 threefive5 four6two9'},\n",
       "  'title': 'Looking for a girl friend first - m4w',\n",
       "  'title_detail': {'base': 'https://newyork.craigslist.org/search/stp?format=rss',\n",
       "   'language': None,\n",
       "   'type': 'text/plain',\n",
       "   'value': 'Looking for a girl friend first - m4w'},\n",
       "  'updated': '2017-08-19T23:31:42-04:00',\n",
       "  'updated_parsed': time.struct_time(tm_year=2017, tm_mon=8, tm_mday=20, tm_hour=3, tm_min=31, tm_sec=42, tm_wday=6, tm_yday=232, tm_isdst=0)},\n",
       " {'dc_source': 'http://newyork.craigslist.org/mnh/stp/6261649461.html',\n",
       "  'dc_type': 'text',\n",
       "  'enc_enclosure': {'resource': 'https://images.craigslist.org/00P0P_aHuWMhTipCg_300x300.jpg',\n",
       "   'type': 'image/jpeg'},\n",
       "  'id': 'http://newyork.craigslist.org/mnh/stp/6261649461.html',\n",
       "  'language': 'en-us',\n",
       "  'link': 'http://newyork.craigslist.org/mnh/stp/6261649461.html',\n",
       "  'links': [{'href': 'http://newyork.craigslist.org/mnh/stp/6261649461.html',\n",
       "    'rel': 'alternate',\n",
       "    'type': 'text/html'}],\n",
       "  'published': '2017-08-19T23:27:37-04:00',\n",
       "  'published_parsed': time.struct_time(tm_year=2017, tm_mon=8, tm_mday=20, tm_hour=3, tm_min=27, tm_sec=37, tm_wday=6, tm_yday=232, tm_isdst=0),\n",
       "  'rights': 'copyright 2017 craiglist',\n",
       "  'rights_detail': {'base': 'https://newyork.craigslist.org/search/stp?format=rss',\n",
       "   'language': None,\n",
       "   'type': 'text/plain',\n",
       "   'value': 'copyright 2017 craiglist'},\n",
       "  'summary': 'I saw a video once about a vegan woman who had decided to start adding semen to her smoothies as a regular part of her diet. She was in great shape and lived a healthy lifestyle and felt this would be a great way to supplement that and get her protei ...',\n",
       "  'summary_detail': {'base': 'https://newyork.craigslist.org/search/stp?format=rss',\n",
       "   'language': None,\n",
       "   'type': 'text/html',\n",
       "   'value': 'I saw a video once about a vegan woman who had decided to start adding semen to her smoothies as a regular part of her diet. She was in great shape and lived a healthy lifestyle and felt this would be a great way to supplement that and get her protei ...'},\n",
       "  'title': 'Semen Smoothies - m4w',\n",
       "  'title_detail': {'base': 'https://newyork.craigslist.org/search/stp?format=rss',\n",
       "   'language': None,\n",
       "   'type': 'text/plain',\n",
       "   'value': 'Semen Smoothies - m4w'},\n",
       "  'updated': '2017-08-19T23:27:37-04:00',\n",
       "  'updated_parsed': time.struct_time(tm_year=2017, tm_mon=8, tm_mday=20, tm_hour=3, tm_min=27, tm_sec=37, tm_wday=6, tm_yday=232, tm_isdst=0)},\n",
       " {'dc_source': 'http://newyork.craigslist.org/mnh/stp/6264713577.html',\n",
       "  'dc_type': 'text',\n",
       "  'id': 'http://newyork.craigslist.org/mnh/stp/6264713577.html',\n",
       "  'language': 'en-us',\n",
       "  'link': 'http://newyork.craigslist.org/mnh/stp/6264713577.html',\n",
       "  'links': [{'href': 'http://newyork.craigslist.org/mnh/stp/6264713577.html',\n",
       "    'rel': 'alternate',\n",
       "    'type': 'text/html'}],\n",
       "  'published': '2017-08-19T23:25:59-04:00',\n",
       "  'published_parsed': time.struct_time(tm_year=2017, tm_mon=8, tm_mday=20, tm_hour=3, tm_min=25, tm_sec=59, tm_wday=6, tm_yday=232, tm_isdst=0),\n",
       "  'rights': 'copyright 2017 craiglist',\n",
       "  'rights_detail': {'base': 'https://newyork.craigslist.org/search/stp?format=rss',\n",
       "   'language': None,\n",
       "   'type': 'text/plain',\n",
       "   'value': 'copyright 2017 craiglist'},\n",
       "  'summary': \"Hi, I'm looking to make new friends in NYC and wanted to know if anyone would like to meet a smart guy who happens to be good at math.\",\n",
       "  'summary_detail': {'base': 'https://newyork.craigslist.org/search/stp?format=rss',\n",
       "   'language': None,\n",
       "   'type': 'text/html',\n",
       "   'value': \"Hi, I'm looking to make new friends in NYC and wanted to know if anyone would like to meet a smart guy who happens to be good at math.\"},\n",
       "  'title': 'Do you need math help? - m4w',\n",
       "  'title_detail': {'base': 'https://newyork.craigslist.org/search/stp?format=rss',\n",
       "   'language': None,\n",
       "   'type': 'text/plain',\n",
       "   'value': 'Do you need math help? - m4w'},\n",
       "  'updated': '2017-08-19T23:25:59-04:00',\n",
       "  'updated_parsed': time.struct_time(tm_year=2017, tm_mon=8, tm_mday=20, tm_hour=3, tm_min=25, tm_sec=59, tm_wday=6, tm_yday=232, tm_isdst=0)},\n",
       " {'dc_source': 'http://newyork.craigslist.org/stn/stp/6271889161.html',\n",
       "  'dc_type': 'text',\n",
       "  'enc_enclosure': {'resource': 'https://images.craigslist.org/00s0s_jWpXfKixkgX_300x300.jpg',\n",
       "   'type': 'image/jpeg'},\n",
       "  'id': 'http://newyork.craigslist.org/stn/stp/6271889161.html',\n",
       "  'language': 'en-us',\n",
       "  'link': 'http://newyork.craigslist.org/stn/stp/6271889161.html',\n",
       "  'links': [{'href': 'http://newyork.craigslist.org/stn/stp/6271889161.html',\n",
       "    'rel': 'alternate',\n",
       "    'type': 'text/html'}],\n",
       "  'published': '2017-08-19T23:24:49-04:00',\n",
       "  'published_parsed': time.struct_time(tm_year=2017, tm_mon=8, tm_mday=20, tm_hour=3, tm_min=24, tm_sec=49, tm_wday=6, tm_yday=232, tm_isdst=0),\n",
       "  'rights': 'copyright 2017 craiglist',\n",
       "  'rights_detail': {'base': 'https://newyork.craigslist.org/search/stp?format=rss',\n",
       "   'language': None,\n",
       "   'type': 'text/plain',\n",
       "   'value': 'copyright 2017 craiglist'},\n",
       "  'summary': 'Lower-Back Massages for Girls \\nFull-Body Massages, Bikini, Oil Baths and lots more \\nLuxury Massage Parlor designed for Girls only \\nProfessional, Private, Very Discreet',\n",
       "  'summary_detail': {'base': 'https://newyork.craigslist.org/search/stp?format=rss',\n",
       "   'language': None,\n",
       "   'type': 'text/html',\n",
       "   'value': 'Lower-Back Massages for Girls \\nFull-Body Massages, Bikini, Oil Baths and lots more \\nLuxury Massage Parlor designed for Girls only \\nProfessional, Private, Very Discreet'},\n",
       "  'title': 'Lower-Back Massages for Girls - m4w (SI, Bx, Bk, NY)',\n",
       "  'title_detail': {'base': 'https://newyork.craigslist.org/search/stp?format=rss',\n",
       "   'language': None,\n",
       "   'type': 'text/plain',\n",
       "   'value': 'Lower-Back Massages for Girls - m4w (SI, Bx, Bk, NY)'},\n",
       "  'updated': '2017-08-19T23:24:49-04:00',\n",
       "  'updated_parsed': time.struct_time(tm_year=2017, tm_mon=8, tm_mday=20, tm_hour=3, tm_min=24, tm_sec=49, tm_wday=6, tm_yday=232, tm_isdst=0)},\n",
       " {'dc_source': 'http://newyork.craigslist.org/brx/stp/6271919490.html',\n",
       "  'dc_type': 'text',\n",
       "  'enc_enclosure': {'resource': 'https://images.craigslist.org/00G0G_7TbNzo4tQdt_300x300.jpg',\n",
       "   'type': 'image/jpeg'},\n",
       "  'id': 'http://newyork.craigslist.org/brx/stp/6271919490.html',\n",
       "  'language': 'en-us',\n",
       "  'link': 'http://newyork.craigslist.org/brx/stp/6271919490.html',\n",
       "  'links': [{'href': 'http://newyork.craigslist.org/brx/stp/6271919490.html',\n",
       "    'rel': 'alternate',\n",
       "    'type': 'text/html'}],\n",
       "  'published': '2017-08-19T23:22:43-04:00',\n",
       "  'published_parsed': time.struct_time(tm_year=2017, tm_mon=8, tm_mday=20, tm_hour=3, tm_min=22, tm_sec=43, tm_wday=6, tm_yday=232, tm_isdst=0),\n",
       "  'rights': 'copyright 2017 craiglist',\n",
       "  'rights_detail': {'base': 'https://newyork.craigslist.org/search/stp?format=rss',\n",
       "   'language': None,\n",
       "   'type': 'text/plain',\n",
       "   'value': 'copyright 2017 craiglist'},\n",
       "  'summary': \"Still looking no game ask and I tell what I'm looking for no pic no answer no game plz\",\n",
       "  'summary_detail': {'base': 'https://newyork.craigslist.org/search/stp?format=rss',\n",
       "   'language': None,\n",
       "   'type': 'text/html',\n",
       "   'value': \"Still looking no game ask and I tell what I'm looking for no pic no answer no game plz\"},\n",
       "  'title': 'Still looking - w4mw (Looking)',\n",
       "  'title_detail': {'base': 'https://newyork.craigslist.org/search/stp?format=rss',\n",
       "   'language': None,\n",
       "   'type': 'text/plain',\n",
       "   'value': 'Still looking - w4mw (Looking)'},\n",
       "  'updated': '2017-08-19T23:22:43-04:00',\n",
       "  'updated_parsed': time.struct_time(tm_year=2017, tm_mon=8, tm_mday=20, tm_hour=3, tm_min=22, tm_sec=43, tm_wday=6, tm_yday=232, tm_isdst=0)},\n",
       " {'dc_source': 'http://newyork.craigslist.org/que/stp/6271919160.html',\n",
       "  'dc_type': 'text',\n",
       "  'enc_enclosure': {'resource': 'https://images.craigslist.org/00E0E_73ZR8j7eher_300x300.jpg',\n",
       "   'type': 'image/jpeg'},\n",
       "  'id': 'http://newyork.craigslist.org/que/stp/6271919160.html',\n",
       "  'language': 'en-us',\n",
       "  'link': 'http://newyork.craigslist.org/que/stp/6271919160.html',\n",
       "  'links': [{'href': 'http://newyork.craigslist.org/que/stp/6271919160.html',\n",
       "    'rel': 'alternate',\n",
       "    'type': 'text/html'}],\n",
       "  'published': '2017-08-19T23:22:12-04:00',\n",
       "  'published_parsed': time.struct_time(tm_year=2017, tm_mon=8, tm_mday=20, tm_hour=3, tm_min=22, tm_sec=12, tm_wday=6, tm_yday=232, tm_isdst=0),\n",
       "  'rights': 'copyright 2017 craiglist',\n",
       "  'rights_detail': {'base': 'https://newyork.craigslist.org/search/stp?format=rss',\n",
       "   'language': None,\n",
       "   'type': 'text/plain',\n",
       "   'value': 'copyright 2017 craiglist'},\n",
       "  'summary': \"I am a passionate Italian man. \\nI love Asian woman..... \\nLet's have nice time without commitment...just have great time! \\nI am polite good manners no drug and smoke.\",\n",
       "  'summary_detail': {'base': 'https://newyork.craigslist.org/search/stp?format=rss',\n",
       "   'language': None,\n",
       "   'type': 'text/html',\n",
       "   'value': \"I am a passionate Italian man. \\nI love Asian woman..... \\nLet's have nice time without commitment...just have great time! \\nI am polite good manners no drug and smoke.\"},\n",
       "  'title': 'I love Asian woman......... - m4w (Queens)',\n",
       "  'title_detail': {'base': 'https://newyork.craigslist.org/search/stp?format=rss',\n",
       "   'language': None,\n",
       "   'type': 'text/plain',\n",
       "   'value': 'I love Asian woman......... - m4w (Queens)'},\n",
       "  'updated': '2017-08-19T23:22:12-04:00',\n",
       "  'updated_parsed': time.struct_time(tm_year=2017, tm_mon=8, tm_mday=20, tm_hour=3, tm_min=22, tm_sec=12, tm_wday=6, tm_yday=232, tm_isdst=0)},\n",
       " {'dc_source': 'http://newyork.craigslist.org/mnh/stp/6231843077.html',\n",
       "  'dc_type': 'text',\n",
       "  'id': 'http://newyork.craigslist.org/mnh/stp/6231843077.html',\n",
       "  'language': 'en-us',\n",
       "  'link': 'http://newyork.craigslist.org/mnh/stp/6231843077.html',\n",
       "  'links': [{'href': 'http://newyork.craigslist.org/mnh/stp/6231843077.html',\n",
       "    'rel': 'alternate',\n",
       "    'type': 'text/html'}],\n",
       "  'published': '2017-08-19T23:09:45-04:00',\n",
       "  'published_parsed': time.struct_time(tm_year=2017, tm_mon=8, tm_mday=20, tm_hour=3, tm_min=9, tm_sec=45, tm_wday=6, tm_yday=232, tm_isdst=0),\n",
       "  'rights': 'copyright 2017 craiglist',\n",
       "  'rights_detail': {'base': 'https://newyork.craigslist.org/search/stp?format=rss',\n",
       "   'language': None,\n",
       "   'type': 'text/plain',\n",
       "   'value': 'copyright 2017 craiglist'},\n",
       "  'summary': 'I am looking for a Asian Caucasian Latina Woman with pretty feet from age 27 to 45 to see 2 or 3 times a month for 70.00 per hour to worship your feet for hours i live alone i could host in Manhattan but if you want to host you must live alone in Man ...',\n",
       "  'summary_detail': {'base': 'https://newyork.craigslist.org/search/stp?format=rss',\n",
       "   'language': None,\n",
       "   'type': 'text/html',\n",
       "   'value': 'I am looking for a Asian Caucasian Latina Woman with pretty feet from age 27 to 45 to see 2 or 3 times a month for 70.00 per hour to worship your feet for hours i live alone i could host in Manhattan but if you want to host you must live alone in Man ...'},\n",
       "  'title': 'do you need a foot slave friend - m4w (manhattan)',\n",
       "  'title_detail': {'base': 'https://newyork.craigslist.org/search/stp?format=rss',\n",
       "   'language': None,\n",
       "   'type': 'text/plain',\n",
       "   'value': 'do you need a foot slave friend - m4w (manhattan)'},\n",
       "  'updated': '2017-08-19T23:09:45-04:00',\n",
       "  'updated_parsed': time.struct_time(tm_year=2017, tm_mon=8, tm_mday=20, tm_hour=3, tm_min=9, tm_sec=45, tm_wday=6, tm_yday=232, tm_isdst=0)},\n",
       " {'dc_source': 'http://newyork.craigslist.org/mnh/stp/6271897989.html',\n",
       "  'dc_type': 'text',\n",
       "  'id': 'http://newyork.craigslist.org/mnh/stp/6271897989.html',\n",
       "  'language': 'en-us',\n",
       "  'link': 'http://newyork.craigslist.org/mnh/stp/6271897989.html',\n",
       "  'links': [{'href': 'http://newyork.craigslist.org/mnh/stp/6271897989.html',\n",
       "    'rel': 'alternate',\n",
       "    'type': 'text/html'}],\n",
       "  'published': '2017-08-19T23:07:08-04:00',\n",
       "  'published_parsed': time.struct_time(tm_year=2017, tm_mon=8, tm_mday=20, tm_hour=3, tm_min=7, tm_sec=8, tm_wday=6, tm_yday=232, tm_isdst=0),\n",
       "  'rights': 'copyright 2017 craiglist',\n",
       "  'rights_detail': {'base': 'https://newyork.craigslist.org/search/stp?format=rss',\n",
       "   'language': None,\n",
       "   'type': 'text/plain',\n",
       "   'value': 'copyright 2017 craiglist'},\n",
       "  'summary': 'Are you surfing m4m for a new gay \"friend\"? Best of luck...I\\'m not him. BUT if you\\'re looking for a new STRAIGHT male friend then read on, potential new buddy... \\nI\\'m a young-looking 36, single (have a serious gf), Italian-Spanish, well-educated and  ...',\n",
       "  'summary_detail': {'base': 'https://newyork.craigslist.org/search/stp?format=rss',\n",
       "   'language': None,\n",
       "   'type': 'text/html',\n",
       "   'value': 'Are you surfing m4m for a new gay \"friend\"? Best of luck...I\\'m not him. BUT if you\\'re looking for a new STRAIGHT male friend then read on, potential new buddy... \\nI\\'m a young-looking 36, single (have a serious gf), Italian-Spanish, well-educated and  ...'},\n",
       "  'title': \"YOU'VE GOT A FRIEND (STRAIGHT GUY) - m4m (Manhattan/Queens/Brooklyn)\",\n",
       "  'title_detail': {'base': 'https://newyork.craigslist.org/search/stp?format=rss',\n",
       "   'language': None,\n",
       "   'type': 'text/plain',\n",
       "   'value': \"YOU'VE GOT A FRIEND (STRAIGHT GUY) - m4m (Manhattan/Queens/Brooklyn)\"},\n",
       "  'updated': '2017-08-19T23:07:08-04:00',\n",
       "  'updated_parsed': time.struct_time(tm_year=2017, tm_mon=8, tm_mday=20, tm_hour=3, tm_min=7, tm_sec=8, tm_wday=6, tm_yday=232, tm_isdst=0)},\n",
       " {'dc_source': 'http://newyork.craigslist.org/mnh/stp/6271873991.html',\n",
       "  'dc_type': 'text',\n",
       "  'id': 'http://newyork.craigslist.org/mnh/stp/6271873991.html',\n",
       "  'language': 'en-us',\n",
       "  'link': 'http://newyork.craigslist.org/mnh/stp/6271873991.html',\n",
       "  'links': [{'href': 'http://newyork.craigslist.org/mnh/stp/6271873991.html',\n",
       "    'rel': 'alternate',\n",
       "    'type': 'text/html'}],\n",
       "  'published': '2017-08-19T23:02:47-04:00',\n",
       "  'published_parsed': time.struct_time(tm_year=2017, tm_mon=8, tm_mday=20, tm_hour=3, tm_min=2, tm_sec=47, tm_wday=6, tm_yday=232, tm_isdst=0),\n",
       "  'rights': 'copyright 2017 craiglist',\n",
       "  'rights_detail': {'base': 'https://newyork.craigslist.org/search/stp?format=rss',\n",
       "   'language': None,\n",
       "   'type': 'text/plain',\n",
       "   'value': 'copyright 2017 craiglist'},\n",
       "  'summary': \"Do you ever think about these chemicals? \\nDo you wonder about free will and how much real control you have over your thoughts and feelings? \\nI'm seeking intelligent, introspective, creative life in Manhattan. \\n(If you had to look-up these words, plea ...\",\n",
       "  'summary_detail': {'base': 'https://newyork.craigslist.org/search/stp?format=rss',\n",
       "   'language': None,\n",
       "   'type': 'text/html',\n",
       "   'value': \"Do you ever think about these chemicals? \\nDo you wonder about free will and how much real control you have over your thoughts and feelings? \\nI'm seeking intelligent, introspective, creative life in Manhattan. \\n(If you had to look-up these words, plea ...\"},\n",
       "  'title': 'Oxytocin....Dopamine.. - m4w (Manhattan)',\n",
       "  'title_detail': {'base': 'https://newyork.craigslist.org/search/stp?format=rss',\n",
       "   'language': None,\n",
       "   'type': 'text/plain',\n",
       "   'value': 'Oxytocin....Dopamine.. - m4w (Manhattan)'},\n",
       "  'updated': '2017-08-19T23:02:47-04:00',\n",
       "  'updated_parsed': time.struct_time(tm_year=2017, tm_mon=8, tm_mday=20, tm_hour=3, tm_min=2, tm_sec=47, tm_wday=6, tm_yday=232, tm_isdst=0)},\n",
       " {'dc_source': 'http://newyork.craigslist.org/mnh/stp/6266961280.html',\n",
       "  'dc_type': 'text',\n",
       "  'enc_enclosure': {'resource': 'https://images.craigslist.org/00606_boUIT4hCES0_300x300.jpg',\n",
       "   'type': 'image/jpeg'},\n",
       "  'id': 'http://newyork.craigslist.org/mnh/stp/6266961280.html',\n",
       "  'language': 'en-us',\n",
       "  'link': 'http://newyork.craigslist.org/mnh/stp/6266961280.html',\n",
       "  'links': [{'href': 'http://newyork.craigslist.org/mnh/stp/6266961280.html',\n",
       "    'rel': 'alternate',\n",
       "    'type': 'text/html'}],\n",
       "  'published': '2017-08-19T22:57:52-04:00',\n",
       "  'published_parsed': time.struct_time(tm_year=2017, tm_mon=8, tm_mday=20, tm_hour=2, tm_min=57, tm_sec=52, tm_wday=6, tm_yday=232, tm_isdst=0),\n",
       "  'rights': 'copyright 2017 craiglist',\n",
       "  'rights_detail': {'base': 'https://newyork.craigslist.org/search/stp?format=rss',\n",
       "   'language': None,\n",
       "   'type': 'text/plain',\n",
       "   'value': 'copyright 2017 craiglist'},\n",
       "  'summary': 'Asian Stretching Handworks, Appts. Contact me__917four three four9418__for more info and rates.',\n",
       "  'summary_detail': {'base': 'https://newyork.craigslist.org/search/stp?format=rss',\n",
       "   'language': None,\n",
       "   'type': 'text/html',\n",
       "   'value': 'Asian Stretching Handworks, Appts. Contact me__917four three four9418__for more info and rates.'},\n",
       "  'title': 'Asian Stretching Handworks-man4man - m4m (Upper West Side)',\n",
       "  'title_detail': {'base': 'https://newyork.craigslist.org/search/stp?format=rss',\n",
       "   'language': None,\n",
       "   'type': 'text/plain',\n",
       "   'value': 'Asian Stretching Handworks-man4man - m4m (Upper West Side)'},\n",
       "  'updated': '2017-08-19T22:57:52-04:00',\n",
       "  'updated_parsed': time.struct_time(tm_year=2017, tm_mon=8, tm_mday=20, tm_hour=2, tm_min=57, tm_sec=52, tm_wday=6, tm_yday=232, tm_isdst=0)},\n",
       " {'dc_source': 'http://newyork.craigslist.org/brk/stp/6268488240.html',\n",
       "  'dc_type': 'text',\n",
       "  'id': 'http://newyork.craigslist.org/brk/stp/6268488240.html',\n",
       "  'language': 'en-us',\n",
       "  'link': 'http://newyork.craigslist.org/brk/stp/6268488240.html',\n",
       "  'links': [{'href': 'http://newyork.craigslist.org/brk/stp/6268488240.html',\n",
       "    'rel': 'alternate',\n",
       "    'type': 'text/html'}],\n",
       "  'published': '2017-08-19T22:54:47-04:00',\n",
       "  'published_parsed': time.struct_time(tm_year=2017, tm_mon=8, tm_mday=20, tm_hour=2, tm_min=54, tm_sec=47, tm_wday=6, tm_yday=232, tm_isdst=0),\n",
       "  'rights': 'copyright 2017 craiglist',\n",
       "  'rights_detail': {'base': 'https://newyork.craigslist.org/search/stp?format=rss',\n",
       "   'language': None,\n",
       "   'type': 'text/plain',\n",
       "   'value': 'copyright 2017 craiglist'},\n",
       "  'summary': \"Looking for a fun girl to spend a few hours with. We have some fun, and you leave with a bouquet. \\n31, mixed, very clean, set, oral. I'm attached so this must be discreet.\",\n",
       "  'summary_detail': {'base': 'https://newyork.craigslist.org/search/stp?format=rss',\n",
       "   'language': None,\n",
       "   'type': 'text/html',\n",
       "   'value': \"Looking for a fun girl to spend a few hours with. We have some fun, and you leave with a bouquet. \\n31, mixed, very clean, set, oral. I'm attached so this must be discreet.\"},\n",
       "  'title': \"Non-pro for 'roses' - m4w (Brooklyn)\",\n",
       "  'title_detail': {'base': 'https://newyork.craigslist.org/search/stp?format=rss',\n",
       "   'language': None,\n",
       "   'type': 'text/plain',\n",
       "   'value': \"Non-pro for 'roses' - m4w (Brooklyn)\"},\n",
       "  'updated': '2017-08-19T22:54:47-04:00',\n",
       "  'updated_parsed': time.struct_time(tm_year=2017, tm_mon=8, tm_mday=20, tm_hour=2, tm_min=54, tm_sec=47, tm_wday=6, tm_yday=232, tm_isdst=0)},\n",
       " {'dc_source': 'http://newyork.craigslist.org/brk/stp/6259748539.html',\n",
       "  'dc_type': 'text',\n",
       "  'id': 'http://newyork.craigslist.org/brk/stp/6259748539.html',\n",
       "  'language': 'en-us',\n",
       "  'link': 'http://newyork.craigslist.org/brk/stp/6259748539.html',\n",
       "  'links': [{'href': 'http://newyork.craigslist.org/brk/stp/6259748539.html',\n",
       "    'rel': 'alternate',\n",
       "    'type': 'text/html'}],\n",
       "  'published': '2017-08-19T22:54:27-04:00',\n",
       "  'published_parsed': time.struct_time(tm_year=2017, tm_mon=8, tm_mday=20, tm_hour=2, tm_min=54, tm_sec=27, tm_wday=6, tm_yday=232, tm_isdst=0),\n",
       "  'rights': 'copyright 2017 craiglist',\n",
       "  'rights_detail': {'base': 'https://newyork.craigslist.org/search/stp?format=rss',\n",
       "   'language': None,\n",
       "   'type': 'text/plain',\n",
       "   'value': 'copyright 2017 craiglist'},\n",
       "  'summary': \"My wife is out and she doesn't like oral, so I always wanted to do this. 29, Black/White mixed, very clean, ddf. Come over and get your pussy licked. More if you're interested.\",\n",
       "  'summary_detail': {'base': 'https://newyork.craigslist.org/search/stp?format=rss',\n",
       "   'language': None,\n",
       "   'type': 'text/html',\n",
       "   'value': \"My wife is out and she doesn't like oral, so I always wanted to do this. 29, Black/White mixed, very clean, ddf. Come over and get your pussy licked. More if you're interested.\"},\n",
       "  'title': 'I wanna eat some pussy! Real post. - m4w (Bed Stuy)',\n",
       "  'title_detail': {'base': 'https://newyork.craigslist.org/search/stp?format=rss',\n",
       "   'language': None,\n",
       "   'type': 'text/plain',\n",
       "   'value': 'I wanna eat some pussy! Real post. - m4w (Bed Stuy)'},\n",
       "  'updated': '2017-08-19T22:54:27-04:00',\n",
       "  'updated_parsed': time.struct_time(tm_year=2017, tm_mon=8, tm_mday=20, tm_hour=2, tm_min=54, tm_sec=27, tm_wday=6, tm_yday=232, tm_isdst=0)},\n",
       " {'dc_source': 'http://newyork.craigslist.org/mnh/stp/6234616271.html',\n",
       "  'dc_type': 'text',\n",
       "  'enc_enclosure': {'resource': 'https://images.craigslist.org/00z0z_k8lHYaXiOjv_300x300.jpg',\n",
       "   'type': 'image/jpeg'},\n",
       "  'id': 'http://newyork.craigslist.org/mnh/stp/6234616271.html',\n",
       "  'language': 'en-us',\n",
       "  'link': 'http://newyork.craigslist.org/mnh/stp/6234616271.html',\n",
       "  'links': [{'href': 'http://newyork.craigslist.org/mnh/stp/6234616271.html',\n",
       "    'rel': 'alternate',\n",
       "    'type': 'text/html'}],\n",
       "  'published': '2017-08-19T22:54:24-04:00',\n",
       "  'published_parsed': time.struct_time(tm_year=2017, tm_mon=8, tm_mday=20, tm_hour=2, tm_min=54, tm_sec=24, tm_wday=6, tm_yday=232, tm_isdst=0),\n",
       "  'rights': 'copyright 2017 craiglist',\n",
       "  'rights_detail': {'base': 'https://newyork.craigslist.org/search/stp?format=rss',\n",
       "   'language': None,\n",
       "   'type': 'text/plain',\n",
       "   'value': 'copyright 2017 craiglist'},\n",
       "  'summary': \"For quite some time, I've found there's just something about spitting and drooling that's such a turn on. So, like the title says, I'm seeking a caucasian or Asian girl, preferably on the skinny side who shares the same kinky interest in spit play an ...\",\n",
       "  'summary_detail': {'base': 'https://newyork.craigslist.org/search/stp?format=rss',\n",
       "   'language': None,\n",
       "   'type': 'text/html',\n",
       "   'value': \"For quite some time, I've found there's just something about spitting and drooling that's such a turn on. So, like the title says, I'm seeking a caucasian or Asian girl, preferably on the skinny side who shares the same kinky interest in spit play an ...\"},\n",
       "  'title': 'Feed Me Your Spit - m4w',\n",
       "  'title_detail': {'base': 'https://newyork.craigslist.org/search/stp?format=rss',\n",
       "   'language': None,\n",
       "   'type': 'text/plain',\n",
       "   'value': 'Feed Me Your Spit - m4w'},\n",
       "  'updated': '2017-08-19T22:54:24-04:00',\n",
       "  'updated_parsed': time.struct_time(tm_year=2017, tm_mon=8, tm_mday=20, tm_hour=2, tm_min=54, tm_sec=24, tm_wday=6, tm_yday=232, tm_isdst=0)},\n",
       " {'dc_source': 'http://newyork.craigslist.org/mnh/stp/6271900829.html',\n",
       "  'dc_type': 'text',\n",
       "  'id': 'http://newyork.craigslist.org/mnh/stp/6271900829.html',\n",
       "  'language': 'en-us',\n",
       "  'link': 'http://newyork.craigslist.org/mnh/stp/6271900829.html',\n",
       "  'links': [{'href': 'http://newyork.craigslist.org/mnh/stp/6271900829.html',\n",
       "    'rel': 'alternate',\n",
       "    'type': 'text/html'}],\n",
       "  'published': '2017-08-19T22:54:17-04:00',\n",
       "  'published_parsed': time.struct_time(tm_year=2017, tm_mon=8, tm_mday=20, tm_hour=2, tm_min=54, tm_sec=17, tm_wday=6, tm_yday=232, tm_isdst=0),\n",
       "  'rights': 'copyright 2017 craiglist',\n",
       "  'rights_detail': {'base': 'https://newyork.craigslist.org/search/stp?format=rss',\n",
       "   'language': None,\n",
       "   'type': 'text/plain',\n",
       "   'value': 'copyright 2017 craiglist'},\n",
       "  'summary': \"bicurious latina looking for a sort of fwb with another curious girl. someone who would like to spend some time inside watching movies/tv and cuddle up in our panties under the blanket...rest our heads on each other's breasts..\",\n",
       "  'summary_detail': {'base': 'https://newyork.craigslist.org/search/stp?format=rss',\n",
       "   'language': None,\n",
       "   'type': 'text/html',\n",
       "   'value': \"bicurious latina looking for a sort of fwb with another curious girl. someone who would like to spend some time inside watching movies/tv and cuddle up in our panties under the blanket...rest our heads on each other's breasts..\"},\n",
       "  'title': 'cuddle buddy bestie wanted - w4w (Chinatown / Lit Italy)',\n",
       "  'title_detail': {'base': 'https://newyork.craigslist.org/search/stp?format=rss',\n",
       "   'language': None,\n",
       "   'type': 'text/plain',\n",
       "   'value': 'cuddle buddy bestie wanted - w4w (Chinatown / Lit Italy)'},\n",
       "  'updated': '2017-08-19T22:54:17-04:00',\n",
       "  'updated_parsed': time.struct_time(tm_year=2017, tm_mon=8, tm_mday=20, tm_hour=2, tm_min=54, tm_sec=17, tm_wday=6, tm_yday=232, tm_isdst=0)},\n",
       " {'dc_source': 'http://newyork.craigslist.org/que/stp/6247793383.html',\n",
       "  'dc_type': 'text',\n",
       "  'id': 'http://newyork.craigslist.org/que/stp/6247793383.html',\n",
       "  'language': 'en-us',\n",
       "  'link': 'http://newyork.craigslist.org/que/stp/6247793383.html',\n",
       "  'links': [{'href': 'http://newyork.craigslist.org/que/stp/6247793383.html',\n",
       "    'rel': 'alternate',\n",
       "    'type': 'text/html'}],\n",
       "  'published': '2017-08-19T22:50:51-04:00',\n",
       "  'published_parsed': time.struct_time(tm_year=2017, tm_mon=8, tm_mday=20, tm_hour=2, tm_min=50, tm_sec=51, tm_wday=6, tm_yday=232, tm_isdst=0),\n",
       "  'rights': 'copyright 2017 craiglist',\n",
       "  'rights_detail': {'base': 'https://newyork.craigslist.org/search/stp?format=rss',\n",
       "   'language': None,\n",
       "   'type': 'text/plain',\n",
       "   'value': 'copyright 2017 craiglist'},\n",
       "  'summary': \"I'm a single white male interested in going to a clothing optional beach in New Jersey. I drive. \\nAre you a single woman? Would you like to go with me? \\nI'm twenty-six. How old are you? Send me your picture if you'd like to join me. :-)\",\n",
       "  'summary_detail': {'base': 'https://newyork.craigslist.org/search/stp?format=rss',\n",
       "   'language': None,\n",
       "   'type': 'text/html',\n",
       "   'value': \"I'm a single white male interested in going to a clothing optional beach in New Jersey. I drive. \\nAre you a single woman? Would you like to go with me? \\nI'm twenty-six. How old are you? Send me your picture if you'd like to join me. :-)\"},\n",
       "  'title': 'Nude Beach Buddy - m4w (Queens)',\n",
       "  'title_detail': {'base': 'https://newyork.craigslist.org/search/stp?format=rss',\n",
       "   'language': None,\n",
       "   'type': 'text/plain',\n",
       "   'value': 'Nude Beach Buddy - m4w (Queens)'},\n",
       "  'updated': '2017-08-19T22:50:51-04:00',\n",
       "  'updated_parsed': time.struct_time(tm_year=2017, tm_mon=8, tm_mday=20, tm_hour=2, tm_min=50, tm_sec=51, tm_wday=6, tm_yday=232, tm_isdst=0)},\n",
       " {'dc_source': 'http://newyork.craigslist.org/mnh/stp/6271898222.html',\n",
       "  'dc_type': 'text',\n",
       "  'id': 'http://newyork.craigslist.org/mnh/stp/6271898222.html',\n",
       "  'language': 'en-us',\n",
       "  'link': 'http://newyork.craigslist.org/mnh/stp/6271898222.html',\n",
       "  'links': [{'href': 'http://newyork.craigslist.org/mnh/stp/6271898222.html',\n",
       "    'rel': 'alternate',\n",
       "    'type': 'text/html'}],\n",
       "  'published': '2017-08-19T22:50:31-04:00',\n",
       "  'published_parsed': time.struct_time(tm_year=2017, tm_mon=8, tm_mday=20, tm_hour=2, tm_min=50, tm_sec=31, tm_wday=6, tm_yday=232, tm_isdst=0),\n",
       "  'rights': 'copyright 2017 craiglist',\n",
       "  'rights_detail': {'base': 'https://newyork.craigslist.org/search/stp?format=rss',\n",
       "   'language': None,\n",
       "   'type': 'text/plain',\n",
       "   'value': 'copyright 2017 craiglist'},\n",
       "  'summary': \"Hello ladies I'm a 36 y/o new mom with real new mom issues lol. I'm looking for friends that understand and can relate. \\nPlease be over 30 and able to hang out with or without kids once in a while no pressure\",\n",
       "  'summary_detail': {'base': 'https://newyork.craigslist.org/search/stp?format=rss',\n",
       "   'language': None,\n",
       "   'type': 'text/html',\n",
       "   'value': \"Hello ladies I'm a 36 y/o new mom with real new mom issues lol. I'm looking for friends that understand and can relate. \\nPlease be over 30 and able to hang out with or without kids once in a while no pressure\"},\n",
       "  'title': 'New mom seeking other new moms - w4w (Westchester /bronx)',\n",
       "  'title_detail': {'base': 'https://newyork.craigslist.org/search/stp?format=rss',\n",
       "   'language': None,\n",
       "   'type': 'text/plain',\n",
       "   'value': 'New mom seeking other new moms - w4w (Westchester /bronx)'},\n",
       "  'updated': '2017-08-19T22:50:31-04:00',\n",
       "  'updated_parsed': time.struct_time(tm_year=2017, tm_mon=8, tm_mday=20, tm_hour=2, tm_min=50, tm_sec=31, tm_wday=6, tm_yday=232, tm_isdst=0)},\n",
       " {'dc_source': 'http://newyork.craigslist.org/lgi/stp/6258848384.html',\n",
       "  'dc_type': 'text',\n",
       "  'id': 'http://newyork.craigslist.org/lgi/stp/6258848384.html',\n",
       "  'language': 'en-us',\n",
       "  'link': 'http://newyork.craigslist.org/lgi/stp/6258848384.html',\n",
       "  'links': [{'href': 'http://newyork.craigslist.org/lgi/stp/6258848384.html',\n",
       "    'rel': 'alternate',\n",
       "    'type': 'text/html'}],\n",
       "  'published': '2017-08-19T22:48:45-04:00',\n",
       "  'published_parsed': time.struct_time(tm_year=2017, tm_mon=8, tm_mday=20, tm_hour=2, tm_min=48, tm_sec=45, tm_wday=6, tm_yday=232, tm_isdst=0),\n",
       "  'rights': 'copyright 2017 craiglist',\n",
       "  'rights_detail': {'base': 'https://newyork.craigslist.org/search/stp?format=rss',\n",
       "   'language': None,\n",
       "   'type': 'text/plain',\n",
       "   'value': 'copyright 2017 craiglist'},\n",
       "  'summary': 'Fantasy play today \\npictures for pictures \\nmust be open-minded \\nMild to Wild \\nnot gentle \\nwhat are you curious about ?',\n",
       "  'summary_detail': {'base': 'https://newyork.craigslist.org/search/stp?format=rss',\n",
       "   'language': None,\n",
       "   'type': 'text/html',\n",
       "   'value': 'Fantasy play today \\npictures for pictures \\nmust be open-minded \\nMild to Wild \\nnot gentle \\nwhat are you curious about ?'},\n",
       "  'title': 'Fantasy Play - m4w (Queens Manhattan LI.)',\n",
       "  'title_detail': {'base': 'https://newyork.craigslist.org/search/stp?format=rss',\n",
       "   'language': None,\n",
       "   'type': 'text/plain',\n",
       "   'value': 'Fantasy Play - m4w (Queens Manhattan LI.)'},\n",
       "  'updated': '2017-08-19T22:48:45-04:00',\n",
       "  'updated_parsed': time.struct_time(tm_year=2017, tm_mon=8, tm_mday=20, tm_hour=2, tm_min=48, tm_sec=45, tm_wday=6, tm_yday=232, tm_isdst=0)},\n",
       " {'dc_source': 'http://newyork.craigslist.org/mnh/stp/6266499639.html',\n",
       "  'dc_type': 'text',\n",
       "  'enc_enclosure': {'resource': 'https://images.craigslist.org/00s0s_4ePk84ZOVnV_300x300.jpg',\n",
       "   'type': 'image/jpeg'},\n",
       "  'id': 'http://newyork.craigslist.org/mnh/stp/6266499639.html',\n",
       "  'language': 'en-us',\n",
       "  'link': 'http://newyork.craigslist.org/mnh/stp/6266499639.html',\n",
       "  'links': [{'href': 'http://newyork.craigslist.org/mnh/stp/6266499639.html',\n",
       "    'rel': 'alternate',\n",
       "    'type': 'text/html'}],\n",
       "  'published': '2017-08-19T22:44:32-04:00',\n",
       "  'published_parsed': time.struct_time(tm_year=2017, tm_mon=8, tm_mday=20, tm_hour=2, tm_min=44, tm_sec=32, tm_wday=6, tm_yday=232, tm_isdst=0),\n",
       "  'rights': 'copyright 2017 craiglist',\n",
       "  'rights_detail': {'base': 'https://newyork.craigslist.org/search/stp?format=rss',\n",
       "   'language': None,\n",
       "   'type': 'text/plain',\n",
       "   'value': 'copyright 2017 craiglist'},\n",
       "  'summary': 'Are your feet your best feature? Do you get complimented on your feet. You pamper them, keep them soft and smooth, you paint your nails all kinds of colors to make them look good and get noticed. You know your feet look great. You wear sexy shoes tha ...',\n",
       "  'summary_detail': {'base': 'https://newyork.craigslist.org/search/stp?format=rss',\n",
       "   'language': None,\n",
       "   'type': 'text/html',\n",
       "   'value': 'Are your feet your best feature? Do you get complimented on your feet. You pamper them, keep them soft and smooth, you paint your nails all kinds of colors to make them look good and get noticed. You know your feet look great. You wear sexy shoes tha ...'},\n",
       "  'title': 'Can I Suck Your Toes? - m4w (Manhattan)',\n",
       "  'title_detail': {'base': 'https://newyork.craigslist.org/search/stp?format=rss',\n",
       "   'language': None,\n",
       "   'type': 'text/plain',\n",
       "   'value': 'Can I Suck Your Toes? - m4w (Manhattan)'},\n",
       "  'updated': '2017-08-19T22:44:32-04:00',\n",
       "  'updated_parsed': time.struct_time(tm_year=2017, tm_mon=8, tm_mday=20, tm_hour=2, tm_min=44, tm_sec=32, tm_wday=6, tm_yday=232, tm_isdst=0)},\n",
       " {'dc_source': 'http://newyork.craigslist.org/lgi/stp/6271892122.html',\n",
       "  'dc_type': 'text',\n",
       "  'id': 'http://newyork.craigslist.org/lgi/stp/6271892122.html',\n",
       "  'language': 'en-us',\n",
       "  'link': 'http://newyork.craigslist.org/lgi/stp/6271892122.html',\n",
       "  'links': [{'href': 'http://newyork.craigslist.org/lgi/stp/6271892122.html',\n",
       "    'rel': 'alternate',\n",
       "    'type': 'text/html'}],\n",
       "  'published': '2017-08-19T22:41:58-04:00',\n",
       "  'published_parsed': time.struct_time(tm_year=2017, tm_mon=8, tm_mday=20, tm_hour=2, tm_min=41, tm_sec=58, tm_wday=6, tm_yday=232, tm_isdst=0),\n",
       "  'rights': 'copyright 2017 craiglist',\n",
       "  'rights_detail': {'base': 'https://newyork.craigslist.org/search/stp?format=rss',\n",
       "   'language': None,\n",
       "   'type': 'text/plain',\n",
       "   'value': 'copyright 2017 craiglist'},\n",
       "  'summary': \"Gorgeous night out the rain just stopped pictures for pictures Let's Ride \\nMature gentleman Harley-Davidson motorcycle ride\",\n",
       "  'summary_detail': {'base': 'https://newyork.craigslist.org/search/stp?format=rss',\n",
       "   'language': None,\n",
       "   'type': 'text/html',\n",
       "   'value': \"Gorgeous night out the rain just stopped pictures for pictures Let's Ride \\nMature gentleman Harley-Davidson motorcycle ride\"},\n",
       "  'title': \"let's ride Harley-Davidson - m4w (Queens .Manhattan. LI)\",\n",
       "  'title_detail': {'base': 'https://newyork.craigslist.org/search/stp?format=rss',\n",
       "   'language': None,\n",
       "   'type': 'text/plain',\n",
       "   'value': \"let's ride Harley-Davidson - m4w (Queens .Manhattan. LI)\"},\n",
       "  'updated': '2017-08-19T22:41:58-04:00',\n",
       "  'updated_parsed': time.struct_time(tm_year=2017, tm_mon=8, tm_mday=20, tm_hour=2, tm_min=41, tm_sec=58, tm_wday=6, tm_yday=232, tm_isdst=0)},\n",
       " {'dc_source': 'http://newyork.craigslist.org/lgi/stp/6271889921.html',\n",
       "  'dc_type': 'text',\n",
       "  'id': 'http://newyork.craigslist.org/lgi/stp/6271889921.html',\n",
       "  'language': 'en-us',\n",
       "  'link': 'http://newyork.craigslist.org/lgi/stp/6271889921.html',\n",
       "  'links': [{'href': 'http://newyork.craigslist.org/lgi/stp/6271889921.html',\n",
       "    'rel': 'alternate',\n",
       "    'type': 'text/html'}],\n",
       "  'published': '2017-08-19T22:38:53-04:00',\n",
       "  'published_parsed': time.struct_time(tm_year=2017, tm_mon=8, tm_mday=20, tm_hour=2, tm_min=38, tm_sec=53, tm_wday=6, tm_yday=232, tm_isdst=0),\n",
       "  'rights': 'copyright 2017 craiglist',\n",
       "  'rights_detail': {'base': 'https://newyork.craigslist.org/search/stp?format=rss',\n",
       "   'language': None,\n",
       "   'type': 'text/plain',\n",
       "   'value': 'copyright 2017 craiglist'},\n",
       "  'summary': 'Handsome but not a gentleman \\nPictures for pictures \\nIn-Shape hard body looking for same disease and drug free please be mentally stable',\n",
       "  'summary_detail': {'base': 'https://newyork.craigslist.org/search/stp?format=rss',\n",
       "   'language': None,\n",
       "   'type': 'text/html',\n",
       "   'value': 'Handsome but not a gentleman \\nPictures for pictures \\nIn-Shape hard body looking for same disease and drug free please be mentally stable'},\n",
       "  'title': 'Handsome not Gentle - m4w (Queens/Brooklyn / LI)',\n",
       "  'title_detail': {'base': 'https://newyork.craigslist.org/search/stp?format=rss',\n",
       "   'language': None,\n",
       "   'type': 'text/plain',\n",
       "   'value': 'Handsome not Gentle - m4w (Queens/Brooklyn / LI)'},\n",
       "  'updated': '2017-08-19T22:38:53-04:00',\n",
       "  'updated_parsed': time.struct_time(tm_year=2017, tm_mon=8, tm_mday=20, tm_hour=2, tm_min=38, tm_sec=53, tm_wday=6, tm_yday=232, tm_isdst=0)},\n",
       " {'dc_source': 'http://newyork.craigslist.org/mnh/stp/6271889643.html',\n",
       "  'dc_type': 'text',\n",
       "  'id': 'http://newyork.craigslist.org/mnh/stp/6271889643.html',\n",
       "  'language': 'en-us',\n",
       "  'link': 'http://newyork.craigslist.org/mnh/stp/6271889643.html',\n",
       "  'links': [{'href': 'http://newyork.craigslist.org/mnh/stp/6271889643.html',\n",
       "    'rel': 'alternate',\n",
       "    'type': 'text/html'}],\n",
       "  'published': '2017-08-19T22:38:31-04:00',\n",
       "  'published_parsed': time.struct_time(tm_year=2017, tm_mon=8, tm_mday=20, tm_hour=2, tm_min=38, tm_sec=31, tm_wday=6, tm_yday=232, tm_isdst=0),\n",
       "  'rights': 'copyright 2017 craiglist',\n",
       "  'rights_detail': {'base': 'https://newyork.craigslist.org/search/stp?format=rss',\n",
       "   'language': None,\n",
       "   'type': 'text/plain',\n",
       "   'value': 'copyright 2017 craiglist'},\n",
       "  'summary': \"Hey what's up ladies. Nothing crazy, but am atypically free these past few weekends (get the pic), yeah so would love to hang with someone who is cool &amp; funny. If u know these dives that's a plus. The are on Ave A close to East Houston and right  ...\",\n",
       "  'summary_detail': {'base': 'https://newyork.craigslist.org/search/stp?format=rss',\n",
       "   'language': None,\n",
       "   'type': 'text/html',\n",
       "   'value': \"Hey what's up ladies. Nothing crazy, but am atypically free these past few weekends (get the pic), yeah so would love to hang with someone who is cool &amp; funny. If u know these dives that's a plus. The are on Ave A close to East Houston and right  ...\"},\n",
       "  'title': 'Hey, let go to Double Down or The Library for a drink & talk - m4w (Lower East Side)',\n",
       "  'title_detail': {'base': 'https://newyork.craigslist.org/search/stp?format=rss',\n",
       "   'language': None,\n",
       "   'type': 'text/plain',\n",
       "   'value': 'Hey, let go to Double Down or The Library for a drink & talk - m4w (Lower East Side)'},\n",
       "  'updated': '2017-08-19T22:38:31-04:00',\n",
       "  'updated_parsed': time.struct_time(tm_year=2017, tm_mon=8, tm_mday=20, tm_hour=2, tm_min=38, tm_sec=31, tm_wday=6, tm_yday=232, tm_isdst=0)},\n",
       " {'dc_source': 'http://newyork.craigslist.org/brk/stp/6262180860.html',\n",
       "  'dc_type': 'text',\n",
       "  'enc_enclosure': {'resource': 'https://images.craigslist.org/00909_eAijApMpJVZ_300x300.jpg',\n",
       "   'type': 'image/jpeg'},\n",
       "  'id': 'http://newyork.craigslist.org/brk/stp/6262180860.html',\n",
       "  'language': 'en-us',\n",
       "  'link': 'http://newyork.craigslist.org/brk/stp/6262180860.html',\n",
       "  'links': [{'href': 'http://newyork.craigslist.org/brk/stp/6262180860.html',\n",
       "    'rel': 'alternate',\n",
       "    'type': 'text/html'}],\n",
       "  'published': '2017-08-19T22:34:23-04:00',\n",
       "  'published_parsed': time.struct_time(tm_year=2017, tm_mon=8, tm_mday=20, tm_hour=2, tm_min=34, tm_sec=23, tm_wday=6, tm_yday=232, tm_isdst=0),\n",
       "  'rights': 'copyright 2017 craiglist',\n",
       "  'rights_detail': {'base': 'https://newyork.craigslist.org/search/stp?format=rss',\n",
       "   'language': None,\n",
       "   'type': 'text/plain',\n",
       "   'value': 'copyright 2017 craiglist'},\n",
       "  'summary': \"I'm interested in someone looking for a genuine relationship. I'm submissive and am looking for a female that I can submit to. Be taught and trained to serve her. I am seeking a monogamous relationship. \\nAbout me: \\nI do not have any tattoos or pierci ...\",\n",
       "  'summary_detail': {'base': 'https://newyork.craigslist.org/search/stp?format=rss',\n",
       "   'language': None,\n",
       "   'type': 'text/html',\n",
       "   'value': \"I'm interested in someone looking for a genuine relationship. I'm submissive and am looking for a female that I can submit to. Be taught and trained to serve her. I am seeking a monogamous relationship. \\nAbout me: \\nI do not have any tattoos or pierci ...\"},\n",
       "  'title': 'SBM ISO FEMALE-LED-RELATIONSHIP - m4w (Brooklyn)',\n",
       "  'title_detail': {'base': 'https://newyork.craigslist.org/search/stp?format=rss',\n",
       "   'language': None,\n",
       "   'type': 'text/plain',\n",
       "   'value': 'SBM ISO FEMALE-LED-RELATIONSHIP - m4w (Brooklyn)'},\n",
       "  'updated': '2017-08-19T22:34:23-04:00',\n",
       "  'updated_parsed': time.struct_time(tm_year=2017, tm_mon=8, tm_mday=20, tm_hour=2, tm_min=34, tm_sec=23, tm_wday=6, tm_yday=232, tm_isdst=0)},\n",
       " {'dc_source': 'http://newyork.craigslist.org/mnh/stp/6268981192.html',\n",
       "  'dc_type': 'text',\n",
       "  'id': 'http://newyork.craigslist.org/mnh/stp/6268981192.html',\n",
       "  'language': 'en-us',\n",
       "  'link': 'http://newyork.craigslist.org/mnh/stp/6268981192.html',\n",
       "  'links': [{'href': 'http://newyork.craigslist.org/mnh/stp/6268981192.html',\n",
       "    'rel': 'alternate',\n",
       "    'type': 'text/html'}],\n",
       "  'published': '2017-08-19T22:34:05-04:00',\n",
       "  'published_parsed': time.struct_time(tm_year=2017, tm_mon=8, tm_mday=20, tm_hour=2, tm_min=34, tm_sec=5, tm_wday=6, tm_yday=232, tm_isdst=0),\n",
       "  'rights': 'copyright 2017 craiglist',\n",
       "  'rights_detail': {'base': 'https://newyork.craigslist.org/search/stp?format=rss',\n",
       "   'language': None,\n",
       "   'type': 'text/plain',\n",
       "   'value': 'copyright 2017 craiglist'},\n",
       "  'summary': 'There are, perhaps, more things in the universe than the human mind can easily contain, and rationalism is no advantage in such circumstances. \\nWith no opinion of what is, it is often easier to talk of what may be, and such talk may wend a crooked co ...',\n",
       "  'summary_detail': {'base': 'https://newyork.craigslist.org/search/stp?format=rss',\n",
       "   'language': None,\n",
       "   'type': 'text/html',\n",
       "   'value': 'There are, perhaps, more things in the universe than the human mind can easily contain, and rationalism is no advantage in such circumstances. \\nWith no opinion of what is, it is often easier to talk of what may be, and such talk may wend a crooked co ...'},\n",
       "  'title': 'Preternatural - m4w',\n",
       "  'title_detail': {'base': 'https://newyork.craigslist.org/search/stp?format=rss',\n",
       "   'language': None,\n",
       "   'type': 'text/plain',\n",
       "   'value': 'Preternatural - m4w'},\n",
       "  'updated': '2017-08-19T22:34:05-04:00',\n",
       "  'updated_parsed': time.struct_time(tm_year=2017, tm_mon=8, tm_mday=20, tm_hour=2, tm_min=34, tm_sec=5, tm_wday=6, tm_yday=232, tm_isdst=0)},\n",
       " {'dc_source': 'http://newyork.craigslist.org/brk/stp/6271863691.html',\n",
       "  'dc_type': 'text',\n",
       "  'enc_enclosure': {'resource': 'https://images.craigslist.org/00M0M_gIsqEiw4fOo_300x300.jpg',\n",
       "   'type': 'image/jpeg'},\n",
       "  'id': 'http://newyork.craigslist.org/brk/stp/6271863691.html',\n",
       "  'language': 'en-us',\n",
       "  'link': 'http://newyork.craigslist.org/brk/stp/6271863691.html',\n",
       "  'links': [{'href': 'http://newyork.craigslist.org/brk/stp/6271863691.html',\n",
       "    'rel': 'alternate',\n",
       "    'type': 'text/html'}],\n",
       "  'published': '2017-08-19T22:31:03-04:00',\n",
       "  'published_parsed': time.struct_time(tm_year=2017, tm_mon=8, tm_mday=20, tm_hour=2, tm_min=31, tm_sec=3, tm_wday=6, tm_yday=232, tm_isdst=0),\n",
       "  'rights': 'copyright 2017 craiglist',\n",
       "  'rights_detail': {'base': 'https://newyork.craigslist.org/search/stp?format=rss',\n",
       "   'language': None,\n",
       "   'type': 'text/plain',\n",
       "   'value': 'copyright 2017 craiglist'},\n",
       "  'summary': 'I \\'m looking for a muscular black man with a BIG DICK to help me \"stay limber\" if you get my meaning. We would likey fuck once or twice a week depending on your shedule. This would also be at your place. \\nSo if you are muscular or even a bodybuilder  ...',\n",
       "  'summary_detail': {'base': 'https://newyork.craigslist.org/search/stp?format=rss',\n",
       "   'language': None,\n",
       "   'type': 'text/html',\n",
       "   'value': 'I \\'m looking for a muscular black man with a BIG DICK to help me \"stay limber\" if you get my meaning. We would likey fuck once or twice a week depending on your shedule. This would also be at your place. \\nSo if you are muscular or even a bodybuilder  ...'},\n",
       "  'title': 'Black man seeks Buff BBC - m4m',\n",
       "  'title_detail': {'base': 'https://newyork.craigslist.org/search/stp?format=rss',\n",
       "   'language': None,\n",
       "   'type': 'text/plain',\n",
       "   'value': 'Black man seeks Buff BBC - m4m'},\n",
       "  'updated': '2017-08-19T22:31:03-04:00',\n",
       "  'updated_parsed': time.struct_time(tm_year=2017, tm_mon=8, tm_mday=20, tm_hour=2, tm_min=31, tm_sec=3, tm_wday=6, tm_yday=232, tm_isdst=0)},\n",
       " {'dc_source': 'http://newyork.craigslist.org/stn/stp/6271868224.html',\n",
       "  'dc_type': 'text',\n",
       "  'enc_enclosure': {'resource': 'https://images.craigslist.org/01313_kgDBNGkB77g_300x300.jpg',\n",
       "   'type': 'image/jpeg'},\n",
       "  'id': 'http://newyork.craigslist.org/stn/stp/6271868224.html',\n",
       "  'language': 'en-us',\n",
       "  'link': 'http://newyork.craigslist.org/stn/stp/6271868224.html',\n",
       "  'links': [{'href': 'http://newyork.craigslist.org/stn/stp/6271868224.html',\n",
       "    'rel': 'alternate',\n",
       "    'type': 'text/html'}],\n",
       "  'published': '2017-08-19T22:26:49-04:00',\n",
       "  'published_parsed': time.struct_time(tm_year=2017, tm_mon=8, tm_mday=20, tm_hour=2, tm_min=26, tm_sec=49, tm_wday=6, tm_yday=232, tm_isdst=0),\n",
       "  'rights': 'copyright 2017 craiglist',\n",
       "  'rights_detail': {'base': 'https://newyork.craigslist.org/search/stp?format=rss',\n",
       "   'language': None,\n",
       "   'type': 'text/plain',\n",
       "   'value': 'copyright 2017 craiglist'},\n",
       "  'summary': \"Hi Everyone, I'm looking for a good lady to girl to go out on dates, have bites and drinks now and every other weekend. All Races are welcome, Just be serious, real, honest and respectful .. Seven- Six- Three- Two Five zero Five seven four one.. \\nPic ...\",\n",
       "  'summary_detail': {'base': 'https://newyork.craigslist.org/search/stp?format=rss',\n",
       "   'language': None,\n",
       "   'type': 'text/html',\n",
       "   'value': \"Hi Everyone, I'm looking for a good lady to girl to go out on dates, have bites and drinks now and every other weekend. All Races are welcome, Just be serious, real, honest and respectful .. Seven- Six- Three- Two Five zero Five seven four one.. \\nPic ...\"},\n",
       "  'title': 'Looking for a good lady / girl to take out now and every weekend - m4w (Staten Island)',\n",
       "  'title_detail': {'base': 'https://newyork.craigslist.org/search/stp?format=rss',\n",
       "   'language': None,\n",
       "   'type': 'text/plain',\n",
       "   'value': 'Looking for a good lady / girl to take out now and every weekend - m4w (Staten Island)'},\n",
       "  'updated': '2017-08-19T22:26:49-04:00',\n",
       "  'updated_parsed': time.struct_time(tm_year=2017, tm_mon=8, tm_mday=20, tm_hour=2, tm_min=26, tm_sec=49, tm_wday=6, tm_yday=232, tm_isdst=0)}]"
      ]
     },
     "execution_count": 62,
     "metadata": {},
     "output_type": "execute_result"
    }
   ],
   "source": [
    "ny['entries']"
   ]
  },
  {
   "cell_type": "code",
   "execution_count": 63,
   "metadata": {
    "collapsed": false
   },
   "outputs": [
    {
     "data": {
      "text/plain": [
       "25"
      ]
     },
     "execution_count": 63,
     "metadata": {},
     "output_type": "execute_result"
    }
   ],
   "source": [
    "len(ny['entries'])"
   ]
  },
  {
   "cell_type": "markdown",
   "metadata": {},
   "source": [
    "**程序清单4-6** RSS源分类器及高频词去除函数"
   ]
  },
  {
   "cell_type": "code",
   "execution_count": 64,
   "metadata": {
    "collapsed": true
   },
   "outputs": [],
   "source": [
    "def calc_most_freq(vocab_list, full_text):\n",
    "    import operator\n",
    "    freq_dict = {}\n",
    "    for token in vocab_list:\n",
    "        freq_dict[token] = full_text.count(token)\n",
    "    sorted_freq = sorted(freq_dict.items(), key=operator.itemgetter(1),\n",
    "                        reverse=True)\n",
    "    return sorted_freq[:30]\n",
    "\n",
    "def local_words(feed1, feed0):\n",
    "    import feedparser\n",
    "    doc_list = []\n",
    "    class_list = []\n",
    "    full_text = []\n",
    "    min_len = min(len(feed1['entries']), len(feed0['entries']))\n",
    "    for i in range(min_len):\n",
    "        word_list = text_parse(feed1['entries'][i]['summary'])\n",
    "        doc_list.append(word_list)\n",
    "        full_text.extend(word_list)\n",
    "        class_list.append(1)\n",
    "        word_list = text_parse(feed0['entries'][i]['summary'])\n",
    "        doc_list.append(word_list)\n",
    "        full_text.extend(word_list)\n",
    "        class_list.append(0)\n",
    "    vocab_list = create_vocab_list(doc_list)\n",
    "    top_30_words = calc_most_freq(vocab_list, full_text)\n",
    "    for pair_w in top_30_words:\n",
    "        if pair_w[0] in vocab_list:\n",
    "            vocab_list.remove(pair_w[0])\n",
    "    training_set = list(range(2*min_len))\n",
    "    test_set = []\n",
    "    for i in range(20):\n",
    "        rand_index = int(random.uniform(0, len(training_set)))\n",
    "        test_set.append(training_set[rand_index])\n",
    "        del(training_set[rand_index])\n",
    "    train_mat = []\n",
    "    train_classes = []\n",
    "    for doc_index in training_set:\n",
    "        train_mat.append(bag_of_words2vec_MN(vocab_list, doc_list[doc_index]))\n",
    "        train_classes.append(class_list[doc_index])\n",
    "    p0V, p1V, p_spam = train_NB0(array(train_mat), array(train_classes))\n",
    "    error_count = 0\n",
    "    for doc_index in test_set:\n",
    "        word_vector = bag_of_words2vec_MN(vocab_list, doc_list[doc_index])\n",
    "        if classify_NB(array(word_vector), p0V, p1V, p_spam) != class_list[doc_index]:\n",
    "            error_count += 1\n",
    "    print('The error rate is:', float(error_count)/len(test_set))\n",
    "    return vocab_list, p0V, p1V"
   ]
  },
  {
   "cell_type": "code",
   "execution_count": 66,
   "metadata": {
    "collapsed": true
   },
   "outputs": [],
   "source": [
    "ny = feedparser.parse('http://newyork.craigslist.org/stp/index.rss')\n",
    "sf = feedparser.parse('http://sfbay.craigslist.org/stp/index.rss')"
   ]
  },
  {
   "cell_type": "code",
   "execution_count": 67,
   "metadata": {
    "collapsed": false
   },
   "outputs": [
    {
     "name": "stdout",
     "output_type": "stream",
     "text": [
      "The error rate is: 0.6\n"
     ]
    },
    {
     "name": "stderr",
     "output_type": "stream",
     "text": [
      "C:\\Users\\xieyu\\AppData\\Local\\Continuum\\Anaconda3\\lib\\re.py:212: FutureWarning: split() requires a non-empty pattern match.\n",
      "  return _compile(pattern, flags).split(string, maxsplit)\n"
     ]
    }
   ],
   "source": [
    "vocab_list, p_SF, p_NY = local_words(ny, sf)"
   ]
  },
  {
   "cell_type": "code",
   "execution_count": 68,
   "metadata": {
    "collapsed": false
   },
   "outputs": [
    {
     "name": "stdout",
     "output_type": "stream",
     "text": [
      "The error rate is: 0.35\n"
     ]
    },
    {
     "name": "stderr",
     "output_type": "stream",
     "text": [
      "C:\\Users\\xieyu\\AppData\\Local\\Continuum\\Anaconda3\\lib\\re.py:212: FutureWarning: split() requires a non-empty pattern match.\n",
      "  return _compile(pattern, flags).split(string, maxsplit)\n"
     ]
    }
   ],
   "source": [
    "vocab_list, p_SF, p_NY = local_words(ny, sf)"
   ]
  },
  {
   "cell_type": "markdown",
   "metadata": {},
   "source": [
    "## 4.7.2 分析数据：显示地域相关的用词"
   ]
  },
  {
   "cell_type": "markdown",
   "metadata": {},
   "source": [
    "**程序清单4-7** 最具表征性的词汇显示函数"
   ]
  },
  {
   "cell_type": "code",
   "execution_count": 77,
   "metadata": {
    "collapsed": true
   },
   "outputs": [],
   "source": [
    "def get_top_words(ny, sf):\n",
    "    import operator\n",
    "    vocab_list, p0V, p1V = local_words(ny, sf)\n",
    "    top_NY = []; top_SF = []\n",
    "    for i in range(len(p0V)):\n",
    "        if p0V[i] > -4.5:\n",
    "            top_SF.append((vocab_list[i], p0V[i]))\n",
    "        if p1V[i] > -4.5:\n",
    "            top_NY.append((vocab_list[i], p1V[i]))\n",
    "    sorted_SF = sorted(top_SF, key=lambda pair: pair[1], reverse=True)\n",
    "    print('SF**' * 15)\n",
    "    for item in sorted_SF:\n",
    "        print(item[0])\n",
    "    sorted_NY = sorted(top_NY, key=lambda pair: pair[1], reverse=True)\n",
    "    print('NY**' * 15)\n",
    "    for item in sorted_NY:\n",
    "        print(item[0])"
   ]
  },
  {
   "cell_type": "code",
   "execution_count": 78,
   "metadata": {
    "collapsed": false
   },
   "outputs": [
    {
     "name": "stdout",
     "output_type": "stream",
     "text": [
      "The error rate is: 0.4\n",
      "SF**SF**SF**SF**SF**SF**SF**SF**SF**SF**SF**SF**SF**SF**SF**\n",
      "something\n",
      "sensual\n",
      "pretty\n",
      "tonight\n",
      "latino\n",
      "very\n",
      "real\n",
      "sex\n",
      "passionate\n",
      "going\n",
      "young\n",
      "NY**NY**NY**NY**NY**NY**NY**NY**NY**NY**NY**NY**NY**NY**NY**\n",
      "more\n",
      "girl\n",
      "feet\n",
      "such\n",
      "them\n",
      "asian\n",
      "but\n",
      "hang\n",
      "over\n",
      "may\n",
      "time\n",
      "look\n",
      "know\n",
      "talk\n",
      "mom\n",
      "our\n",
      "pic\n",
      "best\n",
      "very\n",
      "ride\n",
      "these\n",
      "there\n",
      "girls\n",
      "friend\n",
      "some\n",
      "ladies\n",
      "massages\n",
      "friends\n",
      "game\n"
     ]
    },
    {
     "name": "stderr",
     "output_type": "stream",
     "text": [
      "C:\\Users\\xieyu\\AppData\\Local\\Continuum\\Anaconda3\\lib\\re.py:212: FutureWarning: split() requires a non-empty pattern match.\n",
      "  return _compile(pattern, flags).split(string, maxsplit)\n"
     ]
    }
   ],
   "source": [
    "get_top_words(ny, sf)"
   ]
  },
  {
   "cell_type": "markdown",
   "metadata": {},
   "source": [
    "# 4.8 本章小结"
   ]
  }
 ],
 "metadata": {
  "kernelspec": {
   "display_name": "Python 3",
   "language": "python",
   "name": "python3"
  },
  "language_info": {
   "codemirror_mode": {
    "name": "ipython",
    "version": 3
   },
   "file_extension": ".py",
   "mimetype": "text/x-python",
   "name": "python",
   "nbconvert_exporter": "python",
   "pygments_lexer": "ipython3",
   "version": "3.6.0"
  }
 },
 "nbformat": 4,
 "nbformat_minor": 2
}
