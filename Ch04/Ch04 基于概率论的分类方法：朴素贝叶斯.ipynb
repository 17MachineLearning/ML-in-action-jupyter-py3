{
 "cells": [
  {
   "cell_type": "markdown",
   "metadata": {},
   "source": [
    "# 4.1 基于贝叶斯决策理论的分类方法"
   ]
  },
  {
   "cell_type": "markdown",
   "metadata": {},
   "source": [
    "# 4.2 条件概率"
   ]
  },
  {
   "cell_type": "markdown",
   "metadata": {},
   "source": [
    "# 4.3 使用条件概率来分类"
   ]
  },
  {
   "cell_type": "markdown",
   "metadata": {},
   "source": [
    "# 4.4 使用朴素贝叶斯进行文档分类"
   ]
  },
  {
   "cell_type": "markdown",
   "metadata": {},
   "source": [
    "# 4.5 使用Python进行文本分类"
   ]
  },
  {
   "cell_type": "markdown",
   "metadata": {},
   "source": [
    "## 4.5.1 准备数据：从文本中构建词向量"
   ]
  },
  {
   "cell_type": "markdown",
   "metadata": {},
   "source": [
    "**程序清单4-1** 词表到向量的转换函数"
   ]
  },
  {
   "cell_type": "code",
   "execution_count": 1,
   "metadata": {
    "collapsed": true
   },
   "outputs": [],
   "source": [
    "def load_data_set():\n",
    "    posting_list = [['my', 'dog', 'has', 'flea', 'problems', 'help', 'please'],\n",
    "                   ['maybe', 'not', 'take', 'him', 'to', 'dog', 'park', 'stupid'],\n",
    "                   ['my', 'dalmation', 'is', 'so', 'cute', 'I', 'love', 'him'],\n",
    "                   ['stop', 'posting', 'stupid', 'worthless', 'garbage'],\n",
    "                   ['mr', 'licks', 'ate', 'my', 'steak', 'how', 'to', 'stop', 'him'],\n",
    "                   ['quit', 'buying', 'worthless', 'dog', 'food', 'stupid']]\n",
    "    class_vec = [0,1,0,1,0,1]\n",
    "    return posting_list, class_vec\n",
    "\n",
    "def create_vocab_list(data_set):\n",
    "    vocab_set = set([])\n",
    "    for document in data_set:\n",
    "        vocab_set = vocab_set | set(document)\n",
    "    return list(vocab_set)\n",
    "\n",
    "def set_of_words2vec(vocab_list, input_set):\n",
    "    return_vec = [0] * len(vocab_list)\n",
    "    for word in input_set:\n",
    "        if word in vocab_list:\n",
    "            return_vec[vocab_list.index(word)] = 1\n",
    "        else:\n",
    "            print('The word: {} is not in my vocabulary!'.format(word))\n",
    "    return return_vec"
   ]
  },
  {
   "cell_type": "code",
   "execution_count": 2,
   "metadata": {
    "collapsed": true
   },
   "outputs": [],
   "source": [
    "list_of_posts, list_classes = load_data_set()"
   ]
  },
  {
   "cell_type": "code",
   "execution_count": 3,
   "metadata": {
    "collapsed": true
   },
   "outputs": [],
   "source": [
    "my_vocab_list = create_vocab_list(list_of_posts)"
   ]
  },
  {
   "cell_type": "code",
   "execution_count": 4,
   "metadata": {
    "collapsed": false,
    "scrolled": false
   },
   "outputs": [
    {
     "data": {
      "text/plain": [
       "['problems',\n",
       " 'park',\n",
       " 'so',\n",
       " 'has',\n",
       " 'steak',\n",
       " 'flea',\n",
       " 'licks',\n",
       " 'buying',\n",
       " 'mr',\n",
       " 'food',\n",
       " 'worthless',\n",
       " 'not',\n",
       " 'take',\n",
       " 'stop',\n",
       " 'how',\n",
       " 'my',\n",
       " 'posting',\n",
       " 'to',\n",
       " 'dalmation',\n",
       " 'cute',\n",
       " 'ate',\n",
       " 'maybe',\n",
       " 'stupid',\n",
       " 'dog',\n",
       " 'quit',\n",
       " 'love',\n",
       " 'garbage',\n",
       " 'help',\n",
       " 'please',\n",
       " 'I',\n",
       " 'him',\n",
       " 'is']"
      ]
     },
     "execution_count": 4,
     "metadata": {},
     "output_type": "execute_result"
    }
   ],
   "source": [
    "my_vocab_list"
   ]
  },
  {
   "cell_type": "code",
   "execution_count": 5,
   "metadata": {
    "collapsed": false,
    "scrolled": false
   },
   "outputs": [
    {
     "data": {
      "text/plain": [
       "[1,\n",
       " 0,\n",
       " 0,\n",
       " 1,\n",
       " 0,\n",
       " 1,\n",
       " 0,\n",
       " 0,\n",
       " 0,\n",
       " 0,\n",
       " 0,\n",
       " 0,\n",
       " 0,\n",
       " 0,\n",
       " 0,\n",
       " 1,\n",
       " 0,\n",
       " 0,\n",
       " 0,\n",
       " 0,\n",
       " 0,\n",
       " 0,\n",
       " 0,\n",
       " 1,\n",
       " 0,\n",
       " 0,\n",
       " 0,\n",
       " 1,\n",
       " 1,\n",
       " 0,\n",
       " 0,\n",
       " 0]"
      ]
     },
     "execution_count": 5,
     "metadata": {},
     "output_type": "execute_result"
    }
   ],
   "source": [
    "set_of_words2vec(my_vocab_list, list_of_posts[0])"
   ]
  },
  {
   "cell_type": "code",
   "execution_count": 6,
   "metadata": {
    "collapsed": false
   },
   "outputs": [
    {
     "data": {
      "text/plain": [
       "[0,\n",
       " 0,\n",
       " 0,\n",
       " 0,\n",
       " 0,\n",
       " 0,\n",
       " 0,\n",
       " 0,\n",
       " 0,\n",
       " 0,\n",
       " 1,\n",
       " 0,\n",
       " 0,\n",
       " 1,\n",
       " 0,\n",
       " 0,\n",
       " 1,\n",
       " 0,\n",
       " 0,\n",
       " 0,\n",
       " 0,\n",
       " 0,\n",
       " 1,\n",
       " 0,\n",
       " 0,\n",
       " 0,\n",
       " 1,\n",
       " 0,\n",
       " 0,\n",
       " 0,\n",
       " 0,\n",
       " 0]"
      ]
     },
     "execution_count": 6,
     "metadata": {},
     "output_type": "execute_result"
    }
   ],
   "source": [
    "set_of_words2vec(my_vocab_list, list_of_posts[3])"
   ]
  },
  {
   "cell_type": "markdown",
   "metadata": {},
   "source": [
    "## 4.5.2 训练算法：从词向量计算概率"
   ]
  },
  {
   "cell_type": "markdown",
   "metadata": {},
   "source": [
    "**程序清单4-2** 朴素贝叶斯分类器训练函数"
   ]
  },
  {
   "cell_type": "code",
   "execution_count": 7,
   "metadata": {
    "collapsed": true
   },
   "outputs": [],
   "source": [
    "from numpy import *"
   ]
  },
  {
   "cell_type": "code",
   "execution_count": 8,
   "metadata": {
    "collapsed": true
   },
   "outputs": [],
   "source": [
    "def train_NB0(train_matrix, train_category):\n",
    "    num_train_docs = len(train_matrix)\n",
    "    num_words = len(train_matrix[0])\n",
    "    p_abusive = sum(train_category)/float(num_train_docs)\n",
    "    p0_num = zeros(num_words)\n",
    "    p1_num = zeros(num_words)\n",
    "    p0_denom = 0.0\n",
    "    p1_denom = 0.0\n",
    "    for i in range(num_train_docs):\n",
    "        if train_category[i] == 1:\n",
    "            p1_num += train_matrix[i]\n",
    "            p1_denom += sum(train_matrix[i])\n",
    "        else:\n",
    "            p0_num += train_matrix[i]\n",
    "            p0_denom += sum(train_matrix[i])\n",
    "    p1_vect = p1_num/p1_denom\n",
    "    p0_vect = p0_num/p0_denom\n",
    "    return p0_vect, p1_vect, p_abusive"
   ]
  },
  {
   "cell_type": "code",
   "execution_count": 9,
   "metadata": {
    "collapsed": true
   },
   "outputs": [],
   "source": [
    "list_of_posts, list_classes = load_data_set()"
   ]
  },
  {
   "cell_type": "code",
   "execution_count": 10,
   "metadata": {
    "collapsed": true
   },
   "outputs": [],
   "source": [
    "my_vocab_list = create_vocab_list(list_of_posts)"
   ]
  },
  {
   "cell_type": "code",
   "execution_count": 11,
   "metadata": {
    "collapsed": true
   },
   "outputs": [],
   "source": [
    "train_mat = []"
   ]
  },
  {
   "cell_type": "code",
   "execution_count": 12,
   "metadata": {
    "collapsed": true
   },
   "outputs": [],
   "source": [
    "for post_in_doc in list_of_posts:\n",
    "    train_mat.append(set_of_words2vec(my_vocab_list, post_in_doc))"
   ]
  },
  {
   "cell_type": "code",
   "execution_count": 13,
   "metadata": {
    "collapsed": false
   },
   "outputs": [],
   "source": [
    "p0V, p1V, pAb = train_NB0(train_mat, list_classes)"
   ]
  },
  {
   "cell_type": "code",
   "execution_count": 14,
   "metadata": {
    "collapsed": false
   },
   "outputs": [
    {
     "data": {
      "text/plain": [
       "0.5"
      ]
     },
     "execution_count": 14,
     "metadata": {},
     "output_type": "execute_result"
    }
   ],
   "source": [
    "pAb"
   ]
  },
  {
   "cell_type": "code",
   "execution_count": 15,
   "metadata": {
    "collapsed": false
   },
   "outputs": [
    {
     "data": {
      "text/plain": [
       "array([ 0.04166667,  0.        ,  0.04166667,  0.04166667,  0.04166667,\n",
       "        0.04166667,  0.04166667,  0.        ,  0.04166667,  0.        ,\n",
       "        0.        ,  0.        ,  0.        ,  0.04166667,  0.04166667,\n",
       "        0.125     ,  0.        ,  0.04166667,  0.04166667,  0.04166667,\n",
       "        0.04166667,  0.        ,  0.        ,  0.04166667,  0.        ,\n",
       "        0.04166667,  0.        ,  0.04166667,  0.04166667,  0.04166667,\n",
       "        0.08333333,  0.04166667])"
      ]
     },
     "execution_count": 15,
     "metadata": {},
     "output_type": "execute_result"
    }
   ],
   "source": [
    "p0V"
   ]
  },
  {
   "cell_type": "code",
   "execution_count": 16,
   "metadata": {
    "collapsed": false
   },
   "outputs": [
    {
     "data": {
      "text/plain": [
       "array([ 0.        ,  0.05263158,  0.        ,  0.        ,  0.        ,\n",
       "        0.        ,  0.        ,  0.05263158,  0.        ,  0.05263158,\n",
       "        0.10526316,  0.05263158,  0.05263158,  0.05263158,  0.        ,\n",
       "        0.        ,  0.05263158,  0.05263158,  0.        ,  0.        ,\n",
       "        0.        ,  0.05263158,  0.15789474,  0.10526316,  0.05263158,\n",
       "        0.        ,  0.05263158,  0.        ,  0.        ,  0.        ,\n",
       "        0.05263158,  0.        ])"
      ]
     },
     "execution_count": 16,
     "metadata": {},
     "output_type": "execute_result"
    }
   ],
   "source": [
    "p1V"
   ]
  },
  {
   "cell_type": "markdown",
   "metadata": {},
   "source": [
    "## 4.5.3 测试算法：根据现实情况修改分类器"
   ]
  },
  {
   "cell_type": "code",
   "execution_count": 17,
   "metadata": {
    "collapsed": true
   },
   "outputs": [],
   "source": [
    "def train_NB0(train_matrix, train_category):\n",
    "    num_train_docs = len(train_matrix)\n",
    "    num_words = len(train_matrix[0])\n",
    "    p_abusive = sum(train_category)/float(num_train_docs)\n",
    "    p0_num = ones(num_words)\n",
    "    p1_num = ones(num_words)\n",
    "    p0_denom = 2.0\n",
    "    p1_denom = 2.0\n",
    "    for i in range(num_train_docs):\n",
    "        if train_category[i] == 1:\n",
    "            p1_num += train_matrix[i]\n",
    "            p1_denom += sum(train_matrix[i])\n",
    "        else:\n",
    "            p0_num += train_matrix[i]\n",
    "            p0_denom += sum(train_matrix[i])\n",
    "    p1_vect = log(p1_num/p1_denom)\n",
    "    p0_vect = log(p0_num/p0_denom)\n",
    "    return p0_vect, p1_vect, p_abusive"
   ]
  },
  {
   "cell_type": "markdown",
   "metadata": {},
   "source": [
    "**程序清单4-3** 朴素贝叶斯分类函数"
   ]
  },
  {
   "cell_type": "code",
   "execution_count": 18,
   "metadata": {
    "collapsed": false
   },
   "outputs": [],
   "source": [
    "def classify_NB(vec2classify, p0_vec, p1_vec, p_class1):\n",
    "    p1 = sum(vec2classify * p1_vec) + log(p_class1)\n",
    "    p0 = sum(vec2classify * p0_vec) + log(1.0 - p_class1)\n",
    "    if p1 > p0:\n",
    "        return 1\n",
    "    if p1 < p0:\n",
    "        return 0\n",
    "\n",
    "def testing_NB():\n",
    "    list_of_posts, list_classes = load_data_set()\n",
    "    my_vocab_list = create_vocab_list(list_of_posts)\n",
    "    train_mat = []\n",
    "    for post_in_doc in list_of_posts:\n",
    "        train_mat.append(set_of_words2vec(my_vocab_list, post_in_doc))\n",
    "    p0V, p1V, pAb = train_NB0(array(train_mat), array(list_classes))\n",
    "    test_entry = ['love', 'my', 'dalmation']\n",
    "    this_doc = array(set_of_words2vec(my_vocab_list, test_entry))\n",
    "    print(test_entry, 'classified as:',classify_NB(this_doc, p0V, p1V, pAb))\n",
    "    test_entry = ['stupid', 'garbage']\n",
    "    this_doc = array(set_of_words2vec(my_vocab_list, test_entry))\n",
    "    print(test_entry, 'classified as:',classify_NB(this_doc, p0V, p1V, pAb))"
   ]
  },
  {
   "cell_type": "code",
   "execution_count": 19,
   "metadata": {
    "collapsed": false
   },
   "outputs": [
    {
     "name": "stdout",
     "output_type": "stream",
     "text": [
      "['love', 'my', 'dalmation'] classified as: 0\n",
      "['stupid', 'garbage'] classified as: 1\n"
     ]
    }
   ],
   "source": [
    "testing_NB()"
   ]
  },
  {
   "cell_type": "markdown",
   "metadata": {},
   "source": [
    "## 4.5.4 准备数据：文档词袋模型"
   ]
  },
  {
   "cell_type": "markdown",
   "metadata": {},
   "source": [
    "**程序清单4-4** 朴素贝叶斯模型"
   ]
  },
  {
   "cell_type": "code",
   "execution_count": 20,
   "metadata": {
    "collapsed": true
   },
   "outputs": [],
   "source": [
    "def bag_of_words2vec_MN(vocab_list, input_set):\n",
    "    return_vec = [0] * len(vocab_list)\n",
    "    for word in input_set:\n",
    "        if word in vocab_list:\n",
    "            return_vec[vocab_list.index(word)] += 1\n",
    "    return return_vec"
   ]
  },
  {
   "cell_type": "markdown",
   "metadata": {},
   "source": [
    "# 4.6 示例：使用朴素贝叶斯过滤垃圾邮件"
   ]
  },
  {
   "cell_type": "markdown",
   "metadata": {},
   "source": [
    "## 4.6.1 准备数据：切分文本"
   ]
  },
  {
   "cell_type": "code",
   "execution_count": 21,
   "metadata": {
    "collapsed": true
   },
   "outputs": [],
   "source": [
    "my_sent = 'This book is the best book on Python or M.L. I have ever laid eyes upon.'"
   ]
  },
  {
   "cell_type": "code",
   "execution_count": 22,
   "metadata": {
    "collapsed": false
   },
   "outputs": [
    {
     "data": {
      "text/plain": [
       "['This',\n",
       " 'book',\n",
       " 'is',\n",
       " 'the',\n",
       " 'best',\n",
       " 'book',\n",
       " 'on',\n",
       " 'Python',\n",
       " 'or',\n",
       " 'M.L.',\n",
       " 'I',\n",
       " 'have',\n",
       " 'ever',\n",
       " 'laid',\n",
       " 'eyes',\n",
       " 'upon.']"
      ]
     },
     "execution_count": 22,
     "metadata": {},
     "output_type": "execute_result"
    }
   ],
   "source": [
    "my_sent.split()"
   ]
  },
  {
   "cell_type": "code",
   "execution_count": 23,
   "metadata": {
    "collapsed": false
   },
   "outputs": [
    {
     "name": "stderr",
     "output_type": "stream",
     "text": [
      "C:\\Users\\xieyu\\AppData\\Local\\Continuum\\Anaconda3\\lib\\site-packages\\ipykernel\\__main__.py:3: FutureWarning: split() requires a non-empty pattern match.\n",
      "  app.launch_new_instance()\n"
     ]
    }
   ],
   "source": [
    "import re\n",
    "reg_ex = re.compile('\\\\W*')\n",
    "list_of_tokens = reg_ex.split(my_sent)"
   ]
  },
  {
   "cell_type": "code",
   "execution_count": 24,
   "metadata": {
    "collapsed": false
   },
   "outputs": [
    {
     "data": {
      "text/plain": [
       "['This',\n",
       " 'book',\n",
       " 'is',\n",
       " 'the',\n",
       " 'best',\n",
       " 'book',\n",
       " 'on',\n",
       " 'Python',\n",
       " 'or',\n",
       " 'M',\n",
       " 'L',\n",
       " 'I',\n",
       " 'have',\n",
       " 'ever',\n",
       " 'laid',\n",
       " 'eyes',\n",
       " 'upon',\n",
       " '']"
      ]
     },
     "execution_count": 24,
     "metadata": {},
     "output_type": "execute_result"
    }
   ],
   "source": [
    "list_of_tokens"
   ]
  },
  {
   "cell_type": "code",
   "execution_count": 25,
   "metadata": {
    "collapsed": false
   },
   "outputs": [
    {
     "data": {
      "text/plain": [
       "['This',\n",
       " 'book',\n",
       " 'is',\n",
       " 'the',\n",
       " 'best',\n",
       " 'book',\n",
       " 'on',\n",
       " 'Python',\n",
       " 'or',\n",
       " 'M',\n",
       " 'L',\n",
       " 'I',\n",
       " 'have',\n",
       " 'ever',\n",
       " 'laid',\n",
       " 'eyes',\n",
       " 'upon']"
      ]
     },
     "execution_count": 25,
     "metadata": {},
     "output_type": "execute_result"
    }
   ],
   "source": [
    "[tok for tok in list_of_tokens if len(tok) > 0]"
   ]
  },
  {
   "cell_type": "code",
   "execution_count": 26,
   "metadata": {
    "collapsed": false
   },
   "outputs": [
    {
     "data": {
      "text/plain": [
       "['this',\n",
       " 'book',\n",
       " 'is',\n",
       " 'the',\n",
       " 'best',\n",
       " 'book',\n",
       " 'on',\n",
       " 'python',\n",
       " 'or',\n",
       " 'm',\n",
       " 'l',\n",
       " 'i',\n",
       " 'have',\n",
       " 'ever',\n",
       " 'laid',\n",
       " 'eyes',\n",
       " 'upon']"
      ]
     },
     "execution_count": 26,
     "metadata": {},
     "output_type": "execute_result"
    }
   ],
   "source": [
    "[tok.lower() for tok in list_of_tokens if len(tok) > 0]"
   ]
  },
  {
   "cell_type": "code",
   "execution_count": 27,
   "metadata": {
    "collapsed": true
   },
   "outputs": [],
   "source": [
    "email_text = open('email/ham/6.txt').read()"
   ]
  },
  {
   "cell_type": "code",
   "execution_count": 28,
   "metadata": {
    "collapsed": false
   },
   "outputs": [
    {
     "name": "stderr",
     "output_type": "stream",
     "text": [
      "C:\\Users\\xieyu\\AppData\\Local\\Continuum\\Anaconda3\\lib\\site-packages\\ipykernel\\__main__.py:1: FutureWarning: split() requires a non-empty pattern match.\n",
      "  if __name__ == '__main__':\n"
     ]
    }
   ],
   "source": [
    "list_of_tokens = reg_ex.split(email_text)"
   ]
  },
  {
   "cell_type": "code",
   "execution_count": 29,
   "metadata": {
    "collapsed": false
   },
   "outputs": [
    {
     "data": {
      "text/plain": [
       "['Hello',\n",
       " 'Since',\n",
       " 'you',\n",
       " 'are',\n",
       " 'an',\n",
       " 'owner',\n",
       " 'of',\n",
       " 'at',\n",
       " 'least',\n",
       " 'one',\n",
       " 'Google',\n",
       " 'Groups',\n",
       " 'group',\n",
       " 'that',\n",
       " 'uses',\n",
       " 'the',\n",
       " 'customized',\n",
       " 'welcome',\n",
       " 'message',\n",
       " 'pages',\n",
       " 'or',\n",
       " 'files',\n",
       " 'we',\n",
       " 'are',\n",
       " 'writing',\n",
       " 'to',\n",
       " 'inform',\n",
       " 'you',\n",
       " 'that',\n",
       " 'we',\n",
       " 'will',\n",
       " 'no',\n",
       " 'longer',\n",
       " 'be',\n",
       " 'supporting',\n",
       " 'these',\n",
       " 'features',\n",
       " 'starting',\n",
       " 'February',\n",
       " '2011',\n",
       " 'We',\n",
       " 'made',\n",
       " 'this',\n",
       " 'decision',\n",
       " 'so',\n",
       " 'that',\n",
       " 'we',\n",
       " 'can',\n",
       " 'focus',\n",
       " 'on',\n",
       " 'improving',\n",
       " 'the',\n",
       " 'core',\n",
       " 'functionalities',\n",
       " 'of',\n",
       " 'Google',\n",
       " 'Groups',\n",
       " 'mailing',\n",
       " 'lists',\n",
       " 'and',\n",
       " 'forum',\n",
       " 'discussions',\n",
       " 'Instead',\n",
       " 'of',\n",
       " 'these',\n",
       " 'features',\n",
       " 'we',\n",
       " 'encourage',\n",
       " 'you',\n",
       " 'to',\n",
       " 'use',\n",
       " 'products',\n",
       " 'that',\n",
       " 'are',\n",
       " 'designed',\n",
       " 'specifically',\n",
       " 'for',\n",
       " 'file',\n",
       " 'storage',\n",
       " 'and',\n",
       " 'page',\n",
       " 'creation',\n",
       " 'such',\n",
       " 'as',\n",
       " 'Google',\n",
       " 'Docs',\n",
       " 'and',\n",
       " 'Google',\n",
       " 'Sites',\n",
       " 'For',\n",
       " 'example',\n",
       " 'you',\n",
       " 'can',\n",
       " 'easily',\n",
       " 'create',\n",
       " 'your',\n",
       " 'pages',\n",
       " 'on',\n",
       " 'Google',\n",
       " 'Sites',\n",
       " 'and',\n",
       " 'share',\n",
       " 'the',\n",
       " 'site',\n",
       " 'http',\n",
       " 'www',\n",
       " 'google',\n",
       " 'com',\n",
       " 'support',\n",
       " 'sites',\n",
       " 'bin',\n",
       " 'answer',\n",
       " 'py',\n",
       " 'hl',\n",
       " 'en',\n",
       " 'answer',\n",
       " '174623',\n",
       " 'with',\n",
       " 'the',\n",
       " 'members',\n",
       " 'of',\n",
       " 'your',\n",
       " 'group',\n",
       " 'You',\n",
       " 'can',\n",
       " 'also',\n",
       " 'store',\n",
       " 'your',\n",
       " 'files',\n",
       " 'on',\n",
       " 'the',\n",
       " 'site',\n",
       " 'by',\n",
       " 'attaching',\n",
       " 'files',\n",
       " 'to',\n",
       " 'pages',\n",
       " 'http',\n",
       " 'www',\n",
       " 'google',\n",
       " 'com',\n",
       " 'support',\n",
       " 'sites',\n",
       " 'bin',\n",
       " 'answer',\n",
       " 'py',\n",
       " 'hl',\n",
       " 'en',\n",
       " 'answer',\n",
       " '90563',\n",
       " 'on',\n",
       " 'the',\n",
       " 'site',\n",
       " 'If',\n",
       " 'you抮e',\n",
       " 'just',\n",
       " 'looking',\n",
       " 'for',\n",
       " 'a',\n",
       " 'place',\n",
       " 'to',\n",
       " 'upload',\n",
       " 'your',\n",
       " 'files',\n",
       " 'so',\n",
       " 'that',\n",
       " 'your',\n",
       " 'group',\n",
       " 'members',\n",
       " 'can',\n",
       " 'download',\n",
       " 'them',\n",
       " 'we',\n",
       " 'suggest',\n",
       " 'you',\n",
       " 'try',\n",
       " 'Google',\n",
       " 'Docs',\n",
       " 'You',\n",
       " 'can',\n",
       " 'upload',\n",
       " 'files',\n",
       " 'http',\n",
       " 'docs',\n",
       " 'google',\n",
       " 'com',\n",
       " 'support',\n",
       " 'bin',\n",
       " 'answer',\n",
       " 'py',\n",
       " 'hl',\n",
       " 'en',\n",
       " 'answer',\n",
       " '50092',\n",
       " 'and',\n",
       " 'share',\n",
       " 'access',\n",
       " 'with',\n",
       " 'either',\n",
       " 'a',\n",
       " 'group',\n",
       " 'http',\n",
       " 'docs',\n",
       " 'google',\n",
       " 'com',\n",
       " 'support',\n",
       " 'bin',\n",
       " 'answer',\n",
       " 'py',\n",
       " 'hl',\n",
       " 'en',\n",
       " 'answer',\n",
       " '66343',\n",
       " 'or',\n",
       " 'an',\n",
       " 'individual',\n",
       " 'http',\n",
       " 'docs',\n",
       " 'google',\n",
       " 'com',\n",
       " 'support',\n",
       " 'bin',\n",
       " 'answer',\n",
       " 'py',\n",
       " 'hl',\n",
       " 'en',\n",
       " 'answer',\n",
       " '86152',\n",
       " 'assigning',\n",
       " 'either',\n",
       " 'edit',\n",
       " 'or',\n",
       " 'download',\n",
       " 'only',\n",
       " 'access',\n",
       " 'to',\n",
       " 'the',\n",
       " 'files',\n",
       " 'you',\n",
       " 'have',\n",
       " 'received',\n",
       " 'this',\n",
       " 'mandatory',\n",
       " 'email',\n",
       " 'service',\n",
       " 'announcement',\n",
       " 'to',\n",
       " 'update',\n",
       " 'you',\n",
       " 'about',\n",
       " 'important',\n",
       " 'changes',\n",
       " 'to',\n",
       " 'Google',\n",
       " 'Groups',\n",
       " '']"
      ]
     },
     "execution_count": 29,
     "metadata": {},
     "output_type": "execute_result"
    }
   ],
   "source": [
    "list_of_tokens"
   ]
  },
  {
   "cell_type": "markdown",
   "metadata": {},
   "source": [
    "## 4.6.2 测试算法：使用朴素贝叶斯进行交叉验证"
   ]
  },
  {
   "cell_type": "markdown",
   "metadata": {},
   "source": [
    "**程序清单4-5** 文件解析及完整的垃圾邮件测试函数"
   ]
  },
  {
   "cell_type": "code",
   "execution_count": 30,
   "metadata": {
    "collapsed": true
   },
   "outputs": [],
   "source": [
    "def text_parse(big_string):\n",
    "    import re\n",
    "    list_of_tokens = re.split(r'\\W*', big_string)\n",
    "    return [tok.lower() for tok in list_of_tokens if len(tok) > 2]\n",
    "\n",
    "def spam_test():\n",
    "    doc_list = []\n",
    "    class_list = []\n",
    "    full_text = []\n",
    "    for i in range(1, 26):\n",
    "        word_list = text_parse(open('email/spam/{}.txt'.format(i)).read())\n",
    "        doc_list.append(word_list)\n",
    "        full_text.extend(word_list)\n",
    "        class_list.append(1)\n",
    "        word_list = text_parse(open('email/ham/{}.txt'.format(i)).read())\n",
    "        doc_list.append(word_list)\n",
    "        full_text.extend(word_list)\n",
    "        class_list.append(0)\n",
    "    vocab_list = create_vocab_list(doc_list)\n",
    "    training_set = list(range(50))\n",
    "    test_set = []\n",
    "    for i in range(10):\n",
    "        rand_index = int(random.uniform(0, len(training_set)))\n",
    "        test_set.append(training_set[rand_index])\n",
    "        del(training_set[rand_index])\n",
    "    train_mat = []\n",
    "    train_classes = []\n",
    "    for doc_index in training_set:\n",
    "        train_mat.append(set_of_words2vec(vocab_list, doc_list[doc_index]))\n",
    "        train_classes.append(class_list[doc_index])\n",
    "    p0V, p1V, p_spam = train_NB0(array(train_mat), array(train_classes))\n",
    "    error_count = 0\n",
    "    for doc_index in test_set:\n",
    "        word_vector = set_of_words2vec(vocab_list, doc_list[doc_index])\n",
    "        if classify_NB(array(word_vector), p0V, p1V, p_spam) != class_list[doc_index]:\n",
    "            error_count += 1\n",
    "    print('The error rate is: ', float(error_count)/len(test_set))        "
   ]
  },
  {
   "cell_type": "code",
   "execution_count": 31,
   "metadata": {
    "collapsed": false
   },
   "outputs": [
    {
     "name": "stderr",
     "output_type": "stream",
     "text": [
      "C:\\Users\\xieyu\\AppData\\Local\\Continuum\\Anaconda3\\lib\\re.py:212: FutureWarning: split() requires a non-empty pattern match.\n",
      "  return _compile(pattern, flags).split(string, maxsplit)\n"
     ]
    },
    {
     "name": "stdout",
     "output_type": "stream",
     "text": [
      "The error rate is:  0.0\n"
     ]
    }
   ],
   "source": [
    "spam_test()"
   ]
  },
  {
   "cell_type": "code",
   "execution_count": 32,
   "metadata": {
    "collapsed": false
   },
   "outputs": [
    {
     "name": "stdout",
     "output_type": "stream",
     "text": [
      "The error rate is:  0.0\n"
     ]
    },
    {
     "name": "stderr",
     "output_type": "stream",
     "text": [
      "C:\\Users\\xieyu\\AppData\\Local\\Continuum\\Anaconda3\\lib\\re.py:212: FutureWarning: split() requires a non-empty pattern match.\n",
      "  return _compile(pattern, flags).split(string, maxsplit)\n"
     ]
    }
   ],
   "source": [
    "spam_test()"
   ]
  },
  {
   "cell_type": "markdown",
   "metadata": {},
   "source": [
    "# 4.7 示例：使用朴素贝叶斯分类器从个人广告中获取区域倾向"
   ]
  },
  {
   "cell_type": "markdown",
   "metadata": {},
   "source": [
    "## 4.7.1 收集数据：导入RSS源"
   ]
  },
  {
   "cell_type": "code",
   "execution_count": 33,
   "metadata": {
    "collapsed": true
   },
   "outputs": [],
   "source": [
    "import feedparser"
   ]
  },
  {
   "cell_type": "code",
   "execution_count": 34,
   "metadata": {
    "collapsed": true
   },
   "outputs": [],
   "source": [
    "ny = feedparser.parse('http://newyork.craigslist.org/stp/index.rss')"
   ]
  },
  {
   "cell_type": "code",
   "execution_count": 35,
   "metadata": {
    "collapsed": false
   },
   "outputs": [
    {
     "data": {
      "text/plain": [
       "[{'dc_source': 'http://newyork.craigslist.org/mnh/stp/6276254583.html',\n",
       "  'dc_type': 'text',\n",
       "  'id': 'http://newyork.craigslist.org/mnh/stp/6276254583.html',\n",
       "  'language': 'en-us',\n",
       "  'link': 'http://newyork.craigslist.org/mnh/stp/6276254583.html',\n",
       "  'links': [{'href': 'http://newyork.craigslist.org/mnh/stp/6276254583.html',\n",
       "    'rel': 'alternate',\n",
       "    'type': 'text/html'}],\n",
       "  'published': '2017-08-23T07:31:30-04:00',\n",
       "  'published_parsed': time.struct_time(tm_year=2017, tm_mon=8, tm_mday=23, tm_hour=11, tm_min=31, tm_sec=30, tm_wday=2, tm_yday=235, tm_isdst=0),\n",
       "  'rights': 'copyright 2017 craiglist',\n",
       "  'rights_detail': {'base': 'https://newyork.craigslist.org/search/stp?format=rss',\n",
       "   'language': None,\n",
       "   'type': 'text/plain',\n",
       "   'value': 'copyright 2017 craiglist'},\n",
       "  'summary': 'Are you an interesting, quirky, intelligent female? \\nHave you always avoided large social gatherings and just felt somewhat awkward in social situations, aside from one-on-one interactions? \\nDo you have tons of deep, interesting, philosophical though ...',\n",
       "  'summary_detail': {'base': 'https://newyork.craigslist.org/search/stp?format=rss',\n",
       "   'language': None,\n",
       "   'type': 'text/html',\n",
       "   'value': 'Are you an interesting, quirky, intelligent female? \\nHave you always avoided large social gatherings and just felt somewhat awkward in social situations, aside from one-on-one interactions? \\nDo you have tons of deep, interesting, philosophical though ...'},\n",
       "  'title': 'Are you an introvert? Seeking someone like yourself? - m4w (Manhattan)',\n",
       "  'title_detail': {'base': 'https://newyork.craigslist.org/search/stp?format=rss',\n",
       "   'language': None,\n",
       "   'type': 'text/plain',\n",
       "   'value': 'Are you an introvert? Seeking someone like yourself? - m4w (Manhattan)'},\n",
       "  'updated': '2017-08-23T07:31:30-04:00',\n",
       "  'updated_parsed': time.struct_time(tm_year=2017, tm_mon=8, tm_mday=23, tm_hour=11, tm_min=31, tm_sec=30, tm_wday=2, tm_yday=235, tm_isdst=0)},\n",
       " {'dc_source': 'http://newyork.craigslist.org/mnh/stp/6264641550.html',\n",
       "  'dc_type': 'text',\n",
       "  'id': 'http://newyork.craigslist.org/mnh/stp/6264641550.html',\n",
       "  'language': 'en-us',\n",
       "  'link': 'http://newyork.craigslist.org/mnh/stp/6264641550.html',\n",
       "  'links': [{'href': 'http://newyork.craigslist.org/mnh/stp/6264641550.html',\n",
       "    'rel': 'alternate',\n",
       "    'type': 'text/html'}],\n",
       "  'published': '2017-08-23T07:31:01-04:00',\n",
       "  'published_parsed': time.struct_time(tm_year=2017, tm_mon=8, tm_mday=23, tm_hour=11, tm_min=31, tm_sec=1, tm_wday=2, tm_yday=235, tm_isdst=0),\n",
       "  'rights': 'copyright 2017 craiglist',\n",
       "  'rights_detail': {'base': 'https://newyork.craigslist.org/search/stp?format=rss',\n",
       "   'language': None,\n",
       "   'type': 'text/plain',\n",
       "   'value': 'copyright 2017 craiglist'},\n",
       "  'summary': \"Idk if I'm looking for anything. I just be bored mostly, no friends out here other than co workers. 420 friendly. Looking to get in the gym again. Tomboy. Like road trips. Work full time. Own place. Into open mic nights. Poetry. Keeping in mind I'm a ...\",\n",
       "  'summary_detail': {'base': 'https://newyork.craigslist.org/search/stp?format=rss',\n",
       "   'language': None,\n",
       "   'type': 'text/html',\n",
       "   'value': \"Idk if I'm looking for anything. I just be bored mostly, no friends out here other than co workers. 420 friendly. Looking to get in the gym again. Tomboy. Like road trips. Work full time. Own place. Into open mic nights. Poetry. Keeping in mind I'm a ...\"},\n",
       "  'title': \"Honestly Labels Don't Matter - w4w\",\n",
       "  'title_detail': {'base': 'https://newyork.craigslist.org/search/stp?format=rss',\n",
       "   'language': None,\n",
       "   'type': 'text/plain',\n",
       "   'value': \"Honestly Labels Don't Matter - w4w\"},\n",
       "  'updated': '2017-08-23T07:31:01-04:00',\n",
       "  'updated_parsed': time.struct_time(tm_year=2017, tm_mon=8, tm_mday=23, tm_hour=11, tm_min=31, tm_sec=1, tm_wday=2, tm_yday=235, tm_isdst=0)},\n",
       " {'dc_source': 'http://newyork.craigslist.org/mnh/stp/6276253383.html',\n",
       "  'dc_type': 'text',\n",
       "  'id': 'http://newyork.craigslist.org/mnh/stp/6276253383.html',\n",
       "  'language': 'en-us',\n",
       "  'link': 'http://newyork.craigslist.org/mnh/stp/6276253383.html',\n",
       "  'links': [{'href': 'http://newyork.craigslist.org/mnh/stp/6276253383.html',\n",
       "    'rel': 'alternate',\n",
       "    'type': 'text/html'}],\n",
       "  'published': '2017-08-23T07:30:30-04:00',\n",
       "  'published_parsed': time.struct_time(tm_year=2017, tm_mon=8, tm_mday=23, tm_hour=11, tm_min=30, tm_sec=30, tm_wday=2, tm_yday=235, tm_isdst=0),\n",
       "  'rights': 'copyright 2017 craiglist',\n",
       "  'rights_detail': {'base': 'https://newyork.craigslist.org/search/stp?format=rss',\n",
       "   'language': None,\n",
       "   'type': 'text/plain',\n",
       "   'value': 'copyright 2017 craiglist'},\n",
       "  'summary': 'Looking for a like minded female friend to meet few times a month discreetly over coffee diner or drinks and discuss and share our fantasies.Topics will include taboo subjects, spanking and other light fetishes. If we feel there is a chemistry betwee ...',\n",
       "  'summary_detail': {'base': 'https://newyork.craigslist.org/search/stp?format=rss',\n",
       "   'language': None,\n",
       "   'type': 'text/html',\n",
       "   'value': 'Looking for a like minded female friend to meet few times a month discreetly over coffee diner or drinks and discuss and share our fantasies.Topics will include taboo subjects, spanking and other light fetishes. If we feel there is a chemistry betwee ...'},\n",
       "  'title': 'Secret friend you can trust. - m4w',\n",
       "  'title_detail': {'base': 'https://newyork.craigslist.org/search/stp?format=rss',\n",
       "   'language': None,\n",
       "   'type': 'text/plain',\n",
       "   'value': 'Secret friend you can trust. - m4w'},\n",
       "  'updated': '2017-08-23T07:30:30-04:00',\n",
       "  'updated_parsed': time.struct_time(tm_year=2017, tm_mon=8, tm_mday=23, tm_hour=11, tm_min=30, tm_sec=30, tm_wday=2, tm_yday=235, tm_isdst=0)},\n",
       " {'dc_source': 'http://newyork.craigslist.org/que/stp/6242548042.html',\n",
       "  'dc_type': 'text',\n",
       "  'id': 'http://newyork.craigslist.org/que/stp/6242548042.html',\n",
       "  'language': 'en-us',\n",
       "  'link': 'http://newyork.craigslist.org/que/stp/6242548042.html',\n",
       "  'links': [{'href': 'http://newyork.craigslist.org/que/stp/6242548042.html',\n",
       "    'rel': 'alternate',\n",
       "    'type': 'text/html'}],\n",
       "  'published': '2017-08-23T07:23:50-04:00',\n",
       "  'published_parsed': time.struct_time(tm_year=2017, tm_mon=8, tm_mday=23, tm_hour=11, tm_min=23, tm_sec=50, tm_wday=2, tm_yday=235, tm_isdst=0),\n",
       "  'rights': 'copyright 2017 craiglist',\n",
       "  'rights_detail': {'base': 'https://newyork.craigslist.org/search/stp?format=rss',\n",
       "   'language': None,\n",
       "   'type': 'text/plain',\n",
       "   'value': 'copyright 2017 craiglist'},\n",
       "  'summary': '**Free Housing Available in Manhattan** \\n~.Young Professional looking for an individual that wants a free room in exchange for light house keeping in Manhattan...Great Location! Ideal for students or International students/visitors. I am looking to o ...',\n",
       "  'summary_detail': {'base': 'https://newyork.craigslist.org/search/stp?format=rss',\n",
       "   'language': None,\n",
       "   'type': 'text/html',\n",
       "   'value': '**Free Housing Available in Manhattan** \\n~.Young Professional looking for an individual that wants a free room in exchange for light house keeping in Manhattan...Great Location! Ideal for students or International students/visitors. I am looking to o ...'},\n",
       "  'title': 'FREE ROOM AVAILABLE**** - m4w (Midtown)',\n",
       "  'title_detail': {'base': 'https://newyork.craigslist.org/search/stp?format=rss',\n",
       "   'language': None,\n",
       "   'type': 'text/plain',\n",
       "   'value': 'FREE ROOM AVAILABLE**** - m4w (Midtown)'},\n",
       "  'updated': '2017-08-23T07:23:50-04:00',\n",
       "  'updated_parsed': time.struct_time(tm_year=2017, tm_mon=8, tm_mday=23, tm_hour=11, tm_min=23, tm_sec=50, tm_wday=2, tm_yday=235, tm_isdst=0)},\n",
       " {'dc_source': 'http://newyork.craigslist.org/mnh/stp/6276258907.html',\n",
       "  'dc_type': 'text',\n",
       "  'enc_enclosure': {'resource': 'https://images.craigslist.org/00L0L_jcRWSWyVrte_300x300.jpg',\n",
       "   'type': 'image/jpeg'},\n",
       "  'id': 'http://newyork.craigslist.org/mnh/stp/6276258907.html',\n",
       "  'language': 'en-us',\n",
       "  'link': 'http://newyork.craigslist.org/mnh/stp/6276258907.html',\n",
       "  'links': [{'href': 'http://newyork.craigslist.org/mnh/stp/6276258907.html',\n",
       "    'rel': 'alternate',\n",
       "    'type': 'text/html'}],\n",
       "  'published': '2017-08-23T07:22:59-04:00',\n",
       "  'published_parsed': time.struct_time(tm_year=2017, tm_mon=8, tm_mday=23, tm_hour=11, tm_min=22, tm_sec=59, tm_wday=2, tm_yday=235, tm_isdst=0),\n",
       "  'rights': 'copyright 2017 craiglist',\n",
       "  'rights_detail': {'base': 'https://newyork.craigslist.org/search/stp?format=rss',\n",
       "   'language': None,\n",
       "   'type': 'text/plain',\n",
       "   'value': 'copyright 2017 craiglist'},\n",
       "  'summary': 'First off, this ad really is looking for something \"strictly platonic\". Secondly, yes, I realize my post is pathetic and makes me seem like a loser. I don\\'t really care what the internet trolls think of me though. And third, I realize including a bod ...',\n",
       "  'summary_detail': {'base': 'https://newyork.craigslist.org/search/stp?format=rss',\n",
       "   'language': None,\n",
       "   'type': 'text/html',\n",
       "   'value': 'First off, this ad really is looking for something \"strictly platonic\". Secondly, yes, I realize my post is pathetic and makes me seem like a loser. I don\\'t really care what the internet trolls think of me though. And third, I realize including a bod ...'},\n",
       "  'title': 'Non-sexual friends...really - m4m (Lower East Side)',\n",
       "  'title_detail': {'base': 'https://newyork.craigslist.org/search/stp?format=rss',\n",
       "   'language': None,\n",
       "   'type': 'text/plain',\n",
       "   'value': 'Non-sexual friends...really - m4m (Lower East Side)'},\n",
       "  'updated': '2017-08-23T07:22:59-04:00',\n",
       "  'updated_parsed': time.struct_time(tm_year=2017, tm_mon=8, tm_mday=23, tm_hour=11, tm_min=22, tm_sec=59, tm_wday=2, tm_yday=235, tm_isdst=0)},\n",
       " {'dc_source': 'http://newyork.craigslist.org/que/stp/6234924896.html',\n",
       "  'dc_type': 'text',\n",
       "  'id': 'http://newyork.craigslist.org/que/stp/6234924896.html',\n",
       "  'language': 'en-us',\n",
       "  'link': 'http://newyork.craigslist.org/que/stp/6234924896.html',\n",
       "  'links': [{'href': 'http://newyork.craigslist.org/que/stp/6234924896.html',\n",
       "    'rel': 'alternate',\n",
       "    'type': 'text/html'}],\n",
       "  'published': '2017-08-23T07:18:43-04:00',\n",
       "  'published_parsed': time.struct_time(tm_year=2017, tm_mon=8, tm_mday=23, tm_hour=11, tm_min=18, tm_sec=43, tm_wday=2, tm_yday=235, tm_isdst=0),\n",
       "  'rights': 'copyright 2017 craiglist',\n",
       "  'rights_detail': {'base': 'https://newyork.craigslist.org/search/stp?format=rss',\n",
       "   'language': None,\n",
       "   'type': 'text/plain',\n",
       "   'value': 'copyright 2017 craiglist'},\n",
       "  'summary': \"black , full lips, big ass, and a hairy bush to go please \\nIf I could order up a girlfriend like that I would have placed my order months ago. Trust me :) \\nI am burning up here. \\nWhite European guy here. My last girlfriend was black , and I don't kno ...\",\n",
       "  'summary_detail': {'base': 'https://newyork.craigslist.org/search/stp?format=rss',\n",
       "   'language': None,\n",
       "   'type': 'text/html',\n",
       "   'value': \"black , full lips, big ass, and a hairy bush to go please \\nIf I could order up a girlfriend like that I would have placed my order months ago. Trust me :) \\nI am burning up here. \\nWhite European guy here. My last girlfriend was black , and I don't kno ...\"},\n",
       "  'title': 'Irish cream for cocoapuffs',\n",
       "  'title_detail': {'base': 'https://newyork.craigslist.org/search/stp?format=rss',\n",
       "   'language': None,\n",
       "   'type': 'text/plain',\n",
       "   'value': 'Irish cream for cocoapuffs'},\n",
       "  'updated': '2017-08-23T07:18:43-04:00',\n",
       "  'updated_parsed': time.struct_time(tm_year=2017, tm_mon=8, tm_mday=23, tm_hour=11, tm_min=18, tm_sec=43, tm_wday=2, tm_yday=235, tm_isdst=0)},\n",
       " {'dc_source': 'http://newyork.craigslist.org/brx/stp/6276228152.html',\n",
       "  'dc_type': 'text',\n",
       "  'id': 'http://newyork.craigslist.org/brx/stp/6276228152.html',\n",
       "  'language': 'en-us',\n",
       "  'link': 'http://newyork.craigslist.org/brx/stp/6276228152.html',\n",
       "  'links': [{'href': 'http://newyork.craigslist.org/brx/stp/6276228152.html',\n",
       "    'rel': 'alternate',\n",
       "    'type': 'text/html'}],\n",
       "  'published': '2017-08-23T07:08:52-04:00',\n",
       "  'published_parsed': time.struct_time(tm_year=2017, tm_mon=8, tm_mday=23, tm_hour=11, tm_min=8, tm_sec=52, tm_wday=2, tm_yday=235, tm_isdst=0),\n",
       "  'rights': 'copyright 2017 craiglist',\n",
       "  'rights_detail': {'base': 'https://newyork.craigslist.org/search/stp?format=rss',\n",
       "   'language': None,\n",
       "   'type': 'text/plain',\n",
       "   'value': 'copyright 2017 craiglist'},\n",
       "  'summary': \"I'm a single guy looking for a friendship and/or relationship maybe more with a single woman. \\nIf you are interested in going out and getting to know each other, please get in touch. \\nI work and I'm responsible person. \\nLet's meet and get to know eac ...\",\n",
       "  'summary_detail': {'base': 'https://newyork.craigslist.org/search/stp?format=rss',\n",
       "   'language': None,\n",
       "   'type': 'text/html',\n",
       "   'value': \"I'm a single guy looking for a friendship and/or relationship maybe more with a single woman. \\nIf you are interested in going out and getting to know each other, please get in touch. \\nI work and I'm responsible person. \\nLet's meet and get to know eac ...\"},\n",
       "  'title': 'Friendship First - No Pressure (New York)',\n",
       "  'title_detail': {'base': 'https://newyork.craigslist.org/search/stp?format=rss',\n",
       "   'language': None,\n",
       "   'type': 'text/plain',\n",
       "   'value': 'Friendship First - No Pressure (New York)'},\n",
       "  'updated': '2017-08-23T07:08:52-04:00',\n",
       "  'updated_parsed': time.struct_time(tm_year=2017, tm_mon=8, tm_mday=23, tm_hour=11, tm_min=8, tm_sec=52, tm_wday=2, tm_yday=235, tm_isdst=0)},\n",
       " {'dc_source': 'http://newyork.craigslist.org/brk/stp/6243726867.html',\n",
       "  'dc_type': 'text',\n",
       "  'enc_enclosure': {'resource': 'https://images.craigslist.org/00C0C_6yjL7AAqETd_300x300.jpg',\n",
       "   'type': 'image/jpeg'},\n",
       "  'id': 'http://newyork.craigslist.org/brk/stp/6243726867.html',\n",
       "  'language': 'en-us',\n",
       "  'link': 'http://newyork.craigslist.org/brk/stp/6243726867.html',\n",
       "  'links': [{'href': 'http://newyork.craigslist.org/brk/stp/6243726867.html',\n",
       "    'rel': 'alternate',\n",
       "    'type': 'text/html'}],\n",
       "  'published': '2017-08-23T07:01:41-04:00',\n",
       "  'published_parsed': time.struct_time(tm_year=2017, tm_mon=8, tm_mday=23, tm_hour=11, tm_min=1, tm_sec=41, tm_wday=2, tm_yday=235, tm_isdst=0),\n",
       "  'rights': 'copyright 2017 craiglist',\n",
       "  'rights_detail': {'base': 'https://newyork.craigslist.org/search/stp?format=rss',\n",
       "   'language': None,\n",
       "   'type': 'text/plain',\n",
       "   'value': 'copyright 2017 craiglist'},\n",
       "  'summary': 'Hello all, I know this is CL but I think there are still some real people that visit this site in search of something new and exciting. Something that they would not dear venture out to do on their own if there were not sites like CL that can give th ...',\n",
       "  'summary_detail': {'base': 'https://newyork.craigslist.org/search/stp?format=rss',\n",
       "   'language': None,\n",
       "   'type': 'text/html',\n",
       "   'value': 'Hello all, I know this is CL but I think there are still some real people that visit this site in search of something new and exciting. Something that they would not dear venture out to do on their own if there were not sites like CL that can give th ...'},\n",
       "  'title': 'A curious white female - m4w (Prospect Lefferts)',\n",
       "  'title_detail': {'base': 'https://newyork.craigslist.org/search/stp?format=rss',\n",
       "   'language': None,\n",
       "   'type': 'text/plain',\n",
       "   'value': 'A curious white female - m4w (Prospect Lefferts)'},\n",
       "  'updated': '2017-08-23T07:01:41-04:00',\n",
       "  'updated_parsed': time.struct_time(tm_year=2017, tm_mon=8, tm_mday=23, tm_hour=11, tm_min=1, tm_sec=41, tm_wday=2, tm_yday=235, tm_isdst=0)},\n",
       " {'dc_source': 'http://newyork.craigslist.org/mnh/stp/6272366599.html',\n",
       "  'dc_type': 'text',\n",
       "  'id': 'http://newyork.craigslist.org/mnh/stp/6272366599.html',\n",
       "  'language': 'en-us',\n",
       "  'link': 'http://newyork.craigslist.org/mnh/stp/6272366599.html',\n",
       "  'links': [{'href': 'http://newyork.craigslist.org/mnh/stp/6272366599.html',\n",
       "    'rel': 'alternate',\n",
       "    'type': 'text/html'}],\n",
       "  'published': '2017-08-23T06:57:22-04:00',\n",
       "  'published_parsed': time.struct_time(tm_year=2017, tm_mon=8, tm_mday=23, tm_hour=10, tm_min=57, tm_sec=22, tm_wday=2, tm_yday=235, tm_isdst=0),\n",
       "  'rights': 'copyright 2017 craiglist',\n",
       "  'rights_detail': {'base': 'https://newyork.craigslist.org/search/stp?format=rss',\n",
       "   'language': None,\n",
       "   'type': 'text/plain',\n",
       "   'value': 'copyright 2017 craiglist'},\n",
       "  'summary': 'I am primarily looking for this to be more of a situation were we are also friends and possibly friends with benefits. I can help you get stuff you want, help you pick things out and you can at least model it for me. I am 28, Latino, and live in Manh ...',\n",
       "  'summary_detail': {'base': 'https://newyork.craigslist.org/search/stp?format=rss',\n",
       "   'language': None,\n",
       "   'type': 'text/html',\n",
       "   'value': 'I am primarily looking for this to be more of a situation were we are also friends and possibly friends with benefits. I can help you get stuff you want, help you pick things out and you can at least model it for me. I am 28, Latino, and live in Manh ...'},\n",
       "  'title': 'Let me buy you cute/sexy outfits - m4w (Midtown East)',\n",
       "  'title_detail': {'base': 'https://newyork.craigslist.org/search/stp?format=rss',\n",
       "   'language': None,\n",
       "   'type': 'text/plain',\n",
       "   'value': 'Let me buy you cute/sexy outfits - m4w (Midtown East)'},\n",
       "  'updated': '2017-08-23T06:57:22-04:00',\n",
       "  'updated_parsed': time.struct_time(tm_year=2017, tm_mon=8, tm_mday=23, tm_hour=10, tm_min=57, tm_sec=22, tm_wday=2, tm_yday=235, tm_isdst=0)},\n",
       " {'dc_source': 'http://newyork.craigslist.org/mnh/stp/6276226728.html',\n",
       "  'dc_type': 'text',\n",
       "  'enc_enclosure': {'resource': 'https://images.craigslist.org/01515_7uJPlT1p83a_300x300.jpg',\n",
       "   'type': 'image/jpeg'},\n",
       "  'id': 'http://newyork.craigslist.org/mnh/stp/6276226728.html',\n",
       "  'language': 'en-us',\n",
       "  'link': 'http://newyork.craigslist.org/mnh/stp/6276226728.html',\n",
       "  'links': [{'href': 'http://newyork.craigslist.org/mnh/stp/6276226728.html',\n",
       "    'rel': 'alternate',\n",
       "    'type': 'text/html'}],\n",
       "  'published': '2017-08-23T06:35:42-04:00',\n",
       "  'published_parsed': time.struct_time(tm_year=2017, tm_mon=8, tm_mday=23, tm_hour=10, tm_min=35, tm_sec=42, tm_wday=2, tm_yday=235, tm_isdst=0),\n",
       "  'rights': 'copyright 2017 craiglist',\n",
       "  'rights_detail': {'base': 'https://newyork.craigslist.org/search/stp?format=rss',\n",
       "   'language': None,\n",
       "   'type': 'text/plain',\n",
       "   'value': 'copyright 2017 craiglist'},\n",
       "  'summary': 'I am looking to worship a cute/hot, trim, white God between 18 and 28. It is understood that You are superior and that it would be my privilege to bow down before You and grovel at your feet. \\nI am not looking for sex in any way but am open to safe i ...',\n",
       "  'summary_detail': {'base': 'https://newyork.craigslist.org/search/stp?format=rss',\n",
       "   'language': None,\n",
       "   'type': 'text/html',\n",
       "   'value': 'I am looking to worship a cute/hot, trim, white God between 18 and 28. It is understood that You are superior and that it would be my privilege to bow down before You and grovel at your feet. \\nI am not looking for sex in any way but am open to safe i ...'},\n",
       "  'title': 'I want to make You my God 18-28 - m4m (manhanttan brooklyn queens. ny/nj..)',\n",
       "  'title_detail': {'base': 'https://newyork.craigslist.org/search/stp?format=rss',\n",
       "   'language': None,\n",
       "   'type': 'text/plain',\n",
       "   'value': 'I want to make You my God 18-28 - m4m (manhanttan brooklyn queens. ny/nj..)'},\n",
       "  'updated': '2017-08-23T06:35:42-04:00',\n",
       "  'updated_parsed': time.struct_time(tm_year=2017, tm_mon=8, tm_mday=23, tm_hour=10, tm_min=35, tm_sec=42, tm_wday=2, tm_yday=235, tm_isdst=0)},\n",
       " {'dc_source': 'http://newyork.craigslist.org/brk/stp/6276232274.html',\n",
       "  'dc_type': 'text',\n",
       "  'id': 'http://newyork.craigslist.org/brk/stp/6276232274.html',\n",
       "  'language': 'en-us',\n",
       "  'link': 'http://newyork.craigslist.org/brk/stp/6276232274.html',\n",
       "  'links': [{'href': 'http://newyork.craigslist.org/brk/stp/6276232274.html',\n",
       "    'rel': 'alternate',\n",
       "    'type': 'text/html'}],\n",
       "  'published': '2017-08-23T06:32:01-04:00',\n",
       "  'published_parsed': time.struct_time(tm_year=2017, tm_mon=8, tm_mday=23, tm_hour=10, tm_min=32, tm_sec=1, tm_wday=2, tm_yday=235, tm_isdst=0),\n",
       "  'rights': 'copyright 2017 craiglist',\n",
       "  'rights_detail': {'base': 'https://newyork.craigslist.org/search/stp?format=rss',\n",
       "   'language': None,\n",
       "   'type': 'text/plain',\n",
       "   'value': 'copyright 2017 craiglist'},\n",
       "  'summary': \"If you would like to talk, I'm up for conversation. \\nPlease be reasonably intelligent. \\nHappy to call you, if you send number.\",\n",
       "  'summary_detail': {'base': 'https://newyork.craigslist.org/search/stp?format=rss',\n",
       "   'language': None,\n",
       "   'type': 'text/html',\n",
       "   'value': \"If you would like to talk, I'm up for conversation. \\nPlease be reasonably intelligent. \\nHappy to call you, if you send number.\"},\n",
       "  'title': 'Chat Now - w4m',\n",
       "  'title_detail': {'base': 'https://newyork.craigslist.org/search/stp?format=rss',\n",
       "   'language': None,\n",
       "   'type': 'text/plain',\n",
       "   'value': 'Chat Now - w4m'},\n",
       "  'updated': '2017-08-23T06:32:01-04:00',\n",
       "  'updated_parsed': time.struct_time(tm_year=2017, tm_mon=8, tm_mday=23, tm_hour=10, tm_min=32, tm_sec=1, tm_wday=2, tm_yday=235, tm_isdst=0)},\n",
       " {'dc_source': 'http://newyork.craigslist.org/brk/stp/6275399395.html',\n",
       "  'dc_type': 'text',\n",
       "  'id': 'http://newyork.craigslist.org/brk/stp/6275399395.html',\n",
       "  'language': 'en-us',\n",
       "  'link': 'http://newyork.craigslist.org/brk/stp/6275399395.html',\n",
       "  'links': [{'href': 'http://newyork.craigslist.org/brk/stp/6275399395.html',\n",
       "    'rel': 'alternate',\n",
       "    'type': 'text/html'}],\n",
       "  'published': '2017-08-23T06:27:16-04:00',\n",
       "  'published_parsed': time.struct_time(tm_year=2017, tm_mon=8, tm_mday=23, tm_hour=10, tm_min=27, tm_sec=16, tm_wday=2, tm_yday=235, tm_isdst=0),\n",
       "  'rights': 'copyright 2017 craiglist',\n",
       "  'rights_detail': {'base': 'https://newyork.craigslist.org/search/stp?format=rss',\n",
       "   'language': None,\n",
       "   'type': 'text/plain',\n",
       "   'value': 'copyright 2017 craiglist'},\n",
       "  'summary': 'Sexy sassy Latina n black big dick Dom fem verse top TS chick looking for men that like to be verse or bottom n a GGreaTT parTTy situation must be in shape good looking fun freaky sane looking for right now n willing to travel not trying to email BK  ...',\n",
       "  'summary_detail': {'base': 'https://newyork.craigslist.org/search/stp?format=rss',\n",
       "   'language': None,\n",
       "   'type': 'text/html',\n",
       "   'value': 'Sexy sassy Latina n black big dick Dom fem verse top TS chick looking for men that like to be verse or bottom n a GGreaTT parTTy situation must be in shape good looking fun freaky sane looking for right now n willing to travel not trying to email BK  ...'},\n",
       "  'title': 'Verse 4 GROUP play - t4m (Downtown brooklyn)',\n",
       "  'title_detail': {'base': 'https://newyork.craigslist.org/search/stp?format=rss',\n",
       "   'language': None,\n",
       "   'type': 'text/plain',\n",
       "   'value': 'Verse 4 GROUP play - t4m (Downtown brooklyn)'},\n",
       "  'updated': '2017-08-23T06:27:16-04:00',\n",
       "  'updated_parsed': time.struct_time(tm_year=2017, tm_mon=8, tm_mday=23, tm_hour=10, tm_min=27, tm_sec=16, tm_wday=2, tm_yday=235, tm_isdst=0)},\n",
       " {'dc_source': 'http://newyork.craigslist.org/mnh/stp/6244671345.html',\n",
       "  'dc_type': 'text',\n",
       "  'enc_enclosure': {'resource': 'https://images.craigslist.org/00q0q_b6McukbWR6l_300x300.jpg',\n",
       "   'type': 'image/jpeg'},\n",
       "  'id': 'http://newyork.craigslist.org/mnh/stp/6244671345.html',\n",
       "  'language': 'en-us',\n",
       "  'link': 'http://newyork.craigslist.org/mnh/stp/6244671345.html',\n",
       "  'links': [{'href': 'http://newyork.craigslist.org/mnh/stp/6244671345.html',\n",
       "    'rel': 'alternate',\n",
       "    'type': 'text/html'}],\n",
       "  'published': '2017-08-23T06:24:37-04:00',\n",
       "  'published_parsed': time.struct_time(tm_year=2017, tm_mon=8, tm_mday=23, tm_hour=10, tm_min=24, tm_sec=37, tm_wday=2, tm_yday=235, tm_isdst=0),\n",
       "  'rights': 'copyright 2017 craiglist',\n",
       "  'rights_detail': {'base': 'https://newyork.craigslist.org/search/stp?format=rss',\n",
       "   'language': None,\n",
       "   'type': 'text/plain',\n",
       "   'value': 'copyright 2017 craiglist'},\n",
       "  'summary': \"Netflix and Chill \\nDon't Spend Another Day as a Single Woman! \\nLet's see what we can do about that! \\nI'm NOT looking for a one night'er or a fling, but rather a meaningful relationship. \\nBased on Openness, Trust and Honesty. \\nI would LOVE to be MARRI ...\",\n",
       "  'summary_detail': {'base': 'https://newyork.craigslist.org/search/stp?format=rss',\n",
       "   'language': None,\n",
       "   'type': 'text/html',\n",
       "   'value': \"Netflix and Chill \\nDon't Spend Another Day as a Single Woman! \\nLet's see what we can do about that! \\nI'm NOT looking for a one night'er or a fling, but rather a meaningful relationship. \\nBased on Openness, Trust and Honesty. \\nI would LOVE to be MARRI ...\"},\n",
       "  'title': 'Netflix and Chill - m4w (Midtown)',\n",
       "  'title_detail': {'base': 'https://newyork.craigslist.org/search/stp?format=rss',\n",
       "   'language': None,\n",
       "   'type': 'text/plain',\n",
       "   'value': 'Netflix and Chill - m4w (Midtown)'},\n",
       "  'updated': '2017-08-23T06:24:37-04:00',\n",
       "  'updated_parsed': time.struct_time(tm_year=2017, tm_mon=8, tm_mday=23, tm_hour=10, tm_min=24, tm_sec=37, tm_wday=2, tm_yday=235, tm_isdst=0)},\n",
       " {'dc_source': 'http://newyork.craigslist.org/brk/stp/6254443145.html',\n",
       "  'dc_type': 'text',\n",
       "  'id': 'http://newyork.craigslist.org/brk/stp/6254443145.html',\n",
       "  'language': 'en-us',\n",
       "  'link': 'http://newyork.craigslist.org/brk/stp/6254443145.html',\n",
       "  'links': [{'href': 'http://newyork.craigslist.org/brk/stp/6254443145.html',\n",
       "    'rel': 'alternate',\n",
       "    'type': 'text/html'}],\n",
       "  'published': '2017-08-23T06:05:14-04:00',\n",
       "  'published_parsed': time.struct_time(tm_year=2017, tm_mon=8, tm_mday=23, tm_hour=10, tm_min=5, tm_sec=14, tm_wday=2, tm_yday=235, tm_isdst=0),\n",
       "  'rights': 'copyright 2017 craiglist',\n",
       "  'rights_detail': {'base': 'https://newyork.craigslist.org/search/stp?format=rss',\n",
       "   'language': None,\n",
       "   'type': 'text/plain',\n",
       "   'value': 'copyright 2017 craiglist'},\n",
       "  'summary': \"Hello Ladies, \\nI'm seeking a woman for a platonic relationship who's pretty well educated, cultured and knows a bit about art and photography, architecture, dance, music and or some or most medium's of artistic expression. \\nYou: Young at heart 35-45  ...\",\n",
       "  'summary_detail': {'base': 'https://newyork.craigslist.org/search/stp?format=rss',\n",
       "   'language': None,\n",
       "   'type': 'text/html',\n",
       "   'value': \"Hello Ladies, \\nI'm seeking a woman for a platonic relationship who's pretty well educated, cultured and knows a bit about art and photography, architecture, dance, music and or some or most medium's of artistic expression. \\nYou: Young at heart 35-45  ...\"},\n",
       "  'title': 'Looking 4 A Social Companion 4 Cultural Activities,  Live music, Gym.. - m4w (Bushwick)',\n",
       "  'title_detail': {'base': 'https://newyork.craigslist.org/search/stp?format=rss',\n",
       "   'language': None,\n",
       "   'type': 'text/plain',\n",
       "   'value': 'Looking 4 A Social Companion 4 Cultural Activities,  Live music, Gym.. - m4w (Bushwick)'},\n",
       "  'updated': '2017-08-23T06:05:14-04:00',\n",
       "  'updated_parsed': time.struct_time(tm_year=2017, tm_mon=8, tm_mday=23, tm_hour=10, tm_min=5, tm_sec=14, tm_wday=2, tm_yday=235, tm_isdst=0)},\n",
       " {'dc_source': 'http://newyork.craigslist.org/que/stp/6276212159.html',\n",
       "  'dc_type': 'text',\n",
       "  'id': 'http://newyork.craigslist.org/que/stp/6276212159.html',\n",
       "  'language': 'en-us',\n",
       "  'link': 'http://newyork.craigslist.org/que/stp/6276212159.html',\n",
       "  'links': [{'href': 'http://newyork.craigslist.org/que/stp/6276212159.html',\n",
       "    'rel': 'alternate',\n",
       "    'type': 'text/html'}],\n",
       "  'published': '2017-08-23T05:40:52-04:00',\n",
       "  'published_parsed': time.struct_time(tm_year=2017, tm_mon=8, tm_mday=23, tm_hour=9, tm_min=40, tm_sec=52, tm_wday=2, tm_yday=235, tm_isdst=0),\n",
       "  'rights': 'copyright 2017 craiglist',\n",
       "  'rights_detail': {'base': 'https://newyork.craigslist.org/search/stp?format=rss',\n",
       "   'language': None,\n",
       "   'type': 'text/plain',\n",
       "   'value': 'copyright 2017 craiglist'},\n",
       "  'summary': \"Hi, good morning, how are you? \\nMy name is Rose. I would like to keep this short and sweet. I'm currently looking for a woman to help me set up my fiancé to see if he's cheating on me, or to test his loyalty. \\nIf this sound like something you may be ...\",\n",
       "  'summary_detail': {'base': 'https://newyork.craigslist.org/search/stp?format=rss',\n",
       "   'language': None,\n",
       "   'type': 'text/html',\n",
       "   'value': \"Hi, good morning, how are you? \\nMy name is Rose. I would like to keep this short and sweet. I'm currently looking for a woman to help me set up my fiancé to see if he's cheating on me, or to test his loyalty. \\nIf this sound like something you may be ...\"},\n",
       "  'title': 'Hey, how are you? - w4w',\n",
       "  'title_detail': {'base': 'https://newyork.craigslist.org/search/stp?format=rss',\n",
       "   'language': None,\n",
       "   'type': 'text/plain',\n",
       "   'value': 'Hey, how are you? - w4w'},\n",
       "  'updated': '2017-08-23T05:40:52-04:00',\n",
       "  'updated_parsed': time.struct_time(tm_year=2017, tm_mon=8, tm_mday=23, tm_hour=9, tm_min=40, tm_sec=52, tm_wday=2, tm_yday=235, tm_isdst=0)},\n",
       " {'dc_source': 'http://newyork.craigslist.org/que/stp/6264813853.html',\n",
       "  'dc_type': 'text',\n",
       "  'id': 'http://newyork.craigslist.org/que/stp/6264813853.html',\n",
       "  'language': 'en-us',\n",
       "  'link': 'http://newyork.craigslist.org/que/stp/6264813853.html',\n",
       "  'links': [{'href': 'http://newyork.craigslist.org/que/stp/6264813853.html',\n",
       "    'rel': 'alternate',\n",
       "    'type': 'text/html'}],\n",
       "  'published': '2017-08-23T05:26:18-04:00',\n",
       "  'published_parsed': time.struct_time(tm_year=2017, tm_mon=8, tm_mday=23, tm_hour=9, tm_min=26, tm_sec=18, tm_wday=2, tm_yday=235, tm_isdst=0),\n",
       "  'rights': 'copyright 2017 craiglist',\n",
       "  'rights_detail': {'base': 'https://newyork.craigslist.org/search/stp?format=rss',\n",
       "   'language': None,\n",
       "   'type': 'text/plain',\n",
       "   'value': 'copyright 2017 craiglist'},\n",
       "  'summary': 'Do you believe in ghosts? \\nHave you ever had an experience with a ghost? \\nDo you ever know someone who did? \\nShare your story with me.',\n",
       "  'summary_detail': {'base': 'https://newyork.craigslist.org/search/stp?format=rss',\n",
       "   'language': None,\n",
       "   'type': 'text/html',\n",
       "   'value': 'Do you believe in ghosts? \\nHave you ever had an experience with a ghost? \\nDo you ever know someone who did? \\nShare your story with me.'},\n",
       "  'title': \"Let's talk about Ghosts - m4w (Queens)\",\n",
       "  'title_detail': {'base': 'https://newyork.craigslist.org/search/stp?format=rss',\n",
       "   'language': None,\n",
       "   'type': 'text/plain',\n",
       "   'value': \"Let's talk about Ghosts - m4w (Queens)\"},\n",
       "  'updated': '2017-08-23T05:26:18-04:00',\n",
       "  'updated_parsed': time.struct_time(tm_year=2017, tm_mon=8, tm_mday=23, tm_hour=9, tm_min=26, tm_sec=18, tm_wday=2, tm_yday=235, tm_isdst=0)},\n",
       " {'dc_source': 'http://newyork.craigslist.org/que/stp/6276193697.html',\n",
       "  'dc_type': 'text',\n",
       "  'enc_enclosure': {'resource': 'https://images.craigslist.org/00F0F_7D89O3luJ9M_300x300.jpg',\n",
       "   'type': 'image/jpeg'},\n",
       "  'id': 'http://newyork.craigslist.org/que/stp/6276193697.html',\n",
       "  'language': 'en-us',\n",
       "  'link': 'http://newyork.craigslist.org/que/stp/6276193697.html',\n",
       "  'links': [{'href': 'http://newyork.craigslist.org/que/stp/6276193697.html',\n",
       "    'rel': 'alternate',\n",
       "    'type': 'text/html'}],\n",
       "  'published': '2017-08-23T05:00:31-04:00',\n",
       "  'published_parsed': time.struct_time(tm_year=2017, tm_mon=8, tm_mday=23, tm_hour=9, tm_min=0, tm_sec=31, tm_wday=2, tm_yday=235, tm_isdst=0),\n",
       "  'rights': 'copyright 2017 craiglist',\n",
       "  'rights_detail': {'base': 'https://newyork.craigslist.org/search/stp?format=rss',\n",
       "   'language': None,\n",
       "   'type': 'text/plain',\n",
       "   'value': 'copyright 2017 craiglist'},\n",
       "  'summary': \"Let's talk. What's your story? \\nEthnicity? Age? \\nWhat part of town do you live in? \\nWould you like to meet up?\",\n",
       "  'summary_detail': {'base': 'https://newyork.craigslist.org/search/stp?format=rss',\n",
       "   'language': None,\n",
       "   'type': 'text/html',\n",
       "   'value': \"Let's talk. What's your story? \\nEthnicity? Age? \\nWhat part of town do you live in? \\nWould you like to meet up?\"},\n",
       "  'title': \"Let's talk - m4w (Queens)\",\n",
       "  'title_detail': {'base': 'https://newyork.craigslist.org/search/stp?format=rss',\n",
       "   'language': None,\n",
       "   'type': 'text/plain',\n",
       "   'value': \"Let's talk - m4w (Queens)\"},\n",
       "  'updated': '2017-08-23T05:00:31-04:00',\n",
       "  'updated_parsed': time.struct_time(tm_year=2017, tm_mon=8, tm_mday=23, tm_hour=9, tm_min=0, tm_sec=31, tm_wday=2, tm_yday=235, tm_isdst=0)},\n",
       " {'dc_source': 'http://newyork.craigslist.org/brk/stp/6276190111.html',\n",
       "  'dc_type': 'text',\n",
       "  'id': 'http://newyork.craigslist.org/brk/stp/6276190111.html',\n",
       "  'language': 'en-us',\n",
       "  'link': 'http://newyork.craigslist.org/brk/stp/6276190111.html',\n",
       "  'links': [{'href': 'http://newyork.craigslist.org/brk/stp/6276190111.html',\n",
       "    'rel': 'alternate',\n",
       "    'type': 'text/html'}],\n",
       "  'published': '2017-08-23T04:33:06-04:00',\n",
       "  'published_parsed': time.struct_time(tm_year=2017, tm_mon=8, tm_mday=23, tm_hour=8, tm_min=33, tm_sec=6, tm_wday=2, tm_yday=235, tm_isdst=0),\n",
       "  'rights': 'copyright 2017 craiglist',\n",
       "  'rights_detail': {'base': 'https://newyork.craigslist.org/search/stp?format=rss',\n",
       "   'language': None,\n",
       "   'type': 'text/plain',\n",
       "   'value': 'copyright 2017 craiglist'},\n",
       "  'summary': 'HI I know this is weird but I have meet some amazing folks from here before.. So here is my rant.. Seeking to make some new friends with lesbian women,share common interest-meet up when we are free - I enjoy working out,anything outdoors,soul summit, ...',\n",
       "  'summary_detail': {'base': 'https://newyork.craigslist.org/search/stp?format=rss',\n",
       "   'language': None,\n",
       "   'type': 'text/html',\n",
       "   'value': 'HI I know this is weird but I have meet some amazing folks from here before.. So here is my rant.. Seeking to make some new friends with lesbian women,share common interest-meet up when we are free - I enjoy working out,anything outdoors,soul summit, ...'},\n",
       "  'title': 'Seeking lesbian friends.. - w4w (bk)',\n",
       "  'title_detail': {'base': 'https://newyork.craigslist.org/search/stp?format=rss',\n",
       "   'language': None,\n",
       "   'type': 'text/plain',\n",
       "   'value': 'Seeking lesbian friends.. - w4w (bk)'},\n",
       "  'updated': '2017-08-23T04:33:06-04:00',\n",
       "  'updated_parsed': time.struct_time(tm_year=2017, tm_mon=8, tm_mday=23, tm_hour=8, tm_min=33, tm_sec=6, tm_wday=2, tm_yday=235, tm_isdst=0)},\n",
       " {'dc_source': 'http://newyork.craigslist.org/que/stp/6276189164.html',\n",
       "  'dc_type': 'text',\n",
       "  'enc_enclosure': {'resource': 'https://images.craigslist.org/00s0s_2fAphkCTska_300x300.jpg',\n",
       "   'type': 'image/jpeg'},\n",
       "  'id': 'http://newyork.craigslist.org/que/stp/6276189164.html',\n",
       "  'language': 'en-us',\n",
       "  'link': 'http://newyork.craigslist.org/que/stp/6276189164.html',\n",
       "  'links': [{'href': 'http://newyork.craigslist.org/que/stp/6276189164.html',\n",
       "    'rel': 'alternate',\n",
       "    'type': 'text/html'}],\n",
       "  'published': '2017-08-23T04:30:00-04:00',\n",
       "  'published_parsed': time.struct_time(tm_year=2017, tm_mon=8, tm_mday=23, tm_hour=8, tm_min=30, tm_sec=0, tm_wday=2, tm_yday=235, tm_isdst=0),\n",
       "  'rights': 'copyright 2017 craiglist',\n",
       "  'rights_detail': {'base': 'https://newyork.craigslist.org/search/stp?format=rss',\n",
       "   'language': None,\n",
       "   'type': 'text/plain',\n",
       "   'value': 'copyright 2017 craiglist'},\n",
       "  'summary': 'Hola alguien 646 disponible que tenga lugar 450 aqui en corona para encuerarnos, 7974 agarrarnos los Gb y pajiarnos bien rico. Quien me invita??',\n",
       "  'summary_detail': {'base': 'https://newyork.craigslist.org/search/stp?format=rss',\n",
       "   'language': None,\n",
       "   'type': 'text/html',\n",
       "   'value': 'Hola alguien 646 disponible que tenga lugar 450 aqui en corona para encuerarnos, 7974 agarrarnos los Gb y pajiarnos bien rico. Quien me invita??'},\n",
       "  'title': 'Quien me lo mama in Corona - m4t (Queens)',\n",
       "  'title_detail': {'base': 'https://newyork.craigslist.org/search/stp?format=rss',\n",
       "   'language': None,\n",
       "   'type': 'text/plain',\n",
       "   'value': 'Quien me lo mama in Corona - m4t (Queens)'},\n",
       "  'updated': '2017-08-23T04:30:00-04:00',\n",
       "  'updated_parsed': time.struct_time(tm_year=2017, tm_mon=8, tm_mday=23, tm_hour=8, tm_min=30, tm_sec=0, tm_wday=2, tm_yday=235, tm_isdst=0)},\n",
       " {'dc_source': 'http://newyork.craigslist.org/mnh/stp/6276184493.html',\n",
       "  'dc_type': 'text',\n",
       "  'enc_enclosure': {'resource': 'https://images.craigslist.org/00404_fbKl43V03kh_300x300.jpg',\n",
       "   'type': 'image/jpeg'},\n",
       "  'id': 'http://newyork.craigslist.org/mnh/stp/6276184493.html',\n",
       "  'language': 'en-us',\n",
       "  'link': 'http://newyork.craigslist.org/mnh/stp/6276184493.html',\n",
       "  'links': [{'href': 'http://newyork.craigslist.org/mnh/stp/6276184493.html',\n",
       "    'rel': 'alternate',\n",
       "    'type': 'text/html'}],\n",
       "  'published': '2017-08-23T04:15:16-04:00',\n",
       "  'published_parsed': time.struct_time(tm_year=2017, tm_mon=8, tm_mday=23, tm_hour=8, tm_min=15, tm_sec=16, tm_wday=2, tm_yday=235, tm_isdst=0),\n",
       "  'rights': 'copyright 2017 craiglist',\n",
       "  'rights_detail': {'base': 'https://newyork.craigslist.org/search/stp?format=rss',\n",
       "   'language': None,\n",
       "   'type': 'text/plain',\n",
       "   'value': 'copyright 2017 craiglist'},\n",
       "  'summary': \"Hey ladies! I'm 30, from Brooklyn, now living in Harlem. Single, Jamaican, hard working professional looking for a cool girl to smoke and chill with. Hope to hear from u soon. I'm a great guy. I can host. \\n420 friendly\",\n",
       "  'summary_detail': {'base': 'https://newyork.craigslist.org/search/stp?format=rss',\n",
       "   'language': None,\n",
       "   'type': 'text/html',\n",
       "   'value': \"Hey ladies! I'm 30, from Brooklyn, now living in Harlem. Single, Jamaican, hard working professional looking for a cool girl to smoke and chill with. Hope to hear from u soon. I'm a great guy. I can host. \\n420 friendly\"},\n",
       "  'title': '420 girlfriend - m4w (Harlem / Morningside)',\n",
       "  'title_detail': {'base': 'https://newyork.craigslist.org/search/stp?format=rss',\n",
       "   'language': None,\n",
       "   'type': 'text/plain',\n",
       "   'value': '420 girlfriend - m4w (Harlem / Morningside)'},\n",
       "  'updated': '2017-08-23T04:15:16-04:00',\n",
       "  'updated_parsed': time.struct_time(tm_year=2017, tm_mon=8, tm_mday=23, tm_hour=8, tm_min=15, tm_sec=16, tm_wday=2, tm_yday=235, tm_isdst=0)},\n",
       " {'dc_source': 'http://newyork.craigslist.org/mnh/stp/6273163720.html',\n",
       "  'dc_type': 'text',\n",
       "  'enc_enclosure': {'resource': 'https://images.craigslist.org/00s0s_oIIcJRUux0_300x300.jpg',\n",
       "   'type': 'image/jpeg'},\n",
       "  'id': 'http://newyork.craigslist.org/mnh/stp/6273163720.html',\n",
       "  'language': 'en-us',\n",
       "  'link': 'http://newyork.craigslist.org/mnh/stp/6273163720.html',\n",
       "  'links': [{'href': 'http://newyork.craigslist.org/mnh/stp/6273163720.html',\n",
       "    'rel': 'alternate',\n",
       "    'type': 'text/html'}],\n",
       "  'published': '2017-08-23T04:11:52-04:00',\n",
       "  'published_parsed': time.struct_time(tm_year=2017, tm_mon=8, tm_mday=23, tm_hour=8, tm_min=11, tm_sec=52, tm_wday=2, tm_yday=235, tm_isdst=0),\n",
       "  'rights': 'copyright 2017 craiglist',\n",
       "  'rights_detail': {'base': 'https://newyork.craigslist.org/search/stp?format=rss',\n",
       "   'language': None,\n",
       "   'type': 'text/plain',\n",
       "   'value': 'copyright 2017 craiglist'},\n",
       "  'summary': \"Here's the down and dirty. I work second shift but I enjoy going out after work to have some fun and decompress. My idea of decompressing is dave and busters or lucky strike or finding a late night grub spot or perhaps a dive bar with a band that's h ...\",\n",
       "  'summary_detail': {'base': 'https://newyork.craigslist.org/search/stp?format=rss',\n",
       "   'language': None,\n",
       "   'type': 'text/html',\n",
       "   'value': \"Here's the down and dirty. I work second shift but I enjoy going out after work to have some fun and decompress. My idea of decompressing is dave and busters or lucky strike or finding a late night grub spot or perhaps a dive bar with a band that's h ...\"},\n",
       "  'title': 'Saturday or Friday Night Lucky Strike or D&B or lets pick a place - m4w (nyc)',\n",
       "  'title_detail': {'base': 'https://newyork.craigslist.org/search/stp?format=rss',\n",
       "   'language': None,\n",
       "   'type': 'text/plain',\n",
       "   'value': 'Saturday or Friday Night Lucky Strike or D&B or lets pick a place - m4w (nyc)'},\n",
       "  'updated': '2017-08-23T04:11:52-04:00',\n",
       "  'updated_parsed': time.struct_time(tm_year=2017, tm_mon=8, tm_mday=23, tm_hour=8, tm_min=11, tm_sec=52, tm_wday=2, tm_yday=235, tm_isdst=0)},\n",
       " {'dc_source': 'http://newyork.craigslist.org/lgi/stp/6276159783.html',\n",
       "  'dc_type': 'text',\n",
       "  'enc_enclosure': {'resource': 'https://images.craigslist.org/00Z0Z_hjaXK5ClsDQ_300x300.jpg',\n",
       "   'type': 'image/jpeg'},\n",
       "  'id': 'http://newyork.craigslist.org/lgi/stp/6276159783.html',\n",
       "  'language': 'en-us',\n",
       "  'link': 'http://newyork.craigslist.org/lgi/stp/6276159783.html',\n",
       "  'links': [{'href': 'http://newyork.craigslist.org/lgi/stp/6276159783.html',\n",
       "    'rel': 'alternate',\n",
       "    'type': 'text/html'}],\n",
       "  'published': '2017-08-23T03:03:07-04:00',\n",
       "  'published_parsed': time.struct_time(tm_year=2017, tm_mon=8, tm_mday=23, tm_hour=7, tm_min=3, tm_sec=7, tm_wday=2, tm_yday=235, tm_isdst=0),\n",
       "  'rights': 'copyright 2017 craiglist',\n",
       "  'rights_detail': {'base': 'https://newyork.craigslist.org/search/stp?format=rss',\n",
       "   'language': None,\n",
       "   'type': 'text/plain',\n",
       "   'value': 'copyright 2017 craiglist'},\n",
       "  'summary': \"Moved to Baldwin recently and looking to make some new friends to hang with. I like movies, music and playing Battleship and other games. I like tv shows like Survivor, It's Always Sunny in Philadelphia, Workaholics. I'm funny and dig bright, intelli ...\",\n",
       "  'summary_detail': {'base': 'https://newyork.craigslist.org/search/stp?format=rss',\n",
       "   'language': None,\n",
       "   'type': 'text/html',\n",
       "   'value': \"Moved to Baldwin recently and looking to make some new friends to hang with. I like movies, music and playing Battleship and other games. I like tv shows like Survivor, It's Always Sunny in Philadelphia, Workaholics. I'm funny and dig bright, intelli ...\"},\n",
       "  'title': 'New to area. Seeking to make some new friends. - m4m (Baldwin)',\n",
       "  'title_detail': {'base': 'https://newyork.craigslist.org/search/stp?format=rss',\n",
       "   'language': None,\n",
       "   'type': 'text/plain',\n",
       "   'value': 'New to area. Seeking to make some new friends. - m4m (Baldwin)'},\n",
       "  'updated': '2017-08-23T03:03:07-04:00',\n",
       "  'updated_parsed': time.struct_time(tm_year=2017, tm_mon=8, tm_mday=23, tm_hour=7, tm_min=3, tm_sec=7, tm_wday=2, tm_yday=235, tm_isdst=0)},\n",
       " {'dc_source': 'http://newyork.craigslist.org/mnh/stp/6240966971.html',\n",
       "  'dc_type': 'text',\n",
       "  'id': 'http://newyork.craigslist.org/mnh/stp/6240966971.html',\n",
       "  'language': 'en-us',\n",
       "  'link': 'http://newyork.craigslist.org/mnh/stp/6240966971.html',\n",
       "  'links': [{'href': 'http://newyork.craigslist.org/mnh/stp/6240966971.html',\n",
       "    'rel': 'alternate',\n",
       "    'type': 'text/html'}],\n",
       "  'published': '2017-08-23T02:59:52-04:00',\n",
       "  'published_parsed': time.struct_time(tm_year=2017, tm_mon=8, tm_mday=23, tm_hour=6, tm_min=59, tm_sec=52, tm_wday=2, tm_yday=235, tm_isdst=0),\n",
       "  'rights': 'copyright 2017 craiglist',\n",
       "  'rights_detail': {'base': 'https://newyork.craigslist.org/search/stp?format=rss',\n",
       "   'language': None,\n",
       "   'type': 'text/plain',\n",
       "   'value': 'copyright 2017 craiglist'},\n",
       "  'summary': \"Hello girls. This is 30 years old male and looking to hang out with some cute fun loving girl who loves 420, beer pizza movies and some healthy fun . Can pick up if you don't drive .Email me your your photos with your name age ethnicity and contact n ...\",\n",
       "  'summary_detail': {'base': 'https://newyork.craigslist.org/search/stp?format=rss',\n",
       "   'language': None,\n",
       "   'type': 'text/html',\n",
       "   'value': \"Hello girls. This is 30 years old male and looking to hang out with some cute fun loving girl who loves 420, beer pizza movies and some healthy fun . Can pick up if you don't drive .Email me your your photos with your name age ethnicity and contact n ...\"},\n",
       "  'title': 'Looking for cute chubby girl tonight. 420 lover A+ movies Vodka - m4w (West Village)',\n",
       "  'title_detail': {'base': 'https://newyork.craigslist.org/search/stp?format=rss',\n",
       "   'language': None,\n",
       "   'type': 'text/plain',\n",
       "   'value': 'Looking for cute chubby girl tonight. 420 lover A+ movies Vodka - m4w (West Village)'},\n",
       "  'updated': '2017-08-23T02:59:52-04:00',\n",
       "  'updated_parsed': time.struct_time(tm_year=2017, tm_mon=8, tm_mday=23, tm_hour=6, tm_min=59, tm_sec=52, tm_wday=2, tm_yday=235, tm_isdst=0)},\n",
       " {'dc_source': 'http://newyork.craigslist.org/lgi/stp/6267619018.html',\n",
       "  'dc_type': 'text',\n",
       "  'enc_enclosure': {'resource': 'https://images.craigslist.org/00F0F_8vzXv9pynuD_300x300.jpg',\n",
       "   'type': 'image/jpeg'},\n",
       "  'id': 'http://newyork.craigslist.org/lgi/stp/6267619018.html',\n",
       "  'language': 'en-us',\n",
       "  'link': 'http://newyork.craigslist.org/lgi/stp/6267619018.html',\n",
       "  'links': [{'href': 'http://newyork.craigslist.org/lgi/stp/6267619018.html',\n",
       "    'rel': 'alternate',\n",
       "    'type': 'text/html'}],\n",
       "  'published': '2017-08-23T02:56:33-04:00',\n",
       "  'published_parsed': time.struct_time(tm_year=2017, tm_mon=8, tm_mday=23, tm_hour=6, tm_min=56, tm_sec=33, tm_wday=2, tm_yday=235, tm_isdst=0),\n",
       "  'rights': 'copyright 2017 craiglist',\n",
       "  'rights_detail': {'base': 'https://newyork.craigslist.org/search/stp?format=rss',\n",
       "   'language': None,\n",
       "   'type': 'text/plain',\n",
       "   'value': 'copyright 2017 craiglist'},\n",
       "  'summary': 'SWM 6\\'2\" good/average shape seeking out potential hiking partners to tackle some mountains. Meet for a tea first...',\n",
       "  'summary_detail': {'base': 'https://newyork.craigslist.org/search/stp?format=rss',\n",
       "   'language': None,\n",
       "   'type': 'text/html',\n",
       "   'value': 'SWM 6\\'2\" good/average shape seeking out potential hiking partners to tackle some mountains. Meet for a tea first...'},\n",
       "  'title': 'Hiking partners m4w - m4w (Suffolk)',\n",
       "  'title_detail': {'base': 'https://newyork.craigslist.org/search/stp?format=rss',\n",
       "   'language': None,\n",
       "   'type': 'text/plain',\n",
       "   'value': 'Hiking partners m4w - m4w (Suffolk)'},\n",
       "  'updated': '2017-08-23T02:56:33-04:00',\n",
       "  'updated_parsed': time.struct_time(tm_year=2017, tm_mon=8, tm_mday=23, tm_hour=6, tm_min=56, tm_sec=33, tm_wday=2, tm_yday=235, tm_isdst=0)},\n",
       " {'dc_source': 'http://newyork.craigslist.org/brx/stp/6275984011.html',\n",
       "  'dc_type': 'text',\n",
       "  'enc_enclosure': {'resource': 'https://images.craigslist.org/00000_bGnEjSArftc_300x300.jpg',\n",
       "   'type': 'image/jpeg'},\n",
       "  'id': 'http://newyork.craigslist.org/brx/stp/6275984011.html',\n",
       "  'language': 'en-us',\n",
       "  'link': 'http://newyork.craigslist.org/brx/stp/6275984011.html',\n",
       "  'links': [{'href': 'http://newyork.craigslist.org/brx/stp/6275984011.html',\n",
       "    'rel': 'alternate',\n",
       "    'type': 'text/html'}],\n",
       "  'published': '2017-08-23T02:44:19-04:00',\n",
       "  'published_parsed': time.struct_time(tm_year=2017, tm_mon=8, tm_mday=23, tm_hour=6, tm_min=44, tm_sec=19, tm_wday=2, tm_yday=235, tm_isdst=0),\n",
       "  'rights': 'copyright 2017 craiglist',\n",
       "  'rights_detail': {'base': 'https://newyork.craigslist.org/search/stp?format=rss',\n",
       "   'language': None,\n",
       "   'type': 'text/plain',\n",
       "   'value': 'copyright 2017 craiglist'},\n",
       "  'summary': 'age: 49 \\navailable now \\nloft \\nNeed u to party hard and finish you good. Be sweet and disease free... Any race age or size five ...one six Hot only for 3 OhNine rock climbing expedition. U bring us gear I ninety3Thirty3take your fantasies or desires t ...',\n",
       "  'summary_detail': {'base': 'https://newyork.craigslist.org/search/stp?format=rss',\n",
       "   'language': None,\n",
       "   'type': 'text/html',\n",
       "   'value': 'age: 49 \\navailable now \\nloft \\nNeed u to party hard and finish you good. Be sweet and disease free... Any race age or size five ...one six Hot only for 3 OhNine rock climbing expedition. U bring us gear I ninety3Thirty3take your fantasies or desires t ...'},\n",
       "  'title': 'Partygurl NEEDED - m4w (NYC)',\n",
       "  'title_detail': {'base': 'https://newyork.craigslist.org/search/stp?format=rss',\n",
       "   'language': None,\n",
       "   'type': 'text/plain',\n",
       "   'value': 'Partygurl NEEDED - m4w (NYC)'},\n",
       "  'updated': '2017-08-23T02:44:19-04:00',\n",
       "  'updated_parsed': time.struct_time(tm_year=2017, tm_mon=8, tm_mday=23, tm_hour=6, tm_min=44, tm_sec=19, tm_wday=2, tm_yday=235, tm_isdst=0)}]"
      ]
     },
     "execution_count": 35,
     "metadata": {},
     "output_type": "execute_result"
    }
   ],
   "source": [
    "ny['entries']"
   ]
  },
  {
   "cell_type": "code",
   "execution_count": 36,
   "metadata": {
    "collapsed": false
   },
   "outputs": [
    {
     "data": {
      "text/plain": [
       "25"
      ]
     },
     "execution_count": 36,
     "metadata": {},
     "output_type": "execute_result"
    }
   ],
   "source": [
    "len(ny['entries'])"
   ]
  },
  {
   "cell_type": "markdown",
   "metadata": {},
   "source": [
    "**程序清单4-6** RSS源分类器及高频词去除函数"
   ]
  },
  {
   "cell_type": "code",
   "execution_count": 37,
   "metadata": {
    "collapsed": true
   },
   "outputs": [],
   "source": [
    "def calc_most_freq(vocab_list, full_text):\n",
    "    import operator\n",
    "    freq_dict = {}\n",
    "    for token in vocab_list:\n",
    "        freq_dict[token] = full_text.count(token)\n",
    "    sorted_freq = sorted(freq_dict.items(), key=operator.itemgetter(1),\n",
    "                        reverse=True)\n",
    "    return sorted_freq[:30]\n",
    "\n",
    "def local_words(feed1, feed0):\n",
    "    import feedparser\n",
    "    doc_list = []\n",
    "    class_list = []\n",
    "    full_text = []\n",
    "    min_len = min(len(feed1['entries']), len(feed0['entries']))\n",
    "    for i in range(min_len):\n",
    "        word_list = text_parse(feed1['entries'][i]['summary'])\n",
    "        doc_list.append(word_list)\n",
    "        full_text.extend(word_list)\n",
    "        class_list.append(1)\n",
    "        word_list = text_parse(feed0['entries'][i]['summary'])\n",
    "        doc_list.append(word_list)\n",
    "        full_text.extend(word_list)\n",
    "        class_list.append(0)\n",
    "    vocab_list = create_vocab_list(doc_list)\n",
    "    top_30_words = calc_most_freq(vocab_list, full_text)\n",
    "    for pair_w in top_30_words:\n",
    "        if pair_w[0] in vocab_list:\n",
    "            vocab_list.remove(pair_w[0])\n",
    "    training_set = list(range(2*min_len))\n",
    "    test_set = []\n",
    "    for i in range(20):\n",
    "        rand_index = int(random.uniform(0, len(training_set)))\n",
    "        test_set.append(training_set[rand_index])\n",
    "        del(training_set[rand_index])\n",
    "    train_mat = []\n",
    "    train_classes = []\n",
    "    for doc_index in training_set:\n",
    "        train_mat.append(bag_of_words2vec_MN(vocab_list, doc_list[doc_index]))\n",
    "        train_classes.append(class_list[doc_index])\n",
    "    p0V, p1V, p_spam = train_NB0(array(train_mat), array(train_classes))\n",
    "    error_count = 0\n",
    "    for doc_index in test_set:\n",
    "        word_vector = bag_of_words2vec_MN(vocab_list, doc_list[doc_index])\n",
    "        if classify_NB(array(word_vector), p0V, p1V, p_spam) != class_list[doc_index]:\n",
    "            error_count += 1\n",
    "    print('The error rate is:', float(error_count)/len(test_set))\n",
    "    return vocab_list, p0V, p1V"
   ]
  },
  {
   "cell_type": "code",
   "execution_count": 38,
   "metadata": {
    "collapsed": true
   },
   "outputs": [],
   "source": [
    "ny = feedparser.parse('http://newyork.craigslist.org/stp/index.rss')\n",
    "sf = feedparser.parse('http://sfbay.craigslist.org/stp/index.rss')"
   ]
  },
  {
   "cell_type": "code",
   "execution_count": 39,
   "metadata": {
    "collapsed": false
   },
   "outputs": [
    {
     "name": "stdout",
     "output_type": "stream",
     "text": [
      "The error rate is: 0.4\n"
     ]
    },
    {
     "name": "stderr",
     "output_type": "stream",
     "text": [
      "C:\\Users\\xieyu\\AppData\\Local\\Continuum\\Anaconda3\\lib\\re.py:212: FutureWarning: split() requires a non-empty pattern match.\n",
      "  return _compile(pattern, flags).split(string, maxsplit)\n"
     ]
    }
   ],
   "source": [
    "vocab_list, p_SF, p_NY = local_words(ny, sf)"
   ]
  },
  {
   "cell_type": "code",
   "execution_count": 40,
   "metadata": {
    "collapsed": false
   },
   "outputs": [
    {
     "name": "stdout",
     "output_type": "stream",
     "text": [
      "The error rate is: 0.4\n"
     ]
    },
    {
     "name": "stderr",
     "output_type": "stream",
     "text": [
      "C:\\Users\\xieyu\\AppData\\Local\\Continuum\\Anaconda3\\lib\\re.py:212: FutureWarning: split() requires a non-empty pattern match.\n",
      "  return _compile(pattern, flags).split(string, maxsplit)\n"
     ]
    }
   ],
   "source": [
    "vocab_list, p_SF, p_NY = local_words(ny, sf)"
   ]
  },
  {
   "cell_type": "markdown",
   "metadata": {},
   "source": [
    "## 4.7.2 分析数据：显示地域相关的用词"
   ]
  },
  {
   "cell_type": "markdown",
   "metadata": {},
   "source": [
    "**程序清单4-7** 最具表征性的词汇显示函数"
   ]
  },
  {
   "cell_type": "code",
   "execution_count": 41,
   "metadata": {
    "collapsed": true
   },
   "outputs": [],
   "source": [
    "def get_top_words(ny, sf):\n",
    "    import operator\n",
    "    vocab_list, p0V, p1V = local_words(ny, sf)\n",
    "    top_NY = []; top_SF = []\n",
    "    for i in range(len(p0V)):\n",
    "        if p0V[i] > -4.5:\n",
    "            top_SF.append((vocab_list[i], p0V[i]))\n",
    "        if p1V[i] > -4.5:\n",
    "            top_NY.append((vocab_list[i], p1V[i]))\n",
    "    sorted_SF = sorted(top_SF, key=lambda pair: pair[1], reverse=True)\n",
    "    print('SF**' * 15)\n",
    "    for item in sorted_SF:\n",
    "        print(item[0])\n",
    "    sorted_NY = sorted(top_NY, key=lambda pair: pair[1], reverse=True)\n",
    "    print('NY**' * 15)\n",
    "    for item in sorted_NY:\n",
    "        print(item[0])"
   ]
  },
  {
   "cell_type": "code",
   "execution_count": 42,
   "metadata": {
    "collapsed": false
   },
   "outputs": [
    {
     "name": "stdout",
     "output_type": "stream",
     "text": [
      "The error rate is: 0.25\n",
      "SF**SF**SF**SF**SF**SF**SF**SF**SF**SF**SF**SF**SF**SF**SF**\n",
      "female\n",
      "guy\n",
      "friendly\n",
      "all\n",
      "love\n",
      "her\n",
      "friendship\n",
      "massage\n",
      "time\n",
      "car\n",
      "fun\n",
      "desi\n",
      "want\n",
      "NY**NY**NY**NY**NY**NY**NY**NY**NY**NY**NY**NY**NY**NY**NY**\n",
      "don\n",
      "something\n",
      "free\n",
      "other\n",
      "age\n",
      "work\n",
      "fun\n",
      "new\n"
     ]
    },
    {
     "name": "stderr",
     "output_type": "stream",
     "text": [
      "C:\\Users\\xieyu\\AppData\\Local\\Continuum\\Anaconda3\\lib\\re.py:212: FutureWarning: split() requires a non-empty pattern match.\n",
      "  return _compile(pattern, flags).split(string, maxsplit)\n"
     ]
    }
   ],
   "source": [
    "get_top_words(ny, sf)"
   ]
  },
  {
   "cell_type": "markdown",
   "metadata": {},
   "source": [
    "# 4.8 本章小结"
   ]
  }
 ],
 "metadata": {
  "kernelspec": {
   "display_name": "Python 3",
   "language": "python",
   "name": "python3"
  },
  "language_info": {
   "codemirror_mode": {
    "name": "ipython",
    "version": 3
   },
   "file_extension": ".py",
   "mimetype": "text/x-python",
   "name": "python",
   "nbconvert_exporter": "python",
   "pygments_lexer": "ipython3",
   "version": "3.6.0"
  }
 },
 "nbformat": 4,
 "nbformat_minor": 2
}
