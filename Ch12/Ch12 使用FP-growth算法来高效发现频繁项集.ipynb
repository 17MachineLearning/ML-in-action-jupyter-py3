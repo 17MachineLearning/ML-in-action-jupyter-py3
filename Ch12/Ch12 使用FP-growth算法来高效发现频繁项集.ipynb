{
 "cells": [
  {
   "cell_type": "markdown",
   "metadata": {},
   "source": [
    "# 12.1 FP树：用于编码数据集的有效方式"
   ]
  },
  {
   "cell_type": "markdown",
   "metadata": {},
   "source": [
    "# 12.2 构建FP树"
   ]
  },
  {
   "cell_type": "markdown",
   "metadata": {},
   "source": [
    "## 12.2.1 FP树的类定义"
   ]
  },
  {
   "cell_type": "code",
   "execution_count": 1,
   "metadata": {
    "collapsed": false
   },
   "outputs": [],
   "source": [
    "class tree_node:\n",
    "    def __init__(self, name_value, num_occur, parent_node):\n",
    "        self.name = name_value\n",
    "        self.count = num_occur\n",
    "        self.node_link = None\n",
    "        self.parent = parent_node\n",
    "        self.children = {}\n",
    "    \n",
    "    def inc(self, num_occur):\n",
    "        self.count += num_occur\n",
    "    \n",
    "    def disp(self, ind=1):\n",
    "        print('  '*ind, self.name, ' ', self.count)\n",
    "        for child in self.children.values():\n",
    "            child.disp(ind+1)"
   ]
  },
  {
   "cell_type": "code",
   "execution_count": 2,
   "metadata": {
    "collapsed": true
   },
   "outputs": [],
   "source": [
    "root_node = tree_node('pyramid', 9, None)"
   ]
  },
  {
   "cell_type": "code",
   "execution_count": 3,
   "metadata": {
    "collapsed": true
   },
   "outputs": [],
   "source": [
    "root_node.children['eye'] = tree_node('eye', 13, None)"
   ]
  },
  {
   "cell_type": "code",
   "execution_count": 4,
   "metadata": {
    "collapsed": false
   },
   "outputs": [
    {
     "name": "stdout",
     "output_type": "stream",
     "text": [
      "   pyramid   9\n",
      "     eye   13\n"
     ]
    }
   ],
   "source": [
    "root_node.disp()"
   ]
  },
  {
   "cell_type": "code",
   "execution_count": 5,
   "metadata": {
    "collapsed": true
   },
   "outputs": [],
   "source": [
    "root_node.children['phoenix'] = tree_node('phoenix', 3, None)"
   ]
  },
  {
   "cell_type": "code",
   "execution_count": 6,
   "metadata": {
    "collapsed": false
   },
   "outputs": [
    {
     "name": "stdout",
     "output_type": "stream",
     "text": [
      "   pyramid   9\n",
      "     eye   13\n",
      "     phoenix   3\n"
     ]
    }
   ],
   "source": [
    "root_node.disp()"
   ]
  },
  {
   "cell_type": "markdown",
   "metadata": {},
   "source": [
    "## 12.2.2 构建FP树"
   ]
  },
  {
   "cell_type": "markdown",
   "metadata": {},
   "source": [
    "**程序清单12-2** FP树构建函数"
   ]
  },
  {
   "cell_type": "code",
   "execution_count": 7,
   "metadata": {
    "collapsed": true
   },
   "outputs": [],
   "source": [
    "def create_tree(data_set, min_sup=1):\n",
    "    header_table = {}\n",
    "    for trans in data_set:\n",
    "        for item in trans:\n",
    "            header_table[item] = header_table.get(item, 0) + data_set[trans]\n",
    "    for k in list(header_table.keys()):\n",
    "        if header_table[k] < min_sup:\n",
    "            del(header_table[k])\n",
    "    freq_item_set = set(header_table.keys())\n",
    "    if len(freq_item_set) == 0:\n",
    "        return None, None\n",
    "    for k in header_table:\n",
    "        header_table[k] = [header_table[k], None]\n",
    "    ret_tree = tree_node('Null Set', 1, None)\n",
    "    for tran_set, count in data_set.items():\n",
    "        localD = {}\n",
    "        for item in tran_set:\n",
    "            if item in freq_item_set:\n",
    "                localD[item] = header_table[item][0]\n",
    "        if len(localD) > 0:\n",
    "            ordered_items = [v[0] for v in sorted(localD.items(),\n",
    "                                                 key=lambda p: p[1],\n",
    "                                                 reverse=True)]\n",
    "            update_tree(ordered_items, ret_tree, header_table, count)\n",
    "    return ret_tree, header_table"
   ]
  },
  {
   "cell_type": "code",
   "execution_count": 8,
   "metadata": {
    "collapsed": true
   },
   "outputs": [],
   "source": [
    "def update_tree(items, in_tree, header_table, count):\n",
    "    if items[0] in in_tree.children:\n",
    "        in_tree.children[items[0]].inc(count)\n",
    "    else:\n",
    "        in_tree.children[items[0]] = tree_node(items[0], count, in_tree)\n",
    "        if header_table[items[0]][1] == None:\n",
    "            header_table[items[0]][1] = in_tree.children[items[0]]\n",
    "        else:\n",
    "            update_header(header_table[items[0]][1],\n",
    "                         in_tree.children[items[0]])\n",
    "    if len(items) > 1:\n",
    "        update_tree(items[1::], in_tree.children[items[0]],\n",
    "                   header_table, count)"
   ]
  },
  {
   "cell_type": "code",
   "execution_count": 9,
   "metadata": {
    "collapsed": true
   },
   "outputs": [],
   "source": [
    "def update_header(node_to_test, target_node):\n",
    "    while (node_to_test.node_link != None):\n",
    "        node_to_test = node_to_test.node_link\n",
    "    node_to_test.node_link = target_node"
   ]
  },
  {
   "cell_type": "markdown",
   "metadata": {},
   "source": [
    "**程序清单12-3** 简单数据集及数据包装器"
   ]
  },
  {
   "cell_type": "code",
   "execution_count": 10,
   "metadata": {
    "collapsed": true
   },
   "outputs": [],
   "source": [
    "def load_simp_dat():\n",
    "    simp_dat = [['r','z','h','j','p'],\n",
    "               ['z','y','x','w','v','u','t','s'],\n",
    "               ['z'],\n",
    "               ['r','x','n','o','s'],\n",
    "               ['y','r','x','z','q','t','p'],\n",
    "               ['y','z','x','e','q','s','t','m']]\n",
    "    return simp_dat"
   ]
  },
  {
   "cell_type": "code",
   "execution_count": 11,
   "metadata": {
    "collapsed": true
   },
   "outputs": [],
   "source": [
    "def create_init_set(data_set):\n",
    "    ret_dict = {}\n",
    "    for trans in data_set:\n",
    "        ret_dict[frozenset(trans)] = 1\n",
    "    return ret_dict"
   ]
  },
  {
   "cell_type": "code",
   "execution_count": 12,
   "metadata": {
    "collapsed": false
   },
   "outputs": [
    {
     "data": {
      "text/plain": [
       "[['r', 'z', 'h', 'j', 'p'],\n",
       " ['z', 'y', 'x', 'w', 'v', 'u', 't', 's'],\n",
       " ['z'],\n",
       " ['r', 'x', 'n', 'o', 's'],\n",
       " ['y', 'r', 'x', 'z', 'q', 't', 'p'],\n",
       " ['y', 'z', 'x', 'e', 'q', 's', 't', 'm']]"
      ]
     },
     "execution_count": 12,
     "metadata": {},
     "output_type": "execute_result"
    }
   ],
   "source": [
    "simp_dat = load_simp_dat()\n",
    "simp_dat"
   ]
  },
  {
   "cell_type": "code",
   "execution_count": 13,
   "metadata": {
    "collapsed": false
   },
   "outputs": [
    {
     "data": {
      "text/plain": [
       "{frozenset({'z'}): 1,\n",
       " frozenset({'h', 'j', 'p', 'r', 'z'}): 1,\n",
       " frozenset({'s', 't', 'u', 'v', 'w', 'x', 'y', 'z'}): 1,\n",
       " frozenset({'n', 'o', 'r', 's', 'x'}): 1,\n",
       " frozenset({'p', 'q', 'r', 't', 'x', 'y', 'z'}): 1,\n",
       " frozenset({'e', 'm', 'q', 's', 't', 'x', 'y', 'z'}): 1}"
      ]
     },
     "execution_count": 13,
     "metadata": {},
     "output_type": "execute_result"
    }
   ],
   "source": [
    "init_set = create_init_set(simp_dat)\n",
    "init_set"
   ]
  },
  {
   "cell_type": "code",
   "execution_count": 14,
   "metadata": {
    "collapsed": false
   },
   "outputs": [],
   "source": [
    "my_FP_tree, my_header_tab = create_tree(init_set, 3)"
   ]
  },
  {
   "cell_type": "code",
   "execution_count": 15,
   "metadata": {
    "collapsed": false
   },
   "outputs": [
    {
     "name": "stdout",
     "output_type": "stream",
     "text": [
      "   Null Set   1\n",
      "     z   5\n",
      "       r   1\n",
      "       x   3\n",
      "         y   3\n",
      "           t   3\n",
      "             s   2\n",
      "             r   1\n",
      "     x   1\n",
      "       s   1\n",
      "         r   1\n"
     ]
    }
   ],
   "source": [
    "my_FP_tree.disp()"
   ]
  },
  {
   "cell_type": "code",
   "execution_count": 16,
   "metadata": {
    "collapsed": false
   },
   "outputs": [
    {
     "data": {
      "text/plain": [
       "{'r': [3, <__main__.tree_node at 0x18f73c5aba8>],\n",
       " 's': [3, <__main__.tree_node at 0x18f73c5a5f8>],\n",
       " 't': [3, <__main__.tree_node at 0x18f73c5af60>],\n",
       " 'x': [4, <__main__.tree_node at 0x18f73c5aa90>],\n",
       " 'y': [3, <__main__.tree_node at 0x18f73c5aa58>],\n",
       " 'z': [5, <__main__.tree_node at 0x18f73c5af98>]}"
      ]
     },
     "execution_count": 16,
     "metadata": {},
     "output_type": "execute_result"
    }
   ],
   "source": [
    "my_header_tab"
   ]
  },
  {
   "cell_type": "markdown",
   "metadata": {},
   "source": [
    "# 12.3 从一棵FP树中挖掘频繁项集"
   ]
  },
  {
   "cell_type": "markdown",
   "metadata": {},
   "source": [
    "## 12.3.1 抽取条件模式基"
   ]
  },
  {
   "cell_type": "markdown",
   "metadata": {},
   "source": [
    "**程序清单12-4** 发现以给定元素项结尾的所有路径的函数"
   ]
  },
  {
   "cell_type": "code",
   "execution_count": 17,
   "metadata": {
    "collapsed": true
   },
   "outputs": [],
   "source": [
    "def ascend_tree(leaf_node, prefix_path):\n",
    "    if leaf_node.parent != None:\n",
    "        prefix_path.append(leaf_node.name)\n",
    "        ascend_tree(leaf_node.parent, prefix_path)"
   ]
  },
  {
   "cell_type": "code",
   "execution_count": 18,
   "metadata": {
    "collapsed": true
   },
   "outputs": [],
   "source": [
    "def find_prefix_path(base_pat, tree_node):\n",
    "    cond_pats = {}\n",
    "    while tree_node != None:\n",
    "        prefix_path = []\n",
    "        ascend_tree(tree_node, prefix_path)\n",
    "        if len(prefix_path) > 1:\n",
    "            cond_pats[frozenset(prefix_path[1:])] = tree_node.count\n",
    "        tree_node = tree_node.node_link\n",
    "    return cond_pats"
   ]
  },
  {
   "cell_type": "code",
   "execution_count": 19,
   "metadata": {
    "collapsed": false
   },
   "outputs": [
    {
     "data": {
      "text/plain": [
       "{frozenset({'z'}): 3}"
      ]
     },
     "execution_count": 19,
     "metadata": {},
     "output_type": "execute_result"
    }
   ],
   "source": [
    "find_prefix_path('x', my_header_tab['x'][1])"
   ]
  },
  {
   "cell_type": "code",
   "execution_count": 20,
   "metadata": {
    "collapsed": false
   },
   "outputs": [
    {
     "data": {
      "text/plain": [
       "{}"
      ]
     },
     "execution_count": 20,
     "metadata": {},
     "output_type": "execute_result"
    }
   ],
   "source": [
    "find_prefix_path('z', my_header_tab['z'][1])"
   ]
  },
  {
   "cell_type": "code",
   "execution_count": 21,
   "metadata": {
    "collapsed": false
   },
   "outputs": [
    {
     "data": {
      "text/plain": [
       "{frozenset({'z'}): 1,\n",
       " frozenset({'s', 'x'}): 1,\n",
       " frozenset({'t', 'x', 'y', 'z'}): 1}"
      ]
     },
     "execution_count": 21,
     "metadata": {},
     "output_type": "execute_result"
    }
   ],
   "source": [
    "find_prefix_path('r', my_header_tab['r'][1])"
   ]
  },
  {
   "cell_type": "markdown",
   "metadata": {},
   "source": [
    "## 12.3.2 创建条件FP树"
   ]
  },
  {
   "cell_type": "markdown",
   "metadata": {},
   "source": [
    "**程序清单12-5** 递归查找频繁项集的`mine_tree`函数"
   ]
  },
  {
   "cell_type": "code",
   "execution_count": 40,
   "metadata": {
    "collapsed": true
   },
   "outputs": [],
   "source": [
    "def mine_tree(in_tree, header_table, min_sup, pre_fix, freq_item_list):\n",
    "    bigL = [v[0] for v in sorted(header_table.items(), key=lambda p: str(p[1]))]\n",
    "    for base_pat in bigL:\n",
    "        new_freq_set = pre_fix.copy()\n",
    "        new_freq_set.add(base_pat)\n",
    "        freq_item_list.append(new_freq_set)\n",
    "        cond_patt_bases = find_prefix_path(base_pat, header_table[base_pat][1])\n",
    "        my_cond_tree, my_head = create_tree(cond_patt_bases, min_sup)\n",
    "        if my_head != None:\n",
    "            print('conditional tree for: ', new_freq_set)\n",
    "            my_cond_tree.disp(1)\n",
    "            mine_tree(my_cond_tree, my_head, min_sup, new_freq_set, freq_item_list)"
   ]
  },
  {
   "cell_type": "code",
   "execution_count": 41,
   "metadata": {
    "collapsed": true
   },
   "outputs": [],
   "source": [
    "freq_items = []"
   ]
  },
  {
   "cell_type": "code",
   "execution_count": 42,
   "metadata": {
    "collapsed": false
   },
   "outputs": [
    {
     "name": "stdout",
     "output_type": "stream",
     "text": [
      "conditional tree for:  {'s'}\n",
      "   Null Set   1\n",
      "     x   3\n",
      "conditional tree for:  {'y'}\n",
      "   Null Set   1\n",
      "     z   3\n",
      "       x   3\n",
      "conditional tree for:  {'y', 'x'}\n",
      "   Null Set   1\n",
      "     z   3\n",
      "conditional tree for:  {'t'}\n",
      "   Null Set   1\n",
      "     y   3\n",
      "       z   3\n",
      "         x   3\n",
      "conditional tree for:  {'t', 'z'}\n",
      "   Null Set   1\n",
      "     y   3\n",
      "conditional tree for:  {'t', 'x'}\n",
      "   Null Set   1\n",
      "     y   3\n",
      "       z   3\n",
      "conditional tree for:  {'t', 'z', 'x'}\n",
      "   Null Set   1\n",
      "     y   3\n",
      "conditional tree for:  {'x'}\n",
      "   Null Set   1\n",
      "     z   3\n"
     ]
    }
   ],
   "source": [
    "mine_tree(my_FP_tree, my_header_tab, 3, set([]), freq_items)"
   ]
  },
  {
   "cell_type": "code",
   "execution_count": 43,
   "metadata": {
    "collapsed": false
   },
   "outputs": [
    {
     "data": {
      "text/plain": [
       "[{'s'},\n",
       " {'s', 'x'},\n",
       " {'y'},\n",
       " {'y', 'z'},\n",
       " {'x', 'y'},\n",
       " {'x', 'y', 'z'},\n",
       " {'r'},\n",
       " {'t'},\n",
       " {'t', 'y'},\n",
       " {'t', 'z'},\n",
       " {'t', 'y', 'z'},\n",
       " {'t', 'x'},\n",
       " {'t', 'x', 'y'},\n",
       " {'t', 'x', 'z'},\n",
       " {'t', 'x', 'y', 'z'},\n",
       " {'x'},\n",
       " {'x', 'z'},\n",
       " {'z'}]"
      ]
     },
     "execution_count": 43,
     "metadata": {},
     "output_type": "execute_result"
    }
   ],
   "source": [
    "freq_items"
   ]
  },
  {
   "cell_type": "markdown",
   "metadata": {},
   "source": [
    "# 12.4 示例：在Twitter源中发现一些共现词"
   ]
  },
  {
   "cell_type": "markdown",
   "metadata": {},
   "source": [
    "OK I will skip this part."
   ]
  },
  {
   "cell_type": "markdown",
   "metadata": {},
   "source": [
    "# 12.5 示例：从新闻网站点击流中挖掘"
   ]
  },
  {
   "cell_type": "code",
   "execution_count": 44,
   "metadata": {
    "collapsed": true
   },
   "outputs": [],
   "source": [
    "parsed_dat = [line.split() for line in open('kosarak.dat').readlines()]"
   ]
  },
  {
   "cell_type": "code",
   "execution_count": 45,
   "metadata": {
    "collapsed": true
   },
   "outputs": [],
   "source": [
    "init_set = create_init_set(parsed_dat)"
   ]
  },
  {
   "cell_type": "code",
   "execution_count": 46,
   "metadata": {
    "collapsed": true
   },
   "outputs": [],
   "source": [
    "my_FP_tree, my_header_tab = create_tree(init_set, 100000)"
   ]
  },
  {
   "cell_type": "code",
   "execution_count": 47,
   "metadata": {
    "collapsed": true
   },
   "outputs": [],
   "source": [
    "my_freq_list = []"
   ]
  },
  {
   "cell_type": "code",
   "execution_count": 48,
   "metadata": {
    "collapsed": false
   },
   "outputs": [
    {
     "name": "stdout",
     "output_type": "stream",
     "text": [
      "conditional tree for:  {'1'}\n",
      "   Null Set   1\n",
      "     6   107404\n",
      "conditional tree for:  {'3'}\n",
      "   Null Set   1\n",
      "     6   186289\n",
      "       11   117401\n",
      "     11   9718\n",
      "conditional tree for:  {'11', '3'}\n",
      "   Null Set   1\n",
      "     6   117401\n",
      "conditional tree for:  {'11'}\n",
      "   Null Set   1\n",
      "     6   261773\n"
     ]
    }
   ],
   "source": [
    "mine_tree(my_FP_tree, my_header_tab, 100000, set([]), my_freq_list)"
   ]
  },
  {
   "cell_type": "code",
   "execution_count": 49,
   "metadata": {
    "collapsed": false
   },
   "outputs": [
    {
     "data": {
      "text/plain": [
       "9"
      ]
     },
     "execution_count": 49,
     "metadata": {},
     "output_type": "execute_result"
    }
   ],
   "source": [
    "len(my_freq_list)"
   ]
  },
  {
   "cell_type": "code",
   "execution_count": 50,
   "metadata": {
    "collapsed": false
   },
   "outputs": [
    {
     "data": {
      "text/plain": [
       "[{'1'},\n",
       " {'1', '6'},\n",
       " {'3'},\n",
       " {'11', '3'},\n",
       " {'11', '3', '6'},\n",
       " {'3', '6'},\n",
       " {'11'},\n",
       " {'11', '6'},\n",
       " {'6'}]"
      ]
     },
     "execution_count": 50,
     "metadata": {},
     "output_type": "execute_result"
    }
   ],
   "source": [
    "my_freq_list"
   ]
  },
  {
   "cell_type": "markdown",
   "metadata": {},
   "source": [
    "# 12.6 本章小结"
   ]
  }
 ],
 "metadata": {
  "kernelspec": {
   "display_name": "Python 3",
   "language": "python",
   "name": "python3"
  },
  "language_info": {
   "codemirror_mode": {
    "name": "ipython",
    "version": 3
   },
   "file_extension": ".py",
   "mimetype": "text/x-python",
   "name": "python",
   "nbconvert_exporter": "python",
   "pygments_lexer": "ipython3",
   "version": "3.6.0"
  }
 },
 "nbformat": 4,
 "nbformat_minor": 2
}
