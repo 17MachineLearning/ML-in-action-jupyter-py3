{
 "cells": [
  {
   "cell_type": "markdown",
   "metadata": {},
   "source": [
    "# 14.1 SVD的应用"
   ]
  },
  {
   "cell_type": "markdown",
   "metadata": {},
   "source": [
    "## 14.1.1 隐性语义索引"
   ]
  },
  {
   "cell_type": "markdown",
   "metadata": {},
   "source": [
    "## 14.1.2 推荐系统"
   ]
  },
  {
   "cell_type": "markdown",
   "metadata": {},
   "source": [
    "# 14.2 矩阵分解"
   ]
  },
  {
   "cell_type": "markdown",
   "metadata": {},
   "source": [
    "$$\n",
    "Data_{m\\times n} = U_{m\\times m}\\Sigma_{m\\times n}V^T_{n\\times n}\n",
    "$$"
   ]
  },
  {
   "cell_type": "markdown",
   "metadata": {},
   "source": [
    "# 14.3 利用Python实现SVD"
   ]
  },
  {
   "cell_type": "code",
   "execution_count": 1,
   "metadata": {
    "collapsed": true
   },
   "outputs": [],
   "source": [
    "from numpy import *"
   ]
  },
  {
   "cell_type": "code",
   "execution_count": 2,
   "metadata": {
    "collapsed": true
   },
   "outputs": [],
   "source": [
    "U,Sigma,VT = linalg.svd([[1,1],[7,7]])"
   ]
  },
  {
   "cell_type": "code",
   "execution_count": 3,
   "metadata": {
    "collapsed": false
   },
   "outputs": [
    {
     "data": {
      "text/plain": [
       "array([[-0.14142136, -0.98994949],\n",
       "       [-0.98994949,  0.14142136]])"
      ]
     },
     "execution_count": 3,
     "metadata": {},
     "output_type": "execute_result"
    }
   ],
   "source": [
    "U"
   ]
  },
  {
   "cell_type": "code",
   "execution_count": 4,
   "metadata": {
    "collapsed": false
   },
   "outputs": [
    {
     "data": {
      "text/plain": [
       "array([ 10.,   0.])"
      ]
     },
     "execution_count": 4,
     "metadata": {},
     "output_type": "execute_result"
    }
   ],
   "source": [
    "Sigma"
   ]
  },
  {
   "cell_type": "code",
   "execution_count": 5,
   "metadata": {
    "collapsed": false
   },
   "outputs": [
    {
     "data": {
      "text/plain": [
       "array([[-0.70710678, -0.70710678],\n",
       "       [-0.70710678,  0.70710678]])"
      ]
     },
     "execution_count": 5,
     "metadata": {},
     "output_type": "execute_result"
    }
   ],
   "source": [
    "VT"
   ]
  },
  {
   "cell_type": "code",
   "execution_count": 6,
   "metadata": {
    "collapsed": true
   },
   "outputs": [],
   "source": [
    "def load_ex_data():\n",
    "    return [[1,1,1,0,0],\n",
    "            [2,2,2,0,0],\n",
    "            [1,1,1,0,0],\n",
    "            [5,5,5,0,0],\n",
    "            [1,1,0,2,2],\n",
    "            [0,0,0,3,3],\n",
    "            [0,0,0,1,1]]"
   ]
  },
  {
   "cell_type": "code",
   "execution_count": 7,
   "metadata": {
    "collapsed": true
   },
   "outputs": [],
   "source": [
    "Data = load_ex_data()"
   ]
  },
  {
   "cell_type": "code",
   "execution_count": 8,
   "metadata": {
    "collapsed": true
   },
   "outputs": [],
   "source": [
    "U,Sigma,VT = linalg.svd(Data)"
   ]
  },
  {
   "cell_type": "code",
   "execution_count": 9,
   "metadata": {
    "collapsed": false
   },
   "outputs": [
    {
     "data": {
      "text/plain": [
       "array([  9.72140007e+00,   5.29397912e+00,   6.84226362e-01,\n",
       "         1.31137664e-15,   8.23101664e-32])"
      ]
     },
     "execution_count": 9,
     "metadata": {},
     "output_type": "execute_result"
    }
   ],
   "source": [
    "Sigma"
   ]
  },
  {
   "cell_type": "markdown",
   "metadata": {},
   "source": [
    "$$\n",
    "Data_{m\\times n}=U_{m\\times 3}\\Sigma_{3\\times 3}{V^T}_{3\\times n}\n",
    "$$"
   ]
  },
  {
   "cell_type": "code",
   "execution_count": 10,
   "metadata": {
    "collapsed": true
   },
   "outputs": [],
   "source": [
    "Sig3 = mat([[Sigma[0],0,0],\n",
    "            [0,Sigma[1],0],\n",
    "            [0,0,Sigma[2]]])"
   ]
  },
  {
   "cell_type": "code",
   "execution_count": 11,
   "metadata": {
    "collapsed": false
   },
   "outputs": [
    {
     "data": {
      "text/plain": [
       "matrix([[  1.00000000e+00,   1.00000000e+00,   1.00000000e+00,\n",
       "          -1.51029363e-16,  -1.56558794e-16],\n",
       "        [  2.00000000e+00,   2.00000000e+00,   2.00000000e+00,\n",
       "           4.89625701e-16,   4.78566839e-16],\n",
       "        [  1.00000000e+00,   1.00000000e+00,   1.00000000e+00,\n",
       "          -1.89843800e-16,  -2.02420546e-16],\n",
       "        [  5.00000000e+00,   5.00000000e+00,   5.00000000e+00,\n",
       "          -4.29344060e-17,  -9.15066634e-17],\n",
       "        [  1.00000000e+00,   1.00000000e+00,  -3.88578059e-16,\n",
       "           2.00000000e+00,   2.00000000e+00],\n",
       "        [  1.94289029e-16,   5.82867088e-16,  -6.10622664e-16,\n",
       "           3.00000000e+00,   3.00000000e+00],\n",
       "        [  2.77555756e-17,   1.52655666e-16,  -1.24900090e-16,\n",
       "           1.00000000e+00,   1.00000000e+00]])"
      ]
     },
     "execution_count": 11,
     "metadata": {},
     "output_type": "execute_result"
    }
   ],
   "source": [
    "U[:,:3]*Sig3*VT[:3,:]"
   ]
  },
  {
   "cell_type": "code",
   "execution_count": 12,
   "metadata": {
    "collapsed": false
   },
   "outputs": [
    {
     "data": {
      "text/plain": [
       "matrix([[  4.44089210e-16,   6.66133815e-16,   1.33226763e-15,\n",
       "          -1.51029363e-16,  -1.56558794e-16],\n",
       "        [  0.00000000e+00,   4.44089210e-16,   0.00000000e+00,\n",
       "           4.89625701e-16,   4.78566839e-16],\n",
       "        [  0.00000000e+00,   2.22044605e-16,   0.00000000e+00,\n",
       "          -1.89843800e-16,  -2.02420546e-16],\n",
       "        [ -8.88178420e-16,   0.00000000e+00,  -8.88178420e-16,\n",
       "          -4.29344060e-17,  -9.15066634e-17],\n",
       "        [  0.00000000e+00,   6.66133815e-16,  -3.88578059e-16,\n",
       "          -6.66133815e-16,  -2.22044605e-16],\n",
       "        [  1.94289029e-16,   5.82867088e-16,  -6.10622664e-16,\n",
       "           4.44089210e-16,   8.88178420e-16],\n",
       "        [  2.77555756e-17,   1.52655666e-16,  -1.24900090e-16,\n",
       "           0.00000000e+00,   2.22044605e-16]])"
      ]
     },
     "execution_count": 12,
     "metadata": {},
     "output_type": "execute_result"
    }
   ],
   "source": [
    "U[:,:3]*Sig3*VT[:3,:]-Data"
   ]
  },
  {
   "cell_type": "markdown",
   "metadata": {},
   "source": [
    "# 14.4 基于协同过滤的推荐引擎"
   ]
  },
  {
   "cell_type": "markdown",
   "metadata": {},
   "source": [
    "## 14.4.1 相似度计算"
   ]
  },
  {
   "cell_type": "markdown",
   "metadata": {},
   "source": [
    "**程序清单14-1** 相似度计算"
   ]
  },
  {
   "cell_type": "code",
   "execution_count": 13,
   "metadata": {
    "collapsed": true
   },
   "outputs": [],
   "source": [
    "from numpy import linalg as la"
   ]
  },
  {
   "cell_type": "code",
   "execution_count": 14,
   "metadata": {
    "collapsed": true
   },
   "outputs": [],
   "source": [
    "def eclud_sim(inA, inB):\n",
    "    return 1.0/(1.0 + la.norm(inA - inB))"
   ]
  },
  {
   "cell_type": "code",
   "execution_count": 15,
   "metadata": {
    "collapsed": true
   },
   "outputs": [],
   "source": [
    "def pears_sim(inA, inB):\n",
    "    if len(inA) < 3:\n",
    "        return 1.0\n",
    "    return 0.5 + 0.5 * corrcoef(inA, inB, rowvar=0)[0][1]"
   ]
  },
  {
   "cell_type": "code",
   "execution_count": 16,
   "metadata": {
    "collapsed": true
   },
   "outputs": [],
   "source": [
    "def cos_sim(inA, inB):\n",
    "    num = float(inA.T*inB)\n",
    "    denom = la.norm(inA)*la.norm(inB)\n",
    "    return 0.5+0.5*(num/denom)"
   ]
  },
  {
   "cell_type": "code",
   "execution_count": 17,
   "metadata": {
    "collapsed": true
   },
   "outputs": [],
   "source": [
    "my_mat = mat(load_ex_data())"
   ]
  },
  {
   "cell_type": "code",
   "execution_count": 18,
   "metadata": {
    "collapsed": false
   },
   "outputs": [
    {
     "data": {
      "text/plain": [
       "0.13367660240019172"
      ]
     },
     "execution_count": 18,
     "metadata": {},
     "output_type": "execute_result"
    }
   ],
   "source": [
    "eclud_sim(my_mat[:,0], my_mat[:,4])"
   ]
  },
  {
   "cell_type": "code",
   "execution_count": 19,
   "metadata": {
    "collapsed": false
   },
   "outputs": [
    {
     "data": {
      "text/plain": [
       "1.0"
      ]
     },
     "execution_count": 19,
     "metadata": {},
     "output_type": "execute_result"
    }
   ],
   "source": [
    "eclud_sim(my_mat[:,0], my_mat[:,0])"
   ]
  },
  {
   "cell_type": "code",
   "execution_count": 20,
   "metadata": {
    "collapsed": false
   },
   "outputs": [
    {
     "data": {
      "text/plain": [
       "0.54724555912615336"
      ]
     },
     "execution_count": 20,
     "metadata": {},
     "output_type": "execute_result"
    }
   ],
   "source": [
    "cos_sim(my_mat[:,0], my_mat[:,4])"
   ]
  },
  {
   "cell_type": "code",
   "execution_count": 21,
   "metadata": {
    "collapsed": false
   },
   "outputs": [
    {
     "data": {
      "text/plain": [
       "0.99999999999999989"
      ]
     },
     "execution_count": 21,
     "metadata": {},
     "output_type": "execute_result"
    }
   ],
   "source": [
    "cos_sim(my_mat[:,0], my_mat[:,0])"
   ]
  },
  {
   "cell_type": "code",
   "execution_count": 22,
   "metadata": {
    "collapsed": false
   },
   "outputs": [
    {
     "data": {
      "text/plain": [
       "0.23768619407595826"
      ]
     },
     "execution_count": 22,
     "metadata": {},
     "output_type": "execute_result"
    }
   ],
   "source": [
    "pears_sim(my_mat[:,0], my_mat[:,4])"
   ]
  },
  {
   "cell_type": "code",
   "execution_count": 23,
   "metadata": {
    "collapsed": false
   },
   "outputs": [
    {
     "data": {
      "text/plain": [
       "1.0"
      ]
     },
     "execution_count": 23,
     "metadata": {},
     "output_type": "execute_result"
    }
   ],
   "source": [
    "pears_sim(my_mat[:,0], my_mat[:,0])"
   ]
  },
  {
   "cell_type": "markdown",
   "metadata": {},
   "source": [
    "## 14.4.2 基于物品的相似度还是基于用户的相似度？"
   ]
  },
  {
   "cell_type": "markdown",
   "metadata": {},
   "source": [
    "## 14.4.3 推荐引擎的评价"
   ]
  },
  {
   "cell_type": "markdown",
   "metadata": {},
   "source": [
    "# 14.5 示例：餐馆菜肴推荐引擎"
   ]
  },
  {
   "cell_type": "markdown",
   "metadata": {},
   "source": [
    "## 14.5.1 推荐未尝过的菜肴"
   ]
  },
  {
   "cell_type": "markdown",
   "metadata": {},
   "source": [
    "**程序清单14-2** 基于物品相似度的推荐引擎"
   ]
  },
  {
   "cell_type": "code",
   "execution_count": 25,
   "metadata": {
    "collapsed": true
   },
   "outputs": [],
   "source": [
    "def stand_est(data_mat, user, sim_meas, item):\n",
    "    n = shape(data_mat)[1]\n",
    "    sim_total = 0.0\n",
    "    rat_sim_total = 0.0\n",
    "    for j in range(n):\n",
    "        user_rating = data_mat[user, j]\n",
    "        if user_rating == 0:\n",
    "            continue\n",
    "        over_lap = nonzero(logical_and(data_mat[:,item].A>0,\n",
    "                                      data_mat[:,j].A>0))[0]\n",
    "        if len(over_lap) == 0:\n",
    "            similarity = 0\n",
    "        else:\n",
    "            similarity = sim_meas(data_mat[over_lap, item],\n",
    "                                 data_mat[over_lap, j])\n",
    "            # print('the {} and {} similarity is: {}'.format(item, j, similarity))\n",
    "            sim_total += similarity\n",
    "            rat_sim_total += similarity * user_rating\n",
    "    if sim_total == 0:\n",
    "        return 0\n",
    "    else:\n",
    "        return rat_sim_total/sim_total"
   ]
  },
  {
   "cell_type": "code",
   "execution_count": 26,
   "metadata": {
    "collapsed": true
   },
   "outputs": [],
   "source": [
    "def recommend(data_mat, user, N=3, sim_meas=cos_sim, est_method=stand_est):\n",
    "    unrated_items = nonzero(data_mat[user,:].A==0)[1]\n",
    "    if len(unrated_items) == 0:\n",
    "        return 'You rated everything'\n",
    "    item_scores = []\n",
    "    for item in unrated_items:\n",
    "        estimated_score = est_method(data_mat, user, sim_meas, item)\n",
    "        item_scores.append((item, estimated_score))\n",
    "    return sorted(item_scores, key=lambda jj: jj[1], reverse=True)[:N]"
   ]
  },
  {
   "cell_type": "code",
   "execution_count": 31,
   "metadata": {
    "collapsed": true
   },
   "outputs": [],
   "source": [
    "my_mat = matrix([[4,4,0,2,2],\n",
    "                 [4,0,0,3,3],\n",
    "                 [4,0,0,1,1],\n",
    "                 [1,1,1,2,0],\n",
    "                 [2,2,2,0,0],\n",
    "                 [1,1,1,0,0],\n",
    "                 [5,5,5,0,0]])"
   ]
  },
  {
   "cell_type": "code",
   "execution_count": 32,
   "metadata": {
    "collapsed": false
   },
   "outputs": [
    {
     "data": {
      "text/plain": [
       "matrix([[4, 4, 0, 2, 2],\n",
       "        [4, 0, 0, 3, 3],\n",
       "        [4, 0, 0, 1, 1],\n",
       "        [1, 1, 1, 2, 0],\n",
       "        [2, 2, 2, 0, 0],\n",
       "        [1, 1, 1, 0, 0],\n",
       "        [5, 5, 5, 0, 0]])"
      ]
     },
     "execution_count": 32,
     "metadata": {},
     "output_type": "execute_result"
    }
   ],
   "source": [
    "my_mat"
   ]
  },
  {
   "cell_type": "code",
   "execution_count": 33,
   "metadata": {
    "collapsed": false
   },
   "outputs": [
    {
     "data": {
      "text/plain": [
       "[(2, 2.5), (1, 2.0243290220056256)]"
      ]
     },
     "execution_count": 33,
     "metadata": {},
     "output_type": "execute_result"
    }
   ],
   "source": [
    "recommend(my_mat, 2)"
   ]
  },
  {
   "cell_type": "code",
   "execution_count": 34,
   "metadata": {
    "collapsed": false
   },
   "outputs": [
    {
     "data": {
      "text/plain": [
       "[(2, 3.0), (1, 2.8266504712098603)]"
      ]
     },
     "execution_count": 34,
     "metadata": {},
     "output_type": "execute_result"
    }
   ],
   "source": [
    "recommend(my_mat, 2, sim_meas=eclud_sim)"
   ]
  },
  {
   "cell_type": "code",
   "execution_count": 35,
   "metadata": {
    "collapsed": false
   },
   "outputs": [
    {
     "data": {
      "text/plain": [
       "[(2, 2.5), (1, 2.0)]"
      ]
     },
     "execution_count": 35,
     "metadata": {},
     "output_type": "execute_result"
    }
   ],
   "source": [
    "recommend(my_mat, 2, sim_meas=pears_sim)"
   ]
  },
  {
   "cell_type": "markdown",
   "metadata": {},
   "source": [
    "## 14.5.2 利用SVD提高推荐的效果"
   ]
  },
  {
   "cell_type": "code",
   "execution_count": 37,
   "metadata": {
    "collapsed": true
   },
   "outputs": [],
   "source": [
    "def load_ex_data2():\n",
    "    return[[0, 0, 0, 0, 0, 4, 0, 0, 0, 0, 5],\n",
    "           [0, 0, 0, 3, 0, 4, 0, 0, 0, 0, 3],\n",
    "           [0, 0, 0, 0, 4, 0, 0, 1, 0, 4, 0],\n",
    "           [3, 3, 4, 0, 0, 0, 0, 2, 2, 0, 0],\n",
    "           [5, 4, 5, 0, 0, 0, 0, 5, 5, 0, 0],\n",
    "           [0, 0, 0, 0, 5, 0, 1, 0, 0, 5, 0],\n",
    "           [4, 3, 4, 0, 0, 0, 0, 5, 5, 0, 1],\n",
    "           [0, 0, 0, 4, 0, 4, 0, 0, 0, 0, 4],\n",
    "           [0, 0, 0, 2, 0, 2, 5, 0, 0, 1, 2],\n",
    "           [0, 0, 0, 0, 5, 0, 0, 0, 0, 4, 0],\n",
    "           [1, 0, 0, 0, 0, 0, 0, 1, 2, 0, 0]]"
   ]
  },
  {
   "cell_type": "code",
   "execution_count": 38,
   "metadata": {
    "collapsed": true
   },
   "outputs": [],
   "source": [
    "U, Sigma, VT = la.svd(mat(load_ex_data2()))"
   ]
  },
  {
   "cell_type": "code",
   "execution_count": 39,
   "metadata": {
    "collapsed": false
   },
   "outputs": [
    {
     "data": {
      "text/plain": [
       "array([ 15.77075346,  11.40670395,  11.03044558,   4.84639758,\n",
       "         3.09292055,   2.58097379,   1.00413543,   0.72817072,\n",
       "         0.43800353,   0.22082113,   0.07367823])"
      ]
     },
     "execution_count": 39,
     "metadata": {},
     "output_type": "execute_result"
    }
   ],
   "source": [
    "Sigma"
   ]
  },
  {
   "cell_type": "code",
   "execution_count": 40,
   "metadata": {
    "collapsed": true
   },
   "outputs": [],
   "source": [
    "Sig2 = Sigma**2"
   ]
  },
  {
   "cell_type": "code",
   "execution_count": 41,
   "metadata": {
    "collapsed": false
   },
   "outputs": [
    {
     "data": {
      "text/plain": [
       "541.99999999999955"
      ]
     },
     "execution_count": 41,
     "metadata": {},
     "output_type": "execute_result"
    }
   ],
   "source": [
    "sum(Sig2)"
   ]
  },
  {
   "cell_type": "code",
   "execution_count": 42,
   "metadata": {
    "collapsed": false
   },
   "outputs": [
    {
     "data": {
      "text/plain": [
       "487.79999999999961"
      ]
     },
     "execution_count": 42,
     "metadata": {},
     "output_type": "execute_result"
    }
   ],
   "source": [
    "sum(Sig2)*0.9"
   ]
  },
  {
   "cell_type": "code",
   "execution_count": 43,
   "metadata": {
    "collapsed": false
   },
   "outputs": [
    {
     "data": {
      "text/plain": [
       "378.82955951135784"
      ]
     },
     "execution_count": 43,
     "metadata": {},
     "output_type": "execute_result"
    }
   ],
   "source": [
    "sum(Sig2[:2])"
   ]
  },
  {
   "cell_type": "code",
   "execution_count": 44,
   "metadata": {
    "collapsed": false
   },
   "outputs": [
    {
     "data": {
      "text/plain": [
       "500.50028912757921"
      ]
     },
     "execution_count": 44,
     "metadata": {},
     "output_type": "execute_result"
    }
   ],
   "source": [
    "sum(Sig2[:3])"
   ]
  },
  {
   "cell_type": "markdown",
   "metadata": {},
   "source": [
    "**程序清单14-3** 基于SVD的评分估计"
   ]
  },
  {
   "cell_type": "code",
   "execution_count": 45,
   "metadata": {
    "collapsed": true
   },
   "outputs": [],
   "source": [
    "def svd_est(data_mat, user, sim_meas, item):\n",
    "    n = shape(data_mat)[1]\n",
    "    sim_total = 0.0\n",
    "    rat_sim_total = 0.0\n",
    "    U,Sigma,VT = la.svd(data_mat)\n",
    "    Sig4 = mat(eye(4)*Sigma[:4])\n",
    "    xformed_items = data_mat.T * U[:,:4] *Sig4.I\n",
    "    for j in range(n):\n",
    "        user_rating = data_mat[user,j]\n",
    "        if user_rating == 0 or j == item:\n",
    "            continue\n",
    "        similarity = sim_meas(xformed_items[item,:].T,\n",
    "                             xformed_items[j,:].T)\n",
    "        print('The {} and {} similarity is: {}'.format(item, j, similarity))\n",
    "        sim_total += similarity\n",
    "        rat_sim_total += similarity * user_rating\n",
    "    if sim_total == 0:\n",
    "        return 0\n",
    "    else:\n",
    "        return rat_sim_total/sim_total"
   ]
  },
  {
   "cell_type": "code",
   "execution_count": 51,
   "metadata": {
    "collapsed": false
   },
   "outputs": [],
   "source": [
    "my_mat = mat(load_ex_data2())"
   ]
  },
  {
   "cell_type": "code",
   "execution_count": 53,
   "metadata": {
    "collapsed": false
   },
   "outputs": [
    {
     "name": "stdout",
     "output_type": "stream",
     "text": [
      "The 0 and 3 similarity is: 0.4909504362809655\n",
      "The 0 and 5 similarity is: 0.48427360863288366\n",
      "The 0 and 10 similarity is: 0.5127549449063614\n",
      "The 1 and 3 similarity is: 0.49129446474255783\n",
      "The 1 and 5 similarity is: 0.4815163106117995\n",
      "The 1 and 10 similarity is: 0.5097088624883723\n",
      "The 2 and 3 similarity is: 0.49157334483312753\n",
      "The 2 and 5 similarity is: 0.4823464228706552\n",
      "The 2 and 10 similarity is: 0.5105839479452583\n",
      "The 4 and 3 similarity is: 0.4504947733305868\n",
      "The 4 and 5 similarity is: 0.5067948022540267\n",
      "The 4 and 10 similarity is: 0.512895628760011\n",
      "The 6 and 3 similarity is: 0.7436990825417141\n",
      "The 6 and 5 similarity is: 0.468365960377396\n",
      "The 6 and 10 similarity is: 0.4394646501300239\n",
      "The 7 and 3 similarity is: 0.4821750213197406\n",
      "The 7 and 5 similarity is: 0.4947163013621476\n",
      "The 7 and 10 similarity is: 0.5249702098778072\n",
      "The 8 and 3 similarity is: 0.4913072090951114\n",
      "The 8 and 5 similarity is: 0.4912277621682813\n",
      "The 8 and 10 similarity is: 0.5202895926889711\n",
      "The 9 and 3 similarity is: 0.522378923981421\n",
      "The 9 and 5 similarity is: 0.4961296040273979\n",
      "The 9 and 10 similarity is: 0.49361667411214316\n"
     ]
    },
    {
     "data": {
      "text/plain": [
       "[(4, 3.3447149384692283), (7, 3.3294020724526971), (9, 3.3281008763900686)]"
      ]
     },
     "execution_count": 53,
     "metadata": {},
     "output_type": "execute_result"
    }
   ],
   "source": [
    "recommend(my_mat, 1, est_method=svd_est)"
   ]
  },
  {
   "cell_type": "code",
   "execution_count": 54,
   "metadata": {
    "collapsed": false
   },
   "outputs": [
    {
     "name": "stdout",
     "output_type": "stream",
     "text": [
      "The 0 and 3 similarity is: 0.3419417929706251\n",
      "The 0 and 5 similarity is: 0.12413197970004564\n",
      "The 0 and 10 similarity is: 0.11669809771025108\n",
      "The 1 and 3 similarity is: 0.3455600227334865\n",
      "The 1 and 5 similarity is: 0.1264564541116927\n",
      "The 1 and 10 similarity is: 0.11889179903888569\n",
      "The 2 and 3 similarity is: 0.3451491807013254\n",
      "The 2 and 5 similarity is: 0.12619038994686232\n",
      "The 2 and 10 similarity is: 0.1186402291926914\n",
      "The 4 and 3 similarity is: 0.45012552146129753\n",
      "The 4 and 5 similarity is: 0.5285042654803261\n",
      "The 4 and 10 similarity is: 0.5446471536184855\n",
      "The 6 and 3 similarity is: 0.923822438331844\n",
      "The 6 and 5 similarity is: 0.7248398199313778\n",
      "The 6 and 10 similarity is: 0.7108959162553993\n",
      "The 7 and 3 similarity is: 0.31948180898110834\n",
      "The 7 and 5 similarity is: 0.11832446978388333\n",
      "The 7 and 10 similarity is: 0.11337047794658778\n",
      "The 8 and 3 similarity is: 0.33491047792850354\n",
      "The 8 and 5 similarity is: 0.11967253306435388\n",
      "The 8 and 10 similarity is: 0.11249675489082672\n",
      "The 9 and 3 similarity is: 0.5669176411150859\n",
      "The 9 and 5 similarity is: 0.5900491357375042\n",
      "The 9 and 10 similarity is: 0.6023800494856901\n"
     ]
    },
    {
     "data": {
      "text/plain": [
       "[(4, 3.3469521867021741), (9, 3.3353796573274699), (6, 3.3071930278130366)]"
      ]
     },
     "execution_count": 54,
     "metadata": {},
     "output_type": "execute_result"
    }
   ],
   "source": [
    "recommend(my_mat, 1, est_method=svd_est, sim_meas=pears_sim)"
   ]
  },
  {
   "cell_type": "code",
   "execution_count": 55,
   "metadata": {
    "collapsed": false
   },
   "outputs": [
    {
     "name": "stdout",
     "output_type": "stream",
     "text": [
      "The 0 and 3 similarity is: 0.6123840274755334\n",
      "The 0 and 5 similarity is: 0.5542623150427824\n",
      "The 0 and 10 similarity is: 0.5572078635070534\n",
      "The 1 and 3 similarity is: 0.6364208585338235\n",
      "The 1 and 5 similarity is: 0.5691521960328635\n",
      "The 1 and 10 similarity is: 0.5709292803881685\n",
      "The 2 and 3 similarity is: 0.6077081015315077\n",
      "The 2 and 5 similarity is: 0.5506128833241689\n",
      "The 2 and 10 similarity is: 0.5536597775730837\n",
      "The 4 and 3 similarity is: 0.5267757811863999\n",
      "The 4 and 5 similarity is: 0.5045183157085598\n",
      "The 4 and 10 similarity is: 0.5037094173413517\n",
      "The 6 and 3 similarity is: 0.5435113288743953\n",
      "The 6 and 5 similarity is: 0.4557411700443217\n",
      "The 6 and 10 similarity is: 0.4478192737557705\n",
      "The 7 and 3 similarity is: 0.605924260756124\n",
      "The 7 and 5 similarity is: 0.5537170888296632\n",
      "The 7 and 10 similarity is: 0.5573720982304103\n",
      "The 8 and 3 similarity is: 0.6068608782573052\n",
      "The 8 and 5 similarity is: 0.5521249466837764\n",
      "The 8 and 10 similarity is: 0.5554943599370405\n",
      "The 9 and 3 similarity is: 0.5578275874197102\n",
      "The 9 and 5 similarity is: 0.513662350375147\n",
      "The 9 and 10 similarity is: 0.5104513193486\n"
     ]
    },
    {
     "data": {
      "text/plain": [
       "[(4, 3.3286756747000452), (9, 3.3247038080937834), (7, 3.3224884985810177)]"
      ]
     },
     "execution_count": 55,
     "metadata": {},
     "output_type": "execute_result"
    }
   ],
   "source": [
    "recommend(my_mat, 1, est_method=svd_est, sim_meas=eclud_sim)"
   ]
  },
  {
   "cell_type": "markdown",
   "metadata": {},
   "source": [
    "## 14.5.3 构建推荐引擎面临的挑战"
   ]
  },
  {
   "cell_type": "markdown",
   "metadata": {},
   "source": [
    "# 14.6 基于SVD的图像压缩"
   ]
  },
  {
   "cell_type": "markdown",
   "metadata": {},
   "source": [
    "**程序清单14-4** 图像压缩函数"
   ]
  },
  {
   "cell_type": "code",
   "execution_count": 80,
   "metadata": {
    "collapsed": true
   },
   "outputs": [],
   "source": [
    "def print_mat(in_mat, thresh=0.8):\n",
    "    for i in range(32):\n",
    "        for k in range(32):\n",
    "            if float(in_mat[i,k]) > thresh:\n",
    "                print('1', end='')\n",
    "            else:\n",
    "                print('0', end='')\n",
    "        print('')"
   ]
  },
  {
   "cell_type": "code",
   "execution_count": 81,
   "metadata": {
    "collapsed": true
   },
   "outputs": [],
   "source": [
    "def img_compress(numSV=3, thresh=0.8):\n",
    "    myl = []\n",
    "    for line in open('0_5.txt').readlines():\n",
    "        new_row = []\n",
    "        for i in range(32):\n",
    "            new_row.append(int(line[i]))\n",
    "        myl.append(new_row)\n",
    "    my_mat = mat(myl)\n",
    "    print('****original matrix******')\n",
    "    print_mat(my_mat, thresh)\n",
    "    U,Sigma,VT = la.svd(my_mat)\n",
    "    Sig_recon = mat(zeros((numSV,numSV)))\n",
    "    for k in range(numSV):\n",
    "        Sig_recon[k,k] = Sigma[k]\n",
    "    recon_mat = U[:,:numSV]*Sig_recon*VT[:numSV,:]\n",
    "    print('****reconstructed matrix using {} singular values******'.format(numSV))\n",
    "    print_mat(recon_mat, thresh)"
   ]
  },
  {
   "cell_type": "code",
   "execution_count": 82,
   "metadata": {
    "collapsed": false
   },
   "outputs": [
    {
     "name": "stdout",
     "output_type": "stream",
     "text": [
      "****original matrix******\n",
      "00000000000000110000000000000000\n",
      "00000000000011111100000000000000\n",
      "00000000000111111110000000000000\n",
      "00000000001111111111000000000000\n",
      "00000000111111111111100000000000\n",
      "00000001111111111111110000000000\n",
      "00000000111111111111111000000000\n",
      "00000000111111100001111100000000\n",
      "00000001111111000001111100000000\n",
      "00000011111100000000111100000000\n",
      "00000011111100000000111110000000\n",
      "00000011111100000000011110000000\n",
      "00000011111100000000011110000000\n",
      "00000001111110000000001111000000\n",
      "00000011111110000000001111000000\n",
      "00000011111100000000001111000000\n",
      "00000001111100000000001111000000\n",
      "00000011111100000000001111000000\n",
      "00000001111100000000001111000000\n",
      "00000001111100000000011111000000\n",
      "00000000111110000000001111100000\n",
      "00000000111110000000001111100000\n",
      "00000000111110000000001111100000\n",
      "00000000111110000000011111000000\n",
      "00000000111110000000111111000000\n",
      "00000000111111000001111110000000\n",
      "00000000011111111111111110000000\n",
      "00000000001111111111111110000000\n",
      "00000000001111111111111110000000\n",
      "00000000000111111111111000000000\n",
      "00000000000011111111110000000000\n",
      "00000000000000111111000000000000\n",
      "****reconstructed matrix using 2 singular values******\n",
      "00000000000000000000000000000000\n",
      "00000000000000000000000000000000\n",
      "00000000000001111100000000000000\n",
      "00000000000011111111000000000000\n",
      "00000000000111111111100000000000\n",
      "00000000001111111111110000000000\n",
      "00000000001111111111110000000000\n",
      "00000000011110000000001000000000\n",
      "00000000111100000000001100000000\n",
      "00000000111100000000001110000000\n",
      "00000000111100000000001110000000\n",
      "00000000111100000000001110000000\n",
      "00000000111100000000001110000000\n",
      "00000000111100000000001110000000\n",
      "00000000111100000000001110000000\n",
      "00000000111100000000001110000000\n",
      "00000000111100000000001110000000\n",
      "00000000111100000000001110000000\n",
      "00000000111100000000001110000000\n",
      "00000000111100000000001110000000\n",
      "00000000111100000000001110000000\n",
      "00000000111100000000001110000000\n",
      "00000000111100000000001110000000\n",
      "00000000111100000000001110000000\n",
      "00000000111100000000001110000000\n",
      "00000000111100000000001100000000\n",
      "00000000001111111111111000000000\n",
      "00000000001111111111110000000000\n",
      "00000000001111111111110000000000\n",
      "00000000000011111111100000000000\n",
      "00000000000011111111000000000000\n",
      "00000000000000000000000000000000\n"
     ]
    }
   ],
   "source": [
    "img_compress(2)"
   ]
  },
  {
   "cell_type": "markdown",
   "metadata": {},
   "source": [
    "# 14.7 本章小结"
   ]
  }
 ],
 "metadata": {
  "kernelspec": {
   "display_name": "Python 3",
   "language": "python",
   "name": "python3"
  },
  "language_info": {
   "codemirror_mode": {
    "name": "ipython",
    "version": 3
   },
   "file_extension": ".py",
   "mimetype": "text/x-python",
   "name": "python",
   "nbconvert_exporter": "python",
   "pygments_lexer": "ipython3",
   "version": "3.6.0"
  }
 },
 "nbformat": 4,
 "nbformat_minor": 2
}
