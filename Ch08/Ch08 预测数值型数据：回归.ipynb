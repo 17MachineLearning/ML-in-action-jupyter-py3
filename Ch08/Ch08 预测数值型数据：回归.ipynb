{
 "cells": [
  {
   "cell_type": "markdown",
   "metadata": {},
   "source": [
    "# 8.1 用线性回归找到最佳拟合直线"
   ]
  },
  {
   "cell_type": "markdown",
   "metadata": {},
   "source": [
    "$$\\sum_{i=1}^m\n",
    "(y_i-x_i^Tw)^2$$"
   ]
  },
  {
   "cell_type": "markdown",
   "metadata": {},
   "source": [
    "$$\\hat{w}=(X^T X)^{-1}X^T y$$"
   ]
  },
  {
   "cell_type": "markdown",
   "metadata": {},
   "source": [
    "**程序清单8-1** 标准回归函数和数据导入函数"
   ]
  },
  {
   "cell_type": "code",
   "execution_count": 1,
   "metadata": {
    "collapsed": true
   },
   "outputs": [],
   "source": [
    "from numpy import *"
   ]
  },
  {
   "cell_type": "code",
   "execution_count": 2,
   "metadata": {
    "collapsed": true
   },
   "outputs": [],
   "source": [
    "def load_data_set(file_name):\n",
    "    num_feat = len(open(file_name).readline().split('\\t')) - 1\n",
    "    data_mat = []\n",
    "    label_mat = []\n",
    "    fr = open(file_name)\n",
    "    for line in fr.readlines():\n",
    "        line_arr = []\n",
    "        cur_line = line.strip().split('\\t')\n",
    "        for i in range(num_feat):\n",
    "            line_arr.append(float(cur_line[i]))\n",
    "        data_mat.append(line_arr)\n",
    "        label_mat.append(float(cur_line[-1]))\n",
    "    return data_mat, label_mat"
   ]
  },
  {
   "cell_type": "code",
   "execution_count": 3,
   "metadata": {
    "collapsed": true
   },
   "outputs": [],
   "source": [
    "def stand_regress(x_arr, y_arr):\n",
    "    x_mat = mat(x_arr)\n",
    "    y_mat = mat(y_arr).T\n",
    "    xTx = x_mat.T * x_mat\n",
    "    if linalg.det(xTx) == 0.0:\n",
    "        print('This matrix is singular, cannot do inverse.')\n",
    "        return\n",
    "    ws = xTx.I * (x_mat.T * y_mat)\n",
    "    return ws"
   ]
  },
  {
   "cell_type": "code",
   "execution_count": 4,
   "metadata": {
    "collapsed": true
   },
   "outputs": [],
   "source": [
    "x_arr, y_arr = load_data_set('ex0.txt')"
   ]
  },
  {
   "cell_type": "code",
   "execution_count": 5,
   "metadata": {
    "collapsed": false
   },
   "outputs": [
    {
     "data": {
      "text/plain": [
       "[[1.0, 0.067732], [1.0, 0.42781]]"
      ]
     },
     "execution_count": 5,
     "metadata": {},
     "output_type": "execute_result"
    }
   ],
   "source": [
    "x_arr[0:2]"
   ]
  },
  {
   "cell_type": "code",
   "execution_count": 6,
   "metadata": {
    "collapsed": true
   },
   "outputs": [],
   "source": [
    "ws = stand_regress(x_arr, y_arr)"
   ]
  },
  {
   "cell_type": "code",
   "execution_count": 7,
   "metadata": {
    "collapsed": false
   },
   "outputs": [
    {
     "data": {
      "text/plain": [
       "matrix([[ 3.00774324],\n",
       "        [ 1.69532264]])"
      ]
     },
     "execution_count": 7,
     "metadata": {},
     "output_type": "execute_result"
    }
   ],
   "source": [
    "ws"
   ]
  },
  {
   "cell_type": "code",
   "execution_count": 8,
   "metadata": {
    "collapsed": true
   },
   "outputs": [],
   "source": [
    "x_mat = mat(x_arr)\n",
    "y_mat = mat(y_arr)\n",
    "y_hat = x_mat * ws"
   ]
  },
  {
   "cell_type": "code",
   "execution_count": 9,
   "metadata": {
    "collapsed": true
   },
   "outputs": [],
   "source": [
    "%matplotlib inline\n",
    "import matplotlib.pyplot as plt"
   ]
  },
  {
   "cell_type": "code",
   "execution_count": 10,
   "metadata": {
    "collapsed": false
   },
   "outputs": [
    {
     "data": {
      "image/png": "[encoded data removed]",
      "text/plain": [
       "<matplotlib.figure.Figure at 0x23dbbaa02b0>"
      ]
     },
     "metadata": {},
     "output_type": "display_data"
    }
   ],
   "source": [
    "fig = plt.figure()\n",
    "ax = fig.add_subplot(111)\n",
    "ax.scatter(x_mat[:,1].flatten().A[0],\n",
    "          y_mat.T[:,0].flatten().A[0])\n",
    "x_copy = x_mat.copy()\n",
    "x_copy.sort(0)\n",
    "y_hat = x_copy * ws\n",
    "ax.plot(x_copy[:,1], y_hat)\n",
    "plt.show()"
   ]
  },
  {
   "cell_type": "code",
   "execution_count": 11,
   "metadata": {
    "collapsed": false
   },
   "outputs": [],
   "source": [
    "y_hat = x_mat * ws"
   ]
  },
  {
   "cell_type": "code",
   "execution_count": 12,
   "metadata": {
    "collapsed": false
   },
   "outputs": [
    {
     "data": {
      "text/plain": [
       "array([[ 1.        ,  0.98647356],\n",
       "       [ 0.98647356,  1.        ]])"
      ]
     },
     "execution_count": 12,
     "metadata": {},
     "output_type": "execute_result"
    }
   ],
   "source": [
    "corrcoef(y_hat.T, y_mat)"
   ]
  },
  {
   "cell_type": "markdown",
   "metadata": {},
   "source": [
    "# 8.2 局部加权线性回归"
   ]
  },
  {
   "cell_type": "markdown",
   "metadata": {},
   "source": [
    "$$\\hat{w}=(X^TWX)^{-1} X^TWy$$"
   ]
  },
  {
   "cell_type": "markdown",
   "metadata": {},
   "source": [
    "$$w(i,i)=\\exp\\left(\n",
    "\\frac{\\left|x^{(i)}-x\\right|}{-2k^2}\n",
    "\\right)$$"
   ]
  },
  {
   "cell_type": "markdown",
   "metadata": {},
   "source": [
    "**程序清单8-2** 局部加权线性回归"
   ]
  },
  {
   "cell_type": "code",
   "execution_count": 13,
   "metadata": {
    "collapsed": true
   },
   "outputs": [],
   "source": [
    "def lwlr(test_point, x_arr, y_arr, k=1.0):\n",
    "    x_mat = mat(x_arr)\n",
    "    y_mat = mat(y_arr).T\n",
    "    m = shape(x_mat)[0]\n",
    "    weights = mat(eye((m)))\n",
    "    for j in range(m):\n",
    "        diff_mat = test_point - x_mat[j,:]\n",
    "        weights[j,j] = exp(diff_mat*diff_mat.T/(-2.0*k**2))\n",
    "    xTx = x_mat.T * (weights * x_mat)\n",
    "    if linalg.det(xTx) == 0.0:\n",
    "        print('This matrix is singular, cannot do inverse')\n",
    "        return\n",
    "    ws = xTx.I * (x_mat.T * (weights * y_mat))\n",
    "    return test_point * ws\n",
    "\n",
    "def lwlr_test(test_arr, x_arr, y_arr, k=1.0):\n",
    "    m = shape(test_arr)[0]\n",
    "    y_hat = zeros(m)\n",
    "    for i in range(m):\n",
    "        y_hat[i] = lwlr(test_arr[i], x_arr, y_arr, k)\n",
    "    return y_hat"
   ]
  },
  {
   "cell_type": "code",
   "execution_count": 14,
   "metadata": {
    "collapsed": true
   },
   "outputs": [],
   "source": [
    "x_arr, y_arr = load_data_set('ex0.txt')"
   ]
  },
  {
   "cell_type": "code",
   "execution_count": 15,
   "metadata": {
    "collapsed": false
   },
   "outputs": [
    {
     "data": {
      "text/plain": [
       "3.176513"
      ]
     },
     "execution_count": 15,
     "metadata": {},
     "output_type": "execute_result"
    }
   ],
   "source": [
    "y_arr[0]"
   ]
  },
  {
   "cell_type": "code",
   "execution_count": 16,
   "metadata": {
    "collapsed": false
   },
   "outputs": [
    {
     "data": {
      "text/plain": [
       "matrix([[ 3.12204471]])"
      ]
     },
     "execution_count": 16,
     "metadata": {},
     "output_type": "execute_result"
    }
   ],
   "source": [
    "lwlr(x_arr[0], x_arr, y_arr, 1.0)"
   ]
  },
  {
   "cell_type": "code",
   "execution_count": 17,
   "metadata": {
    "collapsed": false
   },
   "outputs": [
    {
     "data": {
      "text/plain": [
       "matrix([[ 3.20175729]])"
      ]
     },
     "execution_count": 17,
     "metadata": {},
     "output_type": "execute_result"
    }
   ],
   "source": [
    "lwlr(x_arr[0], x_arr, y_arr, 0.001)"
   ]
  },
  {
   "cell_type": "code",
   "execution_count": 18,
   "metadata": {
    "collapsed": true
   },
   "outputs": [],
   "source": [
    "y_hat = lwlr_test(x_arr, x_arr, y_arr, 0.003)"
   ]
  },
  {
   "cell_type": "code",
   "execution_count": 19,
   "metadata": {
    "collapsed": true
   },
   "outputs": [],
   "source": [
    "x_mat = mat(x_arr)\n",
    "srt_ind = x_mat[:,1].argsort(0)\n",
    "x_sort = x_mat[srt_ind][:,0,:]"
   ]
  },
  {
   "cell_type": "code",
   "execution_count": 20,
   "metadata": {
    "collapsed": false
   },
   "outputs": [
    {
     "data": {
      "image/png": "[encoded data removed]",
      "text/plain": [
       "<matplotlib.figure.Figure at 0x23dbbb7f518>"
      ]
     },
     "metadata": {},
     "output_type": "display_data"
    }
   ],
   "source": [
    "fig = plt.figure()\n",
    "ax = fig.add_subplot(111)\n",
    "ax.plot(x_sort[:,1], y_hat[srt_ind])\n",
    "ax.scatter(x_mat[:,1].flatten().A[0],\n",
    "          mat(y_arr).T.flatten().A[0],\n",
    "          s=2, c='red')\n",
    "plt.show()"
   ]
  },
  {
   "cell_type": "markdown",
   "metadata": {},
   "source": [
    "# 8.3 示例：预测鲍鱼的年龄"
   ]
  },
  {
   "cell_type": "code",
   "execution_count": 21,
   "metadata": {
    "collapsed": true
   },
   "outputs": [],
   "source": [
    "def rss_error(y_arr, y_hat_arr):\n",
    "    return ((y_arr-y_hat_arr)**2).sum()"
   ]
  },
  {
   "cell_type": "code",
   "execution_count": 22,
   "metadata": {
    "collapsed": true
   },
   "outputs": [],
   "source": [
    "abX, abY = load_data_set('abalone.txt')\n",
    "y_hat01 = lwlr_test(abX[0:99],abX[0:99],abY[0:99],0.1)\n",
    "y_hat1 = lwlr_test(abX[0:99],abX[0:99],abY[0:99],1)\n",
    "y_hat10 = lwlr_test(abX[0:99],abX[0:99],abY[0:99],10)"
   ]
  },
  {
   "cell_type": "code",
   "execution_count": 23,
   "metadata": {
    "collapsed": false
   },
   "outputs": [
    {
     "data": {
      "text/plain": [
       "56.782860614853824"
      ]
     },
     "execution_count": 23,
     "metadata": {},
     "output_type": "execute_result"
    }
   ],
   "source": [
    "rss_error(abY[0:99], y_hat01.T)"
   ]
  },
  {
   "cell_type": "code",
   "execution_count": 24,
   "metadata": {
    "collapsed": false
   },
   "outputs": [
    {
     "data": {
      "text/plain": [
       "429.89056187020043"
      ]
     },
     "execution_count": 24,
     "metadata": {},
     "output_type": "execute_result"
    }
   ],
   "source": [
    "rss_error(abY[0:99], y_hat1.T)"
   ]
  },
  {
   "cell_type": "code",
   "execution_count": 25,
   "metadata": {
    "collapsed": false
   },
   "outputs": [
    {
     "data": {
      "text/plain": [
       "549.11817088280543"
      ]
     },
     "execution_count": 25,
     "metadata": {},
     "output_type": "execute_result"
    }
   ],
   "source": [
    "rss_error(abY[0:99], y_hat10.T)"
   ]
  },
  {
   "cell_type": "code",
   "execution_count": 26,
   "metadata": {
    "collapsed": false
   },
   "outputs": [
    {
     "data": {
      "text/plain": [
       "1639799.9569486759"
      ]
     },
     "execution_count": 26,
     "metadata": {},
     "output_type": "execute_result"
    }
   ],
   "source": [
    "y_hat01 = lwlr_test(abX[100:199],abX[0:99],abY[0:99],0.1)\n",
    "rss_error(abY[100:199], y_hat01.T)"
   ]
  },
  {
   "cell_type": "code",
   "execution_count": 27,
   "metadata": {
    "collapsed": false
   },
   "outputs": [
    {
     "data": {
      "text/plain": [
       "573.52614418954192"
      ]
     },
     "execution_count": 27,
     "metadata": {},
     "output_type": "execute_result"
    }
   ],
   "source": [
    "y_hat1 = lwlr_test(abX[100:199],abX[0:99],abY[0:99],1)\n",
    "rss_error(abY[100:199], y_hat1.T)"
   ]
  },
  {
   "cell_type": "code",
   "execution_count": 28,
   "metadata": {
    "collapsed": false
   },
   "outputs": [
    {
     "data": {
      "text/plain": [
       "517.57119053831116"
      ]
     },
     "execution_count": 28,
     "metadata": {},
     "output_type": "execute_result"
    }
   ],
   "source": [
    "y_hat10 = lwlr_test(abX[100:199],abX[0:99],abY[0:99],10)\n",
    "rss_error(abY[100:199], y_hat10.T)"
   ]
  },
  {
   "cell_type": "code",
   "execution_count": 29,
   "metadata": {
    "collapsed": false
   },
   "outputs": [
    {
     "data": {
      "text/plain": [
       "518.63631532511113"
      ]
     },
     "execution_count": 29,
     "metadata": {},
     "output_type": "execute_result"
    }
   ],
   "source": [
    "ws = stand_regress(abX[0:99], abY[0:99])\n",
    "y_hat = mat(abX[100:199]) * ws\n",
    "rss_error(abY[100:199], y_hat.T.A)"
   ]
  },
  {
   "cell_type": "markdown",
   "metadata": {},
   "source": [
    "# 8.4 缩减系数来“理解”数据"
   ]
  },
  {
   "cell_type": "markdown",
   "metadata": {},
   "source": [
    "## 8.4.1 岭回归"
   ]
  },
  {
   "cell_type": "markdown",
   "metadata": {},
   "source": [
    "$$\\hat{w}=(X^TX+\\lambda I)^{-1}X^Ty$$"
   ]
  },
  {
   "cell_type": "markdown",
   "metadata": {},
   "source": [
    "**程序清单8-3** 岭回归"
   ]
  },
  {
   "cell_type": "code",
   "execution_count": 30,
   "metadata": {
    "collapsed": true
   },
   "outputs": [],
   "source": [
    "def ridge_regress(x_mat, y_mat, lam=0.2):\n",
    "    xTx = x_mat.T * x_mat\n",
    "    denom = xTx + eye(shape(x_mat)[1]) * lam\n",
    "    if linalg.det(denom) == 0.0:\n",
    "        print('This matrix is singular, cannot do inverse.')\n",
    "        return\n",
    "    ws = denom.I * (x_mat.T * y_mat)\n",
    "    return ws"
   ]
  },
  {
   "cell_type": "code",
   "execution_count": 31,
   "metadata": {
    "collapsed": true
   },
   "outputs": [],
   "source": [
    "def ridge_test(x_arr, y_arr):\n",
    "    x_mat = mat(x_arr)\n",
    "    y_mat = mat(y_arr).T\n",
    "    y_mean = mean(y_mat, 0)\n",
    "    y_mat = y_mat - y_mean\n",
    "    x_means = mean(x_mat, 0)\n",
    "    x_var = var(x_mat, 0)\n",
    "    x_mat = (x_mat - x_means)/x_var\n",
    "    num_test_pts = 30\n",
    "    w_mat = zeros((num_test_pts, shape(x_mat)[1]))\n",
    "    for i in range(num_test_pts):\n",
    "        ws = ridge_regress(x_mat, y_mat, exp(i-10))\n",
    "        w_mat[i,:] = ws.T\n",
    "    return w_mat"
   ]
  },
  {
   "cell_type": "code",
   "execution_count": 32,
   "metadata": {
    "collapsed": true
   },
   "outputs": [],
   "source": [
    "abX, abY = load_data_set('abalone.txt')"
   ]
  },
  {
   "cell_type": "code",
   "execution_count": 33,
   "metadata": {
    "collapsed": true
   },
   "outputs": [],
   "source": [
    "ridge_weights = ridge_test(abX, abY)"
   ]
  },
  {
   "cell_type": "code",
   "execution_count": 34,
   "metadata": {
    "collapsed": false
   },
   "outputs": [
    {
     "data": {
      "image/png": "[encoded data removed]",
      "text/plain": [
       "<matplotlib.figure.Figure at 0x23dbba94a90>"
      ]
     },
     "metadata": {},
     "output_type": "display_data"
    }
   ],
   "source": [
    "fig = plt.figure()\n",
    "ax = fig.add_subplot(111)\n",
    "ax.plot(ridge_weights)\n",
    "plt.show()"
   ]
  },
  {
   "cell_type": "markdown",
   "metadata": {},
   "source": [
    "## 8.4.2 lasso"
   ]
  },
  {
   "cell_type": "markdown",
   "metadata": {},
   "source": [
    "$$\\sum_{k=1}^n w_k^2\\leq\\lambda$$"
   ]
  },
  {
   "cell_type": "markdown",
   "metadata": {},
   "source": [
    "$$\\sum_{k=1}^n\\left|w_k\\right|\\leq\\lambda$$"
   ]
  },
  {
   "cell_type": "markdown",
   "metadata": {},
   "source": [
    "## 8.4.3 前向逐步回归"
   ]
  },
  {
   "cell_type": "markdown",
   "metadata": {},
   "source": [
    "**程序清单8-4** 前向逐步线性回归"
   ]
  },
  {
   "cell_type": "code",
   "execution_count": 35,
   "metadata": {
    "collapsed": true
   },
   "outputs": [],
   "source": [
    "def regularize(x_mat):\n",
    "    in_mat = x_mat.copy()\n",
    "    in_means = mean(in_mat, 0)\n",
    "    in_var = var(in_mat, 0)\n",
    "    in_mat = (in_mat - in_means)/in_var\n",
    "    return in_mat"
   ]
  },
  {
   "cell_type": "code",
   "execution_count": 36,
   "metadata": {
    "collapsed": true
   },
   "outputs": [],
   "source": [
    "def stage_wise(x_arr, y_arr, eps=0.01, num_it=100):\n",
    "    x_mat = mat(x_arr)\n",
    "    y_mat = mat(y_arr).T\n",
    "    y_mean = mean(y_mat, 0)\n",
    "    y_mat = y_mat - y_mean\n",
    "    x_mat = regularize(x_mat)\n",
    "    m,n = shape(x_mat)\n",
    "    return_mat = zeros((num_it, n))\n",
    "    ws = zeros((n,1))\n",
    "    ws_test = ws.copy()\n",
    "    ws_max = ws.copy()\n",
    "    for i in range(num_it):\n",
    "        # print(ws.T)\n",
    "        lowest_error = inf\n",
    "        for j in range(n):\n",
    "            for sign in [-1, 1]:\n",
    "                ws_test = ws.copy()\n",
    "                ws_test[j] += eps * sign\n",
    "                y_test = x_mat * ws_test\n",
    "                rss_e = rss_error(y_mat.A, y_test.A)\n",
    "                if rss_e < lowest_error:\n",
    "                    lowest_error = rss_e\n",
    "                    ws_max = ws_test\n",
    "        ws = ws_max.copy()\n",
    "        return_mat[i,:] = ws.T\n",
    "    return return_mat"
   ]
  },
  {
   "cell_type": "code",
   "execution_count": 37,
   "metadata": {
    "collapsed": true
   },
   "outputs": [],
   "source": [
    "x_arr, y_arr = load_data_set('abalone.txt')"
   ]
  },
  {
   "cell_type": "code",
   "execution_count": 38,
   "metadata": {
    "collapsed": false
   },
   "outputs": [
    {
     "data": {
      "text/plain": [
       "array([[ 0.  ,  0.  ,  0.  , ...,  0.  ,  0.  ,  0.  ],\n",
       "       [ 0.  ,  0.  ,  0.  , ...,  0.  ,  0.  ,  0.  ],\n",
       "       [ 0.  ,  0.  ,  0.  , ...,  0.  ,  0.  ,  0.  ],\n",
       "       ..., \n",
       "       [ 0.05,  0.  ,  0.09, ..., -0.64,  0.  ,  0.36],\n",
       "       [ 0.04,  0.  ,  0.09, ..., -0.64,  0.  ,  0.36],\n",
       "       [ 0.05,  0.  ,  0.09, ..., -0.64,  0.  ,  0.36]])"
      ]
     },
     "execution_count": 38,
     "metadata": {},
     "output_type": "execute_result"
    }
   ],
   "source": [
    "stage_wise(x_arr, y_arr, 0.01, 200)"
   ]
  },
  {
   "cell_type": "code",
   "execution_count": 39,
   "metadata": {
    "collapsed": false
   },
   "outputs": [
    {
     "data": {
      "text/plain": [
       "array([[ 0.   ,  0.   ,  0.   , ...,  0.   ,  0.   ,  0.   ],\n",
       "       [ 0.   ,  0.   ,  0.   , ...,  0.   ,  0.   ,  0.   ],\n",
       "       [ 0.   ,  0.   ,  0.   , ...,  0.   ,  0.   ,  0.   ],\n",
       "       ..., \n",
       "       [ 0.043, -0.011,  0.12 , ..., -0.963, -0.105,  0.187],\n",
       "       [ 0.044, -0.011,  0.12 , ..., -0.963, -0.105,  0.187],\n",
       "       [ 0.043, -0.011,  0.12 , ..., -0.963, -0.105,  0.187]])"
      ]
     },
     "execution_count": 39,
     "metadata": {},
     "output_type": "execute_result"
    }
   ],
   "source": [
    "stage_wise(x_arr, y_arr, 0.001, 5000)"
   ]
  },
  {
   "cell_type": "code",
   "execution_count": 40,
   "metadata": {
    "collapsed": false
   },
   "outputs": [
    {
     "data": {
      "text/plain": [
       "matrix([[ 0.0430442 , -0.02274163,  0.13214087,  0.02075182,  2.22403814,\n",
       "         -0.99895312, -0.11725427,  0.16622915]])"
      ]
     },
     "execution_count": 40,
     "metadata": {},
     "output_type": "execute_result"
    }
   ],
   "source": [
    "x_mat = mat(x_arr)\n",
    "y_mat = mat(y_arr).T\n",
    "x_mat = regularize(x_mat)\n",
    "y_m = mean(y_mat, 0)\n",
    "y_mat = y_mat - y_m\n",
    "weights = stand_regress(x_mat, y_mat.T)\n",
    "weights.T"
   ]
  },
  {
   "cell_type": "markdown",
   "metadata": {},
   "source": [
    "# 8.5 权衡偏差与方差"
   ]
  },
  {
   "cell_type": "markdown",
   "metadata": {},
   "source": [
    "# 8.6 示例：预测乐高玩具套装的价格"
   ]
  },
  {
   "cell_type": "markdown",
   "metadata": {},
   "source": [
    "因为数据源的原因……\n",
    "\n",
    "改天再跑这个示例……"
   ]
  },
  {
   "cell_type": "markdown",
   "metadata": {},
   "source": [
    "# 8.7 本章小结"
   ]
  }
 ],
 "metadata": {
  "kernelspec": {
   "display_name": "Python 3",
   "language": "python",
   "name": "python3"
  },
  "language_info": {
   "codemirror_mode": {
    "name": "ipython",
    "version": 3
   },
   "file_extension": ".py",
   "mimetype": "text/x-python",
   "name": "python",
   "nbconvert_exporter": "python",
   "pygments_lexer": "ipython3",
   "version": "3.6.0"
  }
 },
 "nbformat": 4,
 "nbformat_minor": 2
}
