{
 "cells": [
  {
   "cell_type": "markdown",
   "metadata": {},
   "source": [
    "# 11.1 关联分析"
   ]
  },
  {
   "cell_type": "markdown",
   "metadata": {},
   "source": [
    "# 11.2 Apriori原理"
   ]
  },
  {
   "cell_type": "markdown",
   "metadata": {},
   "source": [
    "# 11.3 使用Apriori算法来发现频繁集"
   ]
  },
  {
   "cell_type": "markdown",
   "metadata": {},
   "source": [
    "## 11.3.1 生成候选项集"
   ]
  },
  {
   "cell_type": "markdown",
   "metadata": {},
   "source": [
    "**程序清单11-1** Apriori算法中的辅助函数"
   ]
  },
  {
   "cell_type": "code",
   "execution_count": 1,
   "metadata": {
    "collapsed": true
   },
   "outputs": [],
   "source": [
    "def load_data_set():\n",
    "    return [[1,3,4],[2,3,5],[1,2,3,5],[2,5]]"
   ]
  },
  {
   "cell_type": "code",
   "execution_count": 2,
   "metadata": {
    "collapsed": true
   },
   "outputs": [],
   "source": [
    "def createC1(data_set):\n",
    "    C1 = []\n",
    "    for transaction in data_set:\n",
    "        for item in transaction:\n",
    "            if not [item] in C1:\n",
    "                C1.append([item])\n",
    "    C1.sort()\n",
    "    return list(map(frozenset, C1))"
   ]
  },
  {
   "cell_type": "code",
   "execution_count": 3,
   "metadata": {
    "collapsed": false
   },
   "outputs": [],
   "source": [
    "def scanD(D, Ck, min_support):\n",
    "    ss_cnt = {}\n",
    "    for tid in D:\n",
    "        for can in Ck:\n",
    "            if can.issubset(tid):\n",
    "                if not can in ss_cnt:\n",
    "                    ss_cnt[can] = 1\n",
    "                else:\n",
    "                    ss_cnt[can] += 1\n",
    "    num_items = float(len(D))\n",
    "    ret_list = []\n",
    "    support_data = {}\n",
    "    for key in ss_cnt:\n",
    "        support = ss_cnt[key]/num_items\n",
    "        if support >= min_support:\n",
    "            ret_list.insert(0, key)\n",
    "        support_data[key] = support\n",
    "    return ret_list, support_data"
   ]
  },
  {
   "cell_type": "code",
   "execution_count": 4,
   "metadata": {
    "collapsed": false
   },
   "outputs": [
    {
     "data": {
      "text/plain": [
       "[[1, 3, 4], [2, 3, 5], [1, 2, 3, 5], [2, 5]]"
      ]
     },
     "execution_count": 4,
     "metadata": {},
     "output_type": "execute_result"
    }
   ],
   "source": [
    "data_set = load_data_set()\n",
    "data_set"
   ]
  },
  {
   "cell_type": "code",
   "execution_count": 5,
   "metadata": {
    "collapsed": false
   },
   "outputs": [
    {
     "data": {
      "text/plain": [
       "[frozenset({1}),\n",
       " frozenset({2}),\n",
       " frozenset({3}),\n",
       " frozenset({4}),\n",
       " frozenset({5})]"
      ]
     },
     "execution_count": 5,
     "metadata": {},
     "output_type": "execute_result"
    }
   ],
   "source": [
    "C1 = createC1(data_set)\n",
    "C1"
   ]
  },
  {
   "cell_type": "code",
   "execution_count": 6,
   "metadata": {
    "collapsed": false
   },
   "outputs": [
    {
     "data": {
      "text/plain": [
       "[{1, 3, 4}, {2, 3, 5}, {1, 2, 3, 5}, {2, 5}]"
      ]
     },
     "execution_count": 6,
     "metadata": {},
     "output_type": "execute_result"
    }
   ],
   "source": [
    "D = list(map(set, data_set))\n",
    "D"
   ]
  },
  {
   "cell_type": "code",
   "execution_count": 7,
   "metadata": {
    "collapsed": false
   },
   "outputs": [
    {
     "data": {
      "text/plain": [
       "[frozenset({5}), frozenset({2}), frozenset({3}), frozenset({1})]"
      ]
     },
     "execution_count": 7,
     "metadata": {},
     "output_type": "execute_result"
    }
   ],
   "source": [
    "L1, supp_data0 = scanD(D, C1, 0.5)\n",
    "L1"
   ]
  },
  {
   "cell_type": "markdown",
   "metadata": {},
   "source": [
    "## 11.3.2 组织完整的Apriori算法"
   ]
  },
  {
   "cell_type": "markdown",
   "metadata": {},
   "source": [
    "**程序清单11-2** Apriori算法"
   ]
  },
  {
   "cell_type": "code",
   "execution_count": 8,
   "metadata": {
    "collapsed": true
   },
   "outputs": [],
   "source": [
    "def apriori_gen(Lk, k):\n",
    "    ret_list = []\n",
    "    len_Lk = len(Lk)\n",
    "    for i in range(len_Lk):\n",
    "        for j in range(i+1, len_Lk):\n",
    "            L1 = list(Lk[i])[:k-2]\n",
    "            L2 = list(Lk[j])[:k-2]\n",
    "            L1.sort()\n",
    "            L2.sort()\n",
    "            if L1==L2:\n",
    "                ret_list.append(Lk[i] | Lk[j])\n",
    "    return ret_list"
   ]
  },
  {
   "cell_type": "code",
   "execution_count": 9,
   "metadata": {
    "collapsed": true
   },
   "outputs": [],
   "source": [
    "def apriori(data_set, min_support=0.5):\n",
    "    C1 = createC1(data_set)\n",
    "    D = list(map(set, data_set))\n",
    "    L1, support_data = scanD(D, C1, min_support)\n",
    "    L = [L1]\n",
    "    k = 2\n",
    "    while (len(L[k-2]) > 0):\n",
    "        Ck = apriori_gen(L[k-2], k)\n",
    "        Lk, sup_k = scanD(D, Ck, min_support)\n",
    "        support_data.update(sup_k)\n",
    "        L.append(Lk)\n",
    "        k += 1\n",
    "    return L, support_data"
   ]
  },
  {
   "cell_type": "code",
   "execution_count": 10,
   "metadata": {
    "collapsed": true
   },
   "outputs": [],
   "source": [
    "L, supp_data = apriori(data_set)"
   ]
  },
  {
   "cell_type": "code",
   "execution_count": 11,
   "metadata": {
    "collapsed": false
   },
   "outputs": [
    {
     "data": {
      "text/plain": [
       "[[frozenset({5}), frozenset({2}), frozenset({3}), frozenset({1})],\n",
       " [frozenset({2, 3}), frozenset({3, 5}), frozenset({2, 5}), frozenset({1, 3})],\n",
       " [frozenset({2, 3, 5})],\n",
       " []]"
      ]
     },
     "execution_count": 11,
     "metadata": {},
     "output_type": "execute_result"
    }
   ],
   "source": [
    "L"
   ]
  },
  {
   "cell_type": "code",
   "execution_count": 12,
   "metadata": {
    "collapsed": false
   },
   "outputs": [
    {
     "data": {
      "text/plain": [
       "[frozenset({5}), frozenset({2}), frozenset({3}), frozenset({1})]"
      ]
     },
     "execution_count": 12,
     "metadata": {},
     "output_type": "execute_result"
    }
   ],
   "source": [
    "L[0]"
   ]
  },
  {
   "cell_type": "code",
   "execution_count": 13,
   "metadata": {
    "collapsed": false
   },
   "outputs": [
    {
     "data": {
      "text/plain": [
       "[frozenset({2, 3}), frozenset({3, 5}), frozenset({2, 5}), frozenset({1, 3})]"
      ]
     },
     "execution_count": 13,
     "metadata": {},
     "output_type": "execute_result"
    }
   ],
   "source": [
    "L[1]"
   ]
  },
  {
   "cell_type": "code",
   "execution_count": 14,
   "metadata": {
    "collapsed": false
   },
   "outputs": [
    {
     "data": {
      "text/plain": [
       "[frozenset({2, 3, 5})]"
      ]
     },
     "execution_count": 14,
     "metadata": {},
     "output_type": "execute_result"
    }
   ],
   "source": [
    "L[2]"
   ]
  },
  {
   "cell_type": "code",
   "execution_count": 15,
   "metadata": {
    "collapsed": false
   },
   "outputs": [
    {
     "data": {
      "text/plain": [
       "[]"
      ]
     },
     "execution_count": 15,
     "metadata": {},
     "output_type": "execute_result"
    }
   ],
   "source": [
    "L[3]"
   ]
  },
  {
   "cell_type": "code",
   "execution_count": 16,
   "metadata": {
    "collapsed": false
   },
   "outputs": [
    {
     "data": {
      "text/plain": [
       "[frozenset({2, 5}),\n",
       " frozenset({3, 5}),\n",
       " frozenset({1, 5}),\n",
       " frozenset({2, 3}),\n",
       " frozenset({1, 2}),\n",
       " frozenset({1, 3})]"
      ]
     },
     "execution_count": 16,
     "metadata": {},
     "output_type": "execute_result"
    }
   ],
   "source": [
    "apriori_gen(L[0], 2)"
   ]
  },
  {
   "cell_type": "code",
   "execution_count": 17,
   "metadata": {
    "collapsed": true
   },
   "outputs": [],
   "source": [
    "L, supp_data = apriori(data_set, min_support=0.7)"
   ]
  },
  {
   "cell_type": "code",
   "execution_count": 18,
   "metadata": {
    "collapsed": false
   },
   "outputs": [
    {
     "data": {
      "text/plain": [
       "[[frozenset({5}), frozenset({2}), frozenset({3})], [frozenset({2, 5})], []]"
      ]
     },
     "execution_count": 18,
     "metadata": {},
     "output_type": "execute_result"
    }
   ],
   "source": [
    "L"
   ]
  },
  {
   "cell_type": "markdown",
   "metadata": {},
   "source": [
    "# 11.4 从频繁项集中挖掘关联规则"
   ]
  },
  {
   "cell_type": "markdown",
   "metadata": {},
   "source": [
    "**程序清单11-3** 关联规则生成函数"
   ]
  },
  {
   "cell_type": "code",
   "execution_count": 19,
   "metadata": {
    "collapsed": true
   },
   "outputs": [],
   "source": [
    "def generate_rules(L, support_data, min_conf=0.7):\n",
    "    big_rule_list = []\n",
    "    for i in range(1, len(L)):\n",
    "        for freq_set in L[i]:\n",
    "            H1 = [frozenset([item]) for item in freq_set]\n",
    "            if (i > 1):\n",
    "                rules_from_conseq(freq_set, H1, support_data, big_rule_list, min_conf)\n",
    "            else:\n",
    "                calc_conf(freq_set, H1, support_data, big_rule_list, min_conf)\n",
    "    return big_rule_list"
   ]
  },
  {
   "cell_type": "code",
   "execution_count": 20,
   "metadata": {
    "collapsed": true
   },
   "outputs": [],
   "source": [
    "def calc_conf(freq_set, H, support_data, brl, min_conf=0.7):\n",
    "    pruned_H = []\n",
    "    for conseq in H:\n",
    "        conf = support_data[freq_set]/support_data[freq_set-conseq]\n",
    "        if conf >= min_conf:\n",
    "            print(freq_set-conseq,'-->',conseq,'conf:',conf)\n",
    "            brl.append((freq_set-conseq, conseq, conf))\n",
    "            pruned_H.append(conseq)\n",
    "    return pruned_H"
   ]
  },
  {
   "cell_type": "code",
   "execution_count": 21,
   "metadata": {
    "collapsed": true
   },
   "outputs": [],
   "source": [
    "def rules_from_conseq(freq_set, H, support_data, brl, min_conf=0.7):\n",
    "    m = len(H[0])\n",
    "    if (len(freq_set) > (m + 1)):\n",
    "        Hmp1 = apriori_gen(H, m+1)\n",
    "        Hmp1 = calc_conf(freq_set, Hmp1, support_data, brl, min_conf)\n",
    "        if (len(Hmp1) > 1):\n",
    "            rules_from_conseq(freq_set, Hmp1, supp_data, brl, min_conf)"
   ]
  },
  {
   "cell_type": "code",
   "execution_count": 22,
   "metadata": {
    "collapsed": true
   },
   "outputs": [],
   "source": [
    "L, supp_data = apriori(data_set, min_support=0.5)"
   ]
  },
  {
   "cell_type": "code",
   "execution_count": 23,
   "metadata": {
    "collapsed": false
   },
   "outputs": [
    {
     "name": "stdout",
     "output_type": "stream",
     "text": [
      "frozenset({5}) --> frozenset({2}) conf: 1.0\n",
      "frozenset({2}) --> frozenset({5}) conf: 1.0\n",
      "frozenset({1}) --> frozenset({3}) conf: 1.0\n"
     ]
    }
   ],
   "source": [
    "rules = generate_rules(L, supp_data, min_conf=0.7)"
   ]
  },
  {
   "cell_type": "code",
   "execution_count": 24,
   "metadata": {
    "collapsed": false
   },
   "outputs": [
    {
     "data": {
      "text/plain": [
       "[(frozenset({5}), frozenset({2}), 1.0),\n",
       " (frozenset({2}), frozenset({5}), 1.0),\n",
       " (frozenset({1}), frozenset({3}), 1.0)]"
      ]
     },
     "execution_count": 24,
     "metadata": {},
     "output_type": "execute_result"
    }
   ],
   "source": [
    "rules"
   ]
  },
  {
   "cell_type": "code",
   "execution_count": 25,
   "metadata": {
    "collapsed": false
   },
   "outputs": [
    {
     "name": "stdout",
     "output_type": "stream",
     "text": [
      "frozenset({3}) --> frozenset({2}) conf: 0.6666666666666666\n",
      "frozenset({2}) --> frozenset({3}) conf: 0.6666666666666666\n",
      "frozenset({5}) --> frozenset({3}) conf: 0.6666666666666666\n",
      "frozenset({3}) --> frozenset({5}) conf: 0.6666666666666666\n",
      "frozenset({5}) --> frozenset({2}) conf: 1.0\n",
      "frozenset({2}) --> frozenset({5}) conf: 1.0\n",
      "frozenset({3}) --> frozenset({1}) conf: 0.6666666666666666\n",
      "frozenset({1}) --> frozenset({3}) conf: 1.0\n",
      "frozenset({5}) --> frozenset({2, 3}) conf: 0.6666666666666666\n",
      "frozenset({3}) --> frozenset({2, 5}) conf: 0.6666666666666666\n",
      "frozenset({2}) --> frozenset({3, 5}) conf: 0.6666666666666666\n"
     ]
    }
   ],
   "source": [
    "rules = generate_rules(L, supp_data, min_conf=0.5)"
   ]
  },
  {
   "cell_type": "code",
   "execution_count": 26,
   "metadata": {
    "collapsed": false
   },
   "outputs": [
    {
     "data": {
      "text/plain": [
       "[(frozenset({3}), frozenset({2}), 0.6666666666666666),\n",
       " (frozenset({2}), frozenset({3}), 0.6666666666666666),\n",
       " (frozenset({5}), frozenset({3}), 0.6666666666666666),\n",
       " (frozenset({3}), frozenset({5}), 0.6666666666666666),\n",
       " (frozenset({5}), frozenset({2}), 1.0),\n",
       " (frozenset({2}), frozenset({5}), 1.0),\n",
       " (frozenset({3}), frozenset({1}), 0.6666666666666666),\n",
       " (frozenset({1}), frozenset({3}), 1.0),\n",
       " (frozenset({5}), frozenset({2, 3}), 0.6666666666666666),\n",
       " (frozenset({3}), frozenset({2, 5}), 0.6666666666666666),\n",
       " (frozenset({2}), frozenset({3, 5}), 0.6666666666666666)]"
      ]
     },
     "execution_count": 26,
     "metadata": {},
     "output_type": "execute_result"
    }
   ],
   "source": [
    "rules"
   ]
  },
  {
   "cell_type": "markdown",
   "metadata": {},
   "source": [
    "# 11.5 示例：发现国会投票中的模式"
   ]
  },
  {
   "cell_type": "markdown",
   "metadata": {},
   "source": [
    "Unable to register an API key.\n",
    "\n",
    "So I skip this part."
   ]
  },
  {
   "cell_type": "markdown",
   "metadata": {},
   "source": [
    "# 11.6 示例：发现毒蘑菇的相似特征"
   ]
  },
  {
   "cell_type": "code",
   "execution_count": 27,
   "metadata": {
    "collapsed": true
   },
   "outputs": [],
   "source": [
    "mush_dat_set = [line.split() for line in open('mushroom.dat').readlines()]"
   ]
  },
  {
   "cell_type": "code",
   "execution_count": 28,
   "metadata": {
    "collapsed": true
   },
   "outputs": [],
   "source": [
    "L, supp_data = apriori(mush_dat_set, min_support=0.3)"
   ]
  },
  {
   "cell_type": "code",
   "execution_count": 29,
   "metadata": {
    "collapsed": false
   },
   "outputs": [
    {
     "name": "stdout",
     "output_type": "stream",
     "text": [
      "frozenset({'2', '28'})\n",
      "frozenset({'53', '2'})\n",
      "frozenset({'2', '23'})\n",
      "frozenset({'2', '34'})\n",
      "frozenset({'2', '36'})\n",
      "frozenset({'2', '59'})\n",
      "frozenset({'2', '63'})\n",
      "frozenset({'2', '67'})\n",
      "frozenset({'76', '2'})\n",
      "frozenset({'85', '2'})\n",
      "frozenset({'86', '2'})\n",
      "frozenset({'90', '2'})\n",
      "frozenset({'2', '93'})\n",
      "frozenset({'2', '39'})\n"
     ]
    }
   ],
   "source": [
    "for item in L[1]:\n",
    "    if item.intersection('2'):\n",
    "        print(item)"
   ]
  },
  {
   "cell_type": "code",
   "execution_count": 30,
   "metadata": {
    "collapsed": false
   },
   "outputs": [
    {
     "name": "stdout",
     "output_type": "stream",
     "text": [
      "frozenset({'85', '2', '39', '28'})\n",
      "frozenset({'85', '34', '2', '28'})\n",
      "frozenset({'85', '59', '2', '28'})\n",
      "frozenset({'85', '2', '63', '28'})\n",
      "frozenset({'85', '2', '90', '28'})\n",
      "frozenset({'2', '86', '39', '28'})\n",
      "frozenset({'34', '2', '86', '28'})\n",
      "frozenset({'59', '2', '86', '28'})\n",
      "frozenset({'2', '86', '63', '28'})\n",
      "frozenset({'85', '2', '86', '28'})\n",
      "frozenset({'2', '86', '90', '28'})\n",
      "frozenset({'34', '2', '90', '28'})\n",
      "frozenset({'59', '34', '2', '28'})\n",
      "frozenset({'34', '2', '63', '28'})\n",
      "frozenset({'59', '2', '63', '28'})\n",
      "frozenset({'34', '2', '39', '28'})\n",
      "frozenset({'59', '2', '39', '28'})\n",
      "frozenset({'2', '63', '39', '28'})\n",
      "frozenset({'53', '85', '34', '2'})\n",
      "frozenset({'53', '85', '2', '86'})\n",
      "frozenset({'53', '85', '2', '90'})\n",
      "frozenset({'53', '85', '2', '39'})\n",
      "frozenset({'53', '85', '2', '28'})\n",
      "frozenset({'53', '34', '2', '86'})\n",
      "frozenset({'53', '2', '86', '90'})\n",
      "frozenset({'53', '2', '86', '39'})\n",
      "frozenset({'53', '2', '86', '28'})\n",
      "frozenset({'53', '34', '2', '90'})\n",
      "frozenset({'53', '2', '90', '39'})\n",
      "frozenset({'53', '2', '90', '28'})\n",
      "frozenset({'53', '34', '2', '39'})\n",
      "frozenset({'53', '34', '2', '28'})\n",
      "frozenset({'53', '2', '39', '28'})\n",
      "frozenset({'36', '34', '2', '23'})\n",
      "frozenset({'59', '34', '2', '23'})\n",
      "frozenset({'34', '2', '63', '23'})\n",
      "frozenset({'34', '2', '93', '23'})\n",
      "frozenset({'34', '2', '23', '39'})\n",
      "frozenset({'36', '59', '2', '23'})\n",
      "frozenset({'36', '59', '34', '2'})\n",
      "frozenset({'36', '2', '63', '23'})\n",
      "frozenset({'36', '34', '2', '63'})\n",
      "frozenset({'36', '2', '93', '23'})\n",
      "frozenset({'36', '34', '2', '93'})\n",
      "frozenset({'36', '59', '2', '93'})\n",
      "frozenset({'36', '2', '23', '39'})\n",
      "frozenset({'36', '34', '2', '39'})\n",
      "frozenset({'59', '2', '63', '23'})\n",
      "frozenset({'59', '34', '2', '63'})\n",
      "frozenset({'59', '36', '2', '63'})\n",
      "frozenset({'59', '2', '93', '23'})\n",
      "frozenset({'59', '34', '2', '93'})\n",
      "frozenset({'59', '2', '23', '39'})\n",
      "frozenset({'59', '34', '2', '39'})\n",
      "frozenset({'59', '36', '2', '39'})\n",
      "frozenset({'34', '2', '93', '63'})\n",
      "frozenset({'36', '2', '93', '63'})\n",
      "frozenset({'59', '2', '93', '63'})\n",
      "frozenset({'2', '63', '23', '39'})\n",
      "frozenset({'34', '2', '63', '39'})\n",
      "frozenset({'36', '2', '63', '39'})\n",
      "frozenset({'59', '2', '63', '39'})\n",
      "frozenset({'34', '2', '67', '39'})\n",
      "frozenset({'34', '2', '76', '39'})\n",
      "frozenset({'85', '2', '23', '39'})\n",
      "frozenset({'85', '34', '2', '39'})\n",
      "frozenset({'85', '34', '2', '23'})\n",
      "frozenset({'85', '36', '2', '39'})\n",
      "frozenset({'85', '36', '2', '23'})\n",
      "frozenset({'85', '36', '34', '2'})\n",
      "frozenset({'85', '59', '2', '39'})\n",
      "frozenset({'85', '59', '2', '23'})\n",
      "frozenset({'85', '59', '34', '2'})\n",
      "frozenset({'85', '59', '36', '2'})\n",
      "frozenset({'85', '2', '63', '39'})\n",
      "frozenset({'85', '2', '63', '23'})\n",
      "frozenset({'85', '34', '2', '63'})\n",
      "frozenset({'85', '36', '2', '63'})\n",
      "frozenset({'85', '59', '2', '63'})\n",
      "frozenset({'85', '2', '67', '39'})\n",
      "frozenset({'85', '34', '2', '67'})\n",
      "frozenset({'85', '2', '76', '39'})\n",
      "frozenset({'85', '34', '2', '76'})\n",
      "frozenset({'85', '2', '90', '39'})\n",
      "frozenset({'85', '2', '23', '90'})\n",
      "frozenset({'85', '34', '2', '90'})\n",
      "frozenset({'85', '36', '2', '90'})\n",
      "frozenset({'85', '59', '2', '90'})\n",
      "frozenset({'85', '2', '63', '90'})\n",
      "frozenset({'85', '2', '93', '39'})\n",
      "frozenset({'85', '2', '93', '23'})\n",
      "frozenset({'85', '34', '2', '93'})\n",
      "frozenset({'85', '36', '2', '93'})\n",
      "frozenset({'85', '59', '2', '93'})\n",
      "frozenset({'85', '2', '93', '63'})\n",
      "frozenset({'85', '2', '93', '90'})\n",
      "frozenset({'2', '86', '23', '39'})\n",
      "frozenset({'34', '2', '86', '39'})\n",
      "frozenset({'34', '2', '86', '23'})\n",
      "frozenset({'36', '2', '86', '39'})\n",
      "frozenset({'36', '2', '86', '23'})\n",
      "frozenset({'36', '34', '2', '86'})\n",
      "frozenset({'59', '2', '86', '39'})\n",
      "frozenset({'59', '2', '86', '23'})\n",
      "frozenset({'59', '34', '2', '86'})\n",
      "frozenset({'59', '36', '2', '86'})\n",
      "frozenset({'2', '86', '63', '39'})\n",
      "frozenset({'2', '86', '63', '23'})\n",
      "frozenset({'34', '2', '86', '63'})\n",
      "frozenset({'36', '2', '86', '63'})\n",
      "frozenset({'59', '2', '86', '63'})\n",
      "frozenset({'2', '67', '86', '39'})\n",
      "frozenset({'34', '2', '67', '86'})\n",
      "frozenset({'2', '86', '76', '39'})\n",
      "frozenset({'34', '2', '86', '76'})\n",
      "frozenset({'85', '2', '86', '39'})\n",
      "frozenset({'85', '2', '86', '23'})\n",
      "frozenset({'85', '34', '2', '86'})\n",
      "frozenset({'85', '36', '2', '86'})\n",
      "frozenset({'85', '59', '2', '86'})\n",
      "frozenset({'85', '2', '86', '63'})\n",
      "frozenset({'85', '2', '67', '86'})\n",
      "frozenset({'85', '2', '86', '76'})\n",
      "frozenset({'2', '86', '90', '39'})\n",
      "frozenset({'2', '86', '23', '90'})\n",
      "frozenset({'34', '2', '86', '90'})\n",
      "frozenset({'36', '2', '86', '90'})\n",
      "frozenset({'59', '2', '86', '90'})\n",
      "frozenset({'2', '86', '63', '90'})\n",
      "frozenset({'85', '2', '86', '90'})\n",
      "frozenset({'2', '93', '86', '39'})\n",
      "frozenset({'2', '93', '86', '23'})\n",
      "frozenset({'34', '2', '93', '86'})\n",
      "frozenset({'36', '2', '93', '86'})\n",
      "frozenset({'59', '2', '93', '86'})\n",
      "frozenset({'2', '93', '86', '63'})\n",
      "frozenset({'85', '2', '93', '86'})\n",
      "frozenset({'2', '93', '86', '90'})\n",
      "frozenset({'34', '2', '90', '39'})\n",
      "frozenset({'34', '2', '23', '90'})\n",
      "frozenset({'36', '2', '90', '39'})\n",
      "frozenset({'36', '34', '2', '90'})\n",
      "frozenset({'59', '2', '90', '39'})\n",
      "frozenset({'59', '2', '23', '90'})\n",
      "frozenset({'59', '34', '2', '90'})\n",
      "frozenset({'59', '36', '2', '90'})\n",
      "frozenset({'2', '63', '90', '39'})\n",
      "frozenset({'34', '2', '63', '90'})\n",
      "frozenset({'36', '2', '63', '90'})\n",
      "frozenset({'59', '2', '63', '90'})\n",
      "frozenset({'2', '93', '90', '39'})\n",
      "frozenset({'2', '93', '23', '90'})\n",
      "frozenset({'34', '2', '93', '90'})\n",
      "frozenset({'36', '2', '93', '90'})\n",
      "frozenset({'59', '2', '93', '90'})\n",
      "frozenset({'2', '93', '63', '90'})\n",
      "frozenset({'2', '93', '23', '39'})\n",
      "frozenset({'34', '2', '93', '39'})\n",
      "frozenset({'36', '2', '93', '39'})\n",
      "frozenset({'59', '2', '93', '39'})\n",
      "frozenset({'2', '93', '63', '39'})\n"
     ]
    }
   ],
   "source": [
    "for item in L[3]:\n",
    "    if item.intersection('2'):\n",
    "        print(item)"
   ]
  },
  {
   "cell_type": "markdown",
   "metadata": {},
   "source": [
    "# 11.7 本章小结"
   ]
  }
 ],
 "metadata": {
  "kernelspec": {
   "display_name": "Python 3",
   "language": "python",
   "name": "python3"
  },
  "language_info": {
   "codemirror_mode": {
    "name": "ipython",
    "version": 3
   },
   "file_extension": ".py",
   "mimetype": "text/x-python",
   "name": "python",
   "nbconvert_exporter": "python",
   "pygments_lexer": "ipython3",
   "version": "3.6.0"
  }
 },
 "nbformat": 4,
 "nbformat_minor": 2
}
