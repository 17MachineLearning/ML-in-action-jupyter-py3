{
 "cells": [
  {
   "cell_type": "markdown",
   "metadata": {},
   "source": [
    "# 5.1 基于Logistic回归和Sigmoid函数的分类"
   ]
  },
  {
   "cell_type": "markdown",
   "metadata": {},
   "source": [
    "$$\n",
    "\\sigma(z)=\\frac{1}{1+\\mathrm{e}^{-z}}\n",
    "$$"
   ]
  },
  {
   "cell_type": "markdown",
   "metadata": {},
   "source": [
    "# 5.2 基于最优化方法的最佳回归系数确定"
   ]
  },
  {
   "cell_type": "markdown",
   "metadata": {},
   "source": [
    "$$z=w_0x_0+w_1x_1+w_2x_2+\\cdots+w_nx_n$$"
   ]
  },
  {
   "cell_type": "markdown",
   "metadata": {},
   "source": [
    "$$z=w^Tx$$"
   ]
  },
  {
   "cell_type": "markdown",
   "metadata": {},
   "source": [
    "## 5.2.1 梯度上升法"
   ]
  },
  {
   "cell_type": "markdown",
   "metadata": {},
   "source": [
    "$$w:=w+\\alpha\\nabla_w f(w)$$"
   ]
  },
  {
   "cell_type": "markdown",
   "metadata": {},
   "source": [
    "## 5.2.2 训练算法：使用梯度上升找到最佳参数"
   ]
  },
  {
   "cell_type": "markdown",
   "metadata": {},
   "source": [
    "**程序清单5-1** Logistic回归梯度上升优化算法"
   ]
  },
  {
   "cell_type": "code",
   "execution_count": 1,
   "metadata": {
    "collapsed": true
   },
   "outputs": [],
   "source": [
    "from numpy import *"
   ]
  },
  {
   "cell_type": "code",
   "execution_count": 2,
   "metadata": {
    "collapsed": true
   },
   "outputs": [],
   "source": [
    "def load_data_set():\n",
    "    data_mat = []\n",
    "    label_mat = []\n",
    "    fr = open('testSet.txt')\n",
    "    for line in fr.readlines():\n",
    "        line_arr = line.strip().split()\n",
    "        data_mat.append([1.0, float(line_arr[0]), float(line_arr[1])])\n",
    "        label_mat.append(int(line_arr[2]))\n",
    "    return data_mat, label_mat\n",
    "\n",
    "def sigmoid(inX):\n",
    "    return 1.0/(1+exp(-inX))\n",
    "\n",
    "def grad_ascent(data_mat_in, class_labels):\n",
    "    data_matrix = mat(data_mat_in)\n",
    "    label_mat = mat(class_labels).transpose()\n",
    "    m, n = shape(data_matrix)\n",
    "    alpha = 0.001\n",
    "    max_cycles = 500\n",
    "    weights = ones((n,1))\n",
    "    for k in range(max_cycles):\n",
    "        h = sigmoid(data_matrix * weights)\n",
    "        error = (label_mat - h)\n",
    "        weights = weights + alpha * data_matrix.transpose() * error\n",
    "    return weights"
   ]
  },
  {
   "cell_type": "code",
   "execution_count": 3,
   "metadata": {
    "collapsed": true
   },
   "outputs": [],
   "source": [
    "data_arr, label_mat = load_data_set()"
   ]
  },
  {
   "cell_type": "code",
   "execution_count": 4,
   "metadata": {
    "collapsed": false
   },
   "outputs": [
    {
     "data": {
      "text/plain": [
       "matrix([[ 4.12414349],\n",
       "        [ 0.48007329],\n",
       "        [-0.6168482 ]])"
      ]
     },
     "execution_count": 4,
     "metadata": {},
     "output_type": "execute_result"
    }
   ],
   "source": [
    "weights = grad_ascent(data_arr, label_mat)\n",
    "weights"
   ]
  },
  {
   "cell_type": "markdown",
   "metadata": {},
   "source": [
    "## 5.2.3 分析数据：画出决策边界"
   ]
  },
  {
   "cell_type": "code",
   "execution_count": 5,
   "metadata": {
    "collapsed": true
   },
   "outputs": [],
   "source": [
    "%matplotlib inline"
   ]
  },
  {
   "cell_type": "markdown",
   "metadata": {},
   "source": [
    "**程序清单5-2** 画出数据集和Logistic回归最佳拟合直线的函数"
   ]
  },
  {
   "cell_type": "code",
   "execution_count": 6,
   "metadata": {
    "collapsed": true
   },
   "outputs": [],
   "source": [
    "def plot_best_fit(weights):\n",
    "    import matplotlib.pyplot as plt\n",
    "    data_mat, label_mat = load_data_set()\n",
    "    data_arr = array(data_mat)\n",
    "    n = shape(data_arr)[0]\n",
    "    xcord1 = []; ycord1 = []\n",
    "    xcord2 = []; ycord2 = []\n",
    "    for i in range(n):\n",
    "        if int(label_mat[i]) == 1:\n",
    "            xcord1.append(data_arr[i,1])\n",
    "            ycord1.append(data_arr[i,2])\n",
    "        else:\n",
    "            xcord2.append(data_arr[i,1])\n",
    "            ycord2.append(data_arr[i,2])\n",
    "    fig = plt.figure()\n",
    "    ax = fig.add_subplot(111)\n",
    "    ax.scatter(xcord1, ycord1, s=30, c='red', marker='s')\n",
    "    ax.scatter(xcord2, ycord2, s=30, c='green')\n",
    "    x = arange(-3.0, 3.0, 0.1)\n",
    "    y = (-weights[0] - weights[1] * x)/weights[2]\n",
    "    ax.plot(x, y)\n",
    "    plt.xlabel('X1')\n",
    "    plt.ylabel('X2')\n",
    "    plt.show()"
   ]
  },
  {
   "cell_type": "code",
   "execution_count": 7,
   "metadata": {
    "collapsed": false
   },
   "outputs": [
    {
     "data": {
      "image/png": "[encoded data removed]",
      "text/plain": [
       "<matplotlib.figure.Figure at 0x1b1c527a2b0>"
      ]
     },
     "metadata": {},
     "output_type": "display_data"
    }
   ],
   "source": [
    "plot_best_fit(weights.getA())"
   ]
  },
  {
   "cell_type": "markdown",
   "metadata": {},
   "source": [
    "## 5.2.4 训练算法：随机梯度上升"
   ]
  },
  {
   "cell_type": "markdown",
   "metadata": {},
   "source": [
    "**程序清单5-3** 随机梯度上升算法"
   ]
  },
  {
   "cell_type": "code",
   "execution_count": 8,
   "metadata": {
    "collapsed": true
   },
   "outputs": [],
   "source": [
    "def stoc_grad_ascent0(data_matrix, class_labels):\n",
    "    m,n = shape(data_matrix)\n",
    "    alpha = 0.01\n",
    "    weights = ones(n)\n",
    "    for i in range(m):\n",
    "        h = sigmoid(sum(data_matrix[i] * weights))\n",
    "        error = class_labels[i] - h\n",
    "        weights = weights + alpha * error * data_matrix[i]\n",
    "    return weights"
   ]
  },
  {
   "cell_type": "code",
   "execution_count": 9,
   "metadata": {
    "collapsed": true
   },
   "outputs": [],
   "source": [
    "data_arr, label_mat = load_data_set()"
   ]
  },
  {
   "cell_type": "code",
   "execution_count": 10,
   "metadata": {
    "collapsed": true
   },
   "outputs": [],
   "source": [
    "weights = stoc_grad_ascent0(array(data_arr), label_mat)"
   ]
  },
  {
   "cell_type": "code",
   "execution_count": 11,
   "metadata": {
    "collapsed": false
   },
   "outputs": [
    {
     "data": {
      "image/png": "[encoded data removed]",
      "text/plain": [
       "<matplotlib.figure.Figure at 0x1b1c52c6ef0>"
      ]
     },
     "metadata": {},
     "output_type": "display_data"
    }
   ],
   "source": [
    "plot_best_fit(weights)"
   ]
  },
  {
   "cell_type": "markdown",
   "metadata": {},
   "source": [
    "**程序清单5-4** 改进的随机梯度上升算法"
   ]
  },
  {
   "cell_type": "code",
   "execution_count": 12,
   "metadata": {
    "collapsed": true
   },
   "outputs": [],
   "source": [
    "def stoc_grad_ascent1(data_matrix, class_labels, num_iter=150):\n",
    "    m,n = shape(data_matrix)\n",
    "    weights = ones(n)\n",
    "    for j in range(num_iter):\n",
    "        data_index = list(range(m))\n",
    "        for i in range(m):\n",
    "            alpha = 4/(1.0+j+i)+0.01\n",
    "            rand_index = int(random.uniform(0, len(data_index)))\n",
    "            h = sigmoid(sum(data_matrix[rand_index] * weights))\n",
    "            error = class_labels[rand_index] - h\n",
    "            weights = weights + alpha * error * data_matrix[rand_index]\n",
    "            del(data_index[rand_index])\n",
    "    return weights"
   ]
  },
  {
   "cell_type": "code",
   "execution_count": 13,
   "metadata": {
    "collapsed": true
   },
   "outputs": [],
   "source": [
    "data_arr, label_mat = load_data_set()"
   ]
  },
  {
   "cell_type": "code",
   "execution_count": 14,
   "metadata": {
    "collapsed": true
   },
   "outputs": [],
   "source": [
    "weights = stoc_grad_ascent1(array(data_arr), label_mat)"
   ]
  },
  {
   "cell_type": "code",
   "execution_count": 15,
   "metadata": {
    "collapsed": false
   },
   "outputs": [
    {
     "data": {
      "image/png": "[encoded data removed]",
      "text/plain": [
       "<matplotlib.figure.Figure at 0x1b1c34710b8>"
      ]
     },
     "metadata": {},
     "output_type": "display_data"
    }
   ],
   "source": [
    "plot_best_fit(weights)"
   ]
  },
  {
   "cell_type": "code",
   "execution_count": 16,
   "metadata": {
    "collapsed": true
   },
   "outputs": [],
   "source": [
    "weights = stoc_grad_ascent1(array(data_arr), label_mat, 500)"
   ]
  },
  {
   "cell_type": "code",
   "execution_count": 17,
   "metadata": {
    "collapsed": false
   },
   "outputs": [
    {
     "data": {
      "image/png": "[encoded data removed]",
      "text/plain": [
       "<matplotlib.figure.Figure at 0x1b1c538aba8>"
      ]
     },
     "metadata": {},
     "output_type": "display_data"
    }
   ],
   "source": [
    "plot_best_fit(weights)"
   ]
  },
  {
   "cell_type": "markdown",
   "metadata": {},
   "source": [
    "# 5.3 从疝气病症预测病马的死亡率"
   ]
  },
  {
   "cell_type": "markdown",
   "metadata": {},
   "source": [
    "## 5.3.1 准备数据：处理数据中的缺失值"
   ]
  },
  {
   "cell_type": "markdown",
   "metadata": {},
   "source": [
    "## 5.3.2 测试算法：用Logistic回归进行分类"
   ]
  },
  {
   "cell_type": "markdown",
   "metadata": {},
   "source": [
    "**程序清单5-5** Logistic回归分类函数"
   ]
  },
  {
   "cell_type": "code",
   "execution_count": 18,
   "metadata": {
    "collapsed": true
   },
   "outputs": [],
   "source": [
    "def classify_vector(inX, weights):\n",
    "    prob = sigmoid(sum(inX * weights))\n",
    "    if prob > 0.5:\n",
    "        return 1.0\n",
    "    else:\n",
    "        return 0.0\n",
    "    \n",
    "def colic_test():\n",
    "    fr_train = open('horseColicTraining.txt')\n",
    "    fr_test = open('horseColicTest.txt')\n",
    "    training_set = []\n",
    "    training_labels = []\n",
    "    for line in fr_train.readlines():\n",
    "        curr_line = line.strip().split('\\t')\n",
    "        line_arr = []\n",
    "        for i in range(21):\n",
    "            line_arr.append(float(curr_line[i]))\n",
    "        training_set.append(line_arr)\n",
    "        training_labels.append(float(curr_line[21]))\n",
    "    train_weights = stoc_grad_ascent1(array(training_set),\n",
    "                                     training_labels, 500)\n",
    "    error_count = 0\n",
    "    num_test_vec = 0\n",
    "    for line in fr_test.readlines():\n",
    "        num_test_vec += 1.0\n",
    "        curr_line = line.strip().split('\\t')\n",
    "        line_arr = []\n",
    "        for i in range(21):\n",
    "            line_arr.append(float(curr_line[i]))\n",
    "        if int(classify_vector(array(line_arr), train_weights)) != int(curr_line[21]):\n",
    "            error_count += 1\n",
    "    error_rate = (float(error_count)/num_test_vec)\n",
    "    print('The error rate of this test is: {}'.format(error_rate))\n",
    "    return error_rate\n",
    "\n",
    "def multi_test():\n",
    "    num_tests = 10\n",
    "    error_sum = 0.0\n",
    "    for k in range(num_tests):\n",
    "        error_sum += colic_test()\n",
    "    print('After {} iterations the average error rate is: {}'\\\n",
    "         .format(num_tests, error_sum/float(num_tests)))"
   ]
  },
  {
   "cell_type": "code",
   "execution_count": 19,
   "metadata": {
    "collapsed": false
   },
   "outputs": [
    {
     "name": "stderr",
     "output_type": "stream",
     "text": [
      "C:\\Users\\xieyu\\AppData\\Local\\Continuum\\Anaconda3\\lib\\site-packages\\ipykernel\\__main__.py:12: RuntimeWarning: overflow encountered in exp\n"
     ]
    },
    {
     "name": "stdout",
     "output_type": "stream",
     "text": [
      "The error rate of this test is: 0.3880597014925373\n",
      "The error rate of this test is: 0.40298507462686567\n",
      "The error rate of this test is: 0.373134328358209\n",
      "The error rate of this test is: 0.373134328358209\n",
      "The error rate of this test is: 0.373134328358209\n",
      "The error rate of this test is: 0.373134328358209\n",
      "The error rate of this test is: 0.417910447761194\n",
      "The error rate of this test is: 0.3582089552238806\n",
      "The error rate of this test is: 0.3880597014925373\n",
      "The error rate of this test is: 0.2537313432835821\n",
      "After 10 iterations the average error rate is: 0.3701492537313433\n"
     ]
    }
   ],
   "source": [
    "multi_test()"
   ]
  },
  {
   "cell_type": "markdown",
   "metadata": {},
   "source": [
    "# 5.4 本章小结"
   ]
  }
 ],
 "metadata": {
  "kernelspec": {
   "display_name": "Python 3",
   "language": "python",
   "name": "python3"
  },
  "language_info": {
   "codemirror_mode": {
    "name": "ipython",
    "version": 3
   },
   "file_extension": ".py",
   "mimetype": "text/x-python",
   "name": "python",
   "nbconvert_exporter": "python",
   "pygments_lexer": "ipython3",
   "version": "3.6.0"
  }
 },
 "nbformat": 4,
 "nbformat_minor": 2
}
