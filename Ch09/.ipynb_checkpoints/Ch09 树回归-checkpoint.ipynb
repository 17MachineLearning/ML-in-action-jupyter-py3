{
 "cells": [
  {
   "cell_type": "markdown",
   "metadata": {},
   "source": [
    "# 9.1 复杂数据的局部性建模"
   ]
  },
  {
   "cell_type": "markdown",
   "metadata": {},
   "source": [
    "# 9.2 连续和离散型特征的树的构建"
   ]
  },
  {
   "cell_type": "markdown",
   "metadata": {},
   "source": [
    "**程序清单9-1** CART算法的实现代码"
   ]
  },
  {
   "cell_type": "code",
   "execution_count": 1,
   "metadata": {
    "collapsed": true
   },
   "outputs": [],
   "source": [
    "from numpy import *"
   ]
  },
  {
   "cell_type": "code",
   "execution_count": 2,
   "metadata": {
    "collapsed": true
   },
   "outputs": [],
   "source": [
    "def load_data_set(file_name):\n",
    "    data_mat = []\n",
    "    fr = open(file_name)\n",
    "    for line in fr.readlines():\n",
    "        cur_line = line.strip().split('\\t')\n",
    "        flt_line = list(map(float, cur_line))\n",
    "        data_mat.append(flt_line)\n",
    "    return data_mat"
   ]
  },
  {
   "cell_type": "code",
   "execution_count": 3,
   "metadata": {
    "collapsed": true
   },
   "outputs": [],
   "source": [
    "def bin_split_data_set(data_set, feature, value):\n",
    "    mat0 = data_set[nonzero(data_set[:,feature] > value)[0],:]\n",
    "    mat1 = data_set[nonzero(data_set[:,feature] <= value)[0],:]\n",
    "    return mat0, mat1"
   ]
  },
  {
   "cell_type": "raw",
   "metadata": {},
   "source": [
    "def create_tree(data_set, leaf_type=reg_leaf, err_type=reg_err, ops=(1,4)):\n",
    "    feat, val = choose_best_split(data_set, leaf_type, err_type, ops)\n",
    "    if feat == None:\n",
    "        return val\n",
    "    ret_tree = {}\n",
    "    ret_tree['sp_ind'] = feat\n",
    "    ret_tree['sp_val'] = val\n",
    "    l_set, r_set = bin_split_data_set(data_set, feat, val)\n",
    "    ret_tree['left'] = create_tree(l_set, leaf_type, err_type, ops)\n",
    "    ret_tree['right'] = create_tree(r_set, leaf_type, err_type, ops)\n",
    "    return ret_tree"
   ]
  },
  {
   "cell_type": "code",
   "execution_count": 4,
   "metadata": {
    "collapsed": true
   },
   "outputs": [],
   "source": [
    "test_mat = mat(eye(4))"
   ]
  },
  {
   "cell_type": "code",
   "execution_count": 5,
   "metadata": {
    "collapsed": false
   },
   "outputs": [
    {
     "data": {
      "text/plain": [
       "matrix([[ 1.,  0.,  0.,  0.],\n",
       "        [ 0.,  1.,  0.,  0.],\n",
       "        [ 0.,  0.,  1.,  0.],\n",
       "        [ 0.,  0.,  0.,  1.]])"
      ]
     },
     "execution_count": 5,
     "metadata": {},
     "output_type": "execute_result"
    }
   ],
   "source": [
    "test_mat"
   ]
  },
  {
   "cell_type": "code",
   "execution_count": 6,
   "metadata": {
    "collapsed": true
   },
   "outputs": [],
   "source": [
    "mat0, mat1 = bin_split_data_set(test_mat, 1, 0.5)"
   ]
  },
  {
   "cell_type": "code",
   "execution_count": 7,
   "metadata": {
    "collapsed": false
   },
   "outputs": [
    {
     "data": {
      "text/plain": [
       "matrix([[ 0.,  1.,  0.,  0.]])"
      ]
     },
     "execution_count": 7,
     "metadata": {},
     "output_type": "execute_result"
    }
   ],
   "source": [
    "mat0"
   ]
  },
  {
   "cell_type": "code",
   "execution_count": 8,
   "metadata": {
    "collapsed": false
   },
   "outputs": [
    {
     "data": {
      "text/plain": [
       "matrix([[ 1.,  0.,  0.,  0.],\n",
       "        [ 0.,  0.,  1.,  0.],\n",
       "        [ 0.,  0.,  0.,  1.]])"
      ]
     },
     "execution_count": 8,
     "metadata": {},
     "output_type": "execute_result"
    }
   ],
   "source": [
    "mat1"
   ]
  },
  {
   "cell_type": "markdown",
   "metadata": {},
   "source": [
    "# 9.3 将CART算法用于回归"
   ]
  },
  {
   "cell_type": "markdown",
   "metadata": {},
   "source": [
    "## 9.3.1 构建树"
   ]
  },
  {
   "cell_type": "markdown",
   "metadata": {},
   "source": [
    "**程序清单9-2** 回归树的切分函数"
   ]
  },
  {
   "cell_type": "code",
   "execution_count": 9,
   "metadata": {
    "collapsed": true
   },
   "outputs": [],
   "source": [
    "def reg_leaf(data_set):\n",
    "    return mean(data_set[:,-1])\n",
    "def reg_err(data_set):\n",
    "    return var(data_set[:,-1]) * shape(data_set)[0]\n",
    "def choose_best_split(data_set, leaf_type=reg_leaf, err_type=reg_err, ops=(1,4)):\n",
    "    tolS = ops[0]\n",
    "    tolN = ops[1]\n",
    "    if len(set(data_set[:,-1].T.tolist()[0])) == 1:\n",
    "        return None, leaf_type(data_set)\n",
    "    m,n = shape(data_set)\n",
    "    S = err_type(data_set)\n",
    "    bestS = inf\n",
    "    best_index = 0\n",
    "    best_value = 0\n",
    "    for feat_index in range(n-1):\n",
    "        for split_val in set((data_set[:,feat_index].T.A.tolist())[0]):\n",
    "            mat0, mat1 = bin_split_data_set(data_set, feat_index, split_val)\n",
    "            if (shape(mat0)[0] < tolN) or (shape(mat1)[0] < tolN):\n",
    "                continue\n",
    "            newS = err_type(mat0) + err_type(mat1)\n",
    "            if newS < bestS:\n",
    "                best_index = feat_index\n",
    "                best_value = split_val\n",
    "                bestS = newS\n",
    "    if (S - bestS) < tolS:\n",
    "        return None, leaf_type(data_set)\n",
    "    mat0, mat1 = bin_split_data_set(data_set, best_index, best_value)\n",
    "    if (shape(mat0)[0] < tolN) or (shape(mat1)[0] < tolN):\n",
    "        return None, leaf_type(data_set)\n",
    "    return best_index, best_value"
   ]
  },
  {
   "cell_type": "code",
   "execution_count": 10,
   "metadata": {
    "collapsed": true
   },
   "outputs": [],
   "source": [
    "def create_tree(data_set, leaf_type=reg_leaf, err_type=reg_err, ops=(1,4)):\n",
    "    feat, val = choose_best_split(data_set, leaf_type, err_type, ops)\n",
    "    if feat == None:\n",
    "        return val\n",
    "    ret_tree = {}\n",
    "    ret_tree['sp_ind'] = feat\n",
    "    ret_tree['sp_val'] = val\n",
    "    l_set, r_set = bin_split_data_set(data_set, feat, val)\n",
    "    ret_tree['left'] = create_tree(l_set, leaf_type, err_type, ops)\n",
    "    ret_tree['right'] = create_tree(r_set, leaf_type, err_type, ops)\n",
    "    return ret_tree"
   ]
  },
  {
   "cell_type": "markdown",
   "metadata": {},
   "source": [
    "## 9.3.2 运行代码"
   ]
  },
  {
   "cell_type": "code",
   "execution_count": 11,
   "metadata": {
    "collapsed": true
   },
   "outputs": [],
   "source": [
    "my_dat = load_data_set('ex00.txt')\n",
    "my_mat = mat(my_dat)"
   ]
  },
  {
   "cell_type": "code",
   "execution_count": 12,
   "metadata": {
    "collapsed": false
   },
   "outputs": [
    {
     "data": {
      "text/plain": [
       "{'left': 1.0180967672413792,\n",
       " 'right': -0.044650285714285719,\n",
       " 'sp_ind': 0,\n",
       " 'sp_val': 0.48813}"
      ]
     },
     "execution_count": 12,
     "metadata": {},
     "output_type": "execute_result"
    }
   ],
   "source": [
    "create_tree(my_mat)"
   ]
  },
  {
   "cell_type": "code",
   "execution_count": 13,
   "metadata": {
    "collapsed": false
   },
   "outputs": [],
   "source": [
    "my_dat1 = load_data_set('ex0.txt')\n",
    "my_mat1 = mat(my_dat1)"
   ]
  },
  {
   "cell_type": "code",
   "execution_count": 14,
   "metadata": {
    "collapsed": false
   },
   "outputs": [
    {
     "data": {
      "text/plain": [
       "{'left': {'left': {'left': 3.9871631999999999,\n",
       "   'right': 2.9836209534883724,\n",
       "   'sp_ind': 1,\n",
       "   'sp_val': 0.797583},\n",
       "  'right': 1.980035071428571,\n",
       "  'sp_ind': 1,\n",
       "  'sp_val': 0.582002},\n",
       " 'right': {'left': 1.0289583666666666,\n",
       "  'right': -0.023838155555555553,\n",
       "  'sp_ind': 1,\n",
       "  'sp_val': 0.197834},\n",
       " 'sp_ind': 1,\n",
       " 'sp_val': 0.39435}"
      ]
     },
     "execution_count": 14,
     "metadata": {},
     "output_type": "execute_result"
    }
   ],
   "source": [
    "create_tree(my_mat1)"
   ]
  },
  {
   "cell_type": "markdown",
   "metadata": {},
   "source": [
    "# 9.4 树剪枝"
   ]
  },
  {
   "cell_type": "markdown",
   "metadata": {},
   "source": [
    "## 9.4.1 预剪枝"
   ]
  },
  {
   "cell_type": "code",
   "execution_count": 15,
   "metadata": {
    "collapsed": false
   },
   "outputs": [
    {
     "data": {
      "text/plain": [
       "{'left': {'left': {'left': {'left': {'left': {'left': {'left': {'left': {'left': {'left': {'left': {'left': {'left': {'left': {'left': {'left': 1.035533,\n",
       "                'right': 1.077553,\n",
       "                'sp_ind': 0,\n",
       "                'sp_val': 0.993349},\n",
       "               'right': {'left': 0.74420699999999995,\n",
       "                'right': 1.069062,\n",
       "                'sp_ind': 0,\n",
       "                'sp_val': 0.988852},\n",
       "               'sp_ind': 0,\n",
       "               'sp_val': 0.989888},\n",
       "              'right': 1.227946,\n",
       "              'sp_ind': 0,\n",
       "              'sp_val': 0.985425},\n",
       "             'right': {'left': {'left': 0.86291099999999998,\n",
       "               'right': 0.67357900000000004,\n",
       "               'sp_ind': 0,\n",
       "               'sp_val': 0.975022},\n",
       "              'right': {'left': {'left': 1.0646899999999999,\n",
       "                'right': {'left': 0.94525499999999996,\n",
       "                 'right': 1.0229060000000001,\n",
       "                 'sp_ind': 0,\n",
       "                 'sp_val': 0.950153},\n",
       "                'sp_ind': 0,\n",
       "                'sp_val': 0.951949},\n",
       "               'right': {'left': 0.63186200000000003,\n",
       "                'right': {'left': {'left': 1.0262579999999999,\n",
       "                  'right': 1.0356449999999999,\n",
       "                  'sp_ind': 0,\n",
       "                  'sp_val': 0.930173},\n",
       "                 'right': 0.88322500000000004,\n",
       "                 'sp_ind': 0,\n",
       "                 'sp_val': 0.928097},\n",
       "                'sp_ind': 0,\n",
       "                'sp_val': 0.936783},\n",
       "               'sp_ind': 0,\n",
       "               'sp_val': 0.948268},\n",
       "              'sp_ind': 0,\n",
       "              'sp_val': 0.953112},\n",
       "             'sp_ind': 0,\n",
       "             'sp_val': 0.976414},\n",
       "            'right': {'left': {'left': {'left': {'left': 1.0298890000000001,\n",
       "                'right': 1.123413,\n",
       "                'sp_ind': 0,\n",
       "                'sp_val': 0.919074},\n",
       "               'right': {'left': 0.86160099999999995,\n",
       "                'right': {'left': 1.0559000000000001,\n",
       "                 'right': 0.99687099999999995,\n",
       "                 'sp_ind': 0,\n",
       "                 'sp_val': 0.900272},\n",
       "                'sp_ind': 0,\n",
       "                'sp_val': 0.901056},\n",
       "               'sp_ind': 0,\n",
       "               'sp_val': 0.902532},\n",
       "              'right': {'left': 1.2402089999999999,\n",
       "               'right': {'left': 1.077275,\n",
       "                'right': 1.1178330000000001,\n",
       "                'sp_ind': 0,\n",
       "                'sp_val': 0.884512},\n",
       "               'sp_ind': 0,\n",
       "               'sp_val': 0.89593},\n",
       "              'sp_ind': 0,\n",
       "              'sp_val': 0.897094},\n",
       "             'right': {'left': {'left': {'left': 0.79700499999999996,\n",
       "                'right': 1.114825,\n",
       "                'sp_ind': 0,\n",
       "                'sp_val': 0.869077},\n",
       "               'right': 0.71748999999999996,\n",
       "               'sp_ind': 0,\n",
       "               'sp_val': 0.860049},\n",
       "              'right': 1.1709590000000001,\n",
       "              'sp_ind': 0,\n",
       "              'sp_val': 0.848921},\n",
       "             'sp_ind': 0,\n",
       "             'sp_val': 0.877241},\n",
       "            'sp_ind': 0,\n",
       "            'sp_val': 0.919384},\n",
       "           'right': {'left': 0.72002999999999995,\n",
       "            'right': 0.95261700000000005,\n",
       "            'sp_ind': 0,\n",
       "            'sp_val': 0.845815},\n",
       "           'sp_ind': 0,\n",
       "           'sp_val': 0.846455},\n",
       "          'right': {'left': {'left': 1.229373,\n",
       "            'right': {'left': 1.01058,\n",
       "             'right': {'left': 1.0821529999999999,\n",
       "              'right': 1.0866480000000001,\n",
       "              'sp_ind': 0,\n",
       "              'sp_val': 0.822443},\n",
       "             'sp_ind': 0,\n",
       "             'sp_val': 0.824442},\n",
       "            'sp_ind': 0,\n",
       "            'sp_val': 0.834078},\n",
       "           'right': {'left': 1.2808949999999999,\n",
       "            'right': 1.3259069999999999,\n",
       "            'sp_ind': 0,\n",
       "            'sp_val': 0.820802},\n",
       "           'sp_ind': 0,\n",
       "           'sp_val': 0.821648},\n",
       "          'sp_ind': 0,\n",
       "          'sp_val': 0.837522},\n",
       "         'right': {'left': {'left': {'left': {'left': 0.83526400000000001,\n",
       "             'right': 1.0952059999999999,\n",
       "             'sp_ind': 0,\n",
       "             'sp_val': 0.814825},\n",
       "            'right': {'left': 0.70660100000000003,\n",
       "             'right': {'left': 0.92403299999999999,\n",
       "              'right': 0.96572100000000005,\n",
       "              'sp_ind': 0,\n",
       "              'sp_val': 0.795072},\n",
       "             'sp_ind': 0,\n",
       "             'sp_val': 0.804586},\n",
       "            'sp_ind': 0,\n",
       "            'sp_val': 0.813719},\n",
       "           'right': {'left': 0.53321399999999997,\n",
       "            'right': 0.55261400000000005,\n",
       "            'sp_ind': 0,\n",
       "            'sp_val': 0.789625},\n",
       "           'sp_ind': 0,\n",
       "           'sp_val': 0.79024},\n",
       "          'right': {'left': {'left': {'left': {'left': {'left': 1.1652960000000001,\n",
       "               'right': {'left': {'left': 0.88604899999999998,\n",
       "                 'right': 1.0744880000000001,\n",
       "                 'sp_ind': 0,\n",
       "                 'sp_val': 0.78193},\n",
       "                'right': 0.83676300000000003,\n",
       "                'sp_ind': 0,\n",
       "                'sp_val': 0.774301},\n",
       "               'sp_ind': 0,\n",
       "               'sp_val': 0.782167},\n",
       "              'right': {'left': {'left': 1.1259429999999999,\n",
       "                'right': 1.140917,\n",
       "                'sp_ind': 0,\n",
       "                'sp_val': 0.773168},\n",
       "               'right': 1.299018,\n",
       "               'sp_ind': 0,\n",
       "               'sp_val': 0.772083},\n",
       "              'sp_ind': 0,\n",
       "              'sp_val': 0.773422},\n",
       "             'right': {'left': {'left': {'left': {'left': 0.89970499999999998,\n",
       "                 'right': 0.76021899999999998,\n",
       "                 'sp_ind': 0,\n",
       "                 'sp_val': 0.768596},\n",
       "                'right': 1.058262,\n",
       "                'sp_ind': 0,\n",
       "                'sp_val': 0.761474},\n",
       "               'right': {'left': 0.74810399999999999,\n",
       "                'right': 0.90629099999999996,\n",
       "                'sp_ind': 0,\n",
       "                'sp_val': 0.750078},\n",
       "               'sp_ind': 0,\n",
       "               'sp_val': 0.750918},\n",
       "              'right': {'left': {'left': 1.087056,\n",
       "                'right': 1.2007810000000001,\n",
       "                'sp_ind': 0,\n",
       "                'sp_val': 0.737189},\n",
       "               'right': {'left': 0.93195600000000001,\n",
       "                'right': {'left': 1.000567,\n",
       "                 'right': 1.017112,\n",
       "                 'sp_ind': 0,\n",
       "                 'sp_val': 0.726828},\n",
       "                'sp_ind': 0,\n",
       "                'sp_val': 0.727098},\n",
       "               'sp_ind': 0,\n",
       "               'sp_val': 0.729234},\n",
       "              'sp_ind': 0,\n",
       "              'sp_val': 0.742527},\n",
       "             'sp_ind': 0,\n",
       "             'sp_val': 0.768784},\n",
       "            'right': 1.307248,\n",
       "            'sp_ind': 0,\n",
       "            'sp_val': 0.72312},\n",
       "           'right': {'left': {'left': 0.93349000000000004,\n",
       "             'right': 0.56485799999999997,\n",
       "             'sp_ind': 0,\n",
       "             'sp_val': 0.712386},\n",
       "            'right': {'left': {'left': {'left': 1.1016779999999999,\n",
       "               'right': 0.82780500000000001,\n",
       "               'sp_ind': 0,\n",
       "               'sp_val': 0.697777},\n",
       "              'right': 1.212434,\n",
       "              'sp_ind': 0,\n",
       "              'sp_val': 0.697718},\n",
       "             'right': {'left': 0.84542300000000004,\n",
       "              'right': 0.83439099999999999,\n",
       "              'sp_ind': 0,\n",
       "              'sp_val': 0.691115},\n",
       "             'sp_ind': 0,\n",
       "             'sp_val': 0.696648},\n",
       "            'sp_ind': 0,\n",
       "            'sp_val': 0.703755},\n",
       "           'sp_ind': 0,\n",
       "           'sp_val': 0.712503},\n",
       "          'sp_ind': 0,\n",
       "          'sp_val': 0.785541},\n",
       "         'sp_ind': 0,\n",
       "         'sp_val': 0.819823},\n",
       "        'right': {'left': 1.414382,\n",
       "         'right': {'left': {'left': 0.99998500000000001,\n",
       "           'right': 1.3072170000000001,\n",
       "           'sp_ind': 0,\n",
       "           'sp_val': 0.67939},\n",
       "          'right': {'left': {'left': 0.90772699999999995,\n",
       "            'right': 0.91507700000000003,\n",
       "            'sp_ind': 0,\n",
       "            'sp_val': 0.673195},\n",
       "           'right': 1.1871290000000001,\n",
       "           'sp_ind': 0,\n",
       "           'sp_val': 0.66387},\n",
       "          'sp_ind': 0,\n",
       "          'sp_val': 0.678287},\n",
       "         'sp_ind': 0,\n",
       "         'sp_val': 0.683886},\n",
       "        'sp_ind': 0,\n",
       "        'sp_val': 0.683921},\n",
       "       'right': {'left': {'left': 0.70163399999999998,\n",
       "         'right': 0.76704000000000006,\n",
       "         'sp_ind': 0,\n",
       "         'sp_val': 0.661923},\n",
       "        'right': {'left': 0.95850599999999997,\n",
       "         'right': 1.004346,\n",
       "         'sp_ind': 0,\n",
       "         'sp_val': 0.652121},\n",
       "        'sp_ind': 0,\n",
       "        'sp_val': 0.656218},\n",
       "       'sp_ind': 0,\n",
       "       'sp_val': 0.6632},\n",
       "      'right': {'left': {'left': 1.3153840000000001,\n",
       "        'right': 1.287407,\n",
       "        'sp_ind': 0,\n",
       "        'sp_val': 0.648675},\n",
       "       'right': {'left': 1.026886,\n",
       "        'right': 1.024241,\n",
       "        'sp_ind': 0,\n",
       "        'sp_val': 0.643665},\n",
       "       'sp_ind': 0,\n",
       "       'sp_val': 0.645762},\n",
       "      'sp_ind': 0,\n",
       "      'sp_val': 0.651376},\n",
       "     'right': {'left': 0.78255200000000003,\n",
       "      'right': 0.84054399999999996,\n",
       "      'sp_ind': 0,\n",
       "      'sp_val': 0.626011},\n",
       "     'sp_ind': 0,\n",
       "     'sp_val': 0.643601},\n",
       "    'right': 1.244731,\n",
       "    'sp_ind': 0,\n",
       "    'sp_val': 0.625791},\n",
       "   'right': {'left': 0.62369600000000003,\n",
       "    'right': 0.76632999999999996,\n",
       "    'sp_ind': 0,\n",
       "    'sp_val': 0.622398},\n",
       "   'sp_ind': 0,\n",
       "   'sp_val': 0.625336},\n",
       "  'right': {'left': {'left': 1.3344210000000001,\n",
       "    'right': 1.6210910000000001,\n",
       "    'sp_ind': 0,\n",
       "    'sp_val': 0.613765},\n",
       "   'right': {'left': {'left': {'left': {'left': {'left': {'left': {'left': 0.98203600000000002,\n",
       "          'right': 1.212685,\n",
       "          'sp_ind': 0,\n",
       "          'sp_val': 0.604529},\n",
       "         'right': 0.97477000000000003,\n",
       "         'sp_ind': 0,\n",
       "         'sp_val': 0.597409},\n",
       "        'right': {'left': 1.213435,\n",
       "         'right': 1.3366610000000001,\n",
       "         'sp_ind': 0,\n",
       "         'sp_val': 0.59021},\n",
       "        'sp_ind': 0,\n",
       "        'sp_val': 0.595012},\n",
       "       'right': {'left': 0.70553100000000002,\n",
       "        'right': {'left': {'left': {'left': 1.1858120000000001,\n",
       "           'right': 0.92188499999999995,\n",
       "           'sp_ind': 0,\n",
       "           'sp_val': 0.578252},\n",
       "          'right': 1.234129,\n",
       "          'sp_ind': 0,\n",
       "          'sp_val': 0.576946},\n",
       "         'right': {'left': 0.89908999999999994,\n",
       "          'right': {'left': {'left': 1.06613,\n",
       "            'right': 0.96905799999999997,\n",
       "            'sp_ind': 0,\n",
       "            'sp_val': 0.567704},\n",
       "           'right': 1.0705290000000001,\n",
       "           'sp_ind': 0,\n",
       "           'sp_val': 0.561362},\n",
       "          'sp_ind': 0,\n",
       "          'sp_val': 0.574573},\n",
       "         'sp_ind': 0,\n",
       "         'sp_val': 0.575805},\n",
       "        'sp_ind': 0,\n",
       "        'sp_val': 0.589575},\n",
       "       'sp_ind': 0,\n",
       "       'sp_val': 0.590062},\n",
       "      'right': {'left': {'left': {'left': 1.2531509999999999,\n",
       "         'right': 1.391273,\n",
       "         'sp_ind': 0,\n",
       "         'sp_val': 0.55352},\n",
       "        'right': 1.0361579999999999,\n",
       "        'sp_ind': 0,\n",
       "        'sp_val': 0.55299},\n",
       "       'right': 1.3696299999999999,\n",
       "       'sp_ind': 0,\n",
       "       'sp_val': 0.552381},\n",
       "      'sp_ind': 0,\n",
       "      'sp_val': 0.559763},\n",
       "     'right': {'left': {'left': {'left': 0.89374799999999999,\n",
       "        'right': 1.0538460000000001,\n",
       "        'sp_ind': 0,\n",
       "        'sp_val': 0.539558},\n",
       "       'right': {'left': {'left': 0.86728400000000005,\n",
       "         'right': 0.89346199999999998,\n",
       "         'sp_ind': 0,\n",
       "         'sp_val': 0.530897},\n",
       "        'right': {'left': 1.0222059999999999,\n",
       "         'right': 0.87956000000000001,\n",
       "         'sp_ind': 0,\n",
       "         'sp_val': 0.527505},\n",
       "        'sp_ind': 0,\n",
       "        'sp_val': 0.529491},\n",
       "       'sp_ind': 0,\n",
       "       'sp_val': 0.536689},\n",
       "      'right': {'left': 1.209557,\n",
       "       'right': {'left': 0.96198300000000003,\n",
       "        'right': 1.0371790000000001,\n",
       "        'sp_ind': 0,\n",
       "        'sp_val': 0.518735},\n",
       "       'sp_ind': 0,\n",
       "       'sp_val': 0.520044},\n",
       "      'sp_ind': 0,\n",
       "      'sp_val': 0.520207},\n",
       "     'sp_ind': 0,\n",
       "     'sp_val': 0.541314},\n",
       "    'right': {'left': 1.4935860000000001,\n",
       "     'right': {'left': 1.1566479999999999,\n",
       "      'right': 1.1072649999999999,\n",
       "      'sp_ind': 0,\n",
       "      'sp_val': 0.50794},\n",
       "     'sp_ind': 0,\n",
       "     'sp_val': 0.514563},\n",
       "    'sp_ind': 0,\n",
       "    'sp_val': 0.517921},\n",
       "   'sp_ind': 0,\n",
       "   'sp_val': 0.61127},\n",
       "  'sp_ind': 0,\n",
       "  'sp_val': 0.620599},\n",
       " 'right': {'left': {'left': {'left': {'left': {'left': -0.097791000000000003,\n",
       "      'right': {'left': -0.16370699999999999,\n",
       "       'right': -0.15293999999999999,\n",
       "       'sp_ind': 0,\n",
       "       'sp_val': 0.465625},\n",
       "      'sp_ind': 0,\n",
       "      'sp_val': 0.475976},\n",
       "     'right': {'left': {'left': -0.061455999999999997,\n",
       "       'right': {'left': 0.069098000000000007,\n",
       "        'right': {'left': 0.026974000000000001,\n",
       "         'right': 0.034014000000000003,\n",
       "         'sp_ind': 0,\n",
       "         'sp_val': 0.438367},\n",
       "        'sp_ind': 0,\n",
       "        'sp_val': 0.448656},\n",
       "       'sp_ind': 0,\n",
       "       'sp_val': 0.44928},\n",
       "      'right': -0.18865899999999999,\n",
       "      'sp_ind': 0,\n",
       "      'sp_val': 0.429664},\n",
       "     'sp_ind': 0,\n",
       "     'sp_val': 0.458121},\n",
       "    'right': 0.33172200000000002,\n",
       "    'sp_ind': 0,\n",
       "    'sp_val': 0.41023},\n",
       "   'right': {'left': {'left': {'left': {'left': -0.366317,\n",
       "       'right': {'left': -0.12164,\n",
       "        'right': -0.29609400000000002,\n",
       "        'sp_ind': 0,\n",
       "        'sp_val': 0.378595},\n",
       "       'sp_ind': 0,\n",
       "       'sp_val': 0.401152},\n",
       "      'right': {'left': 0.088505,\n",
       "       'right': -0.24354999999999999,\n",
       "       'sp_ind': 0,\n",
       "       'sp_val': 0.377201},\n",
       "      'sp_ind': 0,\n",
       "      'sp_val': 0.377597},\n",
       "     'right': {'left': -0.55646399999999996,\n",
       "      'right': -0.20483000000000001,\n",
       "      'sp_ind': 0,\n",
       "      'sp_val': 0.360323},\n",
       "     'sp_ind': 0,\n",
       "     'sp_val': 0.362314},\n",
       "    'right': {'left': {'left': {'left': -0.11939900000000001,\n",
       "       'right': 0.048939000000000003,\n",
       "       'sp_ind': 0,\n",
       "       'sp_val': 0.348013},\n",
       "      'right': {'left': {'left': -0.15340500000000001,\n",
       "        'right': -0.15038899999999999,\n",
       "        'sp_ind': 0,\n",
       "        'sp_val': 0.346986},\n",
       "       'right': -0.061539000000000003,\n",
       "       'sp_ind': 0,\n",
       "       'sp_val': 0.344102},\n",
       "      'sp_ind': 0,\n",
       "      'sp_val': 0.347837},\n",
       "     'right': -0.37169999999999997,\n",
       "     'sp_ind': 0,\n",
       "     'sp_val': 0.343554},\n",
       "    'sp_ind': 0,\n",
       "    'sp_val': 0.355688},\n",
       "   'sp_ind': 0,\n",
       "   'sp_val': 0.406649},\n",
       "  'right': {'left': {'left': {'left': 0.175264,\n",
       "     'right': 0.20678299999999999,\n",
       "     'sp_ind': 0,\n",
       "     'sp_val': 0.339563},\n",
       "    'right': {'left': 0.026332000000000001,\n",
       "     'right': 0.21008399999999999,\n",
       "     'sp_ind': 0,\n",
       "     'sp_val': 0.332982},\n",
       "    'sp_ind': 0,\n",
       "    'sp_val': 0.3371},\n",
       "   'right': {'left': {'left': {'left': {'left': {'left': {'left': -0.219245,\n",
       "         'right': {'left': 0.180811,\n",
       "          'right': {'left': {'left': {'left': {'left': {'left': -0.001952,\n",
       "               'right': {'left': -0.17732100000000001,\n",
       "                'right': {'left': -0.115991,\n",
       "                 'right': -0.14865,\n",
       "                 'sp_ind': 0,\n",
       "                 'sp_val': 0.302217},\n",
       "                'sp_ind': 0,\n",
       "                'sp_val': 0.30554},\n",
       "               'sp_ind': 0,\n",
       "               'sp_val': 0.306964},\n",
       "              'right': {'left': 0.317135,\n",
       "               'right': 0.002882,\n",
       "               'sp_ind': 0,\n",
       "               'sp_val': 0.295511},\n",
       "              'sp_ind': 0,\n",
       "              'sp_val': 0.302001},\n",
       "             'right': -0.22888,\n",
       "             'sp_ind': 0,\n",
       "             'sp_val': 0.280738},\n",
       "            'right': 0.25362800000000002,\n",
       "            'sp_ind': 0,\n",
       "            'sp_val': 0.278661},\n",
       "           'right': {'left': {'left': -0.085712999999999998,\n",
       "             'right': {'left': -0.45521899999999998,\n",
       "              'right': -0.16597100000000001,\n",
       "              'sp_ind': 0,\n",
       "              'sp_val': 0.269681},\n",
       "             'sp_ind': 0,\n",
       "             'sp_val': 0.273147},\n",
       "            'right': {'left': 0.073446999999999998,\n",
       "             'right': {'left': -0.055613000000000003,\n",
       "              'right': {'left': 0.046296999999999998,\n",
       "               'right': -0.029467,\n",
       "               'sp_ind': 0,\n",
       "               'sp_val': 0.243909},\n",
       "              'sp_ind': 0,\n",
       "              'sp_val': 0.250744},\n",
       "             'sp_ind': 0,\n",
       "             'sp_val': 0.252649},\n",
       "            'sp_ind': 0,\n",
       "            'sp_val': 0.268857},\n",
       "           'sp_ind': 0,\n",
       "           'sp_val': 0.27394},\n",
       "          'sp_ind': 0,\n",
       "          'sp_val': 0.314924},\n",
       "         'sp_ind': 0,\n",
       "         'sp_val': 0.323181},\n",
       "        'right': 0.20935899999999999,\n",
       "        'sp_ind': 0,\n",
       "        'sp_val': 0.242204},\n",
       "       'right': {'left': {'left': -0.35845900000000003,\n",
       "         'right': -0.34814699999999998,\n",
       "         'sp_ind': 0,\n",
       "         'sp_val': 0.233115},\n",
       "        'right': {'left': {'left': -0.0068989999999999998,\n",
       "          'right': {'left': {'left': -0.064035999999999996,\n",
       "            'right': -0.087744000000000003,\n",
       "            'sp_ind': 0,\n",
       "            'sp_val': 0.202054},\n",
       "           'right': -0.048847000000000002,\n",
       "           'sp_ind': 0,\n",
       "           'sp_val': 0.196005},\n",
       "          'sp_ind': 0,\n",
       "          'sp_val': 0.203693},\n",
       "         'right': -0.32758900000000002,\n",
       "         'sp_ind': 0,\n",
       "         'sp_val': 0.193641},\n",
       "        'sp_ind': 0,\n",
       "        'sp_val': 0.210334},\n",
       "       'sp_ind': 0,\n",
       "       'sp_val': 0.23807},\n",
       "      'right': {'left': {'left': {'left': {'left': {'left': 0.11368499999999999,\n",
       "           'right': 0.18484300000000001,\n",
       "           'sp_ind': 0,\n",
       "           'sp_val': 0.18351},\n",
       "          'right': {'left': 0.103676,\n",
       "           'right': 0.132858,\n",
       "           'sp_ind': 0,\n",
       "           'sp_val': 0.152324},\n",
       "          'sp_ind': 0,\n",
       "          'sp_val': 0.180506},\n",
       "         'right': 0.20429800000000001,\n",
       "         'sp_ind': 0,\n",
       "         'sp_val': 0.148049},\n",
       "        'right': {'left': 0.034283000000000001,\n",
       "         'right': 0.13697899999999999,\n",
       "         'sp_ind': 0,\n",
       "         'sp_val': 0.145809},\n",
       "        'sp_ind': 0,\n",
       "        'sp_val': 0.146366},\n",
       "       'right': {'left': {'left': -0.22314300000000001,\n",
       "         'right': -0.329372,\n",
       "         'sp_ind': 0,\n",
       "         'sp_val': 0.132543},\n",
       "        'right': {'left': {'left': {'left': 0.18424099999999999,\n",
       "           'right': -0.026166999999999999,\n",
       "           'sp_ind': 0,\n",
       "           'sp_val': 0.130052},\n",
       "          'right': 0.30510700000000002,\n",
       "          'sp_ind': 0,\n",
       "          'sp_val': 0.129061},\n",
       "         'right': {'left': {'left': {'left': -0.077409000000000006,\n",
       "            'right': {'left': 0.068834000000000006,\n",
       "             'right': 0.02528,\n",
       "             'sp_ind': 0,\n",
       "             'sp_val': 0.099142},\n",
       "            'sp_ind': 0,\n",
       "            'sp_val': 0.101149},\n",
       "           'right': -0.33276,\n",
       "           'sp_ind': 0,\n",
       "           'sp_val': 0.098016},\n",
       "          'right': {'left': 0.22716700000000001,\n",
       "           'right': {'left': 0.099934999999999996,\n",
       "            'right': -0.019546999999999998,\n",
       "            'sp_ind': 0,\n",
       "            'sp_val': 0.084248},\n",
       "           'sp_ind': 0,\n",
       "           'sp_val': 0.091358},\n",
       "          'sp_ind': 0,\n",
       "          'sp_val': 0.096994},\n",
       "         'sp_ind': 0,\n",
       "         'sp_val': 0.118156},\n",
       "        'sp_ind': 0,\n",
       "        'sp_val': 0.130962},\n",
       "       'sp_ind': 0,\n",
       "       'sp_val': 0.1333},\n",
       "      'sp_ind': 0,\n",
       "      'sp_val': 0.188218},\n",
       "     'right': {'left': {'left': -0.269756,\n",
       "       'right': {'left': -0.349692,\n",
       "        'right': -0.420983,\n",
       "        'sp_ind': 0,\n",
       "        'sp_val': 0.072243},\n",
       "       'sp_ind': 0,\n",
       "       'sp_val': 0.074795},\n",
       "      'right': {'left': {'left': -0.110946,\n",
       "        'right': 0.052439,\n",
       "        'sp_ind': 0,\n",
       "        'sp_val': 0.066172},\n",
       "       'right': -0.30697000000000002,\n",
       "       'sp_ind': 0,\n",
       "       'sp_val': 0.065615},\n",
       "      'sp_ind': 0,\n",
       "      'sp_val': 0.071769},\n",
       "     'sp_ind': 0,\n",
       "     'sp_val': 0.081931},\n",
       "    'right': {'left': {'left': 0.064495999999999998,\n",
       "      'right': {'left': 0.40815499999999999,\n",
       "       'right': 0.15509600000000001,\n",
       "       'sp_ind': 0,\n",
       "       'sp_val': 0.036098},\n",
       "      'sp_ind': 0,\n",
       "      'sp_val': 0.036492},\n",
       "     'right': {'left': -0.132525,\n",
       "      'right': {'left': 0.056593999999999998,\n",
       "       'right': {'left': {'left': 0.069975999999999997,\n",
       "         'right': 0.094149999999999998,\n",
       "         'sp_ind': 0,\n",
       "         'sp_val': 0.007044},\n",
       "        'right': 0.060902999999999999,\n",
       "        'sp_ind': 0,\n",
       "        'sp_val': 0.000234},\n",
       "       'sp_ind': 0,\n",
       "       'sp_val': 0.008307},\n",
       "      'sp_ind': 0,\n",
       "      'sp_val': 0.009849},\n",
       "     'sp_ind': 0,\n",
       "     'sp_val': 0.014083},\n",
       "    'sp_ind': 0,\n",
       "    'sp_val': 0.048014},\n",
       "   'sp_ind': 0,\n",
       "   'sp_val': 0.325412},\n",
       "  'sp_ind': 0,\n",
       "  'sp_val': 0.343479},\n",
       " 'sp_ind': 0,\n",
       " 'sp_val': 0.48813}"
      ]
     },
     "execution_count": 15,
     "metadata": {},
     "output_type": "execute_result"
    }
   ],
   "source": [
    "create_tree(my_mat, ops=(0,1))"
   ]
  },
  {
   "cell_type": "code",
   "execution_count": 16,
   "metadata": {
    "collapsed": false
   },
   "outputs": [
    {
     "data": {
      "text/plain": [
       "{'left': {'left': {'left': {'left': 105.24862350000001,\n",
       "    'right': 112.42895575000001,\n",
       "    'sp_ind': 0,\n",
       "    'sp_val': 0.958512},\n",
       "   'right': {'left': {'left': {'left': {'left': 87.310387500000004,\n",
       "       'right': {'left': {'left': 96.452866999999998,\n",
       "         'right': {'left': 104.82540899999999,\n",
       "          'right': {'left': 95.181792999999999,\n",
       "           'right': 102.25234449999999,\n",
       "           'sp_ind': 0,\n",
       "           'sp_val': 0.872883},\n",
       "          'sp_ind': 0,\n",
       "          'sp_val': 0.892999},\n",
       "         'sp_ind': 0,\n",
       "         'sp_val': 0.910975},\n",
       "        'right': 95.275843166666661,\n",
       "        'sp_ind': 0,\n",
       "        'sp_val': 0.85497},\n",
       "       'sp_ind': 0,\n",
       "       'sp_val': 0.944221},\n",
       "      'right': {'left': 81.110151999999999,\n",
       "       'right': 88.784498800000009,\n",
       "       'sp_ind': 0,\n",
       "       'sp_val': 0.811602},\n",
       "      'sp_ind': 0,\n",
       "      'sp_val': 0.833026},\n",
       "     'right': 102.35780185714285,\n",
       "     'sp_ind': 0,\n",
       "     'sp_val': 0.790312},\n",
       "    'right': 78.085643250000004,\n",
       "    'sp_ind': 0,\n",
       "    'sp_val': 0.759504},\n",
       "   'sp_ind': 0,\n",
       "   'sp_val': 0.952833},\n",
       "  'right': {'left': {'left': {'left': 114.554706,\n",
       "     'right': {'left': 104.82495374999999,\n",
       "      'right': 108.92921799999999,\n",
       "      'sp_ind': 0,\n",
       "      'sp_val': 0.698472},\n",
       "     'sp_ind': 0,\n",
       "     'sp_val': 0.706961},\n",
       "    'right': 114.15162428571431,\n",
       "    'sp_ind': 0,\n",
       "    'sp_val': 0.666452},\n",
       "   'right': {'left': 93.673449714285724,\n",
       "    'right': {'left': 123.2101316,\n",
       "     'right': {'left': 97.200180249999988,\n",
       "      'right': {'left': {'left': 109.38961049999999,\n",
       "        'right': 110.979946,\n",
       "        'sp_ind': 0,\n",
       "        'sp_val': 0.543843},\n",
       "       'right': 101.73699325000001,\n",
       "       'sp_ind': 0,\n",
       "       'sp_val': 0.51915},\n",
       "      'sp_ind': 0,\n",
       "      'sp_val': 0.553797},\n",
       "     'sp_ind': 0,\n",
       "     'sp_val': 0.582311},\n",
       "    'sp_ind': 0,\n",
       "    'sp_val': 0.613004},\n",
       "   'sp_ind': 0,\n",
       "   'sp_val': 0.640515},\n",
       "  'sp_ind': 0,\n",
       "  'sp_val': 0.729397},\n",
       " 'right': {'left': {'left': 12.50675925,\n",
       "   'right': 3.4331330000000007,\n",
       "   'sp_ind': 0,\n",
       "   'sp_val': 0.467383},\n",
       "  'right': {'left': {'left': {'left': -12.558604833333334,\n",
       "     'right': {'left': 14.38417875,\n",
       "      'right': {'left': -0.89235549999999952,\n",
       "       'right': 3.6584772500000016,\n",
       "       'sp_ind': 0,\n",
       "       'sp_val': 0.385021},\n",
       "      'sp_ind': 0,\n",
       "      'sp_val': 0.412516},\n",
       "     'sp_ind': 0,\n",
       "     'sp_val': 0.437652},\n",
       "    'right': {'left': {'left': -15.085111749999999,\n",
       "      'right': -22.693879600000002,\n",
       "      'sp_ind': 0,\n",
       "      'sp_val': 0.350725},\n",
       "     'right': {'left': 15.059290750000001,\n",
       "      'right': {'left': -19.994155200000002,\n",
       "       'right': {'left': {'left': {'left': {'left': {'left': 0.40377471428571476,\n",
       "            'right': -13.070501,\n",
       "            'sp_ind': 0,\n",
       "            'sp_val': 0.25807},\n",
       "           'right': 6.770429,\n",
       "           'sp_ind': 0,\n",
       "           'sp_val': 0.228473},\n",
       "          'right': -11.822278500000001,\n",
       "          'sp_ind': 0,\n",
       "          'sp_val': 0.217214},\n",
       "         'right': 3.4496025000000001,\n",
       "         'sp_ind': 0,\n",
       "         'sp_val': 0.202161},\n",
       "        'right': {'left': -12.107972500000001,\n",
       "         'right': -6.2479000000000013,\n",
       "         'sp_ind': 0,\n",
       "         'sp_val': 0.156067},\n",
       "        'sp_ind': 0,\n",
       "        'sp_val': 0.166765},\n",
       "       'sp_ind': 0,\n",
       "       'sp_val': 0.297107},\n",
       "      'sp_ind': 0,\n",
       "      'sp_val': 0.324274},\n",
       "     'sp_ind': 0,\n",
       "     'sp_val': 0.335182},\n",
       "    'sp_ind': 0,\n",
       "    'sp_val': 0.373501},\n",
       "   'right': {'left': 6.5098432857142843,\n",
       "    'right': {'left': -2.5443927142857148,\n",
       "     'right': 4.0916259999999998,\n",
       "     'sp_ind': 0,\n",
       "     'sp_val': 0.044737},\n",
       "    'sp_ind': 0,\n",
       "    'sp_val': 0.084661},\n",
       "   'sp_ind': 0,\n",
       "   'sp_val': 0.126833},\n",
       "  'sp_ind': 0,\n",
       "  'sp_val': 0.457563},\n",
       " 'sp_ind': 0,\n",
       " 'sp_val': 0.499171}"
      ]
     },
     "execution_count": 16,
     "metadata": {},
     "output_type": "execute_result"
    }
   ],
   "source": [
    "my_dat2 = load_data_set('ex2.txt')\n",
    "my_mat2 = mat(my_dat2)\n",
    "create_tree(my_mat2)"
   ]
  },
  {
   "cell_type": "code",
   "execution_count": 17,
   "metadata": {
    "collapsed": false
   },
   "outputs": [
    {
     "data": {
      "text/plain": [
       "{'left': 101.35815937735848,\n",
       " 'right': -2.6377193297872341,\n",
       " 'sp_ind': 0,\n",
       " 'sp_val': 0.499171}"
      ]
     },
     "execution_count": 17,
     "metadata": {},
     "output_type": "execute_result"
    }
   ],
   "source": [
    "create_tree(my_mat2, ops=(10000,4))"
   ]
  },
  {
   "cell_type": "markdown",
   "metadata": {},
   "source": [
    "## 9.4.2 后剪枝"
   ]
  },
  {
   "cell_type": "markdown",
   "metadata": {},
   "source": [
    "**程序清单9-3** 回归树剪枝函数"
   ]
  },
  {
   "cell_type": "code",
   "execution_count": 18,
   "metadata": {
    "collapsed": true
   },
   "outputs": [],
   "source": [
    "def is_tree(obj):\n",
    "    return (type(obj).__name__=='dict')\n",
    "\n",
    "def get_mean(tree):\n",
    "    if is_tree(tree['right']):\n",
    "        tree['right'] = get_mean(tree['right'])\n",
    "    if is_tree(tree['left']):\n",
    "        tree['left'] = get_mean(tree['left'])\n",
    "    return (tree['left']+tree['right'])/2.0\n",
    "\n",
    "def prune(tree, test_data):\n",
    "    if shape(test_data)[0] == 0:\n",
    "        return get_mean(tree)\n",
    "    if (is_tree(tree['right'])) or (is_tree(tree['left'])):\n",
    "        l_set, r_set = bin_split_data_set(test_data,\n",
    "                                         tree['sp_ind'],\n",
    "                                         tree['sp_val'])\n",
    "    if is_tree(tree['left']):\n",
    "        tree['left'] = prune(tree['left'], l_set)\n",
    "    if is_tree(tree['right']):\n",
    "        tree['right'] = prune(tree['right'], r_set)\n",
    "    if not is_tree(tree['left']) and not is_tree(tree['right']):\n",
    "        l_set, r_set = bin_split_data_set(test_data,\n",
    "                                         tree['sp_ind'],\n",
    "                                         tree['sp_val'])\n",
    "        error_no_merge = sum(power(l_set[:,-1]-tree['left'], 2)) + \\\n",
    "        sum(power(r_set[:,-1]-tree['right'], 2))\n",
    "        tree_mean = (tree['left']+tree['right'])/2.0\n",
    "        error_merge = sum(power(test_data[:,-1]-tree_mean, 2))\n",
    "        if error_merge < error_no_merge:\n",
    "            print('merging')\n",
    "            return tree_mean\n",
    "        else:\n",
    "            return tree\n",
    "    else:\n",
    "        return tree"
   ]
  },
  {
   "cell_type": "code",
   "execution_count": 19,
   "metadata": {
    "collapsed": true
   },
   "outputs": [],
   "source": [
    "my_tree = create_tree(my_mat2, ops=(0,1))"
   ]
  },
  {
   "cell_type": "code",
   "execution_count": 20,
   "metadata": {
    "collapsed": true
   },
   "outputs": [],
   "source": [
    "my_dat_test = load_data_set('ex2test.txt')\n",
    "my_mat2_test = mat(my_dat_test)"
   ]
  },
  {
   "cell_type": "code",
   "execution_count": 21,
   "metadata": {
    "collapsed": false
   },
   "outputs": [
    {
     "name": "stdout",
     "output_type": "stream",
     "text": [
      "merging\n",
      "merging\n",
      "merging\n",
      "merging\n",
      "merging\n",
      "merging\n",
      "merging\n",
      "merging\n",
      "merging\n",
      "merging\n",
      "merging\n",
      "merging\n",
      "merging\n",
      "merging\n",
      "merging\n",
      "merging\n",
      "merging\n",
      "merging\n",
      "merging\n",
      "merging\n",
      "merging\n",
      "merging\n",
      "merging\n",
      "merging\n",
      "merging\n",
      "merging\n",
      "merging\n",
      "merging\n",
      "merging\n",
      "merging\n",
      "merging\n",
      "merging\n",
      "merging\n",
      "merging\n",
      "merging\n",
      "merging\n",
      "merging\n",
      "merging\n",
      "merging\n",
      "merging\n",
      "merging\n",
      "merging\n",
      "merging\n",
      "merging\n"
     ]
    },
    {
     "data": {
      "text/plain": [
       "{'left': {'left': {'left': {'left': 92.523991499999994,\n",
       "    'right': {'left': {'left': {'left': 112.386764,\n",
       "       'right': 123.559747,\n",
       "       'sp_ind': 0,\n",
       "       'sp_val': 0.960398},\n",
       "      'right': 135.83701300000001,\n",
       "      'sp_ind': 0,\n",
       "      'sp_val': 0.958512},\n",
       "     'right': 111.2013225,\n",
       "     'sp_ind': 0,\n",
       "     'sp_val': 0.956951},\n",
       "    'sp_ind': 0,\n",
       "    'sp_val': 0.965969},\n",
       "   'right': {'left': {'left': {'left': {'left': {'left': {'left': {'left': {'left': {'left': {'left': {'left': 96.41885225,\n",
       "              'right': 69.318648999999994,\n",
       "              'sp_ind': 0,\n",
       "              'sp_val': 0.948822},\n",
       "             'right': {'left': {'left': 110.03503850000001,\n",
       "               'right': {'left': 65.548417999999998,\n",
       "                'right': {'left': 115.75399400000001,\n",
       "                 'right': {'left': {'left': 94.396114499999996,\n",
       "                   'right': 85.005351000000005,\n",
       "                   'sp_ind': 0,\n",
       "                   'sp_val': 0.912161},\n",
       "                  'right': {'left': {'left': 106.814667,\n",
       "                    'right': 118.513475,\n",
       "                    'sp_ind': 0,\n",
       "                    'sp_val': 0.908629},\n",
       "                   'right': {'left': 87.300624999999997,\n",
       "                    'right': {'left': {'left': 100.133819,\n",
       "                      'right': 108.09493399999999,\n",
       "                      'sp_ind': 0,\n",
       "                      'sp_val': 0.900699},\n",
       "                     'right': {'left': 82.436685999999995,\n",
       "                      'right': {'left': 98.544549499999988,\n",
       "                       'right': 106.16859550000001,\n",
       "                       'sp_ind': 0,\n",
       "                       'sp_val': 0.872199},\n",
       "                      'sp_ind': 0,\n",
       "                      'sp_val': 0.888426},\n",
       "                     'sp_ind': 0,\n",
       "                     'sp_val': 0.892999},\n",
       "                    'sp_ind': 0,\n",
       "                    'sp_val': 0.901421},\n",
       "                   'sp_ind': 0,\n",
       "                   'sp_val': 0.901444},\n",
       "                  'sp_ind': 0,\n",
       "                  'sp_val': 0.910975},\n",
       "                 'sp_ind': 0,\n",
       "                 'sp_val': 0.925782},\n",
       "                'sp_ind': 0,\n",
       "                'sp_val': 0.934853},\n",
       "               'sp_ind': 0,\n",
       "               'sp_val': 0.936524},\n",
       "              'right': {'left': {'left': 89.20993,\n",
       "                'right': 76.240983999999997,\n",
       "                'sp_ind': 0,\n",
       "                'sp_val': 0.847219},\n",
       "               'right': 95.893130999999997,\n",
       "               'sp_ind': 0,\n",
       "               'sp_val': 0.84294},\n",
       "              'sp_ind': 0,\n",
       "              'sp_val': 0.85497},\n",
       "             'sp_ind': 0,\n",
       "             'sp_val': 0.944221},\n",
       "            'right': 60.552307999999996,\n",
       "            'sp_ind': 0,\n",
       "            'sp_val': 0.841625},\n",
       "           'right': 124.87935300000001,\n",
       "           'sp_ind': 0,\n",
       "           'sp_val': 0.841547},\n",
       "          'right': {'left': 76.723834999999994,\n",
       "           'right': {'left': 59.342323,\n",
       "            'right': 70.054507999999998,\n",
       "            'sp_ind': 0,\n",
       "            'sp_val': 0.819722},\n",
       "           'sp_ind': 0,\n",
       "           'sp_val': 0.823848},\n",
       "          'sp_ind': 0,\n",
       "          'sp_val': 0.833026},\n",
       "         'right': {'left': 118.319942,\n",
       "          'right': {'left': 99.841379000000003,\n",
       "           'right': 112.981216,\n",
       "           'sp_ind': 0,\n",
       "           'sp_val': 0.811363},\n",
       "          'sp_ind': 0,\n",
       "          'sp_val': 0.811602},\n",
       "         'sp_ind': 0,\n",
       "         'sp_val': 0.815215},\n",
       "        'right': 73.494399250000001,\n",
       "        'sp_ind': 0,\n",
       "        'sp_val': 0.806158},\n",
       "       'right': {'left': 114.4008695,\n",
       "        'right': 102.26514075,\n",
       "        'sp_ind': 0,\n",
       "        'sp_val': 0.786865},\n",
       "       'sp_ind': 0,\n",
       "       'sp_val': 0.790312},\n",
       "      'right': 64.041940999999994,\n",
       "      'sp_ind': 0,\n",
       "      'sp_val': 0.769043},\n",
       "     'right': 115.199195,\n",
       "     'sp_ind': 0,\n",
       "     'sp_val': 0.763328},\n",
       "    'right': 78.085643250000004,\n",
       "    'sp_ind': 0,\n",
       "    'sp_val': 0.759504},\n",
       "   'sp_ind': 0,\n",
       "   'sp_val': 0.952833},\n",
       "  'right': {'left': {'left': {'left': {'left': {'left': {'left': {'left': 110.90282999999999,\n",
       "         'right': {'left': 103.345308,\n",
       "          'right': 108.55391899999999,\n",
       "          'sp_ind': 0,\n",
       "          'sp_val': 0.710234},\n",
       "         'sp_ind': 0,\n",
       "         'sp_val': 0.716211},\n",
       "        'right': 135.41676699999999,\n",
       "        'sp_ind': 0,\n",
       "        'sp_val': 0.70889},\n",
       "       'right': {'left': {'left': {'left': {'left': 106.18042699999999,\n",
       "           'right': 105.062147,\n",
       "           'sp_ind': 0,\n",
       "           'sp_val': 0.70639},\n",
       "          'right': 115.58660500000001,\n",
       "          'sp_ind': 0,\n",
       "          'sp_val': 0.699873},\n",
       "         'right': 92.470635999999999,\n",
       "         'sp_ind': 0,\n",
       "         'sp_val': 0.69892},\n",
       "        'right': {'left': 120.521925,\n",
       "         'right': {'left': 101.91115275,\n",
       "          'right': 112.78136649999999,\n",
       "          'sp_ind': 0,\n",
       "          'sp_val': 0.666452},\n",
       "         'sp_ind': 0,\n",
       "         'sp_val': 0.689099},\n",
       "        'sp_ind': 0,\n",
       "        'sp_val': 0.698472},\n",
       "       'sp_ind': 0,\n",
       "       'sp_val': 0.706961},\n",
       "      'right': {'left': 121.98060700000001,\n",
       "       'right': {'left': 115.687524,\n",
       "        'right': 112.715799,\n",
       "        'sp_ind': 0,\n",
       "        'sp_val': 0.652462},\n",
       "       'sp_ind': 0,\n",
       "       'sp_val': 0.661073},\n",
       "      'sp_ind': 0,\n",
       "      'sp_val': 0.665329},\n",
       "     'right': 82.500765999999999,\n",
       "     'sp_ind': 0,\n",
       "     'sp_val': 0.642707},\n",
       "    'right': 140.61394100000001,\n",
       "    'sp_ind': 0,\n",
       "    'sp_val': 0.642373},\n",
       "   'right': {'left': {'left': {'left': {'left': 82.713621000000003,\n",
       "       'right': {'left': 91.656616999999997,\n",
       "        'right': 93.645292999999995,\n",
       "        'sp_ind': 0,\n",
       "        'sp_val': 0.632691},\n",
       "       'sp_ind': 0,\n",
       "       'sp_val': 0.637999},\n",
       "      'right': {'left': 117.62834599999999,\n",
       "       'right': 105.970743,\n",
       "       'sp_ind': 0,\n",
       "       'sp_val': 0.624827},\n",
       "      'sp_ind': 0,\n",
       "      'sp_val': 0.628061},\n",
       "     'right': 82.04976400000001,\n",
       "     'sp_ind': 0,\n",
       "     'sp_val': 0.623909},\n",
       "    'right': {'left': 168.180746,\n",
       "     'right': {'left': {'left': {'left': {'left': {'left': {'left': 93.521395999999996,\n",
       "           'right': {'left': 130.37852899999999,\n",
       "            'right': {'left': 111.9849935,\n",
       "             'right': {'left': 82.589327999999995,\n",
       "              'right': {'left': 114.872056,\n",
       "               'right': 108.43539199999999,\n",
       "               'sp_ind': 0,\n",
       "               'sp_val': 0.569327},\n",
       "              'sp_ind': 0,\n",
       "              'sp_val': 0.571214},\n",
       "             'sp_ind': 0,\n",
       "             'sp_val': 0.582311},\n",
       "            'sp_ind': 0,\n",
       "            'sp_val': 0.589806},\n",
       "           'sp_ind': 0,\n",
       "           'sp_val': 0.599142},\n",
       "          'right': 82.903944999999993,\n",
       "          'sp_ind': 0,\n",
       "          'sp_val': 0.560301},\n",
       "         'right': 129.06244849999999,\n",
       "         'sp_ind': 0,\n",
       "         'sp_val': 0.553797},\n",
       "        'right': {'left': 83.114502000000002,\n",
       "         'right': {'left': 97.340526499999996,\n",
       "          'right': 90.995536000000001,\n",
       "          'sp_ind': 0,\n",
       "          'sp_val': 0.537834},\n",
       "         'sp_ind': 0,\n",
       "         'sp_val': 0.546601},\n",
       "        'sp_ind': 0,\n",
       "        'sp_val': 0.548539},\n",
       "       'right': {'left': {'left': 129.76674299999999,\n",
       "         'right': 124.795495,\n",
       "         'sp_ind': 0,\n",
       "         'sp_val': 0.531944},\n",
       "        'right': 116.17616200000001,\n",
       "        'sp_ind': 0,\n",
       "        'sp_val': 0.51915},\n",
       "       'sp_ind': 0,\n",
       "       'sp_val': 0.533511},\n",
       "      'right': {'left': 101.075609,\n",
       "       'right': {'left': 93.292828999999998,\n",
       "        'right': 96.403373000000002,\n",
       "        'sp_ind': 0,\n",
       "        'sp_val': 0.508542},\n",
       "       'sp_ind': 0,\n",
       "       'sp_val': 0.508548},\n",
       "      'sp_ind': 0,\n",
       "      'sp_val': 0.513332},\n",
       "     'sp_ind': 0,\n",
       "     'sp_val': 0.606417},\n",
       "    'sp_ind': 0,\n",
       "    'sp_val': 0.613004},\n",
       "   'sp_ind': 0,\n",
       "   'sp_val': 0.640515},\n",
       "  'sp_ind': 0,\n",
       "  'sp_val': 0.729397},\n",
       " 'right': {'left': {'left': {'left': {'left': {'left': 8.5367700000000006,\n",
       "      'right': 27.729263,\n",
       "      'sp_ind': 0,\n",
       "      'sp_val': 0.487381},\n",
       "     'right': 5.224234,\n",
       "     'sp_ind': 0,\n",
       "     'sp_val': 0.483803},\n",
       "    'right': {'left': -9.7129250000000003,\n",
       "     'right': -23.777531,\n",
       "     'sp_ind': 0,\n",
       "     'sp_val': 0.46568},\n",
       "    'sp_ind': 0,\n",
       "    'sp_val': 0.467383},\n",
       "   'right': {'left': 30.051931,\n",
       "    'right': 17.171057000000001,\n",
       "    'sp_ind': 0,\n",
       "    'sp_val': 0.463241},\n",
       "   'sp_ind': 0,\n",
       "   'sp_val': 0.465561},\n",
       "  'right': {'left': -34.044555000000003,\n",
       "   'right': {'left': {'left': {'left': {'left': {'left': -4.1911744999999998,\n",
       "        'right': {'left': {'left': {'left': {'left': 19.745224,\n",
       "            'right': 15.224266,\n",
       "            'sp_ind': 0,\n",
       "            'sp_val': 0.428582},\n",
       "           'right': -21.594268,\n",
       "           'sp_ind': 0,\n",
       "           'sp_val': 0.426711},\n",
       "          'right': 44.161493,\n",
       "          'sp_ind': 0,\n",
       "          'sp_val': 0.418943},\n",
       "         'right': {'left': -26.419288999999999,\n",
       "          'right': 0.63593000000000011,\n",
       "          'sp_ind': 0,\n",
       "          'sp_val': 0.403228},\n",
       "         'sp_ind': 0,\n",
       "         'sp_val': 0.412516},\n",
       "        'sp_ind': 0,\n",
       "        'sp_val': 0.437652},\n",
       "       'right': 23.197474,\n",
       "       'sp_ind': 0,\n",
       "       'sp_val': 0.388789},\n",
       "      'right': {'left': {'left': {'left': -29.007783,\n",
       "         'right': {'left': {'left': 13.583555,\n",
       "           'right': 5.2411960000000004,\n",
       "           'sp_ind': 0,\n",
       "           'sp_val': 0.377383},\n",
       "          'right': -8.2282969999999995,\n",
       "          'sp_ind': 0,\n",
       "          'sp_val': 0.373501},\n",
       "         'sp_ind': 0,\n",
       "         'sp_val': 0.378965},\n",
       "        'right': {'left': -32.124495000000003,\n",
       "         'right': {'left': -9.9938275000000001,\n",
       "          'right': -26.851234812500003,\n",
       "          'sp_ind': 0,\n",
       "          'sp_val': 0.350725},\n",
       "         'sp_ind': 0,\n",
       "         'sp_val': 0.35679},\n",
       "        'sp_ind': 0,\n",
       "        'sp_val': 0.370042},\n",
       "       'right': {'left': 22.286959625000001,\n",
       "        'right': {'left': {'left': -20.397333499999998,\n",
       "          'right': -49.939515999999998,\n",
       "          'sp_ind': 0,\n",
       "          'sp_val': 0.310956},\n",
       "         'right': {'left': {'left': {'left': {'left': {'left': {'left': {'left': {'left': {'left': {'left': 8.8147249999999993,\n",
       "                   'right': {'left': -18.051317999999998,\n",
       "                    'right': {'left': -1.7983769999999999,\n",
       "                     'right': {'left': -14.988279,\n",
       "                      'right': -14.391613,\n",
       "                      'sp_ind': 0,\n",
       "                      'sp_val': 0.290749},\n",
       "                     'sp_ind': 0,\n",
       "                     'sp_val': 0.295993},\n",
       "                    'sp_ind': 0,\n",
       "                    'sp_val': 0.297107},\n",
       "                   'sp_ind': 0,\n",
       "                   'sp_val': 0.300318},\n",
       "                  'right': {'left': 35.623745999999997,\n",
       "                   'right': {'left': -9.4575560000000003,\n",
       "                    'right': {'left': 5.2805790000000004,\n",
       "                     'right': 2.5579230000000002,\n",
       "                     'sp_ind': 0,\n",
       "                     'sp_val': 0.264639},\n",
       "                    'sp_ind': 0,\n",
       "                    'sp_val': 0.264926},\n",
       "                   'sp_ind': 0,\n",
       "                   'sp_val': 0.273863},\n",
       "                  'sp_ind': 0,\n",
       "                  'sp_val': 0.284794},\n",
       "                 'right': {'left': {'left': -9.601409499999999,\n",
       "                   'right': -30.812912000000001,\n",
       "                   'sp_ind': 0,\n",
       "                   'sp_val': 0.228751},\n",
       "                  'right': -2.266273,\n",
       "                  'sp_ind': 0,\n",
       "                  'sp_val': 0.228628},\n",
       "                 'sp_ind': 0,\n",
       "                 'sp_val': 0.25807},\n",
       "                'right': 6.0992389999999999,\n",
       "                'sp_ind': 0,\n",
       "                'sp_val': 0.228473},\n",
       "               'right': {'left': -16.427370249999999,\n",
       "                'right': -2.6781804999999999,\n",
       "                'sp_ind': 0,\n",
       "                'sp_val': 0.202161},\n",
       "               'sp_ind': 0,\n",
       "               'sp_val': 0.211633},\n",
       "              'right': 9.5773855000000001,\n",
       "              'sp_ind': 0,\n",
       "              'sp_val': 0.193282},\n",
       "             'right': {'left': {'left': {'left': -14.740059,\n",
       "                'right': -6.5125060000000001,\n",
       "                'sp_ind': 0,\n",
       "                'sp_val': 0.166431},\n",
       "               'right': -27.405211000000001,\n",
       "               'sp_ind': 0,\n",
       "               'sp_val': 0.164134},\n",
       "              'right': 0.225886,\n",
       "              'sp_ind': 0,\n",
       "              'sp_val': 0.156273},\n",
       "             'sp_ind': 0,\n",
       "             'sp_val': 0.166765},\n",
       "            'right': {'left': 7.5573490000000003,\n",
       "             'right': 7.3367839999999998,\n",
       "             'sp_ind': 0,\n",
       "             'sp_val': 0.13988},\n",
       "            'sp_ind': 0,\n",
       "            'sp_val': 0.156067},\n",
       "           'right': -29.087463,\n",
       "           'sp_ind': 0,\n",
       "           'sp_val': 0.138619},\n",
       "          'right': 22.478290999999999,\n",
       "          'sp_ind': 0,\n",
       "          'sp_val': 0.131833},\n",
       "         'sp_ind': 0,\n",
       "         'sp_val': 0.309133},\n",
       "        'sp_ind': 0,\n",
       "        'sp_val': 0.324274},\n",
       "       'sp_ind': 0,\n",
       "       'sp_val': 0.335182},\n",
       "      'sp_ind': 0,\n",
       "      'sp_val': 0.382037},\n",
       "     'right': -39.524461000000002,\n",
       "     'sp_ind': 0,\n",
       "     'sp_val': 0.130626},\n",
       "    'right': {'left': 22.891674999999999,\n",
       "     'right': {'left': {'left': 6.1965159999999999,\n",
       "       'right': {'left': -16.106164,\n",
       "        'right': {'left': -1.2931950000000001,\n",
       "         'right': -10.137104000000001,\n",
       "         'sp_ind': 0,\n",
       "         'sp_val': 0.085873},\n",
       "        'sp_ind': 0,\n",
       "        'sp_val': 0.10796},\n",
       "       'sp_ind': 0,\n",
       "       'sp_val': 0.108801},\n",
       "      'right': {'left': 37.820658999999999,\n",
       "       'right': {'left': -24.132225999999999,\n",
       "        'right': {'left': 15.824970500000001,\n",
       "         'right': {'left': -15.160836,\n",
       "          'right': {'left': {'left': {'left': 6.6955669999999996,\n",
       "             'right': -3.131497,\n",
       "             'sp_ind': 0,\n",
       "             'sp_val': 0.055862},\n",
       "            'right': -13.731698,\n",
       "            'sp_ind': 0,\n",
       "            'sp_val': 0.053764},\n",
       "           'right': 4.0916259999999998,\n",
       "           'sp_ind': 0,\n",
       "           'sp_val': 0.044737},\n",
       "          'sp_ind': 0,\n",
       "          'sp_val': 0.061219},\n",
       "         'sp_ind': 0,\n",
       "         'sp_val': 0.068373},\n",
       "        'sp_ind': 0,\n",
       "        'sp_val': 0.080061},\n",
       "       'sp_ind': 0,\n",
       "       'sp_val': 0.084661},\n",
       "      'sp_ind': 0,\n",
       "      'sp_val': 0.085111},\n",
       "     'sp_ind': 0,\n",
       "     'sp_val': 0.124723},\n",
       "    'sp_ind': 0,\n",
       "    'sp_val': 0.126833},\n",
       "   'sp_ind': 0,\n",
       "   'sp_val': 0.455761},\n",
       "  'sp_ind': 0,\n",
       "  'sp_val': 0.457563},\n",
       " 'sp_ind': 0,\n",
       " 'sp_val': 0.499171}"
      ]
     },
     "execution_count": 21,
     "metadata": {},
     "output_type": "execute_result"
    }
   ],
   "source": [
    "prune(my_tree, my_mat2_test)"
   ]
  },
  {
   "cell_type": "markdown",
   "metadata": {},
   "source": [
    "# 9.5 模型树"
   ]
  },
  {
   "cell_type": "markdown",
   "metadata": {},
   "source": [
    "**程序清单9-4** 模型树的叶节点生成函数"
   ]
  },
  {
   "cell_type": "code",
   "execution_count": 22,
   "metadata": {
    "collapsed": true
   },
   "outputs": [],
   "source": [
    "def linear_solve(data_set):\n",
    "    m,n = shape(data_set)\n",
    "    X = mat(ones((m,n)))\n",
    "    Y = mat(ones((m,1)))\n",
    "    X[:,1:n] = data_set[:,0:n-1]\n",
    "    Y = data_set[:,-1]\n",
    "    xTx = X.T * X\n",
    "    if linalg.det(xTx) == 0.0:\n",
    "        raise NameError('This matrix is singular, cannot do inverse,\\n\\\n",
    "        try increasing the second value of ops')\n",
    "    ws = xTx.I * (X.T * Y)\n",
    "    return ws, X, Y"
   ]
  },
  {
   "cell_type": "code",
   "execution_count": 23,
   "metadata": {
    "collapsed": true
   },
   "outputs": [],
   "source": [
    "def model_leaf(data_set):\n",
    "    ws,X,Y = linear_solve(data_set)\n",
    "    return ws"
   ]
  },
  {
   "cell_type": "code",
   "execution_count": 24,
   "metadata": {
    "collapsed": true
   },
   "outputs": [],
   "source": [
    "def model_err(data_set):\n",
    "    ws,X,Y = linear_solve(data_set)\n",
    "    y_hat = X * ws\n",
    "    return sum(power(Y - y_hat, 2))"
   ]
  },
  {
   "cell_type": "code",
   "execution_count": 25,
   "metadata": {
    "collapsed": true
   },
   "outputs": [],
   "source": [
    "my_mat2 = mat(load_data_set('exp2.txt'))"
   ]
  },
  {
   "cell_type": "code",
   "execution_count": 26,
   "metadata": {
    "collapsed": false
   },
   "outputs": [
    {
     "data": {
      "text/plain": [
       "{'left': matrix([[  1.69855694e-03],\n",
       "         [  1.19647739e+01]]), 'right': matrix([[ 3.46877936],\n",
       "         [ 1.18521743]]), 'sp_ind': 0, 'sp_val': 0.285477}"
      ]
     },
     "execution_count": 26,
     "metadata": {},
     "output_type": "execute_result"
    }
   ],
   "source": [
    "create_tree(my_mat2, model_leaf, model_err, (1,10))"
   ]
  },
  {
   "cell_type": "markdown",
   "metadata": {},
   "source": [
    "# 9.6 示例：树回归与标准回归的比较"
   ]
  },
  {
   "cell_type": "markdown",
   "metadata": {},
   "source": [
    "**程序清单9-5** 用树回归进行预测的代码"
   ]
  },
  {
   "cell_type": "code",
   "execution_count": 27,
   "metadata": {
    "collapsed": true
   },
   "outputs": [],
   "source": [
    "def reg_tree_eval(model, in_dat):\n",
    "    return float(model)"
   ]
  },
  {
   "cell_type": "code",
   "execution_count": 28,
   "metadata": {
    "collapsed": true
   },
   "outputs": [],
   "source": [
    "def model_tree_eval(model, in_dat):\n",
    "    n = shape(in_dat)[1]\n",
    "    X = mat(ones((1,n+1)))\n",
    "    X[:,1:n+1] = in_dat\n",
    "    return float(X * model)"
   ]
  },
  {
   "cell_type": "code",
   "execution_count": 29,
   "metadata": {
    "collapsed": true
   },
   "outputs": [],
   "source": [
    "def tree_fore_cast(tree, in_data, model_eval=reg_tree_eval):\n",
    "    if not is_tree(tree):\n",
    "        return model_eval(tree, in_data)\n",
    "    if in_data[tree['sp_ind']] > tree['sp_val']:\n",
    "        if is_tree(tree['left']):\n",
    "            return tree_fore_cast(tree['left'], in_data, model_eval)\n",
    "        else:\n",
    "            return model_eval(tree['left'], in_data)\n",
    "    else:\n",
    "        if is_tree(tree['right']):\n",
    "            return tree_fore_cast(tree['right'], in_data, model_eval)\n",
    "        else:\n",
    "            return model_eval(tree['right'], in_data)"
   ]
  },
  {
   "cell_type": "code",
   "execution_count": 30,
   "metadata": {
    "collapsed": true
   },
   "outputs": [],
   "source": [
    "def create_fore_cast(tree, test_data, model_eval=reg_tree_eval):\n",
    "    m = len(test_data)\n",
    "    y_hat = mat(zeros((m,1)))\n",
    "    for i in range(m):\n",
    "        y_hat[i,0] = tree_fore_cast(tree, mat(test_data[i]), model_eval)\n",
    "    return y_hat"
   ]
  },
  {
   "cell_type": "code",
   "execution_count": 31,
   "metadata": {
    "collapsed": true
   },
   "outputs": [],
   "source": [
    "train_mat = mat(load_data_set('bikeSpeedVsIq_train.txt'))\n",
    "test_mat = mat(load_data_set('bikeSpeedVsIq_test.txt'))"
   ]
  },
  {
   "cell_type": "code",
   "execution_count": 32,
   "metadata": {
    "collapsed": false
   },
   "outputs": [
    {
     "data": {
      "text/plain": [
       "0.96408523182221506"
      ]
     },
     "execution_count": 32,
     "metadata": {},
     "output_type": "execute_result"
    }
   ],
   "source": [
    "my_tree = create_tree(train_mat, ops=(1,20))\n",
    "y_hat = create_fore_cast(my_tree, test_mat[:,0])\n",
    "corrcoef(y_hat, test_mat[:,1], rowvar=0)[0,1]"
   ]
  },
  {
   "cell_type": "code",
   "execution_count": 33,
   "metadata": {
    "collapsed": false
   },
   "outputs": [
    {
     "data": {
      "text/plain": [
       "0.97604121913806285"
      ]
     },
     "execution_count": 33,
     "metadata": {},
     "output_type": "execute_result"
    }
   ],
   "source": [
    "my_tree = create_tree(train_mat, model_leaf, model_err, (1,20))\n",
    "y_hat = create_fore_cast(my_tree, test_mat[:,0], model_tree_eval)\n",
    "corrcoef(y_hat, test_mat[:,1], rowvar=0)[0,1]"
   ]
  },
  {
   "cell_type": "code",
   "execution_count": 34,
   "metadata": {
    "collapsed": false
   },
   "outputs": [
    {
     "data": {
      "text/plain": [
       "matrix([[ 37.58916794],\n",
       "        [  6.18978355]])"
      ]
     },
     "execution_count": 34,
     "metadata": {},
     "output_type": "execute_result"
    }
   ],
   "source": [
    "ws,X,Y = linear_solve(train_mat)\n",
    "ws"
   ]
  },
  {
   "cell_type": "code",
   "execution_count": 35,
   "metadata": {
    "collapsed": true
   },
   "outputs": [],
   "source": [
    "for i in range(shape(test_mat)[0]):\n",
    "    y_hat[i] = test_mat[i,0] * ws[1,0] + ws[0,0]"
   ]
  },
  {
   "cell_type": "code",
   "execution_count": 36,
   "metadata": {
    "collapsed": false
   },
   "outputs": [
    {
     "data": {
      "text/plain": [
       "0.94346842356747662"
      ]
     },
     "execution_count": 36,
     "metadata": {},
     "output_type": "execute_result"
    }
   ],
   "source": [
    "corrcoef(y_hat, test_mat[:,1], rowvar=0)[0,1]"
   ]
  },
  {
   "cell_type": "markdown",
   "metadata": {},
   "source": [
    "# 9.7 使用Python的Tkinter库创建GUI"
   ]
  },
  {
   "cell_type": "markdown",
   "metadata": {},
   "source": [
    "## 9.7.1 用Tkinter创建GUI"
   ]
  },
  {
   "cell_type": "code",
   "execution_count": 37,
   "metadata": {
    "collapsed": true
   },
   "outputs": [],
   "source": [
    "from tkinter import *"
   ]
  },
  {
   "cell_type": "code",
   "execution_count": 38,
   "metadata": {
    "collapsed": false
   },
   "outputs": [],
   "source": [
    "root = Tk()"
   ]
  },
  {
   "cell_type": "code",
   "execution_count": 39,
   "metadata": {
    "collapsed": false
   },
   "outputs": [],
   "source": [
    "my_label = Label(root, text='Hello World')\n",
    "my_label.grid()"
   ]
  },
  {
   "cell_type": "code",
   "execution_count": 40,
   "metadata": {
    "collapsed": true
   },
   "outputs": [],
   "source": [
    "root.mainloop()"
   ]
  },
  {
   "cell_type": "markdown",
   "metadata": {},
   "source": [
    "**程序清单9-6** 用于构建树管理器界面的Tkinter小部件"
   ]
  },
  {
   "cell_type": "code",
   "execution_count": 41,
   "metadata": {
    "collapsed": false
   },
   "outputs": [],
   "source": [
    "def re_draw(tolS, tolN):\n",
    "    pass\n",
    "\n",
    "def draw_new_tree():\n",
    "    pass\n",
    "\n",
    "root = Tk()\n",
    "\n",
    "Label(root, text='Plot Place Holder').grid(row=0, columnspan=3)\n",
    "\n",
    "Label(root, text='tolN').grid(row=1, column=0)\n",
    "tolNentry = Entry(root)\n",
    "tolNentry.grid(row=1, column=1)\n",
    "tolNentry.insert(0,'10')\n",
    "\n",
    "Label(root, text='tolS').grid(row=2, column=0)\n",
    "tolSentry = Entry(root)\n",
    "tolSentry.grid(row=2, column=1)\n",
    "tolSentry.insert(0,'1.0')\n",
    "\n",
    "Button(root, text='ReDraw', command=draw_new_tree).grid(row=1, column=2, rowspan=3)\n",
    "chk_btn_var = IntVar()\n",
    "chk_btn = Checkbutton(root, text='Model Tree', variable=chk_btn_var)\n",
    "chk_btn.grid(row=3, column=0, columnspan=2)\n",
    "\n",
    "re_draw.raw_dat = mat(load_data_set('sine.txt'))\n",
    "re_draw.test_dat = arange(min(re_draw.raw_dat[:,0]),\n",
    "                         max(re_draw.raw_dat[:,0]),0.01)\n",
    "re_draw(1.0, 10)\n",
    "\n",
    "root.mainloop()"
   ]
  },
  {
   "cell_type": "markdown",
   "metadata": {},
   "source": [
    "## 9.7.2 集成Matplotlib和Tkinter"
   ]
  },
  {
   "cell_type": "markdown",
   "metadata": {},
   "source": [
    "**程序清单9-7** Matplotlib和Tkinter的代码集成"
   ]
  },
  {
   "cell_type": "code",
   "execution_count": 42,
   "metadata": {
    "collapsed": false
   },
   "outputs": [],
   "source": [
    "import matplotlib\n",
    "matplotlib.use('TkAgg')\n",
    "from matplotlib.backends.backend_tkagg import FigureCanvasTkAgg\n",
    "from matplotlib.figure import Figure"
   ]
  },
  {
   "cell_type": "code",
   "execution_count": 43,
   "metadata": {
    "collapsed": true
   },
   "outputs": [],
   "source": [
    "root = Tk()\n",
    "\n",
    "re_draw.f = Figure(figsize=(5,4), dpi=100)\n",
    "re_draw.canvas = FigureCanvasTkAgg(re_draw.f, master=root)\n",
    "re_draw.canvas.show()\n",
    "re_draw.canvas.get_tk_widget().grid(row=0, columnspan=3)\n",
    "\n",
    "Label(root, text='tolN').grid(row=1, column=0)\n",
    "tolNentry = Entry(root)\n",
    "tolNentry.grid(row=1, column=1)\n",
    "tolNentry.insert(0,'10')\n",
    "\n",
    "Label(root, text='tolS').grid(row=2, column=0)\n",
    "tolSentry = Entry(root)\n",
    "tolSentry.grid(row=2, column=1)\n",
    "tolSentry.insert(0,'1.0')\n",
    "\n",
    "Button(root, text='ReDraw', command=draw_new_tree).grid(row=1, column=2, rowspan=3)\n",
    "chk_btn_var = IntVar()\n",
    "chk_btn = Checkbutton(root, text='Model Tree', variable=chk_btn_var)\n",
    "chk_btn.grid(row=3, column=0, columnspan=2)\n",
    "\n",
    "re_draw.raw_dat = mat(load_data_set('sine.txt'))\n",
    "re_draw.test_dat = arange(min(re_draw.raw_dat[:,0]),\n",
    "                         max(re_draw.raw_dat[:,0]),0.01)\n",
    "re_draw(1.0, 10)\n",
    "\n",
    "root.mainloop()"
   ]
  },
  {
   "cell_type": "code",
   "execution_count": 76,
   "metadata": {
    "collapsed": true
   },
   "outputs": [],
   "source": [
    "def re_draw(tolS, tolN):\n",
    "    re_draw.f.clf()\n",
    "    re_draw.a = re_draw.f.add_subplot(111)\n",
    "    if chk_btn_var.get():\n",
    "        if tolN < 2:\n",
    "            tolN = 2\n",
    "        my_tree = create_tree(re_draw.raw_dat, model_leaf,\n",
    "                             model_err, (tolS, tolN))\n",
    "        y_hat = create_fore_cast(my_tree, re_draw.test_dat,\n",
    "                                model_tree_eval)\n",
    "    else:\n",
    "        my_tree = create_tree(re_draw.raw_dat, ops=(tolS, tolN))\n",
    "        y_hat = create_fore_cast(my_tree, re_draw.test_dat)\n",
    "    re_draw.a.scatter(list(map(float,re_draw.raw_dat[:,0])), list(map(float,re_draw.raw_dat[:,1])), s=5)\n",
    "    re_draw.a.plot(re_draw.test_dat, y_hat, linewidth=2.0)\n",
    "    re_draw.canvas.show()"
   ]
  },
  {
   "cell_type": "code",
   "execution_count": 77,
   "metadata": {
    "collapsed": true
   },
   "outputs": [],
   "source": [
    "def get_inputs():\n",
    "    try:\n",
    "        tolN = int(tolNentry.get())\n",
    "    except:\n",
    "        tolN = 10\n",
    "        print('Enter Integer for tolN')\n",
    "        tolNentry.delete(0, END)\n",
    "        tolNentry.insert(0, '10')\n",
    "    try:\n",
    "        tolS = float(tolSentry.get())\n",
    "    except:\n",
    "        tolS = 1.0\n",
    "        print('Enter Float for tolS')\n",
    "        tolSentry.delete(0, END)\n",
    "        tolSentry.insert(0, '1.0')\n",
    "    return tolN, tolS"
   ]
  },
  {
   "cell_type": "code",
   "execution_count": 78,
   "metadata": {
    "collapsed": true
   },
   "outputs": [],
   "source": [
    "def draw_new_tree():\n",
    "    tolN, tolS = get_inputs()\n",
    "    re_draw(tolS, tolN)"
   ]
  },
  {
   "cell_type": "code",
   "execution_count": 79,
   "metadata": {
    "collapsed": false
   },
   "outputs": [
    {
     "data": {
      "text/plain": [
       "[0.19035,\n",
       " 0.306657,\n",
       " 0.017568,\n",
       " 0.122328,\n",
       " 0.076274,\n",
       " 0.614127,\n",
       " 0.220722,\n",
       " 0.08943,\n",
       " 0.278817,\n",
       " 0.520287,\n",
       " 0.726976,\n",
       " 0.180485,\n",
       " 0.801524,\n",
       " 0.474273,\n",
       " 0.345116,\n",
       " 0.981951,\n",
       " 0.127349,\n",
       " 0.75712,\n",
       " 0.345419,\n",
       " 0.314532,\n",
       " 0.250828,\n",
       " 0.431255,\n",
       " 0.386669,\n",
       " 0.143794,\n",
       " 0.470839,\n",
       " 0.093065,\n",
       " 0.205377,\n",
       " 0.083329,\n",
       " 0.243475,\n",
       " 0.062389,\n",
       " 0.764116,\n",
       " 0.018287,\n",
       " 0.973603,\n",
       " 0.458826,\n",
       " 0.5112,\n",
       " 0.712587,\n",
       " 0.464745,\n",
       " 0.984328,\n",
       " 0.414291,\n",
       " 0.799551,\n",
       " 0.499037,\n",
       " 0.966757,\n",
       " 0.756594,\n",
       " 0.444938,\n",
       " 0.410167,\n",
       " 0.532335,\n",
       " 0.343909,\n",
       " 0.854302,\n",
       " 0.846882,\n",
       " 0.740758,\n",
       " 0.150668,\n",
       " 0.177606,\n",
       " 0.445289,\n",
       " 0.734653,\n",
       " 0.559488,\n",
       " 0.232311,\n",
       " 0.934435,\n",
       " 0.219089,\n",
       " 0.636525,\n",
       " 0.307605,\n",
       " 0.713198,\n",
       " 0.116343,\n",
       " 0.680737,\n",
       " 0.48473,\n",
       " 0.929408,\n",
       " 0.008507,\n",
       " 0.872161,\n",
       " 0.75553,\n",
       " 0.620671,\n",
       " 0.47226,\n",
       " 0.257488,\n",
       " 0.130654,\n",
       " 0.512333,\n",
       " 0.74771,\n",
       " 0.669948,\n",
       " 0.644856,\n",
       " 0.894206,\n",
       " 0.820471,\n",
       " 0.790796,\n",
       " 0.010729,\n",
       " 0.846777,\n",
       " 0.349175,\n",
       " 0.453662,\n",
       " 0.624017,\n",
       " 0.211074,\n",
       " 0.062555,\n",
       " 0.739709,\n",
       " 0.985896,\n",
       " 0.782088,\n",
       " 0.642561,\n",
       " 0.779007,\n",
       " 0.185631,\n",
       " 0.52525,\n",
       " 0.236802,\n",
       " 0.440958,\n",
       " 0.39758,\n",
       " 0.823146,\n",
       " 0.370173,\n",
       " 0.791675,\n",
       " 0.456647,\n",
       " 0.11335,\n",
       " 0.351074,\n",
       " 0.182684,\n",
       " 0.914034,\n",
       " 0.751486,\n",
       " 0.216572,\n",
       " 0.013273,\n",
       " 0.469726,\n",
       " 0.060676,\n",
       " 0.77631,\n",
       " 0.061648,\n",
       " 0.714077,\n",
       " 0.559264,\n",
       " 0.121876,\n",
       " 0.330586,\n",
       " 0.662909,\n",
       " 0.785142,\n",
       " 0.161352,\n",
       " 0.985215,\n",
       " 0.457734,\n",
       " 0.171574,\n",
       " 0.334277,\n",
       " 0.501065,\n",
       " 0.988736,\n",
       " 0.659242,\n",
       " 0.359861,\n",
       " 0.790434,\n",
       " 0.462458,\n",
       " 0.823012,\n",
       " 0.594668,\n",
       " 0.498207,\n",
       " 0.574882,\n",
       " 0.570048,\n",
       " 0.33157,\n",
       " 0.195407,\n",
       " 0.814327,\n",
       " 0.641925,\n",
       " 0.238778,\n",
       " 0.400138,\n",
       " 0.670479,\n",
       " 0.069076,\n",
       " 0.294373,\n",
       " 0.025628,\n",
       " 0.697772,\n",
       " 0.729626,\n",
       " 0.293071,\n",
       " 0.531802,\n",
       " 0.487338,\n",
       " 0.21578,\n",
       " 0.625818,\n",
       " 0.179389,\n",
       " 0.192552,\n",
       " 0.671661,\n",
       " 0.952391,\n",
       " 0.795133,\n",
       " 0.950494,\n",
       " 0.194894,\n",
       " 0.35146,\n",
       " 0.863456,\n",
       " 0.945221,\n",
       " 0.77984,\n",
       " 0.996606,\n",
       " 0.632184,\n",
       " 0.790898,\n",
       " 0.022503,\n",
       " 0.318983,\n",
       " 0.369633,\n",
       " 0.1573,\n",
       " 0.153223,\n",
       " 0.360068,\n",
       " 0.433917,\n",
       " 0.133461,\n",
       " 0.757252,\n",
       " 0.309391,\n",
       " 0.195586,\n",
       " 0.240259,\n",
       " 0.340591,\n",
       " 0.243436,\n",
       " 0.612755,\n",
       " 0.089407,\n",
       " 0.469695,\n",
       " 0.94356,\n",
       " 0.177241,\n",
       " 0.317756,\n",
       " 0.515337,\n",
       " 0.344773,\n",
       " 0.537029,\n",
       " 0.626878,\n",
       " 0.20894,\n",
       " 0.470697,\n",
       " 0.054448,\n",
       " 0.10923,\n",
       " 0.158325,\n",
       " 0.97665,\n",
       " 0.643441,\n",
       " 0.215841,\n",
       " 0.905337,\n",
       " 0.154354,\n",
       " 0.947922,\n",
       " 0.201391]"
      ]
     },
     "execution_count": 79,
     "metadata": {},
     "output_type": "execute_result"
    }
   ],
   "source": [
    "re_draw.raw_dat = mat(load_data_set('sine.txt'))\n",
    "list(map(float, re_draw.raw_dat[:,0]))"
   ]
  },
  {
   "cell_type": "code",
   "execution_count": 80,
   "metadata": {
    "collapsed": true
   },
   "outputs": [],
   "source": [
    "root = Tk()\n",
    "\n",
    "re_draw.f = Figure(figsize=(5,4), dpi=100)\n",
    "re_draw.canvas = FigureCanvasTkAgg(re_draw.f, master=root)\n",
    "re_draw.canvas.show()\n",
    "re_draw.canvas.get_tk_widget().grid(row=0, columnspan=3)\n",
    "\n",
    "Label(root, text='tolN').grid(row=1, column=0)\n",
    "tolNentry = Entry(root)\n",
    "tolNentry.grid(row=1, column=1)\n",
    "tolNentry.insert(0,'10')\n",
    "\n",
    "Label(root, text='tolS').grid(row=2, column=0)\n",
    "tolSentry = Entry(root)\n",
    "tolSentry.grid(row=2, column=1)\n",
    "tolSentry.insert(0,'1.0')\n",
    "\n",
    "Button(root, text='ReDraw', command=draw_new_tree).grid(row=1, column=2, rowspan=3)\n",
    "chk_btn_var = IntVar()\n",
    "chk_btn = Checkbutton(root, text='Model Tree', variable=chk_btn_var)\n",
    "chk_btn.grid(row=3, column=0, columnspan=2)\n",
    "\n",
    "re_draw.raw_dat = mat(load_data_set('sine.txt'))\n",
    "re_draw.test_dat = arange(min(re_draw.raw_dat[:,0]),\n",
    "                         max(re_draw.raw_dat[:,0]),0.01)\n",
    "re_draw(1.0, 10)\n",
    "\n",
    "root.mainloop()"
   ]
  },
  {
   "cell_type": "markdown",
   "metadata": {},
   "source": [
    "# 9.8 本章小结"
   ]
  }
 ],
 "metadata": {
  "kernelspec": {
   "display_name": "Python 3",
   "language": "python",
   "name": "python3"
  },
  "language_info": {
   "codemirror_mode": {
    "name": "ipython",
    "version": 3
   },
   "file_extension": ".py",
   "mimetype": "text/x-python",
   "name": "python",
   "nbconvert_exporter": "python",
   "pygments_lexer": "ipython3",
   "version": "3.6.0"
  }
 },
 "nbformat": 4,
 "nbformat_minor": 2
}
